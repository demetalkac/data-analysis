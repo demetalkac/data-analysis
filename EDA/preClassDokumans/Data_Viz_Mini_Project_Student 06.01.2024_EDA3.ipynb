{
 "cells": [
  {
   "cell_type": "markdown",
   "id": "8cd16d0b",
   "metadata": {},
   "source": [
    "# <p style=\"background-color:green;font-family:newtimeroman;font-size:200%;color:white;text-align:center;border-radius:20px 20px;\"><b>Data Visualization Mini Poject</b></p>\n",
    "![](https://www.techproeducation.com/logo/headerlogo.svg)"
   ]
  },
  {
   "cell_type": "markdown",
   "id": "33f88234",
   "metadata": {},
   "source": [
    "# Proje Adı: Film İncelemesi\n",
    "\n",
    "## Projenin amacı:\n",
    "\n",
    "Bu proje ile mini bir EDA (Exploratory Data Analysis) ve farklı veri görselleştirme kütüphanaleri kullanarak film verilerini incelemek ve farklı filmler arasındaki ilişkileri keşfet amaçlanmıştır.\n",
    "\n",
    "## Veri Seti:\n",
    "\n",
    "Araştırmada 2006-2016 yılları arasındaki yapılmış filmlerin yer aldığı \"IMDB-Movie-Data\"  veri seti kullanılacaktır. Veri seti kısaca yıllara göre IMDB'de en yüksek puan alan filmleri içermektedir. Data setinde her film için aşağıdaki değişkenler yer almaktadır:\n",
    "\n",
    "    Rank\n",
    "    Title\n",
    "    Genre\n",
    "    Description\n",
    "    Director\n",
    "    Actors\n",
    "    Year\n",
    "    Runtime (Minutes)\n",
    "    Rating\n",
    "    Votes\n",
    "    Revenue (Millions)\n",
    "    Metascore\n",
    "    \n",
    "Bu kapsamda aşağıdaki görevleri yapmanız gerekmektedir.\n",
    "    \n",
    "## Görevler :\n",
    "\n",
    "### 1. Veri setini pandas kütüphanesi kullanarak yükleyin ve index sütununu filmin başlığı yapın.\n",
    "\n",
    "### 2. Veri setini tanıyın.\n",
    "\n",
    "### 3. Veri setindeki sütun isimlerini kullanışlı hale getirin (Örn: Kısaltıp küçük harf yapmak gibi)\n",
    "\n",
    "### 4. Missing Value tespit edilsin ve bu kapsamda aşağıdaki şekilde mücadele edilsin.\n",
    "    a.Missing value kontrolü hem pandas hemde missingno kütüphanelerini kullanarak yapın  \n",
    "    b.Yüksek missing value olan değişken içindeki veriler o değişkenin ortalama skoru ile\n",
    "    doldurulsun.\n",
    "    c. Düşük missing value olan değişkendeki gözlemler kaldırılsın.\n",
    "    d. Missing value kontrolü tekrar hem pandas hemde missingno kütüphanelerini kullanarak kontrol edin ve bu data setini yeni bir değişkene atayın.\n",
    "\n",
    "### 5. Temizlenmiş veri seti içinden en yüksek rating e sahip 250 filmi seçerek \"top250\" isminde bir data seti oluşturun ve bunu lokalinize bu isimle kaydedin. Bu yeni data setini tekrar pandas kütüphanesini kullanarak okuyun.\n",
    "\n",
    "### 6. Veri setinin boyutunu ve özelliklerini inceleyin.\n",
    "    a. Veri setinin boyutunu inceleme\n",
    "    b. Veri setinin ilk 5 gözlemine göz atma\n",
    "    c. Random olarak 10 gözleme bakma\n",
    "    d. Veri setinin sütunlarına göz atma\n",
    "    e. Veri setinin özet istatistiklerini görüntüleme\n",
    "\n",
    "### 7. Verilerin doğruluğunun ve eksik değerlerinin olup olmadığını kontrol edin.\n",
    "    a. 4.madde ile benzer şelkilde eksik değerlerinin olup olmadığını kontrol\n",
    "\n",
    "### 8. Verileri görselleştirme:\n",
    "\n",
    "    a. Matplotlib kütüphanesi kullanarak, yıllara göre filmlerin sayısını gösteren bir çizgi grafik çizin.\n",
    "    b. Seaborn kütüphanesi kullanarak, en çok film yapılan 10 türü bar grafiğiyle gösterin.\n",
    "    c. Matplotlib ve Plotly kütüphanesi kullanarak, film türlerine göre filmlerin sayısını gösteren iki ayrı pasta grafik çizin.\n",
    "    \n",
    "\n",
    "### 9. İlişkileri görselleştirme:\n",
    "\n",
    "    a. Seaborn kütüphanesi kullanarak, veri setindeki nümerik değişkenlerin korelasyonunu \n",
    "    gösteren bir heatmap çizin.\n",
    "    b. Seaborn ile oyunculardan birden fazla filmde rol alan oyuncuların rol aldıkları film \n",
    "    sayılarına göre ilk 20 oyucuyu görselleştir. Not: Bu soru için kullanılacak data setimiz 936 \n",
    "    satırlık data seti olacak.\n",
    "    c. Plotly kütüphanesi kullanarak, Popüler 250 Filmin rating puanlarına göre hasılatını buble chart ile gösterin .\n",
    "    \n",
    "    \n",
    "\n",
    "### 10. Sonuçları sunma:\n",
    "\n",
    "    Çizilen tüm görsellerle ilgili elde ettiğiniz bulguları buraya yazınız. \n"
   ]
  },
  {
   "cell_type": "markdown",
   "id": "cc4a7cb6",
   "metadata": {},
   "source": [
    "Veri seti, 1000 adet film hakkında bilgi içermektedir. Veri setinde toplamda 12 adet sütun bulunmaktadır. \n",
    "\n",
    "1. **Rank**: Film sıralaması.\n",
    "2. **Title**: Film başlığı.\n",
    "3. **Genre**: Film türü.\n",
    "4. **Description**: Film açıklaması.\n",
    "5. **Director**: Yönetmen ismi.\n",
    "6. **Actors**: Oyuncuların isimleri.\n",
    "7. **Year**: Yayın yılı.\n",
    "8. **Runtime (Minutes)**: Film süresi (dakika cinsinden).\n",
    "9. **Rating**: IMDb puanı.\n",
    "10. **Votes**: Oy sayısı.\n",
    "11. **Revenue (Millions)**: Hasılat (milyon dolar cinsinden).\n",
    "12. **Metascore**: Metascore puanı."
   ]
  },
  {
   "cell_type": "markdown",
   "id": "ac4e6773",
   "metadata": {},
   "source": [
    "## 1. Veri setini pandas kütüphanesi kullanarak yükleyin ve index sütununu filmin başlığı yapın."
   ]
  },
  {
   "cell_type": "code",
   "execution_count": 1,
   "id": "d6c9b8ba",
   "metadata": {
    "ExecuteTime": {
     "end_time": "2023-09-24T15:08:58.278817Z",
     "start_time": "2023-09-24T15:08:53.272431Z"
    }
   },
   "outputs": [],
   "source": []
  },
  {
   "cell_type": "markdown",
   "id": "b98832d1",
   "metadata": {},
   "source": [
    "## 2. Veri setinin ilk birkaç satırını görüntüleyin."
   ]
  },
  {
   "cell_type": "code",
   "execution_count": null,
   "id": "19abd0ba",
   "metadata": {},
   "outputs": [],
   "source": []
  },
  {
   "cell_type": "markdown",
   "id": "fc7b9a43",
   "metadata": {},
   "source": [
    "## 3. Veri setindeki sütun isimlerini kullanışlı hale getirin (Örn: Kısaltıp küçük harf yapmak gibi)"
   ]
  },
  {
   "cell_type": "markdown",
   "id": "750332aa",
   "metadata": {},
   "source": [
    "## 4. Missing Value tespit edilsin ve bu kapsamda aşağıdaki şekilde mücadele edilsin.\n",
    "\n",
    "2 türde missing value mücadelesi yaptık. Ortalama ile doldurma ve drop etme.\n",
    "\n",
    "Çok fazla sayıda missing value varsa bu kapsamda drop etmeyi düşünmemeliyiz. Öncelikle doldurmak için çabalamalıyız.\n",
    "\n",
    "Örnek olması açısından burada çok olan missing value ile mücadele açısından sadece drop ve mean ile doldurma kullanıldı."
   ]
  },
  {
   "cell_type": "markdown",
   "id": "5a34f3af",
   "metadata": {},
   "source": [
    "### a.Missing value kontrolü hem pandas hemde missingno kütüphanelerini kullanarak yapın"
   ]
  },
  {
   "cell_type": "code",
   "execution_count": null,
   "id": "77445756",
   "metadata": {},
   "outputs": [],
   "source": []
  },
  {
   "cell_type": "markdown",
   "id": "bf3e092c",
   "metadata": {},
   "source": [
    "### b.Yüksek missing value olan değişken içindeki veriler o değişkenin ortalama skoru ile doldurulsun."
   ]
  },
  {
   "cell_type": "code",
   "execution_count": null,
   "id": "325f3b75",
   "metadata": {},
   "outputs": [],
   "source": []
  },
  {
   "cell_type": "markdown",
   "id": "f0d31e37",
   "metadata": {},
   "source": [
    "### c. Düşük missing value olan değişkendeki gözlemler kaldırılsın."
   ]
  },
  {
   "cell_type": "code",
   "execution_count": null,
   "id": "12b8d19a",
   "metadata": {},
   "outputs": [],
   "source": []
  },
  {
   "cell_type": "markdown",
   "id": "111a24a8",
   "metadata": {},
   "source": [
    "### d. Missing value kontrolü tekrar hem pandas hemde missingno kütüphanelerini kullanarak kontrol edin ve bu data setini yeni bir değişkene atayın."
   ]
  },
  {
   "cell_type": "code",
   "execution_count": null,
   "id": "c6bdf05a",
   "metadata": {},
   "outputs": [],
   "source": []
  },
  {
   "cell_type": "markdown",
   "id": "2ef11f6d",
   "metadata": {},
   "source": [
    "## 5. Temizlenmiş veri seti içinden en yüksek rating e sahip 250 filmi seçerek \"top250\" isminde bir data seti oluşturun ve bunu lokalinize bu isimle kaydedin. Ardından bu yeni data setini tekrar pandas kütüphanesini kullanarak okuyun."
   ]
  },
  {
   "cell_type": "code",
   "execution_count": null,
   "id": "295e25d5",
   "metadata": {},
   "outputs": [],
   "source": []
  },
  {
   "cell_type": "markdown",
   "id": "a4759dca",
   "metadata": {},
   "source": [
    "## 6. Veri setinin boyutunu ve özelliklerini inceleyin"
   ]
  },
  {
   "cell_type": "markdown",
   "id": "e6a962c2",
   "metadata": {},
   "source": [
    "### a. Veri setinin boyutunu inceleme"
   ]
  },
  {
   "cell_type": "code",
   "execution_count": null,
   "id": "e74a962b",
   "metadata": {},
   "outputs": [],
   "source": []
  },
  {
   "cell_type": "markdown",
   "id": "ab6f2e67",
   "metadata": {},
   "source": [
    "###  b. Veri setinin ilk 5 gözlemine göz atma"
   ]
  },
  {
   "cell_type": "code",
   "execution_count": null,
   "id": "7c46e11f",
   "metadata": {},
   "outputs": [],
   "source": []
  },
  {
   "cell_type": "markdown",
   "id": "d1690553",
   "metadata": {},
   "source": [
    "### c. Random olarak 10 gözleme bakma    "
   ]
  },
  {
   "cell_type": "code",
   "execution_count": null,
   "id": "68a7d23c",
   "metadata": {},
   "outputs": [],
   "source": []
  },
  {
   "cell_type": "markdown",
   "id": "221583fe",
   "metadata": {},
   "source": [
    "### d. Veri setinin sütunlarına göz atma"
   ]
  },
  {
   "cell_type": "code",
   "execution_count": null,
   "id": "56280bca",
   "metadata": {},
   "outputs": [],
   "source": []
  },
  {
   "cell_type": "markdown",
   "id": "3336860e",
   "metadata": {},
   "source": [
    "### e. Veri setinin özet istatistiklerini görüntüleme"
   ]
  },
  {
   "cell_type": "code",
   "execution_count": null,
   "id": "433a0400",
   "metadata": {},
   "outputs": [],
   "source": []
  },
  {
   "cell_type": "markdown",
   "id": "38b0a770",
   "metadata": {},
   "source": [
    "## 7. Verilerin doğruluğunun ve eksik değerlerinin olup olmadığını kontrol edin.\n",
    "\n",
    "Not: 4.madde ile benzer şelkilde kontrol edebilirsiniz."
   ]
  },
  {
   "cell_type": "code",
   "execution_count": null,
   "id": "70ecc186",
   "metadata": {},
   "outputs": [],
   "source": []
  },
  {
   "cell_type": "markdown",
   "id": "30fffe1a",
   "metadata": {},
   "source": [
    "## 8. Verileri görselleştirme:"
   ]
  },
  {
   "cell_type": "markdown",
   "id": "4a3296fd",
   "metadata": {},
   "source": [
    "### a. Matplotlib kütüphanesi kullanarak, yıllara göre filmlerin sayısını gösteren bir çizgi grafik çizin."
   ]
  },
  {
   "cell_type": "markdown",
   "id": "0bf52b72",
   "metadata": {},
   "source": [
    "1. **movies_per_year = top250['year'].value_counts().sort_index()**\n",
    "   - top250['year'].value_counts(): top250 DataFrame’indeki 'year' sütununun her bir benzersiz değerini sayar. Yani her bir yılda kaç film olduğunu hesaplar.\n",
    "   - .sort_index(): Bu sayımları yıl değerlerine göre sıralar.\n",
    "\n",
    "2. **plt.plot(movies_per_year.index, movies_per_year.values, color='blue')**\n",
    "   - plt.plot(): matplotlib.pyplot kütüphanesinin bir fonksiyonudur ve çizgi grafiği çizer.\n",
    "   - movies_per_year.index: Yıl değerlerini x eksenine yerleştirir.\n",
    "   - movies_per_year.values: Her bir yıldaki film sayısını y eksenine yerleştirir.\n",
    "   - color='blue': Çizginin rengini mavi yapar."
   ]
  },
  {
   "cell_type": "markdown",
   "id": "cedbea40",
   "metadata": {},
   "source": [
    "### b. Seaborn kütüphanesi kullanarak, en çok film yapılan 10 türü bar grafiğiyle gösterin."
   ]
  },
  {
   "cell_type": "markdown",
   "id": "95b4e760",
   "metadata": {},
   "source": [
    "top250 DataFrame’in 'genre' sütununu kullanarak her bir benzersiz film türünün kaç kere geçtiğini sayıyoruz.\n",
    "\n",
    "1. **top250[\"genre\"].str.split(\",\", expand=True)**\n",
    "   - str.split(\",\", expand=True): Bu metod, her bir satırdaki 'genre' sütununu virgülle ayırır ve ayrı sütunlara böler. expand=True parametresi, ayrılmış değerleri yeni sütunlara yerleştirir.\n",
    "   \n",
    "2. **.stack()**\n",
    "   - Bu metod, çoklu sütunları tek bir sütuna yığar (stack). Yani, her bir film türünü tek bir sütunda sıralar.\n",
    "   \n",
    "3. **.value_counts()**\n",
    "   - Bu metod, stack edilmiş sütundaki her bir benzersiz film türünü sayar.\n",
    "\n",
    "\n",
    "\n",
    "```\n",
    "0    Action,Adventure\n",
    "1    Adventure,Sci-Fi\n",
    "2    Horror,Thriller\n",
    "```\n",
    "\n",
    "Bu kod parçacığı şu çıktıyı verecektir:\n",
    "\n",
    "```\n",
    "Adventure    2\n",
    "Action       1\n",
    "Sci-Fi       1\n",
    "Horror       1\n",
    "Thriller     1\n",
    "```"
   ]
  },
  {
   "cell_type": "markdown",
   "id": "07a3a4d2",
   "metadata": {},
   "source": [
    "genre_count değişkenini kullanarak en popüler 10 film türünü bar grafiği şeklinde çiziyoruz. \n",
    "\n",
    "1. **top_genres = genre_count[:10]**\n",
    "   - Bu satır, genre_count değişkeninden ilk 10 elemanı alır (en yüksek sayıya sahip olan 10 tür).\n",
    "\n",
    "2. **sns.set_style(\"whitegrid\")**\n",
    "   - sns (Seaborn kütüphanesi) ile grafik stilini beyaz ızgaralı olarak ayarlar.\n",
    "\n",
    "3. **plt.figure(figsize=(10,6))**\n",
    "   - Grafiğin boyutunu belirler: genişlik 10 birim ve yükseklik 6 birim.\n",
    "\n",
    "4. **ax = sns.barplot(x=top_genres.values, y=top_genres.index, palette=\"Blues_d\")**\n",
    "   - sns.barplot(): Seaborn kütüphanesinin bir fonksiyonudur ve bar grafiği çizer.\n",
    "   - x=top_genres.values: x eksenine film sayısını yerleştirir.\n",
    "   - y=top_genres.index: y eksenine film türlerini yerleştirir.\n",
    "   - palette=\"Blues_d\": Grafiğin renk paletini belirler.\n",
    "\n",
    "5. **ax.set(xlabel='Number of Movies', ylabel='Genres')**\n",
    "   - x ekseninin etiketini 'Number of Movies' olarak, y ekseninin etiketini 'Genres' olarak ayarlar.\n",
    "\n",
    "6. **plt.title(\"Top 10 Movie Genres\")**\n",
    "   - Grafiğin başlığını 'Top 10 Movie Genres' olarak ayarlar.\n",
    "\n",
    "7. **plt.show()**\n",
    "   - Oluşturulan grafiği gösterir."
   ]
  },
  {
   "cell_type": "markdown",
   "id": "6521c319",
   "metadata": {},
   "source": [
    "### c. Matplotlib ve Plotly kütüphanesi kullanarak, film türlerine göre filmlerin sayısını gösteren iki ayrı pasta grafik çizin."
   ]
  },
  {
   "cell_type": "markdown",
   "id": "bbd744a6",
   "metadata": {},
   "source": [
    "En çok yapılan 10 film türünü seçip ve bu türlerin sayılarına göre bir pie chart çiziyoruz. \n",
    "\n",
    "**top_genres = top250['genre'].value_counts().head(10)**\n",
    "Bu satır, top250 DataFrame’inin 'genre' sütunundaki türleri sayar (value_counts()) ve en çok yapılan 10 türü seçer (head(10)).\n",
    "\n",
    "**fig = px.pie(values=top_genres.values, names=top_genres.index,\n",
    "             title='En çok yapılan 10 film türüne göre filmlerin sayısı',\n",
    "             labels={'value': 'Sayı', 'names': 'Türler'},\n",
    "             hover_data={'value': top_genres.values, 'names': top_genres.index},\n",
    "             hole=0.5)**\n",
    "\n",
    "- values=top_genres.values: Dilimlerin büyüklüğü için kullanılan değerler.\n",
    "- names=top_genres.index: Dilimlerin etiketleri.\n",
    "- title: Grafik başlığı.\n",
    "- labels: Eksen etiketleri.\n",
    "- hover_data: Fareyle üzerine gelindiğinde gösterilen bilgiler.\n",
    "- hole=0.5: Grafiğin ortasındaki boşluk oranı, 0.5 olduğunda yarı yarıya bir boşluk oluşturur.\n",
    "\n",
    "**fig.update_traces(textposition='inside', textinfo='percent+value', textfont_size=12)**\n",
    "\n",
    "Bu satır, her bir dilimin üzerine yüzde ve sayıyı yazdırır.\n",
    "\n",
    "- textposition='inside': Yazıların dilimlerin içine yazılmasını sağlar.\n",
    "- textinfo='percent+value': Hem yüzdeyi hem de sayıyı gösterir.\n",
    "- textfont_size=12: Yazı büyüklüğünü ayarlar.\n",
    "\n",
    "**fig.update_traces(marker=dict(line=dict(color='white', width=2)))**\n",
    "\n",
    "Bu satır, her bir dilim arasına beyaz renkte kenar çizgileri ekler. width=2 çizgi kalınlığını belirtir.\n",
    "\n",
    "**fig.show()**\n",
    "\n",
    "Bu satır, oluşturulan grafiği gösterir."
   ]
  },
  {
   "cell_type": "markdown",
   "id": "107cc566",
   "metadata": {},
   "source": [
    "En yaygın 10 film türünü dilim grafik (pie chart) şeklinde çiziyoruz. \n",
    "\n",
    "**top_genres = top250['genre'].value_counts().head(10)**\n",
    "\n",
    "Bu satır, top250 DataFrame’inin 'genre' sütununda bulunan film türlerini sayar ve en yaygın 10 türü alır.\n",
    "\n",
    "**fig, ax = plt.subplots(figsize=(10, 10))\n",
    "ax.pie(top_genres.values, labels=top_genres.index, autopct='%1.1f%%', startangle=90,\n",
    "       explode=(0.1, 0.1, 0, 0, 0, 0, 0, 0, 0, 0), shadow=0.1, textprops={'fontsize': 14})**\n",
    "\n",
    "Bu kısımda, matplotlib kütüphanesini kullanarak bir pie chart oluşturulur.\n",
    "\n",
    "- figsize=(10, 10): Grafiğin boyutunu belirler.\n",
    "- top_genres.values: Dilimlerin büyüklüğü için kullanılan değerler.\n",
    "- labels=top_genres.index: Dilimlerin etiketleri.\n",
    "- autopct='%1.1f%%': Her bir dilimin üzerine yüzde değerini yazdırır.\n",
    "- startangle=90: İlk dilimin başlangıç açısını belirler.\n",
    "- explode=(0.1, 0.1, 0, 0, 0, 0, 0, 0, 0, 0): İlk iki dilimi grafiğin merkezinden biraz dışarı çeker.\n",
    "- shadow=0.1: Dilimlere gölge ekler.\n",
    "- textprops={'fontsize': 14}: Yazı büyüklüğünü ayarlar.\n",
    "\n",
    "**ax.set_title('En çok yapılan 10 film türüne göre filmlerin sayısı', fontsize=16, fontweight='bold')**\n",
    "**ax.axis('equal')**\n",
    "\n",
    "- ax.set_title(): Grafiğin başlığını ve başlık fontunu ayarlar.\n",
    "- ax.axis('equal'): Grafiğin x ve y eksenlerini eşit uzunlukta yapar, böylece dilim grafiği bir daire şeklinde olur.\n",
    "\n",
    "**plt.show()**\n",
    "\n",
    "Bu satır, oluşturulan grafiği gösterir."
   ]
  },
  {
   "cell_type": "markdown",
   "id": "99fa29fc",
   "metadata": {},
   "source": [
    "## 9. İlişkileri görselleştirme"
   ]
  },
  {
   "cell_type": "markdown",
   "id": "999d70b6",
   "metadata": {},
   "source": [
    "### a. Seaborn kütüphanesi kullanarak, veri setindeki nümerik değişkenlerin korelasyonunu gösteren bir heatmap çizin."
   ]
  },
  {
   "cell_type": "code",
   "execution_count": null,
   "id": "d8295738",
   "metadata": {},
   "outputs": [],
   "source": []
  },
  {
   "cell_type": "markdown",
   "id": "65e0603f",
   "metadata": {},
   "source": [
    "Korelasyon matrisini hesaplayıp ve bu matrisi bir heatmap (ısı haritası) ile görselleştiriyoruz. \n",
    "\n",
    "**sns.set(font_scale=1.2)\n",
    "plt.figure(figsize=(10, 8))**\n",
    "\n",
    "Bu satırlar, grafikte kullanılacak yazı tipi büyüklüğünü ve grafiğin boyutlarını ayarlar.\n",
    "\n",
    "**corr = movies[['rank', 'year', 'runtime', 'rating', 'votes', 'revenue_millions', 'metascore']].corr()**\n",
    "\n",
    "Bu satır, movies DataFrame’inden seçilen sütunlar arasındaki korelasyon matrisini hesaplar. Korelasyon, iki değişken arasındaki ilişkinin gücünü ve yönünü ölçer. \n",
    "\n",
    "**sns.heatmap(corr, annot=True, cmap='coolwarm')**\n",
    "\n",
    "Bu satır, hesaplanan korelasyon matrisini bir heatmap ile görselleştirir.\n",
    "\n",
    "- annot=True: Her bir hücre üzerine değerini yazdırır.\n",
    "- cmap='coolwarm': Renk paletini belirler.\n",
    "\n",
    "**plt.title('Revenue and Meta Score Korelasyonu', fontsize=18)**\n",
    "**plt.show()**\n",
    "\n",
    "Bu satırlar, grafiğe bir başlık ekler ve grafiği gösterir.\n",
    "\n",
    "Bu kod parçacığı, belirli değişkenler arasındaki ilişkileri anlamak için kullanışlıdır. Örneğin, pozitif bir korelasyon, bir değişkenin değeri artarken diğer değişkenin de değerinin arttığını, negatif bir korelasyon ise bir değişkenin değeri artarken diğer değişkenin değerinin azaldığını gösterir."
   ]
  },
  {
   "cell_type": "code",
   "execution_count": null,
   "id": "526adf2d",
   "metadata": {},
   "outputs": [],
   "source": []
  },
  {
   "cell_type": "markdown",
   "id": "5b40f399",
   "metadata": {},
   "source": [
    "### b. Seaborn ile oyunculardan birden fazla filmde rol alan oyuncuların rol aldıkları film sayılarına göre ilk 20 oyucuyu görselleştir.  \n",
    "\n",
    "**Not: Bu soru için kullanılacak data setimiz 936 satırlık data seti olacak.**"
   ]
  },
  {
   "cell_type": "code",
   "execution_count": null,
   "id": "99cc9da3",
   "metadata": {},
   "outputs": [],
   "source": []
  },
  {
   "cell_type": "markdown",
   "id": "0858dbb5",
   "metadata": {},
   "source": [
    "**Counter** sınıfı, collections modülünden içe aktarılır. Counter, bir hashable nesnenin kaç kez göründüğünü saymak için kullanılır, yani bir frekans sayacıdır.\n",
    "\n",
    "**actors_counter = Counter():** Burada, actors_counter adında boş bir Counter nesnesi oluşturulur.\n",
    "\n",
    "**for actors in movies['actors']:\n",
    "    actors_list = [actor.strip() for actor in actors.split(',')]\n",
    "    actors_counter.update(actors_list)**\n",
    "\n",
    "Bu döngü, movies DataFrame'inin \"actors\" sütunundaki her bir satıra (film) uygulanır. Her satırdaki oyuncu isimleri virgülle ayrılır, ardından her bir isim şeritlerinden (strip()) temizlenir ve bir liste konur. Daha sonra, actors_counter nesnesi bu liste ile güncellenir, yani her bir oyuncunun görünme sayısı artar.\n",
    "\n",
    "**top_actors = actors_counter.most_common(20)**: most_common metodu, actors_counter içindeki elemanları en yaygın olandan en az yaygın olana doğru sıralar ve ilk 20 tanesini döndürür. top_actors bir liste olur ve her elemanı bir tuple'dır: (oyuncu_adı, film_sayısı)\n",
    "\n",
    "En çok filmde rol alan ilk 20 oyuncuyu ve onların rol aldıkları film sayılarını gösterir."
   ]
  },
  {
   "cell_type": "code",
   "execution_count": null,
   "id": "2e5eec87",
   "metadata": {},
   "outputs": [],
   "source": []
  },
  {
   "cell_type": "markdown",
   "id": "a29560a0",
   "metadata": {},
   "source": [
    "**sns.set_style('whitegrid')**: Bu satır, grafiğin arka plan stili olarak 'whitegrid' seçer, bu da grafiğin üzerinde beyaz bir ızgara oluşturur.\n",
    "\n",
    "**plt.figure(figsize=(12,10))**: Bu satır, grafiğin boyutunu genişlik 12 ve yükseklik 10 olacak şekilde ayarlar.\n",
    "\n",
    "**ax = sns.barplot(x='Movie Count', y='Actor', data=top_actors_df, palette='RdPu_r'):** Bu satır, Seaborn barplot fonksiyonunu kullanarak bir bar grafiği oluşturur. x='Movie Count' ve y='Actor' ile x ve y eksenlerinde gösterilecek veriler belirlenir. data=top_actors_df parametresi ile grafiğin oluşturulacağı veri çerçevesi belirlenir. palette='RdPu_r' parametresi ile renk paleti seçilir.\n",
    "\n",
    "**for container in ax.containers:**\n",
    "**ax.bar_label(container, fmt='%d', label_type='edge', fontsize=12, color='black', padding=3)**\n",
    "\n",
    "Bu satırlar, her bir bar üzerine değer etiketi ekler. fmt='%d' ile etiket formatı belirlenir, label_type='edge' ile etiketin konumu, fontsize=12 ile font büyüklüğü, color='black' ile yazı rengi ve padding=3 ile etiketin padding'i belirlenir.\n",
    "\n",
    "**sns.despine(left=True)**: Bu satır, grafiğin sol çerçevesini kaldırır.\n",
    "\n",
    "**plt.title('En Çok Filmde Rol Alan 20 Oyuncu', fontsize=16)**\n",
    "**plt.xlabel('Oyuncu', fontsize=14)**\n",
    "**plt.ylabel('Filmlerde Rol Aldığı Sayı', fontsize=14)**\n",
    "\n",
    "Bu satırlar, grafiğin başlığını, x ekseni etiketini ve y ekseni etiketini belirler ve font büyüklüklerini ayarlar.\n",
    "\n",
    "**plt.xticks(fontsize=12, rotation=0)**\n",
    "**plt.yticks(fontsize=12)**\n",
    "\n",
    "Bu satırlar, x ve y eksen etiketlerinin font büyüklüğünü ayarlar. rotation=0 parametresi, x eksen etiketlerinin rotasyonunu ayarlar.\n",
    "\n",
    "**plt.tight_layout()**\n",
    "**plt.show()**\n",
    "\n",
    "Bu satırlar, grafiği gösterir. plt.tight_layout(), grafiğin düzenini optimize eder, böylece her şey daha düzenli görünür.\n",
    "\n",
    "Özetle, bu kod bloğu, belirli bir data frame (top_actors_df) kullanarak oyuncuların rol aldığı film sayısına göre bir bar grafiği oluşturur ve bunu özelleştirilmiş bir şekilde gösterir."
   ]
  },
  {
   "cell_type": "code",
   "execution_count": null,
   "id": "00a8620b",
   "metadata": {},
   "outputs": [],
   "source": []
  },
  {
   "cell_type": "markdown",
   "id": "a34f24a1",
   "metadata": {},
   "source": [
    "### c. Plotly kütüphanesi kullanarak, Popüler 250 Filmin rating puanlarına göre hasılatını buble chart ile gösterin ."
   ]
  },
  {
   "cell_type": "markdown",
   "id": "feda54d6",
   "metadata": {},
   "source": [
    "Her bir aktörün rol aldığı film sayısını hesaplayıp, en çok filme çıkan ilk 20 aktörü seçelim ve bu bilgileri buble chart ile görselleştirelim.\n",
    "\n",
    "1. **Film Sayısını Hesaplama:**\n",
    "   - actor_movies['num_movies'] sütunu, her bir aktörün rol aldığı film sayısını içerir.\n",
    "\n",
    "2. **En Çok Filme Çıkan İlk 20 Aktörü Seçme:**\n",
    "   - top_actors, en çok filme çıkan ilk 20 aktörün bilgilerini içerir.\n",
    "\n",
    "3. **Görselleştirme:**\n",
    "   - Bar grafiği çizilirken x='actor' ve y='num_movies' sütunları kullanılır.\n",
    "   - Grafik boyutu (10,8) olarak ayarlanır ve palette='RdPu_r' renk paleti kullanılır.\n",
    "\n",
    "4. **Grafik Ayarları:**\n",
    "   - Başlık, eksen etiketleri ve yazı boyutları belirlenir.\n",
    "   - plt.xticks ile x eksenindeki yazıların yatay hizalaması ve döndürme açısı ayarlanır.\n",
    "\n",
    "5. **Grafiği Gösterme:**\n",
    "   - Oluşturulan grafik, plt.show() ile gösterilir."
   ]
  },
  {
   "cell_type": "code",
   "execution_count": null,
   "id": "9adf2add",
   "metadata": {},
   "outputs": [],
   "source": []
  },
  {
   "cell_type": "markdown",
   "id": "c67cef1b",
   "metadata": {},
   "source": [
    "## 10. Conclusion (Sonuçları sunma)"
   ]
  },
  {
   "cell_type": "markdown",
   "id": "df4cd133",
   "metadata": {},
   "source": [
    "# T E B R İ K L E R"
   ]
  },
  {
   "cell_type": "markdown",
   "id": "8a14e8b5",
   "metadata": {},
   "source": [
    "# <p style=\"background-color:green;font-family:newtimeroman;font-size:100%;color:white;text-align:center;border-radius:20px 20px;\"><b>Faydalı Olması Temennisiyle Teşekkürler</b></p>\n",
    "![](https://www.techproeducation.com/logo/headerlogo.svg)\n",
    "\n",
    "<b>Yeniliklerden ilk siz haberdar olmak istiyorsanız lütfen bizi takip etmeyi unutmayın </b>[YouTube](https://www.youtube.com/c/techproeducation) | [Instagram](https://www.instagram.com/techproeducation) | [Facebook](https://www.facebook.com/techproeducation) | [Telegram](https://t.me/joinchat/HH2qRvA-ulh4OWbb) | [Watsapp](https://api.whatsapp.com/send/?phone=%2B15853042959&text&type=phone_number&app_absent=0) | [Linkedin](https://www.linkedin.com/company/techproeducation/mycompany/) |"
   ]
  }
 ],
 "metadata": {
  "kernelspec": {
   "display_name": "Python 3 (ipykernel)",
   "language": "python",
   "name": "python3"
  },
  "language_info": {
   "codemirror_mode": {
    "name": "ipython",
    "version": 3
   },
   "file_extension": ".py",
   "mimetype": "text/x-python",
   "name": "python",
   "nbconvert_exporter": "python",
   "pygments_lexer": "ipython3",
   "version": "3.11.4"
  },
  "toc": {
   "base_numbering": 1,
   "nav_menu": {},
   "number_sections": true,
   "sideBar": true,
   "skip_h1_title": false,
   "title_cell": "Table of Contents",
   "title_sidebar": "Contents",
   "toc_cell": false,
   "toc_position": {},
   "toc_section_display": true,
   "toc_window_display": true
  }
 },
 "nbformat": 4,
 "nbformat_minor": 5
}

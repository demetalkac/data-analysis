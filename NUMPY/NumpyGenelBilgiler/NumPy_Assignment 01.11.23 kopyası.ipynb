{
 "cells": [
  {
   "cell_type": "markdown",
   "id": "1314207c",
   "metadata": {},
   "source": [
    "# <p style=\"background-color:green;font-family:newtimeroman;font-size:200%;color:white;text-align:center;border-radius:20px 20px;\"><b>NumPy Assignment</b></p>\n",
    "![](https://www.techproeducation.com/logo/headerlogo.svg)\n",
    "​\n",
    "<b>Yeniliklerden ilk siz haberdar olmak istiyorsanız lütfen bizi takip etmeyi unutmayın </b>[YouTube](https://www.youtube.com/c/techproeducation) | [Instagram](https://www.instagram.com/techproeducation) | [Facebook](https://www.facebook.com/techproeducation) | [Telegram](https://t.me/joinchat/HH2qRvA-ulh4OWbb) | [Watsapp](https://api.whatsapp.com/send/?phone=%2B15853042959&text&type=phone_number&app_absent=0) | [Linkedin](https://www.linkedin.com/company/techproeducation/mycompany/) |"
   ]
  },
  {
   "cell_type": "markdown",
   "id": "0b956e8b-c012-4b7d-9fe1-be68fe668606",
   "metadata": {},
   "source": [
    "## <font color='green'> <b>Import the numpy package under the name as np & print the numpy version</b><font color='black'>"
   ]
  },
  {
   "cell_type": "code",
   "execution_count": 1,
   "id": "668e8221",
   "metadata": {
    "ExecuteTime": {
     "end_time": "2023-12-01T19:28:28.027648Z",
     "start_time": "2023-12-01T19:28:27.699212Z"
    }
   },
   "outputs": [],
   "source": [
    "import numpy as np"
   ]
  },
  {
   "cell_type": "code",
   "execution_count": 2,
   "id": "361f384d",
   "metadata": {
    "ExecuteTime": {
     "end_time": "2023-12-01T19:28:28.061702Z",
     "start_time": "2023-12-01T19:28:28.046450Z"
    }
   },
   "outputs": [
    {
     "data": {
      "text/plain": [
       "'1.24.3'"
      ]
     },
     "execution_count": 2,
     "metadata": {},
     "output_type": "execute_result"
    }
   ],
   "source": [
    "np.__version__"
   ]
  },
  {
   "cell_type": "markdown",
   "id": "8c171220-e212-4057-ad4c-e809ba8961fd",
   "metadata": {},
   "source": [
    "## <font color='green'> <b>Create a null vector of size 10</b><font color='black'>"
   ]
  },
  {
   "cell_type": "code",
   "execution_count": 3,
   "id": "107c7c3b",
   "metadata": {
    "ExecuteTime": {
     "end_time": "2023-12-01T19:28:28.079720Z",
     "start_time": "2023-12-01T19:28:28.066418Z"
    }
   },
   "outputs": [
    {
     "data": {
      "text/plain": [
       "array([0., 0., 0., 0., 0., 0., 0., 0., 0., 0.])"
      ]
     },
     "execution_count": 3,
     "metadata": {},
     "output_type": "execute_result"
    }
   ],
   "source": [
    "np.zeros(10)"
   ]
  },
  {
   "cell_type": "markdown",
   "id": "2891b252-a1db-4ab4-a164-47c9cce9a271",
   "metadata": {},
   "source": [
    "## <font color='green'> <b>Create a null vector of size 10 but the fifth value which is 1</b><font color='black'>"
   ]
  },
  {
   "cell_type": "code",
   "execution_count": 4,
   "id": "51e58682",
   "metadata": {
    "ExecuteTime": {
     "end_time": "2023-12-01T19:28:28.094875Z",
     "start_time": "2023-12-01T19:28:28.084897Z"
    }
   },
   "outputs": [
    {
     "name": "stdout",
     "output_type": "stream",
     "text": [
      "[0. 0. 0. 0. 1. 0. 0. 0. 0. 0.]\n"
     ]
    }
   ],
   "source": [
    "null_vector = np.zeros(10) \n",
    "null_vector[4] = 1\n",
    "print(null_vector)\n",
    "    "
   ]
  },
  {
   "cell_type": "markdown",
   "id": "491e5318-b216-48d8-8f35-82cd66594408",
   "metadata": {},
   "source": [
    "## <font color='green'> <b>Create a vector with values ranging from 10 to 50</b><font color='black'>"
   ]
  },
  {
   "cell_type": "code",
   "execution_count": 5,
   "id": "36253df9",
   "metadata": {
    "ExecuteTime": {
     "end_time": "2023-12-01T19:28:28.116160Z",
     "start_time": "2023-12-01T19:28:28.107139Z"
    }
   },
   "outputs": [
    {
     "data": {
      "text/plain": [
       "array([10, 11, 12, 13, 14, 15, 16, 17, 18, 19, 20, 21, 22, 23, 24, 25, 26,\n",
       "       27, 28, 29, 30, 31, 32, 33, 34, 35, 36, 37, 38, 39, 40, 41, 42, 43,\n",
       "       44, 45, 46, 47, 48, 49, 50])"
      ]
     },
     "execution_count": 5,
     "metadata": {},
     "output_type": "execute_result"
    }
   ],
   "source": [
    "a= np.arange(10,51)\n",
    "a"
   ]
  },
  {
   "cell_type": "markdown",
   "id": "b7818669-03a5-4f61-b08f-b85b8dd94372",
   "metadata": {},
   "source": [
    "## <font color='green'> <b>Reverse a vector (first element becomes last)</b><font color='black'>"
   ]
  },
  {
   "cell_type": "code",
   "execution_count": 6,
   "id": "027a4256",
   "metadata": {
    "ExecuteTime": {
     "end_time": "2023-12-01T19:28:28.130871Z",
     "start_time": "2023-12-01T19:28:28.120677Z"
    }
   },
   "outputs": [
    {
     "data": {
      "text/plain": [
       "array([0, 1, 2, 3, 4, 5, 6, 7, 8, 9])"
      ]
     },
     "execution_count": 6,
     "metadata": {},
     "output_type": "execute_result"
    }
   ],
   "source": [
    "a2= np.arange(10)\n",
    "a2"
   ]
  },
  {
   "cell_type": "code",
   "execution_count": 7,
   "id": "c21c3362",
   "metadata": {
    "ExecuteTime": {
     "end_time": "2023-12-01T19:28:28.144566Z",
     "start_time": "2023-12-01T19:28:28.135244Z"
    }
   },
   "outputs": [
    {
     "data": {
      "text/plain": [
       "array([9, 8, 7, 6, 5, 4, 3, 2, 1, 0])"
      ]
     },
     "execution_count": 7,
     "metadata": {},
     "output_type": "execute_result"
    }
   ],
   "source": [
    "a2[::-1]"
   ]
  },
  {
   "cell_type": "code",
   "execution_count": 8,
   "id": "3c3cdd2f",
   "metadata": {
    "ExecuteTime": {
     "end_time": "2023-12-01T19:28:28.159912Z",
     "start_time": "2023-12-01T19:28:28.151885Z"
    }
   },
   "outputs": [
    {
     "data": {
      "text/plain": [
       "array([9, 8, 7, 6, 5, 4, 3, 2, 1, 0])"
      ]
     },
     "execution_count": 8,
     "metadata": {},
     "output_type": "execute_result"
    }
   ],
   "source": [
    "vector = np.arange(10)\n",
    "vector = np.flip(vector)\n",
    "vector"
   ]
  },
  {
   "cell_type": "markdown",
   "id": "5f4a94e4-596a-4c85-8356-7eb86d6cacbe",
   "metadata": {},
   "source": [
    "## <font color='green'> <b>Create a 3x3 matrix with values ranging from 0 to 9</b><font color='black'>"
   ]
  },
  {
   "cell_type": "code",
   "execution_count": 9,
   "id": "6bc73f48",
   "metadata": {
    "ExecuteTime": {
     "end_time": "2023-12-01T19:28:28.290210Z",
     "start_time": "2023-12-01T19:28:28.166495Z"
    }
   },
   "outputs": [
    {
     "data": {
      "text/plain": [
       "array([[0, 1, 2],\n",
       "       [3, 4, 5],\n",
       "       [6, 7, 8]])"
      ]
     },
     "execution_count": 9,
     "metadata": {},
     "output_type": "execute_result"
    }
   ],
   "source": [
    "matrix = np.arange(9).reshape((3, 3))\n",
    "\n",
    "matrix"
   ]
  },
  {
   "cell_type": "markdown",
   "id": "0df95fd1-f316-4976-849b-756f927f382c",
   "metadata": {},
   "source": [
    "## <font color='green'> <b>Find indices of non­zero elements from [1,2,0,0,4,0]</b><font color='black'>\n",
    "**Extra research is required**"
   ]
  },
  {
   "cell_type": "code",
   "execution_count": 10,
   "id": "fec68a78",
   "metadata": {
    "ExecuteTime": {
     "end_time": "2023-12-01T19:28:28.318015Z",
     "start_time": "2023-12-01T19:28:28.295700Z"
    }
   },
   "outputs": [
    {
     "data": {
      "text/plain": [
       "(array([0, 1, 4]),)"
      ]
     },
     "execution_count": 10,
     "metadata": {},
     "output_type": "execute_result"
    }
   ],
   "source": [
    "n = np.array([1,2,0,0,4,0])\n",
    "np.where(n !=0)\n"
   ]
  },
  {
   "cell_type": "code",
   "execution_count": 11,
   "id": "95edf755",
   "metadata": {
    "ExecuteTime": {
     "end_time": "2023-12-01T19:28:28.352460Z",
     "start_time": "2023-12-01T19:28:28.326869Z"
    }
   },
   "outputs": [
    {
     "data": {
      "text/plain": [
       "(array([0, 1, 4]),)"
      ]
     },
     "execution_count": 11,
     "metadata": {},
     "output_type": "execute_result"
    }
   ],
   "source": [
    "n = np.array([1,2,0,0,4,0])\n",
    "#n = n != 0\n",
    "#n[:] !=0\n",
    "nonZeros = n.nonzero()\n",
    "nonZeros"
   ]
  },
  {
   "cell_type": "markdown",
   "id": "efc45ac3-9297-4ea0-9fd8-8534c46935e4",
   "metadata": {},
   "source": [
    "## <font color='green'> <b>Create a 3x3 identity matrix</b><font color='black'>\n",
    "Identity matrix, kare matrisler için özel bir türdür. Diagonalindeki tüm elemanlar 1, diğer elemanlar ise 0 olan kare matrisdir."
   ]
  },
  {
   "cell_type": "code",
   "execution_count": 12,
   "id": "3e520bed",
   "metadata": {
    "ExecuteTime": {
     "end_time": "2023-12-01T19:28:28.379400Z",
     "start_time": "2023-12-01T19:28:28.359995Z"
    }
   },
   "outputs": [
    {
     "data": {
      "text/plain": [
       "array([[1., 0., 0.],\n",
       "       [0., 1., 0.],\n",
       "       [0., 0., 1.]])"
      ]
     },
     "execution_count": 12,
     "metadata": {},
     "output_type": "execute_result"
    }
   ],
   "source": [
    "matrs =np.array([[1.,0.,0.],[0.,1.,0.],[0.,0.,1.]])\n",
    "matrs"
   ]
  },
  {
   "cell_type": "code",
   "execution_count": 13,
   "id": "bb3b3ade",
   "metadata": {
    "ExecuteTime": {
     "end_time": "2023-12-01T19:28:28.412876Z",
     "start_time": "2023-12-01T19:28:28.392712Z"
    }
   },
   "outputs": [
    {
     "data": {
      "text/plain": [
       "array([[1., 0., 0.],\n",
       "       [0., 1., 0.],\n",
       "       [0., 0., 1.]])"
      ]
     },
     "execution_count": 13,
     "metadata": {},
     "output_type": "execute_result"
    }
   ],
   "source": [
    "ıdentity_matris = np.identity(3)\n",
    "ıdentity_matris"
   ]
  },
  {
   "cell_type": "code",
   "execution_count": 14,
   "id": "a39c5380",
   "metadata": {
    "ExecuteTime": {
     "end_time": "2023-12-01T19:28:28.440084Z",
     "start_time": "2023-12-01T19:28:28.429083Z"
    }
   },
   "outputs": [
    {
     "data": {
      "text/plain": [
       "array([[1., 0., 0.],\n",
       "       [0., 1., 0.],\n",
       "       [0., 0., 1.]])"
      ]
     },
     "execution_count": 14,
     "metadata": {},
     "output_type": "execute_result"
    }
   ],
   "source": [
    "arr = np.eye(3,3)\n",
    "arr"
   ]
  },
  {
   "cell_type": "markdown",
   "id": "aa19488a-0613-48f3-8604-4499afe134e8",
   "metadata": {},
   "source": [
    "## <font color='green'> <b>Create a 3x3x3 array with random values </b><font color='black'>"
   ]
  },
  {
   "cell_type": "code",
   "execution_count": 15,
   "id": "f08829df",
   "metadata": {
    "ExecuteTime": {
     "end_time": "2023-12-01T19:28:28.466749Z",
     "start_time": "2023-12-01T19:28:28.444117Z"
    }
   },
   "outputs": [
    {
     "data": {
      "text/plain": [
       "array([[[0.52575652, 0.58106733, 0.85785125],\n",
       "        [0.37035655, 0.09911002, 0.30615889],\n",
       "        [0.73438293, 0.28538653, 0.43021136]],\n",
       "\n",
       "       [[0.59777625, 0.92451615, 0.42232401],\n",
       "        [0.85524944, 0.49520416, 0.61401994],\n",
       "        [0.25250795, 0.09395621, 0.72703266]],\n",
       "\n",
       "       [[0.062718  , 0.93184951, 0.06772918],\n",
       "        [0.41391106, 0.87422557, 0.2560298 ],\n",
       "        [0.04006666, 0.14526031, 0.37999481]]])"
      ]
     },
     "execution_count": 15,
     "metadata": {},
     "output_type": "execute_result"
    }
   ],
   "source": [
    "a4 = np.random.rand(3,3,3)\n",
    "a4"
   ]
  },
  {
   "cell_type": "code",
   "execution_count": 16,
   "id": "0465ead9",
   "metadata": {
    "ExecuteTime": {
     "end_time": "2023-12-01T19:28:28.493731Z",
     "start_time": "2023-12-01T19:28:28.480621Z"
    }
   },
   "outputs": [
    {
     "data": {
      "text/plain": [
       "array([[[47, 23, 66],\n",
       "        [98,  9,  5],\n",
       "        [83, 24, 52]],\n",
       "\n",
       "       [[63,  4, 98],\n",
       "        [ 2, 13, 98],\n",
       "        [96, 65, 63]],\n",
       "\n",
       "       [[46,  5, 33],\n",
       "        [64,  8,  4],\n",
       "        [ 0, 88, 67]]])"
      ]
     },
     "execution_count": 16,
     "metadata": {},
     "output_type": "execute_result"
    }
   ],
   "source": [
    "np.random.randint(0,100,27).reshape(3,3,3)"
   ]
  },
  {
   "cell_type": "markdown",
   "id": "456bd772-149a-410a-9c86-04f1b19c6ae1",
   "metadata": {},
   "source": [
    "## <font color='green'> <b>Create a 10x10 array with random values and find the minimum and maximum values</b><font color='black'>"
   ]
  },
  {
   "cell_type": "code",
   "execution_count": 17,
   "id": "23a15b55",
   "metadata": {
    "ExecuteTime": {
     "end_time": "2023-12-01T19:28:28.512337Z",
     "start_time": "2023-12-01T19:28:28.499777Z"
    }
   },
   "outputs": [
    {
     "data": {
      "text/plain": [
       "array([[102, 435, 860, 270, 106,  71, 700,  20, 614, 121],\n",
       "       [466, 214, 330, 458,  87, 372,  99, 871, 663, 130],\n",
       "       [661, 308, 769, 343, 491, 413, 805, 385, 191, 955],\n",
       "       [276, 160, 459, 313,  21, 252, 747, 856, 560, 474],\n",
       "       [ 58, 510, 681, 475, 699, 975, 782, 189, 957, 686],\n",
       "       [957, 562, 875, 566, 243, 831, 504, 130, 484, 818],\n",
       "       [646,  20, 840, 166, 273, 387, 600, 315,  13, 241],\n",
       "       [776, 345, 564, 897, 339,  91, 366, 955, 454, 427],\n",
       "       [508, 775, 942,  34, 205,  80, 931, 561, 871, 387],\n",
       "       [  1, 389, 565, 105, 771, 821, 476, 702, 401, 729]])"
      ]
     },
     "execution_count": 17,
     "metadata": {},
     "output_type": "execute_result"
    }
   ],
   "source": [
    "np.random.seed(42)\n",
    "a = np.random.randint(0,1000,100).reshape(10,10)\n",
    "a"
   ]
  },
  {
   "cell_type": "code",
   "execution_count": 18,
   "id": "ec01322d",
   "metadata": {
    "ExecuteTime": {
     "end_time": "2023-12-01T19:28:28.548806Z",
     "start_time": "2023-12-01T19:28:28.529162Z"
    }
   },
   "outputs": [
    {
     "data": {
      "text/plain": [
       "array([[4.49754133e-01, 3.95150236e-01, 9.26658866e-01, 7.27271996e-01,\n",
       "        3.26540769e-01, 5.70443974e-01, 5.20834260e-01, 9.61172024e-01,\n",
       "        8.44533849e-01, 7.47320110e-01],\n",
       "       [5.39692132e-01, 5.86751166e-01, 9.65255307e-01, 6.07034248e-01,\n",
       "        2.75999182e-01, 2.96273506e-01, 1.65266939e-01, 1.56364067e-02,\n",
       "        4.23401481e-01, 3.94881518e-01],\n",
       "       [2.93488175e-01, 1.40798227e-02, 1.98842404e-01, 7.11341953e-01,\n",
       "        7.90175541e-01, 6.05959975e-01, 9.26300879e-01, 6.51077026e-01,\n",
       "        9.14959676e-01, 8.50038578e-01],\n",
       "       [4.49450674e-01, 9.54101165e-02, 3.70818252e-01, 6.68841253e-01,\n",
       "        6.65922357e-01, 5.91297788e-01, 2.74721793e-01, 5.61243426e-01,\n",
       "        3.82926875e-01, 9.71712095e-01],\n",
       "       [8.48913824e-01, 7.21729521e-01, 2.35984920e-01, 2.56068323e-01,\n",
       "        4.04335895e-02, 7.10662890e-01, 1.10890821e-01, 4.39336502e-01,\n",
       "        2.01719202e-01, 8.95763596e-01],\n",
       "       [4.75370223e-01, 5.63275572e-01, 6.95516086e-01, 1.39331454e-01,\n",
       "        6.04417379e-01, 5.39841091e-01, 2.03061225e-01, 9.42853571e-01,\n",
       "        5.98865466e-01, 6.94784933e-01],\n",
       "       [8.80467839e-01, 6.24354048e-01, 2.95633686e-01, 1.05494260e-01,\n",
       "        4.56534570e-01, 2.18440437e-01, 4.16509948e-01, 8.83280259e-01,\n",
       "        3.24345021e-01, 1.22087955e-01],\n",
       "       [3.56297838e-01, 9.06828442e-01, 2.72132249e-01, 6.47690121e-01,\n",
       "        5.20376995e-04, 3.52568856e-01, 3.04781258e-01, 1.64655853e-01,\n",
       "        5.34089419e-01, 4.84829971e-01],\n",
       "       [6.92436033e-01, 2.69412334e-01, 2.44125522e-01, 1.68291042e-01,\n",
       "        2.18764220e-01, 5.58102002e-01, 4.03836171e-01, 6.48922471e-02,\n",
       "        2.53915414e-01, 2.46876063e-01],\n",
       "       [6.96304273e-01, 7.12270590e-01, 1.48086930e-01, 9.97740485e-01,\n",
       "        2.66781014e-01, 9.76614956e-01, 4.11037013e-01, 3.30507329e-02,\n",
       "        3.45071248e-01, 6.34351345e-01]])"
      ]
     },
     "execution_count": 18,
     "metadata": {},
     "output_type": "execute_result"
    }
   ],
   "source": [
    "a5 = np.random.rand(10,10)\n",
    "a5"
   ]
  },
  {
   "cell_type": "code",
   "execution_count": 19,
   "id": "76a8837a",
   "metadata": {
    "ExecuteTime": {
     "end_time": "2023-12-01T19:28:28.573075Z",
     "start_time": "2023-12-01T19:28:28.555184Z"
    }
   },
   "outputs": [
    {
     "data": {
      "text/plain": [
       "0.9977404850489419"
      ]
     },
     "execution_count": 19,
     "metadata": {},
     "output_type": "execute_result"
    }
   ],
   "source": [
    "a5.max()"
   ]
  },
  {
   "cell_type": "code",
   "execution_count": 20,
   "id": "2c0ff728",
   "metadata": {
    "ExecuteTime": {
     "end_time": "2023-12-01T19:28:28.589270Z",
     "start_time": "2023-12-01T19:28:28.576682Z"
    }
   },
   "outputs": [
    {
     "data": {
      "text/plain": [
       "0.0005203769953158188"
      ]
     },
     "execution_count": 20,
     "metadata": {},
     "output_type": "execute_result"
    }
   ],
   "source": [
    "a5.min()"
   ]
  },
  {
   "cell_type": "markdown",
   "id": "8cbf0c5f-e2dd-4418-b923-a52bbda70b7e",
   "metadata": {},
   "source": [
    "## <font color='green'> <b>Create a random vector of size 30 and find the mean value</b><font color='black'>"
   ]
  },
  {
   "cell_type": "code",
   "execution_count": 21,
   "id": "625f82b7",
   "metadata": {
    "ExecuteTime": {
     "end_time": "2023-12-01T19:28:28.613113Z",
     "start_time": "2023-12-01T19:28:28.597048Z"
    }
   },
   "outputs": [
    {
     "data": {
      "text/plain": [
       "array([1, 4, 3, 1, 3, 2, 2, 0, 4, 3, 1, 2, 0, 0, 3, 2, 4, 2, 3, 3, 2, 3,\n",
       "       2, 1, 2, 2, 3, 3, 0, 0])"
      ]
     },
     "execution_count": 21,
     "metadata": {},
     "output_type": "execute_result"
    }
   ],
   "source": [
    "a6 = np.random.randint(5, size=30)\n",
    "a6"
   ]
  },
  {
   "cell_type": "code",
   "execution_count": null,
   "id": "28b27b27",
   "metadata": {},
   "outputs": [],
   "source": []
  },
  {
   "cell_type": "code",
   "execution_count": 22,
   "id": "73a0eda4",
   "metadata": {
    "ExecuteTime": {
     "end_time": "2023-12-01T19:28:28.631333Z",
     "start_time": "2023-12-01T19:28:28.620310Z"
    }
   },
   "outputs": [
    {
     "data": {
      "text/plain": [
       "2.033333333333333"
      ]
     },
     "execution_count": 22,
     "metadata": {},
     "output_type": "execute_result"
    }
   ],
   "source": [
    "a6.mean()"
   ]
  },
  {
   "cell_type": "code",
   "execution_count": 23,
   "id": "b83380db",
   "metadata": {
    "ExecuteTime": {
     "end_time": "2023-12-01T19:28:28.651565Z",
     "start_time": "2023-12-01T19:28:28.639971Z"
    }
   },
   "outputs": [
    {
     "data": {
      "text/plain": [
       "0.617768220053357"
      ]
     },
     "execution_count": 23,
     "metadata": {},
     "output_type": "execute_result"
    }
   ],
   "source": [
    "np.random.random(30).mean()"
   ]
  },
  {
   "cell_type": "markdown",
   "id": "dcdb4e96",
   "metadata": {},
   "source": [
    "## <font color='green'> <b>How can I create an array with dimensions (6, 7, 8) using arange, and find its last element?</b><font color='black'>"
   ]
  },
  {
   "cell_type": "code",
   "execution_count": 24,
   "id": "844deeaf",
   "metadata": {
    "ExecuteTime": {
     "end_time": "2023-12-01T19:28:28.675540Z",
     "start_time": "2023-12-01T19:28:28.660158Z"
    }
   },
   "outputs": [
    {
     "data": {
      "text/plain": [
       "array([6])"
      ]
     },
     "execution_count": 24,
     "metadata": {},
     "output_type": "execute_result"
    }
   ],
   "source": [
    "a7 = np.arange(6,7,8)\n",
    "a7\n"
   ]
  },
  {
   "cell_type": "code",
   "execution_count": 25,
   "id": "805904d2",
   "metadata": {
    "ExecuteTime": {
     "end_time": "2023-12-01T19:28:28.693734Z",
     "start_time": "2023-12-01T19:28:28.679658Z"
    }
   },
   "outputs": [
    {
     "data": {
      "text/plain": [
       "6"
      ]
     },
     "execution_count": 25,
     "metadata": {},
     "output_type": "execute_result"
    }
   ],
   "source": [
    "a7[-1]"
   ]
  },
  {
   "cell_type": "code",
   "execution_count": 26,
   "id": "5bd0196c",
   "metadata": {
    "ExecuteTime": {
     "end_time": "2023-12-01T19:28:28.714711Z",
     "start_time": "2023-12-01T19:28:28.701663Z"
    }
   },
   "outputs": [
    {
     "data": {
      "text/plain": [
       "array([[[  0,   1,   2,   3,   4,   5,   6,   7],\n",
       "        [  8,   9,  10,  11,  12,  13,  14,  15],\n",
       "        [ 16,  17,  18,  19,  20,  21,  22,  23],\n",
       "        [ 24,  25,  26,  27,  28,  29,  30,  31],\n",
       "        [ 32,  33,  34,  35,  36,  37,  38,  39],\n",
       "        [ 40,  41,  42,  43,  44,  45,  46,  47],\n",
       "        [ 48,  49,  50,  51,  52,  53,  54,  55]],\n",
       "\n",
       "       [[ 56,  57,  58,  59,  60,  61,  62,  63],\n",
       "        [ 64,  65,  66,  67,  68,  69,  70,  71],\n",
       "        [ 72,  73,  74,  75,  76,  77,  78,  79],\n",
       "        [ 80,  81,  82,  83,  84,  85,  86,  87],\n",
       "        [ 88,  89,  90,  91,  92,  93,  94,  95],\n",
       "        [ 96,  97,  98,  99, 100, 101, 102, 103],\n",
       "        [104, 105, 106, 107, 108, 109, 110, 111]],\n",
       "\n",
       "       [[112, 113, 114, 115, 116, 117, 118, 119],\n",
       "        [120, 121, 122, 123, 124, 125, 126, 127],\n",
       "        [128, 129, 130, 131, 132, 133, 134, 135],\n",
       "        [136, 137, 138, 139, 140, 141, 142, 143],\n",
       "        [144, 145, 146, 147, 148, 149, 150, 151],\n",
       "        [152, 153, 154, 155, 156, 157, 158, 159],\n",
       "        [160, 161, 162, 163, 164, 165, 166, 167]],\n",
       "\n",
       "       [[168, 169, 170, 171, 172, 173, 174, 175],\n",
       "        [176, 177, 178, 179, 180, 181, 182, 183],\n",
       "        [184, 185, 186, 187, 188, 189, 190, 191],\n",
       "        [192, 193, 194, 195, 196, 197, 198, 199],\n",
       "        [200, 201, 202, 203, 204, 205, 206, 207],\n",
       "        [208, 209, 210, 211, 212, 213, 214, 215],\n",
       "        [216, 217, 218, 219, 220, 221, 222, 223]],\n",
       "\n",
       "       [[224, 225, 226, 227, 228, 229, 230, 231],\n",
       "        [232, 233, 234, 235, 236, 237, 238, 239],\n",
       "        [240, 241, 242, 243, 244, 245, 246, 247],\n",
       "        [248, 249, 250, 251, 252, 253, 254, 255],\n",
       "        [256, 257, 258, 259, 260, 261, 262, 263],\n",
       "        [264, 265, 266, 267, 268, 269, 270, 271],\n",
       "        [272, 273, 274, 275, 276, 277, 278, 279]],\n",
       "\n",
       "       [[280, 281, 282, 283, 284, 285, 286, 287],\n",
       "        [288, 289, 290, 291, 292, 293, 294, 295],\n",
       "        [296, 297, 298, 299, 300, 301, 302, 303],\n",
       "        [304, 305, 306, 307, 308, 309, 310, 311],\n",
       "        [312, 313, 314, 315, 316, 317, 318, 319],\n",
       "        [320, 321, 322, 323, 324, 325, 326, 327],\n",
       "        [328, 329, 330, 331, 332, 333, 334, 335]]])"
      ]
     },
     "execution_count": 26,
     "metadata": {},
     "output_type": "execute_result"
    }
   ],
   "source": [
    "#***\n",
    "array_3d = np.arange(6 * 7 * 8).reshape((6, 7, 8))\n",
    "array_3d\n"
   ]
  },
  {
   "cell_type": "code",
   "execution_count": 27,
   "id": "07181d9f",
   "metadata": {
    "ExecuteTime": {
     "end_time": "2023-12-01T19:28:28.736423Z",
     "start_time": "2023-12-01T19:28:28.722323Z"
    }
   },
   "outputs": [
    {
     "data": {
      "text/plain": [
       "335"
      ]
     },
     "execution_count": 27,
     "metadata": {},
     "output_type": "execute_result"
    }
   ],
   "source": [
    "array_3d[-1,-1,-1]"
   ]
  },
  {
   "cell_type": "markdown",
   "id": "afc74cce-1589-434f-929e-d4f809eac34d",
   "metadata": {},
   "source": [
    "## <font color='green'> <b>Create a 5x5 matrix with row values ranging from 0 to 5</b><font color='black'>"
   ]
  },
  {
   "cell_type": "code",
   "execution_count": 28,
   "id": "522397f4",
   "metadata": {
    "ExecuteTime": {
     "end_time": "2023-12-01T19:28:28.760098Z",
     "start_time": "2023-12-01T19:28:28.749307Z"
    }
   },
   "outputs": [
    {
     "data": {
      "text/plain": [
       "array([[0, 2, 0, 4, 1],\n",
       "       [1, 1, 2, 4, 0],\n",
       "       [3, 0, 3, 0, 4],\n",
       "       [3, 2, 0, 0, 3],\n",
       "       [2, 2, 4, 2, 2]])"
      ]
     },
     "execution_count": 28,
     "metadata": {},
     "output_type": "execute_result"
    }
   ],
   "source": [
    "a8 = np.random.randint(5, size=(5,5))\n",
    "a8"
   ]
  },
  {
   "cell_type": "code",
   "execution_count": 29,
   "id": "28fe171a",
   "metadata": {
    "ExecuteTime": {
     "end_time": "2023-12-01T19:28:29.695063Z",
     "start_time": "2023-12-01T19:28:28.765993Z"
    }
   },
   "outputs": [
    {
     "ename": "TypeError",
     "evalue": "randint() takes at least 1 positional argument (0 given)",
     "output_type": "error",
     "traceback": [
      "\u001b[0;31m---------------------------------------------------------------------------\u001b[0m",
      "\u001b[0;31mTypeError\u001b[0m                                 Traceback (most recent call last)",
      "Cell \u001b[0;32mIn[29], line 1\u001b[0m\n\u001b[0;32m----> 1\u001b[0m a8 \u001b[38;5;241m=\u001b[39m np\u001b[38;5;241m.\u001b[39mrandom\u001b[38;5;241m.\u001b[39mrandint()\n",
      "File \u001b[0;32mmtrand.pyx:662\u001b[0m, in \u001b[0;36mnumpy.random.mtrand.RandomState.randint\u001b[0;34m()\u001b[0m\n",
      "\u001b[0;31mTypeError\u001b[0m: randint() takes at least 1 positional argument (0 given)"
     ]
    }
   ],
   "source": [
    "a8 = np.random.randint()  #h"
   ]
  },
  {
   "cell_type": "code",
   "execution_count": null,
   "id": "76041cc4",
   "metadata": {
    "ExecuteTime": {
     "end_time": "2023-12-01T19:28:29.711353Z",
     "start_time": "2023-12-01T19:28:29.711323Z"
    }
   },
   "outputs": [],
   "source": [
    "np.full((5,5), [0,1,2,3,4]) #np.full((5,5), [0,1,2,3,4])\n",
    "\n"
   ]
  },
  {
   "cell_type": "code",
   "execution_count": null,
   "id": "39c8a2ce",
   "metadata": {
    "ExecuteTime": {
     "end_time": "2023-12-01T19:28:29.721020Z",
     "start_time": "2023-12-01T19:28:29.720984Z"
    }
   },
   "outputs": [],
   "source": [
    "np.zeros((5,5)) + np.arange(0,5)"
   ]
  },
  {
   "cell_type": "code",
   "execution_count": null,
   "id": "cb97209d",
   "metadata": {},
   "outputs": [],
   "source": []
  },
  {
   "cell_type": "code",
   "execution_count": null,
   "id": "5cc03081",
   "metadata": {},
   "outputs": [],
   "source": []
  },
  {
   "cell_type": "markdown",
   "id": "cbea287c-b2ef-4c94-b4bc-e047ee69abd1",
   "metadata": {},
   "source": [
    "## <font color='green'> <b>Create a vector of size 12 with values ranging from 0 to 1 (excluding 0 and 1)</b><font color='black'>"
   ]
  },
  {
   "cell_type": "code",
   "execution_count": null,
   "id": "695b33ea",
   "metadata": {
    "ExecuteTime": {
     "end_time": "2023-12-01T19:28:29.728392Z",
     "start_time": "2023-12-01T19:28:29.728361Z"
    }
   },
   "outputs": [],
   "source": [
    "np.linspace(0.1,0.9, 12 ) "
   ]
  },
  {
   "cell_type": "code",
   "execution_count": null,
   "id": "b6caf3c4",
   "metadata": {
    "ExecuteTime": {
     "end_time": "2023-12-01T19:28:29.734178Z",
     "start_time": "2023-12-01T19:28:29.734151Z"
    }
   },
   "outputs": [],
   "source": [
    "#2. yöntem\n",
    "np.linspace(0.001, 0.999, num=12)"
   ]
  },
  {
   "cell_type": "code",
   "execution_count": null,
   "id": "876c82e2",
   "metadata": {
    "ExecuteTime": {
     "end_time": "2023-12-01T19:28:29.749526Z",
     "start_time": "2023-12-01T19:28:29.749494Z"
    }
   },
   "outputs": [],
   "source": [
    "np.linspace(0,1,13, endpoint=False)[1:]"
   ]
  },
  {
   "cell_type": "markdown",
   "id": "1dc7d714-45a5-4bc7-a52e-37abe31bfb1f",
   "metadata": {},
   "source": [
    "## <font color='green'> <b>Create a random vector of size 10 and sort it</b><font color='black'>"
   ]
  },
  {
   "cell_type": "code",
   "execution_count": null,
   "id": "c0a59fbf",
   "metadata": {
    "ExecuteTime": {
     "end_time": "2023-12-01T19:28:29.752738Z",
     "start_time": "2023-12-01T19:28:29.752704Z"
    }
   },
   "outputs": [],
   "source": [
    "a9 = np.random.random(10)\n",
    "a9"
   ]
  },
  {
   "cell_type": "code",
   "execution_count": null,
   "id": "c13d3f51",
   "metadata": {
    "ExecuteTime": {
     "end_time": "2023-12-01T19:28:29.756688Z",
     "start_time": "2023-12-01T19:28:29.756636Z"
    },
    "run_control": {
     "marked": false
    }
   },
   "outputs": [],
   "source": [
    "a9.sort()\n",
    "a9"
   ]
  },
  {
   "cell_type": "markdown",
   "id": "0d58bab8-cab1-4318-9405-6e54a17ac346",
   "metadata": {},
   "source": [
    "## <font color='green'> <b>Consider two random array A anb B, check if they are equal</b><font color='black'>\n",
    "**Extra research is required**"
   ]
  },
  {
   "cell_type": "code",
   "execution_count": null,
   "id": "07d21f6d",
   "metadata": {
    "ExecuteTime": {
     "end_time": "2023-12-01T19:28:29.763720Z",
     "start_time": "2023-12-01T19:28:29.763687Z"
    }
   },
   "outputs": [],
   "source": [
    "a10 = np.random.randint(10)\n",
    "a10"
   ]
  },
  {
   "cell_type": "code",
   "execution_count": null,
   "id": "4cb051f9",
   "metadata": {
    "ExecuteTime": {
     "end_time": "2023-12-01T19:28:29.771752Z",
     "start_time": "2023-12-01T19:28:29.771703Z"
    }
   },
   "outputs": [],
   "source": [
    "a11 = np.random.randint(10)\n",
    "a11"
   ]
  },
  {
   "cell_type": "code",
   "execution_count": null,
   "id": "be9c652d",
   "metadata": {
    "ExecuteTime": {
     "end_time": "2023-12-01T19:28:29.779287Z",
     "start_time": "2023-12-01T19:28:29.779250Z"
    }
   },
   "outputs": [],
   "source": [
    "a10_a11_areEqual= a10 == a11\n",
    "a10_a11_areEqual"
   ]
  },
  {
   "cell_type": "code",
   "execution_count": null,
   "id": "41980dd2",
   "metadata": {
    "ExecuteTime": {
     "end_time": "2023-12-01T19:28:29.785179Z",
     "start_time": "2023-12-01T19:28:29.785149Z"
    }
   },
   "outputs": [],
   "source": [
    "equal = np.array_equal(a10,a11)  ###########\n",
    "print(f\"a10 array {a10}\")\n",
    "print(f\"a11 array {a11}\")\n",
    "print(f\"a10 ve a11 array esit mi:{equal}\")"
   ]
  },
  {
   "cell_type": "markdown",
   "id": "add060d3-6cca-47eb-8a48-2b9f33227130",
   "metadata": {},
   "source": [
    "## <font color='green'> <b>Generate a random vector of size 10 and replace the maximum value with 0</b><font color='bla#2. yönteck'>"
   ]
  },
  {
   "cell_type": "code",
   "execution_count": null,
   "id": "6edc3993",
   "metadata": {
    "ExecuteTime": {
     "end_time": "2023-12-01T19:28:29.800145Z",
     "start_time": "2023-12-01T19:28:29.800105Z"
    }
   },
   "outputs": [],
   "source": [
    "a12 = np.random.rand(10)\n",
    "a12"
   ]
  },
  {
   "cell_type": "code",
   "execution_count": null,
   "id": "225cfe8a",
   "metadata": {
    "ExecuteTime": {
     "end_time": "2023-12-01T19:28:29.806084Z",
     "start_time": "2023-12-01T19:28:29.806043Z"
    }
   },
   "outputs": [],
   "source": [
    "max_deger = np.argmax(a12)\n",
    "max_deger\n"
   ]
  },
  {
   "cell_type": "code",
   "execution_count": null,
   "id": "19faa3ce",
   "metadata": {
    "ExecuteTime": {
     "end_time": "2023-12-01T19:28:29.813790Z",
     "start_time": "2023-12-01T19:28:29.813524Z"
    }
   },
   "outputs": [],
   "source": [
    "a12[max_deger] = 0 \n",
    "a12"
   ]
  },
  {
   "cell_type": "markdown",
   "id": "3d99138b-91e6-4d19-9195-1f384a68063b",
   "metadata": {},
   "source": [
    "## <font color='green'> <b>How to find the most frequent value in an array?</b><font color='black'>\n",
    "**Extra research is required**"
   ]
  },
  {
   "cell_type": "code",
   "execution_count": null,
   "id": "19a6efab",
   "metadata": {
    "ExecuteTime": {
     "end_time": "2023-12-01T19:28:29.818525Z",
     "start_time": "2023-12-01T19:28:29.818401Z"
    }
   },
   "outputs": [],
   "source": [
    "a13 = np.random.randint(15, size=10)\n",
    "a13"
   ]
  },
  {
   "cell_type": "code",
   "execution_count": null,
   "id": "e68f7804",
   "metadata": {
    "ExecuteTime": {
     "end_time": "2023-12-01T19:28:29.821240Z",
     "start_time": "2023-12-01T19:28:29.821209Z"
    }
   },
   "outputs": [],
   "source": [
    "repat_value = np.unique()\n",
    "repat_value"
   ]
  },
  {
   "cell_type": "code",
   "execution_count": null,
   "id": "ad39e75c",
   "metadata": {
    "ExecuteTime": {
     "end_time": "2023-12-01T19:28:29.831233Z",
     "start_time": "2023-12-01T19:28:29.831192Z"
    }
   },
   "outputs": [],
   "source": [
    "example_array = np.array([1, 2, 3, 4, 2, 2, 1, 5, 5, 2])\n",
    "\n",
    "# Get unique elements and their counts\n",
    "unique_elements, counts = np.unique(example_array, return_counts=True)\n",
    "\n",
    "# Find the index of the maximum count\n",
    "max_count_index = np.argmax(counts)\n",
    "\n",
    "# The most frequent value\n",
    "most_frequent_value = unique_elements[max_count_index]\n",
    "\n",
    "print(\"Example array:\")\n",
    "print(example_array)\n",
    "print(\"\\nMost frequent value:\", most_frequent_value)\n"
   ]
  },
  {
   "cell_type": "code",
   "execution_count": 31,
   "id": "ebf49b2d",
   "metadata": {
    "ExecuteTime": {
     "end_time": "2023-12-01T19:29:02.319387Z",
     "start_time": "2023-12-01T19:29:02.279211Z"
    }
   },
   "outputs": [
    {
     "ename": "ValueError",
     "evalue": "object of too small depth for desired array",
     "output_type": "error",
     "traceback": [
      "\u001b[0;31m---------------------------------------------------------------------------\u001b[0m",
      "\u001b[0;31mValueError\u001b[0m                                Traceback (most recent call last)",
      "Cell \u001b[0;32mIn[31], line 1\u001b[0m\n\u001b[0;32m----> 1\u001b[0m np\u001b[38;5;241m.\u001b[39mbincount(\u001b[38;5;124m\"\u001b[39m\u001b[38;5;124ma13\u001b[39m\u001b[38;5;124m\"\u001b[39m)\n",
      "File \u001b[0;32m<__array_function__ internals>:200\u001b[0m, in \u001b[0;36mbincount\u001b[0;34m(*args, **kwargs)\u001b[0m\n",
      "\u001b[0;31mValueError\u001b[0m: object of too small depth for desired array"
     ]
    }
   ],
   "source": [
    "np.bincount(\"a13\")"
   ]
  },
  {
   "cell_type": "code",
   "execution_count": null,
   "id": "7749df66",
   "metadata": {
    "ExecuteTime": {
     "end_time": "2023-12-01T19:28:29.842907Z",
     "start_time": "2023-12-01T19:28:29.841216Z"
    }
   },
   "outputs": [],
   "source": [
    "np.bincount(a13).argmax()"
   ]
  },
  {
   "cell_type": "markdown",
   "id": "643742e8",
   "metadata": {},
   "source": [
    "## <font color='green'> <b>Create a 2d array with 1 on the border and 0 inside</b><font color='black'>"
   ]
  },
  {
   "cell_type": "code",
   "execution_count": 32,
   "id": "affc3c2a",
   "metadata": {
    "ExecuteTime": {
     "end_time": "2023-12-01T19:29:10.213487Z",
     "start_time": "2023-12-01T19:29:10.188429Z"
    }
   },
   "outputs": [
    {
     "data": {
      "text/plain": [
       "array([[1., 1., 1.],\n",
       "       [1., 1., 1.],\n",
       "       [1., 1., 1.]])"
      ]
     },
     "execution_count": 32,
     "metadata": {},
     "output_type": "execute_result"
    }
   ],
   "source": [
    "p = np.ones((3,3))\n",
    "p"
   ]
  },
  {
   "cell_type": "code",
   "execution_count": 33,
   "id": "8456915f",
   "metadata": {
    "ExecuteTime": {
     "end_time": "2023-12-01T19:29:13.250996Z",
     "start_time": "2023-12-01T19:29:13.236116Z"
    }
   },
   "outputs": [
    {
     "data": {
      "text/plain": [
       "array([[1., 1., 1.],\n",
       "       [1., 0., 1.],\n",
       "       [1., 1., 1.]])"
      ]
     },
     "execution_count": 33,
     "metadata": {},
     "output_type": "execute_result"
    }
   ],
   "source": [
    "p[1][1] =0\n",
    "p"
   ]
  },
  {
   "cell_type": "code",
   "execution_count": null,
   "id": "32ca70b8",
   "metadata": {},
   "outputs": [],
   "source": []
  },
  {
   "cell_type": "code",
   "execution_count": null,
   "id": "21e84d2a",
   "metadata": {},
   "outputs": [],
   "source": []
  },
  {
   "cell_type": "code",
   "execution_count": null,
   "id": "fcb1adaf",
   "metadata": {},
   "outputs": [],
   "source": []
  },
  {
   "cell_type": "markdown",
   "id": "823dbb42",
   "metadata": {},
   "source": [
    "## <font color='green'> <b>Create a 5x5 matrix with values 1,2,3,4 just below the diagonal</b><font color='black'>\n",
    "**Extra research may be required**"
   ]
  },
  {
   "attachments": {
    "image.png": {
     "image/png": "[encoded data removed]"
    }
   },
   "cell_type": "markdown",
   "id": "e65c7127",
   "metadata": {},
   "source": [
    "![image.png](attachment:image.png)"
   ]
  },
  {
   "cell_type": "code",
   "execution_count": 34,
   "id": "841251dd",
   "metadata": {
    "ExecuteTime": {
     "end_time": "2023-12-01T19:29:22.945659Z",
     "start_time": "2023-12-01T19:29:22.925553Z"
    }
   },
   "outputs": [
    {
     "data": {
      "text/plain": [
       "array([[0, 0, 0, 0, 0],\n",
       "       [1, 0, 0, 0, 0],\n",
       "       [0, 2, 0, 0, 0],\n",
       "       [0, 0, 3, 0, 0],\n",
       "       [0, 0, 0, 4, 0]])"
      ]
     },
     "execution_count": 34,
     "metadata": {},
     "output_type": "execute_result"
    }
   ],
   "source": [
    "b1 = np.array([[0,0,0,0,0], [1,0,0,0,0],[0,2,0,0,0],[0,0,3,0,0],[0,0,0,4,0]])\n",
    "b1"
   ]
  },
  {
   "cell_type": "code",
   "execution_count": 35,
   "id": "7b368d01",
   "metadata": {
    "ExecuteTime": {
     "end_time": "2023-12-01T19:29:25.379440Z",
     "start_time": "2023-12-01T19:29:25.352851Z"
    }
   },
   "outputs": [
    {
     "data": {
      "text/plain": [
       "array([[0, 0, 0, 0, 0],\n",
       "       [0, 0, 0, 0, 0],\n",
       "       [0, 0, 0, 0, 0],\n",
       "       [0, 0, 0, 0, 0],\n",
       "       [0, 0, 0, 0, 0]], dtype=int32)"
      ]
     },
     "execution_count": 35,
     "metadata": {},
     "output_type": "execute_result"
    }
   ],
   "source": [
    "#2. yöntem\n",
    "b = np.zeros((5,5), dtype=\"i\")\n",
    "b"
   ]
  },
  {
   "cell_type": "code",
   "execution_count": 36,
   "id": "8072556a",
   "metadata": {
    "ExecuteTime": {
     "end_time": "2023-12-01T19:29:28.897458Z",
     "start_time": "2023-12-01T19:29:28.884637Z"
    }
   },
   "outputs": [
    {
     "data": {
      "text/plain": [
       "array([[0, 0, 0, 0, 0],\n",
       "       [1, 0, 0, 0, 0],\n",
       "       [0, 2, 0, 0, 0],\n",
       "       [0, 0, 3, 0, 0],\n",
       "       [0, 0, 0, 4, 0]], dtype=int32)"
      ]
     },
     "execution_count": 36,
     "metadata": {},
     "output_type": "execute_result"
    }
   ],
   "source": [
    "b[1][0]=1\n",
    "b[2][1]=2\n",
    "b[3][2]=3\n",
    "b[4][3]=4\n",
    "b"
   ]
  },
  {
   "cell_type": "code",
   "execution_count": null,
   "id": "243d03fd",
   "metadata": {
    "ExecuteTime": {
     "end_time": "2023-12-01T19:28:29.877872Z",
     "start_time": "2023-12-01T19:28:29.877839Z"
    }
   },
   "outputs": [],
   "source": [
    "matr2 = np.zeros((5,5))\n",
    "matr2\n",
    "values = [1, 2, 3, 4]\n",
    "np.fill_diagonal(matr2[1:, :-1], values)"
   ]
  },
  {
   "cell_type": "code",
   "execution_count": 38,
   "id": "2d6faac3",
   "metadata": {
    "ExecuteTime": {
     "end_time": "2023-12-01T19:30:32.244536Z",
     "start_time": "2023-12-01T19:30:32.212650Z"
    }
   },
   "outputs": [
    {
     "data": {
      "text/plain": [
       "array([[0, 0, 0, 0, 0],\n",
       "       [1, 0, 0, 0, 0],\n",
       "       [0, 2, 0, 0, 0],\n",
       "       [0, 0, 3, 0, 0],\n",
       "       [0, 0, 0, 4, 0]])"
      ]
     },
     "execution_count": 38,
     "metadata": {},
     "output_type": "execute_result"
    }
   ],
   "source": [
    "a = np.diag([1,2,3,4], k=-1)\n",
    "a"
   ]
  },
  {
   "cell_type": "markdown",
   "id": "19b54bac",
   "metadata": {},
   "source": [
    "## <font color='green'> <b>Create a 8x8 matrix and fill it with a checkerboard pattern</b><font color='black'>"
   ]
  },
  {
   "attachments": {
    "image.png": {
     "image/png": "[encoded data removed]"
    }
   },
   "cell_type": "markdown",
   "id": "2ce4419c",
   "metadata": {},
   "source": [
    "![image.png](attachment:image.png)"
   ]
  },
  {
   "cell_type": "code",
   "execution_count": 47,
   "id": "4ec6ab47",
   "metadata": {
    "ExecuteTime": {
     "end_time": "2023-12-01T19:45:04.167967Z",
     "start_time": "2023-12-01T19:45:04.154072Z"
    }
   },
   "outputs": [
    {
     "data": {
      "text/plain": [
       "array([[0, 0, 0, 0, 0, 0, 0, 0],\n",
       "       [0, 0, 0, 0, 0, 0, 0, 0],\n",
       "       [0, 0, 0, 0, 0, 0, 0, 0],\n",
       "       [0, 0, 0, 0, 0, 0, 0, 0],\n",
       "       [0, 0, 0, 0, 0, 0, 0, 0],\n",
       "       [0, 0, 0, 0, 0, 0, 0, 0],\n",
       "       [0, 0, 0, 0, 0, 0, 0, 0],\n",
       "       [0, 0, 0, 0, 0, 0, 0, 0]])"
      ]
     },
     "execution_count": 47,
     "metadata": {},
     "output_type": "execute_result"
    }
   ],
   "source": [
    "c1 = np.zeros((8,8), dtype=int)\n",
    "c1"
   ]
  },
  {
   "cell_type": "code",
   "execution_count": null,
   "id": "687d24f4",
   "metadata": {},
   "outputs": [],
   "source": []
  },
  {
   "cell_type": "code",
   "execution_count": 43,
   "id": "b439c774",
   "metadata": {
    "ExecuteTime": {
     "end_time": "2023-12-01T19:34:36.594127Z",
     "start_time": "2023-12-01T19:34:36.588376Z"
    }
   },
   "outputs": [],
   "source": [
    "a[1::2, ::2]=1"
   ]
  },
  {
   "cell_type": "code",
   "execution_count": 44,
   "id": "4e774b1e",
   "metadata": {
    "ExecuteTime": {
     "end_time": "2023-12-01T19:36:55.746316Z",
     "start_time": "2023-12-01T19:36:55.725717Z"
    }
   },
   "outputs": [],
   "source": [
    "a[::2, 1::2]=1"
   ]
  },
  {
   "cell_type": "code",
   "execution_count": 53,
   "id": "fb4f1f9a",
   "metadata": {
    "ExecuteTime": {
     "end_time": "2023-12-01T19:47:49.587109Z",
     "start_time": "2023-12-01T19:47:49.566670Z"
    }
   },
   "outputs": [
    {
     "data": {
      "text/plain": [
       "array([[0, 1],\n",
       "       [1, 0]])"
      ]
     },
     "execution_count": 53,
     "metadata": {},
     "output_type": "execute_result"
    }
   ],
   "source": [
    "c2=np.array([[0, 1], [1, 0]])\n",
    "c2"
   ]
  },
  {
   "cell_type": "code",
   "execution_count": 54,
   "id": "1c80cc14",
   "metadata": {
    "ExecuteTime": {
     "end_time": "2023-12-01T19:47:51.797721Z",
     "start_time": "2023-12-01T19:47:51.771606Z"
    }
   },
   "outputs": [
    {
     "data": {
      "text/plain": [
       "array([[0, 1, 0, 1, 0, 1, 0, 1],\n",
       "       [1, 0, 1, 0, 1, 0, 1, 0],\n",
       "       [0, 1, 0, 1, 0, 1, 0, 1],\n",
       "       [1, 0, 1, 0, 1, 0, 1, 0],\n",
       "       [0, 1, 0, 1, 0, 1, 0, 1],\n",
       "       [1, 0, 1, 0, 1, 0, 1, 0],\n",
       "       [0, 1, 0, 1, 0, 1, 0, 1],\n",
       "       [1, 0, 1, 0, 1, 0, 1, 0]])"
      ]
     },
     "execution_count": 54,
     "metadata": {},
     "output_type": "execute_result"
    }
   ],
   "source": [
    "\n",
    "yenic1 = np.tile(c2, (4,4))\n",
    "yenic1"
   ]
  },
  {
   "cell_type": "code",
   "execution_count": 41,
   "id": "d51e25f9",
   "metadata": {
    "ExecuteTime": {
     "end_time": "2023-12-01T19:31:25.645829Z",
     "start_time": "2023-12-01T19:31:25.638003Z"
    }
   },
   "outputs": [
    {
     "data": {
      "text/plain": [
       "array([[1, 1, 1, 1, 1, 1, 1, 1],\n",
       "       [1, 1, 1, 1, 1, 1, 1, 1],\n",
       "       [1, 1, 1, 1, 1, 1, 1, 1],\n",
       "       [1, 1, 1, 1, 1, 1, 1, 1],\n",
       "       [1, 1, 1, 1, 1, 1, 1, 1],\n",
       "       [1, 1, 1, 1, 1, 1, 1, 1],\n",
       "       [1, 1, 1, 1, 1, 1, 1, 1],\n",
       "       [1, 1, 1, 1, 1, 1, 1, 1]])"
      ]
     },
     "execution_count": 41,
     "metadata": {},
     "output_type": "execute_result"
    }
   ],
   "source": [
    "#2. yöntem\n",
    "c = np.ones((8,8), dtype=\"int\")\n",
    "c"
   ]
  },
  {
   "cell_type": "code",
   "execution_count": null,
   "id": "9a7fcdc3",
   "metadata": {
    "ExecuteTime": {
     "end_time": "2023-12-01T19:28:29.906508Z",
     "start_time": "2023-12-01T19:28:29.906458Z"
    }
   },
   "outputs": [],
   "source": [
    "# bitmedi\n",
    "c2 = np.array([[0,1,0,1,0,1,0,1],[1,0,1,0,1,0,1,0]])\n",
    "c2"
   ]
  },
  {
   "cell_type": "code",
   "execution_count": null,
   "id": "e7f2ca5a",
   "metadata": {
    "ExecuteTime": {
     "end_time": "2023-12-01T19:28:29.911031Z",
     "start_time": "2023-12-01T19:28:29.911000Z"
    }
   },
   "outputs": [],
   "source": [
    "np.concatenate(c2)"
   ]
  },
  {
   "cell_type": "markdown",
   "id": "50007555",
   "metadata": {},
   "source": [
    "## <font color='green'> <b>Create a checkerboard 8x8 matrix using the tile function</b><font color='black'>\n",
    "**Extra research is required**"
   ]
  },
  {
   "cell_type": "code",
   "execution_count": 55,
   "id": "3aba5dc2",
   "metadata": {
    "ExecuteTime": {
     "end_time": "2023-12-01T19:52:56.823128Z",
     "start_time": "2023-12-01T19:52:56.798925Z"
    }
   },
   "outputs": [
    {
     "data": {
      "text/plain": [
       "array([[0, 1],\n",
       "       [1, 0]])"
      ]
     },
     "execution_count": 55,
     "metadata": {},
     "output_type": "execute_result"
    }
   ],
   "source": [
    "checkerboard = np.array([[0, 1], [1, 0]])\n",
    "checkerboard\n"
   ]
  },
  {
   "cell_type": "code",
   "execution_count": 56,
   "id": "72e60395",
   "metadata": {
    "ExecuteTime": {
     "end_time": "2023-12-01T19:52:58.888677Z",
     "start_time": "2023-12-01T19:52:58.874699Z"
    }
   },
   "outputs": [
    {
     "data": {
      "text/plain": [
       "array([[0, 1, 0, 1, 0, 1, 0, 1],\n",
       "       [1, 0, 1, 0, 1, 0, 1, 0],\n",
       "       [0, 1, 0, 1, 0, 1, 0, 1],\n",
       "       [1, 0, 1, 0, 1, 0, 1, 0],\n",
       "       [0, 1, 0, 1, 0, 1, 0, 1],\n",
       "       [1, 0, 1, 0, 1, 0, 1, 0],\n",
       "       [0, 1, 0, 1, 0, 1, 0, 1],\n",
       "       [1, 0, 1, 0, 1, 0, 1, 0]])"
      ]
     },
     "execution_count": 56,
     "metadata": {},
     "output_type": "execute_result"
    }
   ],
   "source": [
    "checkerboard2 = np.tile(checkerboard, (4, 4))\n",
    "checkerboard2"
   ]
  },
  {
   "cell_type": "code",
   "execution_count": 57,
   "id": "085804c6",
   "metadata": {
    "ExecuteTime": {
     "end_time": "2023-12-01T19:54:23.872295Z",
     "start_time": "2023-12-01T19:54:23.850144Z"
    }
   },
   "outputs": [
    {
     "data": {
      "text/plain": [
       "array([[0, 1, 0, 1, 0, 1, 0, 1],\n",
       "       [1, 0, 1, 0, 1, 0, 1, 0],\n",
       "       [0, 1, 0, 1, 0, 1, 0, 1],\n",
       "       [1, 0, 1, 0, 1, 0, 1, 0],\n",
       "       [0, 1, 0, 1, 0, 1, 0, 1],\n",
       "       [1, 0, 1, 0, 1, 0, 1, 0],\n",
       "       [0, 1, 0, 1, 0, 1, 0, 1],\n",
       "       [1, 0, 1, 0, 1, 0, 1, 0]])"
      ]
     },
     "execution_count": 57,
     "metadata": {},
     "output_type": "execute_result"
    }
   ],
   "source": [
    "np.tile(np.array([[0, 1], [1, 0]]), (4,4)) # tek satırda"
   ]
  },
  {
   "attachments": {
    "Yeni%20logo.png": {
     "image/png": "[encoded data removed]"
    }
   },
   "cell_type": "markdown",
   "id": "8d979ea4",
   "metadata": {},
   "source": [
    "![Yeni%20logo.png](attachment:Yeni%20logo.png)"
   ]
  }
 ],
 "metadata": {
  "hide_input": false,
  "kernelspec": {
   "display_name": "Python 3 (ipykernel)",
   "language": "python",
   "name": "python3"
  },
  "language_info": {
   "codemirror_mode": {
    "name": "ipython",
    "version": 3
   },
   "file_extension": ".py",
   "mimetype": "text/x-python",
   "name": "python",
   "nbconvert_exporter": "python",
   "pygments_lexer": "ipython3",
   "version": "3.11.4"
  },
  "toc": {
   "base_numbering": 1,
   "nav_menu": {},
   "number_sections": true,
   "sideBar": true,
   "skip_h1_title": false,
   "title_cell": "Table of Contents",
   "title_sidebar": "Contents",
   "toc_cell": false,
   "toc_position": {
    "height": "calc(100% - 180px)",
    "left": "10px",
    "top": "150px",
    "width": "165px"
   },
   "toc_section_display": true,
   "toc_window_display": true
  },
  "varInspector": {
   "cols": {
    "lenName": 16,
    "lenType": 16,
    "lenVar": 40
   },
   "kernels_config": {
    "python": {
     "delete_cmd_postfix": "",
     "delete_cmd_prefix": "del ",
     "library": "var_list.py",
     "varRefreshCmd": "print(var_dic_list())"
    },
    "r": {
     "delete_cmd_postfix": ") ",
     "delete_cmd_prefix": "rm(",
     "library": "var_list.r",
     "varRefreshCmd": "cat(var_dic_list()) "
    }
   },
   "types_to_exclude": [
    "module",
    "function",
    "builtin_function_or_method",
    "instance",
    "_Feature"
   ],
   "window_display": false
  }
 },
 "nbformat": 4,
 "nbformat_minor": 5
}

{
 "cells": [
  {
   "cell_type": "markdown",
   "id": "cf6540cb",
   "metadata": {},
   "source": [
    "# <p style=\"background-color:green;font-family:newtimeroman;font-size:200%;color:white;text-align:center;border-radius:20px 20px;\"><b>Numpy_Exercises</b></p>\n",
    "![](https://www.techproeducation.com/logo/headerlogo.svg)\n",
    "​\n",
    "<b>Yeniliklerden ilk siz haberdar olmak istiyorsanız lütfen bizi takip etmeyi unutmayın </b>[YouTube](https://www.youtube.com/c/techproeducation) | [Instagram](https://www.instagram.com/techproeducation) | [Facebook](https://www.facebook.com/techproeducation) | [Telegram](https://t.me/joinchat/HH2qRvA-ulh4OWbb) | [Watsapp](https://api.whatsapp.com/send/?phone=%2B15853042959&text&type=phone_number&app_absent=0) | [Linkedin](https://www.linkedin.com/company/techproeducation/mycompany/) |"
   ]
  },
  {
   "cell_type": "markdown",
   "id": "ac83fcdc",
   "metadata": {},
   "source": [
    "#  <font color='green'> <b>Importing Libraries</b><font color='black'>\n"
   ]
  },
  {
   "cell_type": "code",
   "execution_count": 1,
   "id": "80abb810",
   "metadata": {
    "ExecuteTime": {
     "end_time": "2023-11-17T10:44:27.087702Z",
     "start_time": "2023-11-17T10:44:26.839969Z"
    }
   },
   "outputs": [],
   "source": [
    "import numpy as np"
   ]
  },
  {
   "cell_type": "code",
   "execution_count": 2,
   "id": "80ec53f4",
   "metadata": {
    "ExecuteTime": {
     "end_time": "2023-11-17T10:44:28.913157Z",
     "start_time": "2023-11-17T10:44:28.888961Z"
    }
   },
   "outputs": [
    {
     "data": {
      "text/plain": [
       "'1.24.3'"
      ]
     },
     "execution_count": 2,
     "metadata": {},
     "output_type": "execute_result"
    }
   ],
   "source": [
    "np.__version__"
   ]
  },
  {
   "cell_type": "code",
   "execution_count": 3,
   "id": "17389aa1",
   "metadata": {
    "ExecuteTime": {
     "end_time": "2023-11-17T10:44:32.753284Z",
     "start_time": "2023-11-17T10:44:32.740945Z"
    }
   },
   "outputs": [
    {
     "data": {
      "text/plain": [
       "array([0, 1, 2, 3, 4, 5, 6, 7, 8, 9])"
      ]
     },
     "execution_count": 3,
     "metadata": {},
     "output_type": "execute_result"
    }
   ],
   "source": [
    "np.arange(10)\n",
    "# (10)=(0,10) başlangıç indexini default aldı"
   ]
  },
  {
   "cell_type": "code",
   "execution_count": 6,
   "id": "949130e4",
   "metadata": {
    "ExecuteTime": {
     "end_time": "2023-11-17T10:48:45.605647Z",
     "start_time": "2023-11-17T10:48:45.596249Z"
    }
   },
   "outputs": [
    {
     "data": {
      "text/plain": [
       "array([[0, 1, 2, 3, 4],\n",
       "       [5, 6, 7, 8, 9]])"
      ]
     },
     "execution_count": 6,
     "metadata": {},
     "output_type": "execute_result"
    }
   ],
   "source": [
    "np.arange(10).reshape(2,5)"
   ]
  },
  {
   "cell_type": "code",
   "execution_count": 7,
   "id": "86072bbf",
   "metadata": {
    "ExecuteTime": {
     "end_time": "2023-11-17T10:49:26.660068Z",
     "start_time": "2023-11-17T10:49:26.647827Z"
    }
   },
   "outputs": [
    {
     "data": {
      "text/plain": [
       "array([0., 0., 0., 0., 0., 0., 0., 0., 0., 0.])"
      ]
     },
     "execution_count": 7,
     "metadata": {},
     "output_type": "execute_result"
    }
   ],
   "source": [
    "np.zeros(10)"
   ]
  },
  {
   "cell_type": "code",
   "execution_count": 19,
   "id": "5aee844d",
   "metadata": {
    "ExecuteTime": {
     "end_time": "2023-11-17T10:57:42.898198Z",
     "start_time": "2023-11-17T10:57:42.890264Z"
    }
   },
   "outputs": [
    {
     "data": {
      "text/plain": [
       "array([0, 1, 2, 3, 4, 5, 6, 7, 8, 9])"
      ]
     },
     "execution_count": 19,
     "metadata": {},
     "output_type": "execute_result"
    }
   ],
   "source": [
    "np.arange(10)"
   ]
  },
  {
   "cell_type": "code",
   "execution_count": 23,
   "id": "54a7bc65",
   "metadata": {
    "ExecuteTime": {
     "end_time": "2023-11-17T10:59:39.906455Z",
     "start_time": "2023-11-17T10:59:39.898289Z"
    }
   },
   "outputs": [
    {
     "data": {
      "text/plain": [
       "array([[1., 1., 1., 1., 1., 1., 1., 1.],\n",
       "       [1., 1., 1., 1., 1., 1., 1., 1.],\n",
       "       [1., 1., 1., 1., 1., 1., 1., 1.]])"
      ]
     },
     "execution_count": 23,
     "metadata": {},
     "output_type": "execute_result"
    }
   ],
   "source": [
    "np.ones((3,8))"
   ]
  },
  {
   "cell_type": "code",
   "execution_count": 20,
   "id": "f063918c",
   "metadata": {
    "ExecuteTime": {
     "end_time": "2023-11-17T10:58:14.969183Z",
     "start_time": "2023-11-17T10:58:14.961135Z"
    }
   },
   "outputs": [
    {
     "data": {
      "text/plain": [
       "array([[1, 1, 1, 1, 1, 1, 1, 1],\n",
       "       [1, 1, 1, 1, 1, 1, 1, 1],\n",
       "       [1, 1, 1, 1, 1, 1, 1, 1]])"
      ]
     },
     "execution_count": 20,
     "metadata": {},
     "output_type": "execute_result"
    }
   ],
   "source": [
    "np.ones((3,8),dtype=\"int\")"
   ]
  },
  {
   "cell_type": "code",
   "execution_count": 26,
   "id": "6d402e92",
   "metadata": {
    "ExecuteTime": {
     "end_time": "2023-11-17T11:02:37.495056Z",
     "start_time": "2023-11-17T11:02:37.487450Z"
    }
   },
   "outputs": [
    {
     "data": {
      "text/plain": [
       "array([5, 5, 5])"
      ]
     },
     "execution_count": 26,
     "metadata": {},
     "output_type": "execute_result"
    }
   ],
   "source": [
    "np.full(3,5)"
   ]
  },
  {
   "cell_type": "code",
   "execution_count": 27,
   "id": "bc9ef914",
   "metadata": {
    "ExecuteTime": {
     "end_time": "2023-11-17T11:02:46.398148Z",
     "start_time": "2023-11-17T11:02:46.389626Z"
    }
   },
   "outputs": [
    {
     "data": {
      "text/plain": [
       "array([[10, 10, 10, 10, 10],\n",
       "       [10, 10, 10, 10, 10],\n",
       "       [10, 10, 10, 10, 10]])"
      ]
     },
     "execution_count": 27,
     "metadata": {},
     "output_type": "execute_result"
    }
   ],
   "source": [
    "np.full((3,5), 10)"
   ]
  },
  {
   "cell_type": "code",
   "execution_count": 30,
   "id": "6676d1f0",
   "metadata": {
    "ExecuteTime": {
     "end_time": "2023-11-17T11:04:47.046962Z",
     "start_time": "2023-11-17T11:04:47.011992Z"
    }
   },
   "outputs": [
    {
     "data": {
      "text/plain": [
       "array([ 0,  2,  4,  6,  8, 10, 12, 14, 16, 18, 20])"
      ]
     },
     "execution_count": 30,
     "metadata": {},
     "output_type": "execute_result"
    }
   ],
   "source": [
    "np.arange(0,21,2)"
   ]
  },
  {
   "cell_type": "code",
   "execution_count": null,
   "id": "eceed944",
   "metadata": {},
   "outputs": [],
   "source": []
  },
  {
   "cell_type": "markdown",
   "id": "a2801079",
   "metadata": {},
   "source": [
    "#  <font color='green'> <b>Creating Arrays</b><font color='black'>\n",
    "\n",
    "\n",
    "\n",
    "\n",
    "\n"
   ]
  },
  {
   "cell_type": "code",
   "execution_count": 5,
   "id": "2c746237",
   "metadata": {
    "ExecuteTime": {
     "end_time": "2023-11-04T14:25:42.779359Z",
     "start_time": "2023-11-04T14:25:42.751992Z"
    }
   },
   "outputs": [
    {
     "data": {
      "text/plain": [
       "array([0, 1, 2, 3, 4, 5, 6, 7, 8, 9])"
      ]
     },
     "execution_count": 5,
     "metadata": {},
     "output_type": "execute_result"
    }
   ],
   "source": [
    "np.arange(10) # "
   ]
  },
  {
   "cell_type": "code",
   "execution_count": 6,
   "id": "c6b1125d",
   "metadata": {
    "ExecuteTime": {
     "end_time": "2023-11-04T14:25:43.530904Z",
     "start_time": "2023-11-04T14:25:43.509975Z"
    }
   },
   "outputs": [
    {
     "data": {
      "text/plain": [
       "array([[0, 1, 2, 3, 4],\n",
       "       [5, 6, 7, 8, 9]])"
      ]
     },
     "execution_count": 6,
     "metadata": {},
     "output_type": "execute_result"
    }
   ],
   "source": [
    "np.arange(10).reshape((2,5))"
   ]
  },
  {
   "cell_type": "code",
   "execution_count": null,
   "id": "babce47a",
   "metadata": {},
   "outputs": [],
   "source": [
    "np.zeros"
   ]
  },
  {
   "cell_type": "code",
   "execution_count": 8,
   "id": "56631334",
   "metadata": {
    "ExecuteTime": {
     "end_time": "2023-11-04T14:26:55.349723Z",
     "start_time": "2023-11-04T14:26:55.336438Z"
    }
   },
   "outputs": [
    {
     "data": {
      "text/plain": [
       "array([[1., 1., 1., 1., 1., 1., 1., 1.],\n",
       "       [1., 1., 1., 1., 1., 1., 1., 1.],\n",
       "       [1., 1., 1., 1., 1., 1., 1., 1.]])"
      ]
     },
     "execution_count": 8,
     "metadata": {},
     "output_type": "execute_result"
    }
   ],
   "source": [
    "np.ones((3,8))"
   ]
  },
  {
   "cell_type": "code",
   "execution_count": 9,
   "id": "0ba55e50",
   "metadata": {
    "ExecuteTime": {
     "end_time": "2023-11-04T14:27:22.042554Z",
     "start_time": "2023-11-04T14:27:22.030953Z"
    }
   },
   "outputs": [
    {
     "data": {
      "text/plain": [
       "array([[10, 10, 10, 10, 10],\n",
       "       [10, 10, 10, 10, 10],\n",
       "       [10, 10, 10, 10, 10]])"
      ]
     },
     "execution_count": 9,
     "metadata": {},
     "output_type": "execute_result"
    }
   ],
   "source": [
    "np.full((3,5),10) # burda 10 lar ile doldur demis olduk"
   ]
  },
  {
   "cell_type": "code",
   "execution_count": 11,
   "id": "a1124de3",
   "metadata": {
    "ExecuteTime": {
     "end_time": "2023-11-04T14:31:17.518309Z",
     "start_time": "2023-11-04T14:31:17.507819Z"
    }
   },
   "outputs": [
    {
     "data": {
      "text/plain": [
       "array([ 0,  2,  4,  6,  8, 10, 12, 14, 16, 18])"
      ]
     },
     "execution_count": 11,
     "metadata": {},
     "output_type": "execute_result"
    }
   ],
   "source": [
    "np.arange(0,20,2)# 0 dan 20 ye kadar cift sayıların oldugu array yazın"
   ]
  },
  {
   "cell_type": "code",
   "execution_count": 13,
   "id": "8f8f4e3a",
   "metadata": {
    "ExecuteTime": {
     "end_time": "2023-11-04T14:38:38.236895Z",
     "start_time": "2023-11-04T14:38:38.217314Z"
    }
   },
   "outputs": [
    {
     "data": {
      "text/plain": [
       "array([ 0., 20.])"
      ]
     },
     "execution_count": 13,
     "metadata": {},
     "output_type": "execute_result"
    }
   ],
   "source": [
    "np.linspace(0, 20, 2)"
   ]
  },
  {
   "cell_type": "code",
   "execution_count": 12,
   "id": "c1dd79ce",
   "metadata": {
    "ExecuteTime": {
     "end_time": "2023-11-04T14:36:27.837508Z",
     "start_time": "2023-11-04T14:36:26.193833Z"
    },
    "scrolled": true
   },
   "outputs": [
    {
     "data": {
      "text/plain": [
       "[<matplotlib.lines.Line2D at 0x11134d310>]"
      ]
     },
     "execution_count": 12,
     "metadata": {},
     "output_type": "execute_result"
    },
    {
     "data": {
      "image/png": "[encoded data removed]",
      "text/plain": [
       "<Figure size 640x480 with 1 Axes>"
      ]
     },
     "metadata": {},
     "output_type": "display_data"
    }
   ],
   "source": [
    "import matplotlib.pyplot as plt\n",
    "N = 8\n",
    "y = np.zeros(N)\n",
    "x1 = np.linspace(0, 10, N, endpoint=True)\n",
    "x2 = np.linspace(0, 10, N, endpoint=False)\n",
    "plt.plot(x1, y, 'o')"
   ]
  },
  {
   "cell_type": "code",
   "execution_count": 15,
   "id": "52b5e6d2",
   "metadata": {
    "ExecuteTime": {
     "end_time": "2023-11-04T14:46:50.403070Z",
     "start_time": "2023-11-04T14:46:50.381775Z"
    }
   },
   "outputs": [
    {
     "data": {
      "text/plain": [
       "array([[1., 0., 0., 0., 0.],\n",
       "       [0., 1., 0., 0., 0.],\n",
       "       [0., 0., 1., 0., 0.],\n",
       "       [0., 0., 0., 1., 0.],\n",
       "       [0., 0., 0., 0., 1.]])"
      ]
     },
     "execution_count": 15,
     "metadata": {},
     "output_type": "execute_result"
    }
   ],
   "source": [
    "np.eye(5) # 2 kösegen icinde kösegenler 1 den ,digerleri 0 dan olusan bir "
   ]
  },
  {
   "cell_type": "code",
   "execution_count": 16,
   "id": "3255d3b1",
   "metadata": {
    "ExecuteTime": {
     "end_time": "2023-11-04T14:47:13.830621Z",
     "start_time": "2023-11-04T14:47:13.812887Z"
    }
   },
   "outputs": [
    {
     "data": {
      "text/plain": [
       "array([[ 0.04963786,  0.61138278,  0.99438541],\n",
       "       [ 0.07806056,  0.24722332,  1.55167965],\n",
       "       [ 0.08325222,  1.32663235, -0.30680174]])"
      ]
     },
     "execution_count": 16,
     "metadata": {},
     "output_type": "execute_result"
    }
   ],
   "source": [
    "np.random.normal(0 ,1, (3,3)) # normal() normal dagılım ortalaması 0'a, standart sapması 1'e yakın dagılım demek. \n",
    "                             #  mean:0 ,std:1,  "
   ]
  },
  {
   "cell_type": "code",
   "execution_count": 17,
   "id": "2b03a819",
   "metadata": {
    "ExecuteTime": {
     "end_time": "2023-11-04T14:47:39.468182Z",
     "start_time": "2023-11-04T14:47:39.457567Z"
    }
   },
   "outputs": [
    {
     "data": {
      "text/plain": [
       "array([[ 1.27087149, 11.69825165,  3.64382431],\n",
       "       [ 1.90955675,  1.7846213 ,  5.1071113 ],\n",
       "       [ 1.94240163,  4.14898363,  3.78160808]])"
      ]
     },
     "execution_count": 17,
     "metadata": {},
     "output_type": "execute_result"
    }
   ],
   "source": [
    "np.random.normal(5 ,3, (3,3)) # mean=5  ,  std=3"
   ]
  },
  {
   "cell_type": "code",
   "execution_count": 40,
   "id": "bfdabb7c",
   "metadata": {
    "ExecuteTime": {
     "end_time": "2023-11-17T11:38:34.857655Z",
     "start_time": "2023-11-17T11:38:34.849321Z"
    }
   },
   "outputs": [
    {
     "name": "stdout",
     "output_type": "stream",
     "text": [
      "[6 3 7 4]\n",
      "================\n",
      "[[6 9 2 6 7]\n",
      " [4 3 7 7 2]\n",
      " [5 4 1 7 5]]\n",
      "================\n",
      "[[[1 4 0]\n",
      "  [9 5 8]\n",
      "  [0 9 2]\n",
      "  [6 3 8]\n",
      "  [2 4 2]]\n",
      "\n",
      " [[6 4 8]\n",
      "  [6 1 3]\n",
      "  [8 1 9]\n",
      "  [8 9 4]\n",
      "  [1 3 6]]\n",
      "\n",
      " [[7 2 0]\n",
      "  [3 1 7]\n",
      "  [3 1 5]\n",
      "  [5 9 3]\n",
      "  [5 1 9]]]\n"
     ]
    }
   ],
   "source": [
    "np.random.seed(42)\n",
    "\n",
    "x1 = np.random.randint(10, size=4)\n",
    "x2 = np.random.randint(10, size=(3,5))\n",
    "x3 = np.random.randint(10, size=(3,5,3))\n",
    "\n",
    "print(x1)\n",
    "print(\"================\")\n",
    "print(x2)\n",
    "print(\"================\")\n",
    "print(x3)"
   ]
  },
  {
   "cell_type": "code",
   "execution_count": 21,
   "id": "825fce62",
   "metadata": {
    "ExecuteTime": {
     "end_time": "2023-11-04T14:56:05.464058Z",
     "start_time": "2023-11-04T14:56:05.442966Z"
    }
   },
   "outputs": [
    {
     "name": "stdout",
     "output_type": "stream",
     "text": [
      "x1 ndim:  1\n",
      "x1 shape:  (4,)\n",
      "x1 size:  4\n"
     ]
    }
   ],
   "source": [
    "np.random.seed(42)\n",
    "\n",
    "x1 = np.random.randint(10, size=4) # size na bir eleman yazınca tek boyutlu\n",
    "x2 = np.random.randint(10, size=(3,5))\n",
    "x3 = np.random.randint(10, size=(3,5,3))\n",
    "\n",
    "print(\"x1 ndim: \", x1.ndim)\n",
    "print(\"x1 shape: \", x1.shape)      #=> TEK BOYUTLU. \n",
    "print(\"x1 size: \", x1.size)"
   ]
  },
  {
   "cell_type": "code",
   "execution_count": 24,
   "id": "a153a590",
   "metadata": {
    "ExecuteTime": {
     "end_time": "2023-11-04T14:58:12.240796Z",
     "start_time": "2023-11-04T14:58:12.234022Z"
    }
   },
   "outputs": [
    {
     "name": "stdout",
     "output_type": "stream",
     "text": [
      "x2 ndim:  2\n",
      "x2 shape:  (3, 5)\n",
      "x2 size:  15\n"
     ]
    }
   ],
   "source": [
    "print(\"x2 ndim: \", x2.ndim)\n",
    "print(\"x2 shape: \", x2.shape)       #=> IKI BOYUTLU.\n",
    "print(\"x2 size: \", x2.size)"
   ]
  },
  {
   "cell_type": "code",
   "execution_count": 23,
   "id": "f04886c9",
   "metadata": {
    "ExecuteTime": {
     "end_time": "2023-11-04T14:57:55.648421Z",
     "start_time": "2023-11-04T14:57:55.639495Z"
    }
   },
   "outputs": [
    {
     "name": "stdout",
     "output_type": "stream",
     "text": [
      "x3 ndim:  3\n",
      "x3 shape:  (3, 5, 3)\n",
      "x3 size:  45\n"
     ]
    }
   ],
   "source": [
    "print(\"x3 ndim: \", x3.ndim)\n",
    "print(\"x3 shape: \", x3.shape)       #=> ÜÇ BOYUTLU.\n",
    "print(\"x3 size: \", x3.size)"
   ]
  },
  {
   "cell_type": "code",
   "execution_count": 20,
   "id": "94eac6b0",
   "metadata": {
    "ExecuteTime": {
     "end_time": "2023-11-04T14:51:47.427919Z",
     "start_time": "2023-11-04T14:51:47.410023Z"
    }
   },
   "outputs": [
    {
     "data": {
      "text/plain": [
       "array([[[0, 5, 0],\n",
       "        [5, 5, 8],\n",
       "        [6, 7, 4],\n",
       "        [8, 0, 7],\n",
       "        [3, 7, 8]],\n",
       "\n",
       "       [[8, 9, 6],\n",
       "        [4, 5, 4],\n",
       "        [1, 2, 9],\n",
       "        [6, 9, 9],\n",
       "        [0, 1, 0]],\n",
       "\n",
       "       [[3, 1, 2],\n",
       "        [1, 6, 8],\n",
       "        [3, 4, 4],\n",
       "        [7, 0, 2],\n",
       "        [1, 7, 8]]])"
      ]
     },
     "execution_count": 20,
     "metadata": {},
     "output_type": "execute_result"
    }
   ],
   "source": [
    "x3 = np.random.randint(10, size=(3,5,3))# 5 satır ,3 sutun\n",
    "x3"
   ]
  },
  {
   "cell_type": "markdown",
   "id": "e8410c97",
   "metadata": {},
   "source": [
    "# <font color='green'> <b>Indexing & Slicing</b><font color='black'>"
   ]
  },
  {
   "cell_type": "code",
   "execution_count": 26,
   "id": "06947f97",
   "metadata": {
    "ExecuteTime": {
     "end_time": "2023-11-04T15:01:31.484264Z",
     "start_time": "2023-11-04T15:01:31.460650Z"
    }
   },
   "outputs": [
    {
     "data": {
      "text/plain": [
       "array([ 0,  1,  2,  3,  4,  5,  6,  7,  8,  9, 10, 11])"
      ]
     },
     "execution_count": 26,
     "metadata": {},
     "output_type": "execute_result"
    }
   ],
   "source": [
    "a = np.arange(12)\n",
    "a"
   ]
  },
  {
   "cell_type": "code",
   "execution_count": 27,
   "id": "6663eb69",
   "metadata": {
    "ExecuteTime": {
     "end_time": "2023-11-04T15:01:57.032100Z",
     "start_time": "2023-11-04T15:01:57.019512Z"
    }
   },
   "outputs": [
    {
     "data": {
      "text/plain": [
       "array([ 0,  2,  4,  6,  8, 10])"
      ]
     },
     "execution_count": 27,
     "metadata": {},
     "output_type": "execute_result"
    }
   ],
   "source": [
    "a[0:12:2] # a[0::2] = a[::2] => hepsi aynı sonucu verir"
   ]
  },
  {
   "cell_type": "code",
   "execution_count": 28,
   "id": "1c677299",
   "metadata": {
    "ExecuteTime": {
     "end_time": "2023-11-04T15:04:40.396722Z",
     "start_time": "2023-11-04T15:04:40.369841Z"
    }
   },
   "outputs": [
    {
     "data": {
      "text/plain": [
       "array([ 5,  6,  7,  8,  9, 10])"
      ]
     },
     "execution_count": 28,
     "metadata": {},
     "output_type": "execute_result"
    }
   ],
   "source": [
    "a[5:11]"
   ]
  },
  {
   "cell_type": "code",
   "execution_count": 30,
   "id": "8e322137",
   "metadata": {
    "ExecuteTime": {
     "end_time": "2023-11-04T15:05:06.032850Z",
     "start_time": "2023-11-04T15:05:06.020265Z"
    }
   },
   "outputs": [
    {
     "data": {
      "text/plain": [
       "array([ 0,  1,  2,  3,  4, -1, -1, -1, -1, -1, -1, 11])"
      ]
     },
     "execution_count": 30,
     "metadata": {},
     "output_type": "execute_result"
    }
   ],
   "source": [
    "a[5:11] = -1 # 5 den 11 e kadar -1 yap dedik\n",
    "a"
   ]
  },
  {
   "cell_type": "code",
   "execution_count": 31,
   "id": "f811c548",
   "metadata": {
    "ExecuteTime": {
     "end_time": "2023-11-04T15:06:10.967972Z",
     "start_time": "2023-11-04T15:06:10.950622Z"
    }
   },
   "outputs": [
    {
     "data": {
      "text/plain": [
       "array([ 4, -1, -1])"
      ]
     },
     "execution_count": 31,
     "metadata": {},
     "output_type": "execute_result"
    }
   ],
   "source": [
    "a[[4, 5, 7]] # 4,5 v4 7. index dekileri getir dedik"
   ]
  },
  {
   "cell_type": "code",
   "execution_count": 33,
   "id": "0db0f987",
   "metadata": {
    "ExecuteTime": {
     "end_time": "2023-11-04T15:07:16.193453Z",
     "start_time": "2023-11-04T15:07:16.184666Z"
    }
   },
   "outputs": [
    {
     "data": {
      "text/plain": [
       "array([[ 0,  1,  2],\n",
       "       [ 3,  4,  5],\n",
       "       [ 6,  7,  8],\n",
       "       [ 9, 10, 11]])"
      ]
     },
     "execution_count": 33,
     "metadata": {},
     "output_type": "execute_result"
    }
   ],
   "source": [
    "b = np.arange(12).reshape(4,3) # np.arange(12) ile tek boyutlu array i ,reshape(4,3) ile cift boyutluya cevirdik\n",
    "b"
   ]
  },
  {
   "cell_type": "code",
   "execution_count": 34,
   "id": "a219ca0c",
   "metadata": {
    "ExecuteTime": {
     "end_time": "2023-11-04T15:08:26.051212Z",
     "start_time": "2023-11-04T15:08:26.032824Z"
    }
   },
   "outputs": [
    {
     "data": {
      "text/plain": [
       "array([3, 4, 5])"
      ]
     },
     "execution_count": 34,
     "metadata": {},
     "output_type": "execute_result"
    }
   ],
   "source": [
    "b[1]"
   ]
  },
  {
   "cell_type": "code",
   "execution_count": 35,
   "id": "e614f1a6",
   "metadata": {
    "ExecuteTime": {
     "end_time": "2023-11-04T15:09:29.060573Z",
     "start_time": "2023-11-04T15:09:29.050927Z"
    }
   },
   "outputs": [
    {
     "data": {
      "text/plain": [
       "1"
      ]
     },
     "execution_count": 35,
     "metadata": {},
     "output_type": "execute_result"
    }
   ],
   "source": [
    "b[0,1]  # ilk satırdaki \"1\" getirin. b[0][1] buda aynısın verr"
   ]
  },
  {
   "cell_type": "code",
   "execution_count": 36,
   "id": "fd7d668a",
   "metadata": {
    "ExecuteTime": {
     "end_time": "2023-11-04T15:10:13.181683Z",
     "start_time": "2023-11-04T15:10:13.162814Z"
    }
   },
   "outputs": [
    {
     "data": {
      "text/plain": [
       "array([[0, 1, 2],\n",
       "       [3, 4, 5]])"
      ]
     },
     "execution_count": 36,
     "metadata": {},
     "output_type": "execute_result"
    }
   ],
   "source": [
    "b[:2]"
   ]
  },
  {
   "cell_type": "code",
   "execution_count": 37,
   "id": "3b69ad19",
   "metadata": {
    "ExecuteTime": {
     "end_time": "2023-11-04T15:12:11.720315Z",
     "start_time": "2023-11-04T15:12:11.700519Z"
    }
   },
   "outputs": [
    {
     "data": {
      "text/plain": [
       "array([ 2,  5,  8, 11])"
      ]
     },
     "execution_count": 37,
     "metadata": {},
     "output_type": "execute_result"
    }
   ],
   "source": [
    "b[:, 2] # bütün satırları al ama 2.indexteki sutunu getir"
   ]
  },
  {
   "cell_type": "code",
   "execution_count": 38,
   "id": "4dbb1886",
   "metadata": {
    "ExecuteTime": {
     "end_time": "2023-11-04T15:12:17.635522Z",
     "start_time": "2023-11-04T15:12:17.618514Z"
    }
   },
   "outputs": [
    {
     "data": {
      "text/plain": [
       "array([[ 0,  1,  2],\n",
       "       [ 3,  4,  5],\n",
       "       [ 6,  7,  8],\n",
       "       [ 9, 10, 11]])"
      ]
     },
     "execution_count": 38,
     "metadata": {},
     "output_type": "execute_result"
    }
   ],
   "source": [
    "b"
   ]
  },
  {
   "cell_type": "code",
   "execution_count": 39,
   "id": "66ad1240",
   "metadata": {
    "ExecuteTime": {
     "end_time": "2023-11-04T15:13:07.159912Z",
     "start_time": "2023-11-04T15:13:07.145867Z"
    }
   },
   "outputs": [
    {
     "data": {
      "text/plain": [
       "array([[0, 1],\n",
       "       [3, 4]])"
      ]
     },
     "execution_count": 39,
     "metadata": {},
     "output_type": "execute_result"
    }
   ],
   "source": [
    "b[:2, :2] #:2,=> satırları verir. 0 dan basla 2. satıra kadar olan satırları al ilk 2 satırı al, \n",
    "          # :2]  => sutunları verr. 0 dan basla 2. sutuna kadar olan sutunlaıları al ilk 2 sutunları al, "
   ]
  },
  {
   "cell_type": "code",
   "execution_count": 40,
   "id": "7ba0ec34",
   "metadata": {
    "ExecuteTime": {
     "end_time": "2023-11-04T15:28:00.555636Z",
     "start_time": "2023-11-04T15:28:00.548339Z"
    }
   },
   "outputs": [],
   "source": [
    "x1 = np.array([1,25,7])"
   ]
  },
  {
   "cell_type": "code",
   "execution_count": 41,
   "id": "6dfc09ac",
   "metadata": {
    "ExecuteTime": {
     "end_time": "2023-11-04T15:28:33.686786Z",
     "start_time": "2023-11-04T15:28:33.667871Z"
    }
   },
   "outputs": [
    {
     "data": {
      "text/plain": [
       "array([False, False, False, False, False, False, False, False, False,\n",
       "       False, False,  True])"
      ]
     },
     "execution_count": 41,
     "metadata": {},
     "output_type": "execute_result"
    }
   ],
   "source": [
    "a > 5 # burdaki kosulu saglarsa ture saglamas ise False döndürür"
   ]
  },
  {
   "cell_type": "code",
   "execution_count": 42,
   "id": "a5975c56",
   "metadata": {
    "ExecuteTime": {
     "end_time": "2023-11-04T15:29:49.522673Z",
     "start_time": "2023-11-04T15:29:49.506030Z"
    }
   },
   "outputs": [
    {
     "data": {
      "text/plain": [
       "array([11])"
      ]
     },
     "execution_count": 42,
     "metadata": {},
     "output_type": "execute_result"
    }
   ],
   "source": [
    "a[a > 5] # burda kosulu saglayan degeri getirdik"
   ]
  },
  {
   "cell_type": "code",
   "execution_count": 43,
   "id": "98a2c568",
   "metadata": {
    "ExecuteTime": {
     "end_time": "2023-11-04T15:33:00.161881Z",
     "start_time": "2023-11-04T15:33:00.149232Z"
    }
   },
   "outputs": [],
   "source": [
    "names = np.array([\"Ahmet\", \"Fatma\", \"Ayse\", \"Fatma\", \"Ahmet\"])\n",
    "results = np.array([17,14,20,18,13])"
   ]
  },
  {
   "cell_type": "code",
   "execution_count": 48,
   "id": "ba537dab",
   "metadata": {
    "ExecuteTime": {
     "end_time": "2023-11-04T15:37:31.909602Z",
     "start_time": "2023-11-04T15:37:31.890832Z"
    }
   },
   "outputs": [
    {
     "data": {
      "text/plain": [
       "array([17, 13])"
      ]
     },
     "execution_count": 48,
     "metadata": {},
     "output_type": "execute_result"
    }
   ],
   "source": [
    "results[names == \"Ahmet\"] # Ahmet e ait olanların notlarını getirin"
   ]
  },
  {
   "cell_type": "code",
   "execution_count": 55,
   "id": "0b669c83",
   "metadata": {
    "ExecuteTime": {
     "end_time": "2023-11-04T15:42:49.945560Z",
     "start_time": "2023-11-04T15:42:49.915266Z"
    }
   },
   "outputs": [
    {
     "data": {
      "text/plain": [
       "array([17, 20, 13])"
      ]
     },
     "execution_count": 55,
     "metadata": {},
     "output_type": "execute_result"
    }
   ],
   "source": [
    "results[(names == \"Ahmet\") | (names == \"Ayse\")]"
   ]
  },
  {
   "cell_type": "code",
   "execution_count": 57,
   "id": "ba8a1b48",
   "metadata": {
    "ExecuteTime": {
     "end_time": "2023-11-04T15:44:31.436887Z",
     "start_time": "2023-11-04T15:44:31.421537Z"
    }
   },
   "outputs": [
    {
     "data": {
      "text/plain": [
       "array([37, 14, 20, 18, 33])"
      ]
     },
     "execution_count": 57,
     "metadata": {},
     "output_type": "execute_result"
    }
   ],
   "source": [
    " # Ahmetin notlarını degistirmek istiyorum, 10 puan artırmak istiyorum.\n",
    "results[(names == \"Ahmet\")] = results[(names == \"Ahmet\")]+ 10   # her calıstırdıgımızda ekleme yapar\n",
    "results"
   ]
  },
  {
   "cell_type": "markdown",
   "id": "e4776b95",
   "metadata": {},
   "source": [
    "# <font color='green'> <b>Array Concatenation</b><font color='black'>\n",
    "\n",
    "\n",
    "\n",
    "\n",
    "\n"
   ]
  },
  {
   "cell_type": "code",
   "execution_count": 41,
   "id": "d0c930c8",
   "metadata": {
    "ExecuteTime": {
     "end_time": "2023-11-17T14:21:17.943858Z",
     "start_time": "2023-11-17T14:21:17.924305Z"
    }
   },
   "outputs": [],
   "source": [
    "x = np.array([1,2,3])\n",
    "y = np.array([3,2,1])\n",
    "z = [21,21,21]"
   ]
  },
  {
   "cell_type": "code",
   "execution_count": 42,
   "id": "be6ca421",
   "metadata": {
    "ExecuteTime": {
     "end_time": "2023-11-17T14:21:20.055485Z",
     "start_time": "2023-11-17T14:21:20.029801Z"
    }
   },
   "outputs": [
    {
     "data": {
      "text/plain": [
       "array([ 1,  2,  3,  3,  2,  1, 21, 21, 21])"
      ]
     },
     "execution_count": 42,
     "metadata": {},
     "output_type": "execute_result"
    }
   ],
   "source": [
    "np.concatenate((x, y, z)) #np.concatenate([x, y, z]) olarak da verilebilir"
   ]
  },
  {
   "cell_type": "code",
   "execution_count": 62,
   "id": "1a037e89",
   "metadata": {
    "ExecuteTime": {
     "end_time": "2023-11-04T15:59:07.933658Z",
     "start_time": "2023-11-04T15:59:07.922758Z"
    }
   },
   "outputs": [
    {
     "data": {
      "text/plain": [
       "array([[1, 2, 3],\n",
       "       [4, 5, 6]])"
      ]
     },
     "execution_count": 62,
     "metadata": {},
     "output_type": "execute_result"
    }
   ],
   "source": [
    "arr2 = np.array([[1,2,3],[4,5,6]])\n",
    "arr2"
   ]
  },
  {
   "cell_type": "code",
   "execution_count": 63,
   "id": "2ae83295",
   "metadata": {
    "ExecuteTime": {
     "end_time": "2023-11-04T15:59:19.157207Z",
     "start_time": "2023-11-04T15:59:19.137054Z"
    }
   },
   "outputs": [
    {
     "data": {
      "text/plain": [
       "array([[1, 2, 3],\n",
       "       [4, 5, 6],\n",
       "       [1, 2, 3],\n",
       "       [4, 5, 6]])"
      ]
     },
     "execution_count": 63,
     "metadata": {},
     "output_type": "execute_result"
    }
   ],
   "source": [
    "np.concatenate([arr2,arr2])  # axis=0 satır sayısını cogaltacak sekilde alt alta birlestirme yapar"
   ]
  },
  {
   "cell_type": "code",
   "execution_count": 64,
   "id": "7af701c1",
   "metadata": {
    "ExecuteTime": {
     "end_time": "2023-11-04T15:59:22.439259Z",
     "start_time": "2023-11-04T15:59:22.428900Z"
    }
   },
   "outputs": [
    {
     "data": {
      "text/plain": [
       "array([[1, 2, 3, 1, 2, 3],\n",
       "       [4, 5, 6, 4, 5, 6]])"
      ]
     },
     "execution_count": 64,
     "metadata": {},
     "output_type": "execute_result"
    }
   ],
   "source": [
    "np.concatenate([arr2,arr2], axis=1)  # axis=1 sütün sayısını cogaltacak sekilde yan yana birlestirme yapar"
   ]
  },
  {
   "cell_type": "code",
   "execution_count": null,
   "id": "c727209f",
   "metadata": {},
   "outputs": [],
   "source": []
  },
  {
   "cell_type": "code",
   "execution_count": null,
   "id": "bf88c349",
   "metadata": {},
   "outputs": [],
   "source": []
  }
 ],
 "metadata": {
  "hide_input": false,
  "kernelspec": {
   "display_name": "Python 3 (ipykernel)",
   "language": "python",
   "name": "python3"
  },
  "language_info": {
   "codemirror_mode": {
    "name": "ipython",
    "version": 3
   },
   "file_extension": ".py",
   "mimetype": "text/x-python",
   "name": "python",
   "nbconvert_exporter": "python",
   "pygments_lexer": "ipython3",
   "version": "3.11.4"
  },
  "toc": {
   "base_numbering": 1,
   "nav_menu": {},
   "number_sections": true,
   "sideBar": true,
   "skip_h1_title": false,
   "title_cell": "Table of Contents",
   "title_sidebar": "Contents",
   "toc_cell": false,
   "toc_position": {},
   "toc_section_display": true,
   "toc_window_display": false
  }
 },
 "nbformat": 4,
 "nbformat_minor": 5
}

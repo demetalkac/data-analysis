{
 "cells": [
  {
   "cell_type": "markdown",
   "metadata": {},
   "source": [
    "1. Kullanıcıdan iki sayı girmesini isteyen bir program yazın ve bu sayıları bölen bir kod ekleyin. Ancak sıfıra bölme hatasını ele alın."
   ]
  },
  {
   "cell_type": "markdown",
   "metadata": {},
   "source": []
  },
  {
   "cell_type": "markdown",
   "metadata": {},
   "source": [
    "2. Kullanıcıdan bir tam sayı girmesini isteyen bir program yazın ve girilen değeri bir tamsayıya dönüştürmeye çalışın. Ancak kullanıcının geçerli bir tam sayı girmemesi durumunda bir hata mesajı verin.\n"
   ]
  },
  {
   "cell_type": "code",
   "execution_count": null,
   "metadata": {},
   "outputs": [],
   "source": []
  },
  {
   "cell_type": "markdown",
   "metadata": {},
   "source": [
    "3. Bir liste içinde belirli bir endekse sahip bir öğeyi yazdırmak istiyorsunuz. Ancak belirtilen endeks liste boyutunu aşabilir. Bu durumu ele alın.\n"
   ]
  },
  {
   "cell_type": "code",
   "execution_count": null,
   "metadata": {},
   "outputs": [],
   "source": []
  },
  {
   "cell_type": "markdown",
   "metadata": {},
   "source": [
    "4. Kullanıcıdan bir sayı girmesini isteyin ve bu sayıyı bir ondalık sayıya dönüştürmeye çalışın. Ancak kullanıcının sayı yerine metin girmesi durumunda bir hata mesajı verin."
   ]
  },
  {
   "cell_type": "code",
   "execution_count": null,
   "metadata": {},
   "outputs": [],
   "source": []
  },
  {
   "cell_type": "markdown",
   "metadata": {},
   "source": [
    "5. Kullanıcıdan iki sayı girmesini isteyen bir program yazın ve bu sayıları toplamaya çalışın. Ancak kullanıcının sayı yerine başka bir veri türü girmesi durumunda bir hata mesajı verin."
   ]
  },
  {
   "cell_type": "code",
   "execution_count": null,
   "metadata": {},
   "outputs": [],
   "source": []
  },
  {
   "cell_type": "markdown",
   "metadata": {},
   "source": [
    "6. Kullanıcıdan bir sayı girmesini isteyen bir program yazın ve bu sayıyı kullanarak 10'a bölmeye çalışın. Ancak kullanıcının sıfır girmesi durumunda bir hata mesajı verin."
   ]
  },
  {
   "cell_type": "code",
   "execution_count": null,
   "metadata": {},
   "outputs": [],
   "source": []
  },
  {
   "cell_type": "markdown",
   "metadata": {},
   "source": [
    "7. Kullanıcıdan bir dil kodu girmesini isteyen bir program yazın ve bu kodu bir dil adına çevirmeye çalışın. Ancak belirli bir dil kodu sözlüğünde olmayan bir kod girilirse bir hata mesajı verin.\n",
    "\n"
   ]
  },
  {
   "cell_type": "code",
   "execution_count": null,
   "metadata": {},
   "outputs": [],
   "source": []
  },
  {
   "cell_type": "markdown",
   "metadata": {},
   "source": [
    "8. Kullanıcıdan bir dosya adı girmesini isteyen bir program yazın ve bu dosyayı açmaya çalışın. Ancak dosya bulunamazsa veya açılamazsa bir hata mesajı verin.\n",
    "\n"
   ]
  },
  {
   "cell_type": "code",
   "execution_count": null,
   "metadata": {},
   "outputs": [],
   "source": []
  },
  {
   "cell_type": "markdown",
   "metadata": {},
   "source": [
    "9. Kullanıcıdan bir pozitif sayı girmesini isteyen bir program yazın ve bu sayının pozitif olup olmadığını kontrol edin. Ancak kullanıcının pozitif olmayan bir sayı girmesi durumunda bir hata mesajı verin.\n",
    "\n"
   ]
  },
  {
   "cell_type": "code",
   "execution_count": null,
   "metadata": {},
   "outputs": [],
   "source": []
  },
  {
   "cell_type": "markdown",
   "metadata": {},
   "source": [
    "10. Kullanıcıdan bir tamsayı girmesini isteyen bir program yazın ve bu tamsayıyı bir ondalık sayıya dönüştürmeye çalışın. Ancak tamsayı girmeyen kullanıcılara uygun bir hata mesajı verin."
   ]
  },
  {
   "cell_type": "code",
   "execution_count": null,
   "metadata": {},
   "outputs": [],
   "source": []
  }
 ],
 "metadata": {
  "language_info": {
   "name": "python"
  }
 },
 "nbformat": 4,
 "nbformat_minor": 2
}

{
 "cells": [
  {
   "cell_type": "markdown",
   "metadata": {},
   "source": [
    "1. metin = \"Python, JavaScript ve ReactJS öğreniyorum.\"\n",
    "\n",
    "Yukarıdaki metinde \"Python\" kelimesinin geçip geçmediğini kontrol etmek için bir Python programı yazın."
   ]
  },
  {
   "cell_type": "code",
   "execution_count": null,
   "metadata": {},
   "outputs": [],
   "source": []
  },
  {
   "cell_type": "markdown",
   "metadata": {},
   "source": [
    "2. metin = \"Bugün 12, yarın 34 ve sonra 56 olacak.\"\n",
    "Yukarıdaki metinde bulunan sayıları ayırmak ve liste olarak döndürmek için bir Python programı yazın."
   ]
  },
  {
   "cell_type": "code",
   "execution_count": null,
   "metadata": {},
   "outputs": [],
   "source": []
  },
  {
   "cell_type": "markdown",
   "metadata": {},
   "source": [
    "3.  Kullanıcının girdiği e-posta adresinin geçerli bir adres olup olmadığını kontrol eden bir Python programı yazın."
   ]
  },
  {
   "cell_type": "code",
   "execution_count": null,
   "metadata": {},
   "outputs": [],
   "source": []
  },
  {
   "cell_type": "markdown",
   "metadata": {},
   "source": [
    "4. metin = \"Bugünün tarihi 23.10.2023 ve yarının tarihi 24.10.2023.\"\n",
    "Yukarıdaki metinde bulunan tarihleri ayıklayan bir Python programı yazın.\n",
    "\n",
    "*\n"
   ]
  },
  {
   "cell_type": "code",
   "execution_count": null,
   "metadata": {},
   "outputs": [],
   "source": []
  },
  {
   "cell_type": "markdown",
   "metadata": {},
   "source": [
    "5.  Bir metinde bulunan telefon numaralarını ayıklamak ve liste olarak döndürmek için bir Python programı yazın. Telefon numaraları \"xxx-xxx-xxxx\" (örneğin, 555-555-5555) formatında olabilir."
   ]
  },
  {
   "cell_type": "code",
   "execution_count": null,
   "metadata": {},
   "outputs": [],
   "source": []
  },
  {
   "cell_type": "markdown",
   "metadata": {},
   "source": [
    "6. Bir metinde bulunan URL'leri ayıklamak ve liste olarak döndürmek için bir Python programı yazın."
   ]
  },
  {
   "cell_type": "code",
   "execution_count": null,
   "metadata": {},
   "outputs": [],
   "source": []
  },
  {
   "cell_type": "markdown",
   "metadata": {},
   "source": [
    "7. Bir metinde bulunan isimleri ayıklamak ve liste olarak döndürmek için bir Python programı yazın. İsimler sadece büyük harfle başlayan kelimeler olarak kabul edilsin."
   ]
  },
  {
   "cell_type": "code",
   "execution_count": null,
   "metadata": {},
   "outputs": [],
   "source": []
  },
  {
   "cell_type": "markdown",
   "metadata": {},
   "source": [
    "8. Kullanıcıdan bir şifre girmesini isteyen bir program yazın ve bu şifrenin belirli güçlük kriterlerini karşılayıp karşılamadığını kontrol edin. Şifre en az bir büyük harf, bir küçük harf, bir rakam ve en az 8 karakter içermelidir."
   ]
  },
  {
   "cell_type": "code",
   "execution_count": null,
   "metadata": {},
   "outputs": [],
   "source": []
  },
  {
   "cell_type": "markdown",
   "metadata": {},
   "source": [
    "9. Bir metinde bulunan Türkçe karakterleri ayıklamak ve Türkçe karakterlerin yerine İngilizce karakterleri koymak için bir Python programı yazın. Örneğin, \"ç\" -> \"c\", \"ş\" -> \"s\", vb."
   ]
  },
  {
   "cell_type": "code",
   "execution_count": null,
   "metadata": {},
   "outputs": [],
   "source": []
  },
  {
   "cell_type": "markdown",
   "metadata": {},
   "source": [
    "10. Bir metinde bulunan web sitelerinin alan adlarını ayıklamak ve liste olarak döndürmek için bir Python programı yazın. Örneğin, \"https://www.google.com\" adresinden \"google.com\" kısmını ayıklayın."
   ]
  },
  {
   "cell_type": "code",
   "execution_count": null,
   "metadata": {},
   "outputs": [],
   "source": []
  }
 ],
 "metadata": {
  "language_info": {
   "name": "python"
  }
 },
 "nbformat": 4,
 "nbformat_minor": 2
}

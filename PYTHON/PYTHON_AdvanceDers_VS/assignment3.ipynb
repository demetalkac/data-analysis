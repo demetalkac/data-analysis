{
 "cells": [
  {
   "cell_type": "markdown",
   "metadata": {},
   "source": [
    "Bir mini veritabanı uygulaması oluşturmanızı istiyoruz. Bu uygulama, öğrenci bilgilerini saklayacak ve bu bilgilere erişim sağlayacak bir veritabanı dosyası oluşturmanızı gerektiriyor.\n",
    "\n",
    "1. Bir Python programı yazın ve bu programı çalıştırdığınızda bir metin dosyası oluşturmasını sağlayın. \n",
    "\n",
    "2.  Bu metin dosyası, öğrenci bilgilerini (ad, soyad, öğrenci numarası) saklamalıdır. \n",
    "\n",
    "3.  Kullanıcıya, yeni öğrenci bilgileri eklemek veya mevcut bilgilere erişmek için seçenekler sunun. \n",
    "\n",
    "4.  Yeni öğrenci bilgileri eklerken, kullanıcıdan ad, soyad ve öğrenci numarası girmesini isteyin ve bu bilgileri metin dosyasına ekleyin. \n",
    "\n",
    "5.  Mevcut bilgilere erişirken, kullanıcıdan bir öğrenci numarası girmesini isteyin ve bu öğrenci numarasına sahip öğrencinin bilgilerini ekranda gösterin. \n",
    "\n",
    "6.  Kullanıcı işlemi bitirince dosyayı kapatmayı unutmayın."
   ]
  },
  {
   "cell_type": "code",
   "execution_count": null,
   "metadata": {},
   "outputs": [],
   "source": []
  },
  {
   "cell_type": "code",
   "execution_count": null,
   "metadata": {},
   "outputs": [],
   "source": []
  }
 ],
 "metadata": {
  "language_info": {
   "name": "python"
  }
 },
 "nbformat": 4,
 "nbformat_minor": 2
}

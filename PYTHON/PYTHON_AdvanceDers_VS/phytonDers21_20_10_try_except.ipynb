{
 "cells": [
  {
   "cell_type": "markdown",
   "metadata": {},
   "source": [
    "# try & except"
   ]
  },
  {
   "cell_type": "markdown",
   "metadata": {},
   "source": [
    "-Hata yönetimi: bazı codelar calısırken bazı sorunlar olusabilir. kullanıcının herhangi bir problemle karsılasmaması icin try-except kullanılır\n",
    "-Hata cesitleri:1-Syntax Hatası\n",
    "            2- Mantık Hatası\n",
    "-Hata Türleri: Assertion Error. AttributeErroe, TypeError, ValueError, IndexError, KeyError, IndentationError, EOFError, SyntaxError, ImportError, NameError,  OSError, IOError....\n",
    "\n",
    "-try:\n",
    "  kodlar buraya yazılır\n",
    "except EOFError as e:\n",
    "  ir hata oldugunda bu kısmı calıstır.\n",
    "except Exception2:\n",
    "  hata iki oldugunda bu kodu calıstır."
   ]
  },
  {
   "cell_type": "code",
   "execution_count": 1,
   "metadata": {},
   "outputs": [
    {
     "data": {
      "text/plain": [
       "8"
      ]
     },
     "execution_count": 1,
     "metadata": {},
     "output_type": "execute_result"
    }
   ],
   "source": [
    "3 + 5 # normal matematik islem yapınca sorun yok"
   ]
  },
  {
   "cell_type": "code",
   "execution_count": 2,
   "metadata": {},
   "outputs": [
    {
     "ename": "TypeError",
     "evalue": "can only concatenate str (not \"int\") to str",
     "output_type": "error",
     "traceback": [
      "\u001b[1;31m---------------------------------------------------------------------------\u001b[0m",
      "\u001b[1;31mTypeError\u001b[0m                                 Traceback (most recent call last)",
      "\u001b[1;32mc:\\Users\\Techpro\\Desktop\\AdvancePython\\session_21_20_10_2023.ipynb Cell 2\u001b[0m line \u001b[0;36m1\n\u001b[1;32m----> <a href='vscode-notebook-cell:/c%3A/Users/Techpro/Desktop/AdvancePython/session_21_20_10_2023.ipynb#W1sZmlsZQ%3D%3D?line=0'>1</a>\u001b[0m \u001b[39m\"\u001b[39;49m\u001b[39m4\u001b[39;49m\u001b[39m\"\u001b[39;49m \u001b[39m+\u001b[39;49m \u001b[39m5\u001b[39;49m\n",
      "\u001b[1;31mTypeError\u001b[0m: can only concatenate str (not \"int\") to str"
     ]
    }
   ],
   "source": [
    "\"4\" + 5 # burda string ile normal sayı toplamaya calısınca hata verir."
   ]
  },
  {
   "cell_type": "code",
   "execution_count": 3,
   "metadata": {},
   "outputs": [
    {
     "data": {
      "text/plain": [
       "9"
      ]
     },
     "execution_count": 3,
     "metadata": {},
     "output_type": "execute_result"
    }
   ],
   "source": [
    "3 + 6"
   ]
  },
  {
   "cell_type": "code",
   "execution_count": 5,
   "metadata": {},
   "outputs": [
    {
     "ename": "ValueError",
     "evalue": "invalid literal for int() with base 10: 'yirmi'",
     "output_type": "error",
     "traceback": [
      "\u001b[1;31m---------------------------------------------------------------------------\u001b[0m",
      "\u001b[1;31mValueError\u001b[0m                                Traceback (most recent call last)",
      "\u001b[1;32mc:\\Users\\Techpro\\Desktop\\AdvancePython\\session_21_20_10_2023.ipynb Cell 4\u001b[0m line \u001b[0;36m1\n\u001b[1;32m----> <a href='vscode-notebook-cell:/c%3A/Users/Techpro/Desktop/AdvancePython/session_21_20_10_2023.ipynb#W3sZmlsZQ%3D%3D?line=0'>1</a>\u001b[0m x \u001b[39m=\u001b[39m \u001b[39mint\u001b[39;49m(\u001b[39minput\u001b[39;49m(\u001b[39m\"\u001b[39;49m\u001b[39mLütfen bir sayı giriniz... :\u001b[39;49m\u001b[39m\"\u001b[39;49m))\n\u001b[0;32m      <a href='vscode-notebook-cell:/c%3A/Users/Techpro/Desktop/AdvancePython/session_21_20_10_2023.ipynb#W3sZmlsZQ%3D%3D?line=1'>2</a>\u001b[0m \u001b[39mprint\u001b[39m(\u001b[39m\"\u001b[39m\u001b[39mGirdiğiniz sayı : \u001b[39m\u001b[39m\"\u001b[39m, x)\n",
      "\u001b[1;31mValueError\u001b[0m: invalid literal for int() with base 10: 'yirmi'"
     ]
    }
   ],
   "source": [
    "x = int(input(\"Lütfen bir sayı giriniz... :\"))  # sayıyı 20 girsem hata almam, ama yazıyla \"yirmi\" girsem sayıyı hata alırım. \n",
    "print(\"Girdiğiniz sayı : \", x)  # Kodlarımın hatasız calısacagını düsünüyorum ama kullanıcı kaynaklı hata alabilirim. Kullanıcı hatasını önlemek icin try-except kullaırız."
   ]
  },
  {
   "cell_type": "code",
   "execution_count": 4,
   "metadata": {},
   "outputs": [],
   "source": [
    "try:\n",
    "    x = int(input(\"Lütfen bir sayı giriniz... :\"))  # rakam dısı girince  uyarı verdirdik\n",
    "    if x > 0:\n",
    "        print(\"Girdiğiniz sayı : \", x)\n",
    "except:\n",
    "    print(\"Hatalı giriş yaptınız.\")"
   ]
  },
  {
   "cell_type": "code",
   "execution_count": 5,
   "metadata": {},
   "outputs": [
    {
     "name": "stdout",
     "output_type": "stream",
     "text": [
      "Hatayı gösterme bana. Sadece çalış\n"
     ]
    }
   ],
   "source": [
    "try:\n",
    "    \"4\" + 5\n",
    "except:\n",
    "    print(\"Hatayı gösterme bana. Sadece çalış\")"
   ]
  },
  {
   "cell_type": "code",
   "execution_count": 15,
   "metadata": {},
   "outputs": [
    {
     "name": "stdout",
     "output_type": "stream",
     "text": [
      "Hatayı gösterme bana. Sadece çalış\n",
      "9\n"
     ]
    }
   ],
   "source": [
    "try:\n",
    "    \"4\" + 5           # string veri ile normal sayıyı toplarsak hata verir.Ama except ile kodu calıstırınca bu hatayı almayı engelleriz.\n",
    "except:\n",
    "    print(\"Hatayı gösterme bana. Sadece çalış\") \n",
    "    print(4+5)        # except icine dogrusunu yazdık ama bu cok tercih edilen bir durum degil."
   ]
  },
  {
   "cell_type": "code",
   "execution_count": 16,
   "metadata": {},
   "outputs": [
    {
     "name": "stdout",
     "output_type": "stream",
     "text": [
      "Hatayı gösterme bana. Sadece çalış\n"
     ]
    },
    {
     "ename": "TypeError",
     "evalue": "can only concatenate str (not \"int\") to str",
     "output_type": "error",
     "traceback": [
      "\u001b[1;31m---------------------------------------------------------------------------\u001b[0m",
      "\u001b[1;31mTypeError\u001b[0m                                 Traceback (most recent call last)",
      "\u001b[1;32mc:\\Users\\Techpro\\Desktop\\AdvancePython\\session_21_20_10_2023.ipynb Cell 9\u001b[0m line \u001b[0;36m2\n\u001b[0;32m      <a href='vscode-notebook-cell:/c%3A/Users/Techpro/Desktop/AdvancePython/session_21_20_10_2023.ipynb#X11sZmlsZQ%3D%3D?line=0'>1</a>\u001b[0m \u001b[39mtry\u001b[39;00m:\n\u001b[1;32m----> <a href='vscode-notebook-cell:/c%3A/Users/Techpro/Desktop/AdvancePython/session_21_20_10_2023.ipynb#X11sZmlsZQ%3D%3D?line=1'>2</a>\u001b[0m     \u001b[39m\"\u001b[39;49m\u001b[39m4\u001b[39;49m\u001b[39m\"\u001b[39;49m \u001b[39m+\u001b[39;49m \u001b[39m5\u001b[39;49m\n\u001b[0;32m      <a href='vscode-notebook-cell:/c%3A/Users/Techpro/Desktop/AdvancePython/session_21_20_10_2023.ipynb#X11sZmlsZQ%3D%3D?line=2'>3</a>\u001b[0m \u001b[39mexcept\u001b[39;00m:\n",
      "\u001b[1;31mTypeError\u001b[0m: can only concatenate str (not \"int\") to str",
      "\nDuring handling of the above exception, another exception occurred:\n",
      "\u001b[1;31mTypeError\u001b[0m                                 Traceback (most recent call last)",
      "\u001b[1;32mc:\\Users\\Techpro\\Desktop\\AdvancePython\\session_21_20_10_2023.ipynb Cell 9\u001b[0m line \u001b[0;36m5\n\u001b[0;32m      <a href='vscode-notebook-cell:/c%3A/Users/Techpro/Desktop/AdvancePython/session_21_20_10_2023.ipynb#X11sZmlsZQ%3D%3D?line=2'>3</a>\u001b[0m \u001b[39mexcept\u001b[39;00m:\n\u001b[0;32m      <a href='vscode-notebook-cell:/c%3A/Users/Techpro/Desktop/AdvancePython/session_21_20_10_2023.ipynb#X11sZmlsZQ%3D%3D?line=3'>4</a>\u001b[0m     \u001b[39mprint\u001b[39m(\u001b[39m\"\u001b[39m\u001b[39mHatayı gösterme bana. Sadece çalış\u001b[39m\u001b[39m\"\u001b[39m)\n\u001b[1;32m----> <a href='vscode-notebook-cell:/c%3A/Users/Techpro/Desktop/AdvancePython/session_21_20_10_2023.ipynb#X11sZmlsZQ%3D%3D?line=4'>5</a>\u001b[0m     \u001b[39mprint\u001b[39m(\u001b[39m\"\u001b[39;49m\u001b[39m4\u001b[39;49m\u001b[39m\"\u001b[39;49m\u001b[39m+\u001b[39;49m\u001b[39m5\u001b[39;49m)\n",
      "\u001b[1;31mTypeError\u001b[0m: can only concatenate str (not \"int\") to str"
     ]
    }
   ],
   "source": [
    "try:                    # burda ise hem try icinde hemde except icinde hatalı kod yazdıgımız icin kodu calıstırınca gene hata alırız.\n",
    "    \"4\" + 5\n",
    "except:\n",
    "    print(\"Hatayı gösterme bana. Sadece çalış\")\n",
    "    print(\"4\"+5)"
   ]
  },
  {
   "cell_type": "code",
   "execution_count": 19,
   "metadata": {},
   "outputs": [
    {
     "name": "stdout",
     "output_type": "stream",
     "text": [
      "44444\n"
     ]
    }
   ],
   "source": [
    "# try icinde hatalı kod yoksa try block'ı calısır.\n",
    "try:\n",
    "    print(\"4\" * 5) # 4 ü 5 kez yan yana yaz demek hata yok\n",
    "except:\n",
    "    print(\"Hatayı gösterme bana. Sadece çalış\")\n"
   ]
  },
  {
   "cell_type": "code",
   "execution_count": 20,
   "metadata": {},
   "outputs": [
    {
     "name": "stdout",
     "output_type": "stream",
     "text": [
      "Hata TypeError olduğu için ben çalıştım\n"
     ]
    }
   ],
   "source": [
    "# farklı type kullandıgımız icin  TypeError hatası alırız. burda string ile int toplamaya calısıyor\n",
    "try:\n",
    "    print(\"4\" + 5)\n",
    "except TypeError:\n",
    "    print(\"Hata TypeError olduğu için ben çalıştım\")"
   ]
  },
  {
   "cell_type": "code",
   "execution_count": 21,
   "metadata": {},
   "outputs": [
    {
     "ename": "TypeError",
     "evalue": "can only concatenate str (not \"int\") to str",
     "output_type": "error",
     "traceback": [
      "\u001b[1;31m---------------------------------------------------------------------------\u001b[0m",
      "\u001b[1;31mTypeError\u001b[0m                                 Traceback (most recent call last)",
      "\u001b[1;32mc:\\Users\\Techpro\\Desktop\\AdvancePython\\session_21_20_10_2023.ipynb Cell 12\u001b[0m line \u001b[0;36m2\n\u001b[0;32m      <a href='vscode-notebook-cell:/c%3A/Users/Techpro/Desktop/AdvancePython/session_21_20_10_2023.ipynb#X14sZmlsZQ%3D%3D?line=0'>1</a>\u001b[0m \u001b[39mtry\u001b[39;00m:\n\u001b[1;32m----> <a href='vscode-notebook-cell:/c%3A/Users/Techpro/Desktop/AdvancePython/session_21_20_10_2023.ipynb#X14sZmlsZQ%3D%3D?line=1'>2</a>\u001b[0m     \u001b[39mprint\u001b[39m(\u001b[39m\"\u001b[39;49m\u001b[39m4\u001b[39;49m\u001b[39m\"\u001b[39;49m \u001b[39m+\u001b[39;49m \u001b[39m5\u001b[39;49m)\n\u001b[0;32m      <a href='vscode-notebook-cell:/c%3A/Users/Techpro/Desktop/AdvancePython/session_21_20_10_2023.ipynb#X14sZmlsZQ%3D%3D?line=2'>3</a>\u001b[0m \u001b[39mexcept\u001b[39;00m \u001b[39mNameError\u001b[39;00m:\n\u001b[0;32m      <a href='vscode-notebook-cell:/c%3A/Users/Techpro/Desktop/AdvancePython/session_21_20_10_2023.ipynb#X14sZmlsZQ%3D%3D?line=3'>4</a>\u001b[0m     \u001b[39mprint\u001b[39m(\u001b[39m\"\u001b[39m\u001b[39mHata NameError olduğu için ben çalıştım\u001b[39m\u001b[39m\"\u001b[39m)\n",
      "\u001b[1;31mTypeError\u001b[0m: can only concatenate str (not \"int\") to str"
     ]
    }
   ],
   "source": [
    "# try dogru  try calısır except calısmaz, try dogru degilse ise except calısır. Fakat burda try block calısmdı hatalı o nedenleexcept calısmalıydı.\n",
    "# fakat excepte biz olacak hataayı belirtmedigimiz icin gene hata verdi. bu nedenle birden fazla except kullanarak olabilecek hataları önleyebiliriz.\n",
    "try: \n",
    "    print(\"4\" + 5)\n",
    "except NameError:    # NameError hatasını except ile yazdık ama burda typeError hatasıda var o nedenle hata aldık\n",
    "    print(\"Hata NameError olduğu için ben çalıştım\")"
   ]
  },
  {
   "cell_type": "code",
   "execution_count": 22,
   "metadata": {},
   "outputs": [
    {
     "name": "stdout",
     "output_type": "stream",
     "text": [
      "Hata TypeError olduğu için ben çalıştım\n"
     ]
    }
   ],
   "source": [
    "try:       # birden fazla except ile olabilecek hataları kodumuza eklayince hata almadık \n",
    "    print(\"4\" + 5)\n",
    "except NameError:\n",
    "    print(\"Hata NameError olduğu için ben çalıştım\")\n",
    "except TypeError:\n",
    "    print(\"Hata TypeError olduğu için ben çalıştım\")"
   ]
  },
  {
   "cell_type": "code",
   "execution_count": 24,
   "metadata": {},
   "outputs": [
    {
     "ename": "ValueError",
     "evalue": "invalid literal for int() with base 10: 'k'",
     "output_type": "error",
     "traceback": [
      "\u001b[1;31m---------------------------------------------------------------------------\u001b[0m",
      "\u001b[1;31mValueError\u001b[0m                                Traceback (most recent call last)",
      "\u001b[1;32mc:\\Users\\Techpro\\Desktop\\AdvancePython\\session_21_20_10_2023.ipynb Cell 14\u001b[0m line \u001b[0;36m2\n\u001b[0;32m      <a href='vscode-notebook-cell:/c%3A/Users/Techpro/Desktop/AdvancePython/session_21_20_10_2023.ipynb#X16sZmlsZQ%3D%3D?line=0'>1</a>\u001b[0m x \u001b[39m=\u001b[39m \u001b[39mint\u001b[39m(\u001b[39minput\u001b[39m(\u001b[39m\"\u001b[39m\u001b[39mBir sayı giriniz\u001b[39m\u001b[39m\"\u001b[39m))\n\u001b[1;32m----> <a href='vscode-notebook-cell:/c%3A/Users/Techpro/Desktop/AdvancePython/session_21_20_10_2023.ipynb#X16sZmlsZQ%3D%3D?line=1'>2</a>\u001b[0m y \u001b[39m=\u001b[39m \u001b[39mint\u001b[39;49m(\u001b[39minput\u001b[39;49m(\u001b[39m\"\u001b[39;49m\u001b[39mBaşka bir sayı giriniz\u001b[39;49m\u001b[39m\"\u001b[39;49m))\n\u001b[0;32m      <a href='vscode-notebook-cell:/c%3A/Users/Techpro/Desktop/AdvancePython/session_21_20_10_2023.ipynb#X16sZmlsZQ%3D%3D?line=3'>4</a>\u001b[0m \u001b[39mtry\u001b[39;00m:\n\u001b[0;32m      <a href='vscode-notebook-cell:/c%3A/Users/Techpro/Desktop/AdvancePython/session_21_20_10_2023.ipynb#X16sZmlsZQ%3D%3D?line=4'>5</a>\u001b[0m     \u001b[39mprint\u001b[39m(x \u001b[39m/\u001b[39m y)\n",
      "\u001b[1;31mValueError\u001b[0m: invalid literal for int() with base 10: 'k'"
     ]
    }
   ],
   "source": [
    "# input ile aldıgımız degerler string olur o nedenle input ile alırken direk int'a cevirdik.Fakat kullanıcı rakam harici bir deger girince \n",
    "# try-except hic calısmadan error aldık, yani try'dan önce hata verdi. KOdu yazarken buna da dikkat etmeliyiz.\n",
    "x = int(input(\"Bir sayı giriniz\"))\n",
    "y = int(input(\"Başka bir sayı giriniz\"))\n",
    "\n",
    "try:\n",
    "    print(x / y)\n",
    "except:\n",
    "    print(\"Bu yazıyı görüyorsanız sayılarda hata var demektir.\")"
   ]
  },
  {
   "cell_type": "code",
   "execution_count": 27,
   "metadata": {},
   "outputs": [
    {
     "name": "stdout",
     "output_type": "stream",
     "text": [
      "Bu yazıyı görüyorsanız sayılarda hata var demektir.\n"
     ]
    }
   ],
   "source": [
    "# Yukardaki örnegi düzeltmek icin kullanıcıdan aldıgımız degerleri try-except blok'u icinde int'e dönüstüdük. \n",
    "# Kullanıcı rakam harici bir deger girince  except hatayı yakaladı ve kullanıcıya mesaj verdi\n",
    "x = input(\"Bir sayı giriniz\")\n",
    "y = input(\"Başka bir sayı giriniz\")\n",
    "\n",
    "try:\n",
    "    print(int(x) / int(y))\n",
    "except:\n",
    "    print(\"Bu yazıyı görüyorsanız sayılarda hata var demektir.\")"
   ]
  },
  {
   "cell_type": "code",
   "execution_count": 29,
   "metadata": {},
   "outputs": [
    {
     "name": "stdout",
     "output_type": "stream",
     "text": [
      "Lütfen sayıyı tamsayı formatında giriniz...\n"
     ]
    }
   ],
   "source": [
    "x = input(\"Bir sayı giriniz\")\n",
    "y = input(\"Başka bir sayı giriniz\")\n",
    "\n",
    "try:\n",
    "    print(int(x) / int(y))\n",
    "except ValueError:\n",
    "    print(\"Lütfen sayıyı tamsayı formatında giriniz...\")"
   ]
  },
  {
   "cell_type": "code",
   "execution_count": 30,
   "metadata": {},
   "outputs": [
    {
     "ename": "ZeroDivisionError",
     "evalue": "division by zero",
     "output_type": "error",
     "traceback": [
      "\u001b[1;31m---------------------------------------------------------------------------\u001b[0m",
      "\u001b[1;31mZeroDivisionError\u001b[0m                         Traceback (most recent call last)",
      "\u001b[1;32mc:\\Users\\Techpro\\Desktop\\AdvancePython\\session_21_20_10_2023.ipynb Cell 17\u001b[0m line \u001b[0;36m1\n\u001b[1;32m----> <a href='vscode-notebook-cell:/c%3A/Users/Techpro/Desktop/AdvancePython/session_21_20_10_2023.ipynb#X22sZmlsZQ%3D%3D?line=0'>1</a>\u001b[0m \u001b[39m8\u001b[39;49m \u001b[39m/\u001b[39;49m \u001b[39m0\u001b[39;49m\n",
      "\u001b[1;31mZeroDivisionError\u001b[0m: division by zero"
     ]
    }
   ],
   "source": [
    "# division by zero hatası bir sayı sıfıra bölünemez , bölmek istersek bu hatayı alırız.\n",
    "8 / 0"
   ]
  },
  {
   "cell_type": "code",
   "execution_count": 32,
   "metadata": {},
   "outputs": [
    {
     "name": "stdout",
     "output_type": "stream",
     "text": [
      "Lütfen sayıyı tamsayı formatında giriniz ve ikinci sayıyı sıfır girmeyiniz...\n"
     ]
    }
   ],
   "source": [
    "x = input(\"Bir sayı giriniz\")\n",
    "y = input(\"Başka bir sayı giriniz\")\n",
    "\n",
    "try:\n",
    "    print(int(x) / int(y))\n",
    "except (ValueError, ZeroDivisionError):  # burda bir except icinde \"except (ValueError, ZeroDivisionError)\" 2 hatayı verdik bunun yerine ayrıayrı vermek daha iyi\n",
    "    print(\"Lütfen sayıyı tamsayı formatında giriniz ve ikinci sayıyı sıfır girmeyiniz...\")"
   ]
  },
  {
   "cell_type": "code",
   "execution_count": 36,
   "metadata": {},
   "outputs": [
    {
     "name": "stdout",
     "output_type": "stream",
     "text": [
      "Lütfen sayıyı tamsayı formatında giriniz...\n"
     ]
    }
   ],
   "source": [
    "x = input(\"Bir sayı giriniz\")\n",
    "y = input(\"Başka bir sayı giriniz\")\n",
    "\n",
    "try:\n",
    "    print(int(x) / int(y))\n",
    "except ValueError:\n",
    "    print(\"Lütfen sayıyı tamsayı formatında giriniz...\") # yukarda bir except icine 2 hata yazmıstık., burda ise 2 ayrı except olusturup hataları ayrı tanımladık\n",
    "except ZeroDivisionError:\n",
    "    print(\"Sıfır ile bölmek mümkün değil.\")"
   ]
  },
  {
   "cell_type": "code",
   "execution_count": 37,
   "metadata": {},
   "outputs": [
    {
     "name": "stdout",
     "output_type": "stream",
     "text": [
      "Sıfır ile bölmek mümkün değil\n"
     ]
    }
   ],
   "source": [
    "x = input(\"Bir sayı giriniz\")\n",
    "y = input(\"Başka bir sayı giriniz\")\n",
    "try:\n",
    "    print(int(x) / int(y))\n",
    "except NameError:\n",
    "    print(\"Hata NAmeError olduğu için ben çalıştım\")\n",
    "except ZeroDivisionError: # try blogu ıcerısınde hatalı ise except kodu çalışıyor yoks try calısıyor\n",
    "    print(\"Sıfır ile bölmek mümkün değil\")"
   ]
  },
  {
   "cell_type": "code",
   "execution_count": null,
   "metadata": {},
   "outputs": [],
   "source": [
    "x = input(\"Bir sayı giriniz\")\n",
    "y = input(\"Başka bir sayı giriniz\")\n",
    "try:\n",
    "    print(int(x) / int(y))\n",
    "except NameError:\n",
    "    print(\"Hata NAmeError olduğu için ben çalıştım\")\n",
    "except ZeroDivisionError: # try blogu ıcerısınde hatalı ise except kodu çalışıyor yoks try calısıyor\n",
    "    print(\"Sıfır ile bölmek mümkün değil\")\n",
    "except:   # exceptler ile verdigim hatalar dısında bir hata var ise ve ne oldugunu bilmiyorsam extra bir except koyarak hatayı yakalttık.\n",
    "    print(\"Hatanın ne oldugunu ben de bilmiyorum\")"
   ]
  },
  {
   "cell_type": "code",
   "execution_count": 2,
   "metadata": {},
   "outputs": [
    {
     "name": "stdout",
     "output_type": "stream",
     "text": [
      "Hatanın ne oldugunu ben de bilmiyorum\n",
      "burdaki hata: invalid literal for int() with base 10: 'f'\n"
     ]
    }
   ],
   "source": [
    "x = input(\"Bir sayı giriniz\")\n",
    "y = input(\"Başka bir sayı giriniz\")\n",
    "try:\n",
    "    print(int(x) / int(y))\n",
    "except NameError:\n",
    "    print(\"Hata NAmeError olduğu için ben çalıştım\")\n",
    "except ZeroDivisionError: # try blogu ıcerısınde hatalı ise except kodu çalışıyor yoks try calısıyor\n",
    "    print(\"Sıfır ile bölmek mümkün değil\")\n",
    "except Exception as hata:           # Htanın ne oldugunu bilmiyoruz ama excepte isim vererek pythona hatayı yakalattırıyoruz. hataya kendimiz isim verebiliyoruz\n",
    "    print(\"Hatanın ne oldugunu ben de bilmiyorum\")\n",
    "    print(f\"burdaki hata: {hata}\")"
   ]
  },
  {
   "cell_type": "code",
   "execution_count": null,
   "metadata": {},
   "outputs": [],
   "source": [
    "# else ile bütün hata denetimlerinden sonra bir islem yaptırabiliyoruz, yani bütün hataları grcti try ve exceptleri gectikten sonra islem yaptırabliyoruz.\n",
    "# Bu hataları gecebilirsen sona yazdıgım islemi yap gibi.\n",
    "x = input(\"Bir sayı giriniz\")\n",
    "y = input(\"Başka bir sayı giriniz\")\n",
    "try:\n",
    "    print(int(x) / int(y))\n",
    "except NameError:\n",
    "    print(\"Hata NAmeError olduğu için ben çalıştım\")\n",
    "except ZeroDivisionError: # try blogu ıcerısınde hatalı ise except kodu çalışıyor yoks try calısıyor\n",
    "    print(\"Sıfır ile bölmek mümkün değil\")\n",
    "else:\n",
    "    print(a ** 2)  # else ile bütün hata denetimlerinden sonra bir islem yaptırabiliyoruz, "
   ]
  },
  {
   "cell_type": "markdown",
   "metadata": {},
   "source": [
    "SORU: Kullanıcıdan 2 sayı alın.\n",
    "sayıları birbirine bölün.\n",
    "bölünmüş halini listeye ekleyin.\n",
    "Liste de 3 eleman olana kadar işlemi yapın."
   ]
  },
  {
   "cell_type": "code",
   "execution_count": 10,
   "metadata": {},
   "outputs": [
    {
     "name": "stdout",
     "output_type": "stream",
     "text": [
      "Sonuçlar: [0.875, 1.25, 2.0]\n"
     ]
    }
   ],
   "source": [
    "\n",
    "\n",
    "sonuclar = [] \n",
    "for i in range(3):\n",
    "    sayi1 = float(input(\"Bölünecek ilk sayıyı girin: \"))\n",
    "    sayi2 = float(input(\"Bölünecek ikinci sayıyı girin: \"))\n",
    "    if sayi2 != 0:\n",
    "        sonuc = sayi1 / sayi2\n",
    "        sonuclar.append(sonuc)\n",
    "    else:\n",
    "        print(\"Hata: Sıfıra bölme hatası!\")\n",
    "\n",
    "print(\"Sonuçlar:\", sonuclar)\n",
    "             "
   ]
  },
  {
   "cell_type": "code",
   "execution_count": 7,
   "metadata": {},
   "outputs": [
    {
     "name": "stdout",
     "output_type": "stream",
     "text": [
      "Hatalı giriş yaptınız. Lütfen rakamlar giriniz.\n",
      "Sayı 0'a bölünemez.\n",
      "[1.3333333333333333, 1.1428571428571428, 0.8571428571428571]\n"
     ]
    }
   ],
   "source": [
    "# HOCANIN CÖZÜMÜ\n",
    "liste = []\n",
    "\n",
    "while True:\n",
    "\n",
    "    x = input(\"Bir sayı giriniz.\")\n",
    "    y = input(\"Başka bir sayı giriniz.\")\n",
    "\n",
    "    try:\n",
    "        a = int(x) / int(y)\n",
    "    except ValueError:\n",
    "        print(\"Hatalı giriş yaptınız. Lütfen rakamlar giriniz.\")\n",
    "    except ZeroDivisionError:\n",
    "        print(\"Sayı 0'a bölünemez.\")\n",
    "    else:\n",
    "        liste.append(a)\n",
    "\n",
    "    if len(liste) == 3:\n",
    "        break\n",
    "\n",
    "print(liste)\n",
    "\n",
    "# listeyi 3 elemana tanımladıgımız icin hatalar olunca tekrar numara girmemizi iister, 3 elemana tamamlana kadar."
   ]
  },
  {
   "cell_type": "code",
   "execution_count": 6,
   "metadata": {},
   "outputs": [
    {
     "name": "stdout",
     "output_type": "stream",
     "text": [
      "Girilen değer sayı olmadı.\n",
      "sayının karesi : 49\n"
     ]
    }
   ],
   "source": [
    "# SORU: Kullanıcıdan bir sayı alın ve karesini bulun.\n",
    "\n",
    "while True:                    #######3  \n",
    "    try:\n",
    "        sayi = int(input(\"Lütfen bir sayı giriniz \"))\n",
    "        sayının_karesi = sayi ** 2\n",
    "        break\n",
    "        \n",
    "    except ValueError:\n",
    "        print(\"Girilen değer sayı olmadı.\")\n",
    "print(\"sayının karesi :\", sayının_karesi)\n"
   ]
  },
  {
   "cell_type": "code",
   "execution_count": null,
   "metadata": {},
   "outputs": [],
   "source": [
    "# HOCANIN CÖZÜMÜ\n",
    "while True:\n",
    "    try:\n",
    "        x = int(input(\"Bir sayı giriniz\"))\n",
    "        break\n",
    "    except:\n",
    "        print(\"Hatalı giriş yaptınız. Tekrar bir sayı girin\")\n",
    "\n",
    "print(x ** 2)"
   ]
  },
  {
   "cell_type": "markdown",
   "metadata": {},
   "source": [
    "# finally"
   ]
  },
  {
   "cell_type": "markdown",
   "metadata": {},
   "source": [
    "-finally ,veritabanı baglantısını kesmek icin kullanılır"
   ]
  },
  {
   "cell_type": "code",
   "execution_count": 7,
   "metadata": {},
   "outputs": [
    {
     "name": "stdout",
     "output_type": "stream",
     "text": [
      "0.8571428571428571\n",
      "Bu herhalukarda calısacak amacı veritabanı baglantısını kesmek\n"
     ]
    }
   ],
   "source": [
    "try:   \n",
    "    a = int(input(\"Lütfen birinci sayıyı giriniz\"))\n",
    "    b = int(input(\"Lütfen ikinci sayıyı giriniz\"))\n",
    "    print(a/b)\n",
    "\n",
    "except ValueError:\n",
    "    print(\"Lütfen tamsayı degeri giriniz\")\n",
    "except ZeroDivisionError:\n",
    "    print(\"Lütfen tamsayı degeri giriniz\")\n",
    "\n",
    "finally:  # yukardaki kodlar icnde hata blockları calıssada calısmasada bu finally'ın alakası yok her kod calısmasında \"finally\" calısır.\n",
    "    print(\"Bu her durumda calısacak amacı veritabanı baglantısını kesmek\")"
   ]
  },
  {
   "cell_type": "code",
   "execution_count": 8,
   "metadata": {},
   "outputs": [
    {
     "name": "stdout",
     "output_type": "stream",
     "text": [
      "1.9599999999999997\n",
      "Beni kimse durduramaz. Ben hep çalışırım.\n"
     ]
    }
   ],
   "source": [
    "while True: \n",
    "    \n",
    "    x = input(\"Bir sayı girin\")\n",
    "    y = input(\"Başka bir sayı girin\")\n",
    "\n",
    "    try:\n",
    "        a = int(x) / int(y)\n",
    "    except ValueError:\n",
    "        print(\"Bu yazıyı görüyarsanız tamsayı formatında değer girmemişsiniz demektir.\")\n",
    "    except ZeroDivisionError:\n",
    "        print(\"Bu yazıyı görüyarsanız ikinci girdiğiniz değer sıfırdır.\")\n",
    "    else:\n",
    "        print(a ** 2)\n",
    "        break\n",
    "    finally:\n",
    "        print(\"Beni kimse durduramaz. Ben hep çalışırım.\")"
   ]
  },
  {
   "cell_type": "code",
   "execution_count": 9,
   "metadata": {},
   "outputs": [
    {
     "name": "stdout",
     "output_type": "stream",
     "text": [
      "Buradaki hata invalid literal for int() with base 10: 'aa15'\n",
      "Buradaki hata invalid literal for int() with base 10: 'asdeddcds48'\n",
      "[5, 15, 48]\n"
     ]
    }
   ],
   "source": [
    "#SORU: liste = [5, \"aa15\" , 15 , \"asdeddcds48\", 48 ] listenin içideki int elemanları döndüren try except li kodu yazın.\n",
    "\n",
    "liste = [5, \"aa15\" , 15 , \"asdeddcds48\", 48 ]\n",
    "\n",
    "new_list = []\n",
    "\n",
    "for i in liste:\n",
    "    try:\n",
    "        x = int(i)\n",
    "        \n",
    "    except Exception as hata:\n",
    "        print(f\"Buradaki hata {hata}\")\n",
    "        continue\n",
    "    else:\n",
    "        new_list.append(i)\n",
    "\n",
    "print(new_list)\n"
   ]
  },
  {
   "cell_type": "code",
   "execution_count": null,
   "metadata": {},
   "outputs": [],
   "source": [
    "# Bir faktöriyel fonksiyonu yazın, try except bloğu kullanarak. fonksiyonu çalıştırdığınızı gösterin"
   ]
  },
  {
   "cell_type": "code",
   "execution_count": 11,
   "metadata": {},
   "outputs": [],
   "source": [
    "# assert bir kosul veriyor => örn: assert x >= 0,\n",
    "# kosulda her hangi bir hata yoksa alttaki islemlerin yapılmasını saglıyor. \n",
    "# Eger hata varsa kullanıcıya bir bilgi veriyor => örn: \"Negatif sayıların faktöriyeli aranmaz.\"  \n",
    "# =>  assert x >= 0, \"Negatif sayıların faktöriyeli aranmaz.\" \n",
    "def faktoriyel(x):\n",
    "    try:\n",
    "        assert x >= 0, \"Negatif sayıların faktöriyeli aranmaz.\" \n",
    "        carpim = 1\n",
    "        for i in range(x, 0, -1):\n",
    "            carpim *= i\n",
    "        return carpim\n",
    "    except Exception as hata:\n",
    "        return hata"
   ]
  },
  {
   "cell_type": "code",
   "execution_count": 12,
   "metadata": {},
   "outputs": [
    {
     "data": {
      "text/plain": [
       "120"
      ]
     },
     "execution_count": 12,
     "metadata": {},
     "output_type": "execute_result"
    }
   ],
   "source": [
    "faktoriyel(5) # assert deki kosul calıstıgı icin kod da calıstı"
   ]
  },
  {
   "cell_type": "code",
   "execution_count": 13,
   "metadata": {},
   "outputs": [
    {
     "data": {
      "text/plain": [
       "AssertionError('Negatif sayıların faktöriyeli aranmaz.')"
      ]
     },
     "execution_count": 13,
     "metadata": {},
     "output_type": "execute_result"
    }
   ],
   "source": [
    "faktoriyel(-5) # assert deki kosul calısmadıgı icin aserrtün mesajı calıstı"
   ]
  },
  {
   "cell_type": "code",
   "execution_count": 14,
   "metadata": {},
   "outputs": [],
   "source": [
    "def faktoriyel(x):\n",
    "    assert x >= 0, \"Negatif sayıların faktöriyeli aranmaz.\"\n",
    "    carpim = 1\n",
    "    for i in range(x, 0, -1):\n",
    "        carpim *= i\n",
    "    return carpim"
   ]
  },
  {
   "cell_type": "code",
   "execution_count": 15,
   "metadata": {},
   "outputs": [
    {
     "ename": "AssertionError",
     "evalue": "Negatif sayıların faktöriyeli aranmaz.",
     "output_type": "error",
     "traceback": [
      "\u001b[0;31m---------------------------------------------------------------------------\u001b[0m",
      "\u001b[0;31mAssertionError\u001b[0m                            Traceback (most recent call last)",
      "\u001b[1;32m/Users/boravolkanalkac/Documents/Demet/DATA SCIENCE TECHPRO/PYTHON/PYTHON_AdvanceDers_VS/phytonDers21_20_10.ipynb Cell 40\u001b[0m line \u001b[0;36m1\n\u001b[0;32m----> <a href='vscode-notebook-cell:/Users/boravolkanalkac/Documents/Demet/DATA%20SCIENCE%20TECHPRO/PYTHON/PYTHON_AdvanceDers_VS/phytonDers21_20_10.ipynb#X63sZmlsZQ%3D%3D?line=0'>1</a>\u001b[0m faktoriyel(\u001b[39m-\u001b[39m\u001b[39m2\u001b[39m)\n",
      "\u001b[1;32m/Users/boravolkanalkac/Documents/Demet/DATA SCIENCE TECHPRO/PYTHON/PYTHON_AdvanceDers_VS/phytonDers21_20_10.ipynb Cell 40\u001b[0m line \u001b[0;36m2\n\u001b[1;32m      <a href='vscode-notebook-cell:/Users/boravolkanalkac/Documents/Demet/DATA%20SCIENCE%20TECHPRO/PYTHON/PYTHON_AdvanceDers_VS/phytonDers21_20_10.ipynb#X63sZmlsZQ%3D%3D?line=0'>1</a>\u001b[0m \u001b[39mdef\u001b[39;00m \u001b[39mfaktoriyel\u001b[39m(x):\n\u001b[0;32m----> <a href='vscode-notebook-cell:/Users/boravolkanalkac/Documents/Demet/DATA%20SCIENCE%20TECHPRO/PYTHON/PYTHON_AdvanceDers_VS/phytonDers21_20_10.ipynb#X63sZmlsZQ%3D%3D?line=1'>2</a>\u001b[0m     \u001b[39massert\u001b[39;00m x \u001b[39m>\u001b[39m\u001b[39m=\u001b[39m \u001b[39m0\u001b[39m, \u001b[39m\"\u001b[39m\u001b[39mNegatif sayıların faktöriyeli aranmaz.\u001b[39m\u001b[39m\"\u001b[39m\n\u001b[1;32m      <a href='vscode-notebook-cell:/Users/boravolkanalkac/Documents/Demet/DATA%20SCIENCE%20TECHPRO/PYTHON/PYTHON_AdvanceDers_VS/phytonDers21_20_10.ipynb#X63sZmlsZQ%3D%3D?line=2'>3</a>\u001b[0m     carpim \u001b[39m=\u001b[39m \u001b[39m1\u001b[39m\n\u001b[1;32m      <a href='vscode-notebook-cell:/Users/boravolkanalkac/Documents/Demet/DATA%20SCIENCE%20TECHPRO/PYTHON/PYTHON_AdvanceDers_VS/phytonDers21_20_10.ipynb#X63sZmlsZQ%3D%3D?line=3'>4</a>\u001b[0m     \u001b[39mfor\u001b[39;00m i \u001b[39min\u001b[39;00m \u001b[39mrange\u001b[39m(x, \u001b[39m0\u001b[39m, \u001b[39m-\u001b[39m\u001b[39m1\u001b[39m):\n",
      "\u001b[0;31mAssertionError\u001b[0m: Negatif sayıların faktöriyeli aranmaz."
     ]
    }
   ],
   "source": [
    "faktoriyel(-2) #assert'ün mesajını alırız eksi deger girdigimiz icin :  Negatif sayıların faktöriyeli aranmaz."
   ]
  },
  {
   "cell_type": "code",
   "execution_count": 16,
   "metadata": {},
   "outputs": [
    {
     "name": "stdout",
     "output_type": "stream",
     "text": [
      "girdiğiniz sayı: 6\n"
     ]
    }
   ],
   "source": [
    "sayi = int(input(\"Lütfen bir sayı giriniz:\"))\n",
    "print(\"girdiğiniz sayı:\", sayi)\n",
    "assert sayi > 0, \"Sayı pozitif olmalıdır\" # kosul dogru oldu icin kod calıstı"
   ]
  },
  {
   "cell_type": "code",
   "execution_count": 17,
   "metadata": {},
   "outputs": [
    {
     "ename": "AssertionError",
     "evalue": "kelime kelimesi metinde bulunamadı",
     "output_type": "error",
     "traceback": [
      "\u001b[0;31m---------------------------------------------------------------------------\u001b[0m",
      "\u001b[0;31mAssertionError\u001b[0m                            Traceback (most recent call last)",
      "\u001b[1;32m/Users/boravolkanalkac/Documents/Demet/DATA SCIENCE TECHPRO/PYTHON/PYTHON_AdvanceDers_VS/phytonDers21_20_10.ipynb Cell 42\u001b[0m line \u001b[0;36m4\n\u001b[1;32m      <a href='vscode-notebook-cell:/Users/boravolkanalkac/Documents/Demet/DATA%20SCIENCE%20TECHPRO/PYTHON/PYTHON_AdvanceDers_VS/phytonDers21_20_10.ipynb#X66sZmlsZQ%3D%3D?line=0'>1</a>\u001b[0m metin \u001b[39m=\u001b[39m \u001b[39m\"\u001b[39m\u001b[39mMerhaba, bu bir örnek metindir.\u001b[39m\u001b[39m\"\u001b[39m\n\u001b[1;32m      <a href='vscode-notebook-cell:/Users/boravolkanalkac/Documents/Demet/DATA%20SCIENCE%20TECHPRO/PYTHON/PYTHON_AdvanceDers_VS/phytonDers21_20_10.ipynb#X66sZmlsZQ%3D%3D?line=1'>2</a>\u001b[0m aranan_kelime \u001b[39m=\u001b[39m \u001b[39m\"\u001b[39m\u001b[39mkelime\u001b[39m\u001b[39m\"\u001b[39m\n\u001b[0;32m----> <a href='vscode-notebook-cell:/Users/boravolkanalkac/Documents/Demet/DATA%20SCIENCE%20TECHPRO/PYTHON/PYTHON_AdvanceDers_VS/phytonDers21_20_10.ipynb#X66sZmlsZQ%3D%3D?line=3'>4</a>\u001b[0m \u001b[39massert\u001b[39;00m aranan_kelime \u001b[39min\u001b[39;00m metin, \u001b[39mf\u001b[39m\u001b[39m\"\u001b[39m\u001b[39m{\u001b[39;00maranan_kelime\u001b[39m}\u001b[39;00m\u001b[39m kelimesi metinde bulunamadı\u001b[39m\u001b[39m\"\u001b[39m\n",
      "\u001b[0;31mAssertionError\u001b[0m: kelime kelimesi metinde bulunamadı"
     ]
    }
   ],
   "source": [
    "# Bir string var ve o stringin icinde bir yeri aratıyoruz , bunu da \"assert\" ile yaptık. Eger aradıgımız string icinde varsa assert'ün kosulu calısacak \n",
    "# ve kod calısacak, yoksa assert'ün mesajı calısacak ve hata verecek.\n",
    "metin = \"Merhaba, bu bir örnek metindir.\"\n",
    "aranan_kelime = \"kelime\"\n",
    "\n",
    "assert aranan_kelime in metin, f\"{aranan_kelime} kelimesi metinde bulunamadı\""
   ]
  },
  {
   "cell_type": "code",
   "execution_count": 18,
   "metadata": {},
   "outputs": [
    {
     "ename": "AssertionError",
     "evalue": "İsim bölümü boş bırakılamaz",
     "output_type": "error",
     "traceback": [
      "\u001b[0;31m---------------------------------------------------------------------------\u001b[0m",
      "\u001b[0;31mAssertionError\u001b[0m                            Traceback (most recent call last)",
      "\u001b[1;32m/Users/boravolkanalkac/Documents/Demet/DATA SCIENCE TECHPRO/PYTHON/PYTHON_AdvanceDers_VS/phytonDers21_20_10.ipynb Cell 43\u001b[0m line \u001b[0;36m4\n\u001b[1;32m      <a href='vscode-notebook-cell:/Users/boravolkanalkac/Documents/Demet/DATA%20SCIENCE%20TECHPRO/PYTHON/PYTHON_AdvanceDers_VS/phytonDers21_20_10.ipynb#X65sZmlsZQ%3D%3D?line=1'>2</a>\u001b[0m giris \u001b[39m=\u001b[39m \u001b[39minput\u001b[39m(\u001b[39m\"\u001b[39m\u001b[39mMerhaba! Adın ne?\u001b[39m\u001b[39m\"\u001b[39m)\n\u001b[1;32m      <a href='vscode-notebook-cell:/Users/boravolkanalkac/Documents/Demet/DATA%20SCIENCE%20TECHPRO/PYTHON/PYTHON_AdvanceDers_VS/phytonDers21_20_10.ipynb#X65sZmlsZQ%3D%3D?line=2'>3</a>\u001b[0m \u001b[39mif\u001b[39;00m \u001b[39mlen\u001b[39m(giris) \u001b[39m==\u001b[39m \u001b[39m0\u001b[39m:\n\u001b[0;32m----> <a href='vscode-notebook-cell:/Users/boravolkanalkac/Documents/Demet/DATA%20SCIENCE%20TECHPRO/PYTHON/PYTHON_AdvanceDers_VS/phytonDers21_20_10.ipynb#X65sZmlsZQ%3D%3D?line=3'>4</a>\u001b[0m     \u001b[39mraise\u001b[39;00m \u001b[39mAssertionError\u001b[39;00m(\u001b[39m\"\u001b[39m\u001b[39mİsim bölümü boş bırakılamaz\u001b[39m\u001b[39m\"\u001b[39m)\n",
      "\u001b[0;31mAssertionError\u001b[0m: İsim bölümü boş bırakılamaz"
     ]
    }
   ],
   "source": [
    "#\"gris\" adında bi degiskenim var, kullanıdan adını alıyor. Eger kullanıcı adını girmeden direkt entea basarsa bir hata fırlatacak: raise AssertionError(\"İsim bölümü boş bırakılamaz\") \n",
    "giris = input(\"Merhaba! Adın ne?\")\n",
    "if len(giris) == 0:\n",
    "    raise AssertionError(\"İsim bölümü boş bırakılamaz\") #  raise, hata fırlatmak demek"
   ]
  },
  {
   "cell_type": "code",
   "execution_count": 21,
   "metadata": {},
   "outputs": [
    {
     "ename": "AssertionError",
     "evalue": "İsim bölümü bos bırakılamaz",
     "output_type": "error",
     "traceback": [
      "\u001b[0;31m---------------------------------------------------------------------------\u001b[0m",
      "\u001b[0;31mAssertionError\u001b[0m                            Traceback (most recent call last)",
      "\u001b[1;32m/Users/boravolkanalkac/Documents/Demet/DATA SCIENCE TECHPRO/PYTHON/PYTHON_AdvanceDers_VS/phytonDers21_20_10.ipynb Cell 44\u001b[0m line \u001b[0;36m2\n\u001b[1;32m      <a href='vscode-notebook-cell:/Users/boravolkanalkac/Documents/Demet/DATA%20SCIENCE%20TECHPRO/PYTHON/PYTHON_AdvanceDers_VS/phytonDers21_20_10.ipynb#Y101sZmlsZQ%3D%3D?line=0'>1</a>\u001b[0m giris \u001b[39m=\u001b[39m \u001b[39minput\u001b[39m(\u001b[39m\"\u001b[39m\u001b[39mMerhaba! Adın ne?\u001b[39m\u001b[39m\"\u001b[39m)\n\u001b[0;32m----> <a href='vscode-notebook-cell:/Users/boravolkanalkac/Documents/Demet/DATA%20SCIENCE%20TECHPRO/PYTHON/PYTHON_AdvanceDers_VS/phytonDers21_20_10.ipynb#Y101sZmlsZQ%3D%3D?line=1'>2</a>\u001b[0m \u001b[39massert\u001b[39;00m \u001b[39mlen\u001b[39m(giris) \u001b[39m!=\u001b[39m \u001b[39m0\u001b[39m, \u001b[39m\"\u001b[39m\u001b[39mİsim bölümü bos bırakılamaz\u001b[39m\u001b[39m\"\u001b[39m\n\u001b[1;32m      <a href='vscode-notebook-cell:/Users/boravolkanalkac/Documents/Demet/DATA%20SCIENCE%20TECHPRO/PYTHON/PYTHON_AdvanceDers_VS/phytonDers21_20_10.ipynb#Y101sZmlsZQ%3D%3D?line=2'>3</a>\u001b[0m \u001b[39mprint\u001b[39m(\u001b[39m\"\u001b[39m\u001b[39mHos geldiniz\u001b[39m\u001b[39m\"\u001b[39m)\n",
      "\u001b[0;31mAssertionError\u001b[0m: İsim bölümü bos bırakılamaz"
     ]
    }
   ],
   "source": [
    "# yukardakini \"raise\" ile bunu \"assert\" ile yaptık\n",
    "giris = input(\"Merhaba! Adın ne?\")\n",
    "assert len(giris) != 0, \"İsim bölümü bos bırakılamaz\"\n",
    "print(\"Hos geldiniz\")"
   ]
  },
  {
   "cell_type": "markdown",
   "metadata": {},
   "source": [
    "### **raise**\n",
    "\n",
    "Bazen, yazdığımız bir programda, kullanıcının yaptığı bir işlem normal şartlar altında hata vermeyecek olsa bile biz ona ‘Python tarzı’ bir hata mesajı göstermek isteyebiliriz. Böyle bir durumda ihtiyacımız olan şey Python’ın bize sunduğu raise adlı deyimdir. Bu deyim yardımıyla duruma özgü hata mesajları üretebiliriz."
   ]
  },
  {
   "cell_type": "code",
   "execution_count": null,
   "metadata": {},
   "outputs": [],
   "source": []
  },
  {
   "cell_type": "code",
   "execution_count": 23,
   "metadata": {},
   "outputs": [
    {
     "name": "stdout",
     "output_type": "stream",
     "text": [
      "5 / 8 = 0.625\n"
     ]
    }
   ],
   "source": [
    "bolunen = int(input(\"bölünecek sayıyı giriniz\"))\n",
    "\n",
    "if bolunen == 46:\n",
    "    raise Exception(\"Bu programda 46 sayısını görmek istemiyorum!\")\n",
    "\n",
    "bolen = int(input(\"bölen sayıyı giriniz\"))\n",
    "print(f\"{bolunen} / {bolen} = {bolunen/bolen}\")"
   ]
  },
  {
   "cell_type": "code",
   "execution_count": 24,
   "metadata": {},
   "outputs": [
    {
     "name": "stdout",
     "output_type": "stream",
     "text": [
      "Parola geçerli\n"
     ]
    }
   ],
   "source": [
    "# Türkce karekter olmayan bir parola kodu yazınız\n",
    "tr_karakter = \"şçğüöıİ\"\n",
    "\n",
    "parola = input(\"Paralnızı giriniz: \").lower()\n",
    "\n",
    "for i in parola:\n",
    "    if i in tr_karakter:\n",
    "        raise TypeError(\"Parolada Türkçe karakter kullanılamaz!\")\n",
    "    else:\n",
    "        pass\n",
    "\n",
    "print(\"Parola geçerli\")"
   ]
  },
  {
   "cell_type": "code",
   "execution_count": 25,
   "metadata": {},
   "outputs": [
    {
     "name": "stdout",
     "output_type": "stream",
     "text": [
      "0.75\n"
     ]
    }
   ],
   "source": [
    "try:\n",
    "    bolunen = int(input(\"bölünecek sayı\"))\n",
    "    bolen = int(input(\"bölecek sayı\"))\n",
    "    print(bolunen/bolen)\n",
    "except ZeroDivisionError:\n",
    "    print(\"bir sayıyı 0'a bölemezsiniz\")\n",
    "    raise # zeroDivisionError hatası olursa raise ile hata fırlat dedik."
   ]
  },
  {
   "cell_type": "code",
   "execution_count": null,
   "metadata": {},
   "outputs": [],
   "source": []
  },
  {
   "cell_type": "code",
   "execution_count": null,
   "metadata": {},
   "outputs": [],
   "source": []
  },
  {
   "cell_type": "code",
   "execution_count": null,
   "metadata": {},
   "outputs": [],
   "source": []
  }
 ],
 "metadata": {
  "kernelspec": {
   "display_name": "Python 3",
   "language": "python",
   "name": "python3"
  },
  "language_info": {
   "codemirror_mode": {
    "name": "ipython",
    "version": 3
   },
   "file_extension": ".py",
   "mimetype": "text/x-python",
   "name": "python",
   "nbconvert_exporter": "python",
   "pygments_lexer": "ipython3",
   "version": "3.11.4"
  }
 },
 "nbformat": 4,
 "nbformat_minor": 2
}

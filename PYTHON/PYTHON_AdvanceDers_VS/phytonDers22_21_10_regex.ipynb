{
 "cells": [
  {
   "cell_type": "markdown",
   "metadata": {},
   "source": [
    "- regular expression (düzenli ifadeler) kullanıcıdan girilen inputun istenen kurallara uyup uymadığını kontrol etmeye yarar\n",
    "-regex bellirli kelime veya grubunu belirli sartlara göre arama yapmada kullanılır\n",
    "- regex bir modüldür, kullanırken import etmeliyiz.\n",
    "-import re # regex i import etmemiz gerekli bu sekilde import ediyoruz"
   ]
  },
  {
   "cell_type": "code",
   "execution_count": 2,
   "metadata": {},
   "outputs": [],
   "source": [
    "import re # regex i import etmemiz gerekli bu sekilde import ediyoruz"
   ]
  },
  {
   "cell_type": "markdown",
   "metadata": {},
   "source": [
    "-findall: Tüm eslesmeleri göster(liste halinde)\n",
    "-search: Eslesme olup olmadıgını göster\n",
    "-split: eslesme noktalaından völ ve liste olustur\n",
    "-sub: eslesmelei verilen ifade ile degistir."
   ]
  },
  {
   "cell_type": "code",
   "execution_count": 5,
   "metadata": {},
   "outputs": [],
   "source": [
    "text = \"\"\"Yar, gözüm çekinir yüzün basmaya,\n",
    "          Bir zahmet buyursan kulak asmaya,\n",
    "          Hazırdır Kelama elim basmaya,\n",
    "          Bir gülüş ikram et, götür asmaya.\"\"\""
   ]
  },
  {
   "cell_type": "code",
   "execution_count": 6,
   "metadata": {},
   "outputs": [],
   "source": [
    "pattern = \"asma\" # pattern ile arayacagım degiskeni atıyorum"
   ]
  },
  {
   "cell_type": "markdown",
   "metadata": {},
   "source": []
  },
  {
   "cell_type": "code",
   "execution_count": 7,
   "metadata": {},
   "outputs": [
    {
     "data": {
      "text/plain": [
       "<re.Match object; span=(26, 30), match='asma'>"
      ]
     },
     "execution_count": 7,
     "metadata": {},
     "output_type": "execute_result"
    }
   ],
   "source": [
    "re.search(pattern, text)  # search aradıgımız textin icinde ilk buldugunu verir\n",
    "#<re.Match object; span=(26, 30), match='asma'>  => aradıgın 26 ve 30 arasında diyor"
   ]
  },
  {
   "cell_type": "code",
   "execution_count": 8,
   "metadata": {},
   "outputs": [
    {
     "data": {
      "text/plain": [
       "26"
      ]
     },
     "execution_count": 8,
     "metadata": {},
     "output_type": "execute_result"
    }
   ],
   "source": [
    "text.find(pattern) # find() fonksiyonu ile text icindeki pattern'e tanımladıgım kelimeyi araıyorum ve bana aradıgım paternin yan, asma1nın indexini veriyor\n",
    "                  # find fonksiyonu string methodudur."
   ]
  },
  {
   "cell_type": "code",
   "execution_count": 6,
   "metadata": {},
   "outputs": [
    {
     "name": "stdout",
     "output_type": "stream",
     "text": [
      "Help on function search in module re:\n",
      "\n",
      "search(pattern, string, flags=0)\n",
      "    Scan through string looking for a match to the pattern, returning\n",
      "    a Match object, or None if no match was found.\n",
      "\n"
     ]
    }
   ],
   "source": [
    "help(re.search)"
   ]
  },
  {
   "cell_type": "code",
   "execution_count": 10,
   "metadata": {},
   "outputs": [
    {
     "data": {
      "text/plain": [
       "['asma', 'asma', 'asma', 'asma']"
      ]
     },
     "execution_count": 10,
     "metadata": {},
     "output_type": "execute_result"
    }
   ],
   "source": [
    "# findall parantezine aradıgım patterni ve neyin icinde aradıgımı veriyorum\n",
    "sonuc = re.findall(pattern, text) # findall =>text icindeki \"asma\" olarak belirledigim patternin hepsini liste icinde veriyor\n",
    "sonuc"
   ]
  },
  {
   "cell_type": "code",
   "execution_count": 13,
   "metadata": {},
   "outputs": [
    {
     "data": {
      "text/plain": [
       "<re.Match object; span=(26, 30), match='asma'>"
      ]
     },
     "execution_count": 13,
     "metadata": {},
     "output_type": "execute_result"
    }
   ],
   "source": [
    "sonuc = re.search(pattern, text) # bunu yazıpsearch ile pattern'imizi buldu, asagıdaki  kod(sonuc.string) ile tüm texti string cevirip verdi"
   ]
  },
  {
   "cell_type": "markdown",
   "metadata": {},
   "source": [
    "-search() ile string, regs, end, start, group komutlarını kullanabiliyoruz."
   ]
  },
  {
   "cell_type": "code",
   "execution_count": 12,
   "metadata": {},
   "outputs": [
    {
     "data": {
      "text/plain": [
       "'Yar, gözüm çekinir yüzün basmaya,\\n          Bir zahmet buyursan kulak asmaya,\\n          Hazırdır Kelama elim basmaya,\\n          Bir gülüş ikram et, götür asmaya.'"
      ]
     },
     "execution_count": 12,
     "metadata": {},
     "output_type": "execute_result"
    }
   ],
   "source": [
    "sonuc.string"
   ]
  },
  {
   "cell_type": "code",
   "execution_count": 12,
   "metadata": {},
   "outputs": [
    {
     "data": {
      "text/plain": [
       "((26, 30),)"
      ]
     },
     "execution_count": 12,
     "metadata": {},
     "output_type": "execute_result"
    }
   ],
   "source": [
    "sonuc.regs # aradıgımızın ilk eslestigi yerin indexini verir, tuble ile gösterir. 26 ile 30 arasındaki ilk indexde  \"asma\""
   ]
  },
  {
   "cell_type": "code",
   "execution_count": 13,
   "metadata": {},
   "outputs": [
    {
     "data": {
      "text/plain": [
       "<function Match.end(group=0, /)>"
      ]
     },
     "execution_count": 13,
     "metadata": {},
     "output_type": "execute_result"
    }
   ],
   "source": [
    "sonuc.end # reges de ,bazıları fonksiyon bazıları komut gibi calısıyor, end() fonksiyondur"
   ]
  },
  {
   "cell_type": "code",
   "execution_count": 14,
   "metadata": {},
   "outputs": [
    {
     "data": {
      "text/plain": [
       "30"
      ]
     },
     "execution_count": 14,
     "metadata": {},
     "output_type": "execute_result"
    }
   ],
   "source": [
    "sonuc.end() # \"end\"  aradıgımız textin yani \"asma\"nın son indexini verir"
   ]
  },
  {
   "cell_type": "code",
   "execution_count": 14,
   "metadata": {},
   "outputs": [
    {
     "data": {
      "text/plain": [
       "26"
      ]
     },
     "execution_count": 14,
     "metadata": {},
     "output_type": "execute_result"
    }
   ],
   "source": [
    "sonuc.start() # \"start\"  aradıgımız textin yani \"asma\"nın baslangıc indexini verir"
   ]
  },
  {
   "cell_type": "code",
   "execution_count": 19,
   "metadata": {},
   "outputs": [
    {
     "data": {
      "text/plain": [
       "'asma'"
      ]
     },
     "execution_count": 19,
     "metadata": {},
     "output_type": "execute_result"
    }
   ],
   "source": [
    "sonuc.group() # group() paterni verir "
   ]
  },
  {
   "cell_type": "markdown",
   "metadata": {},
   "source": [
    "# Match fonksiyonu()"
   ]
  },
  {
   "cell_type": "markdown",
   "metadata": {},
   "source": [
    "- match() metin icinde aradıgımızı ilkini eslestirir, buldugu ilk buldugukelimede. \n",
    "-match() aradıgı metnin birebir aynısını arar bulunca verir ama bir kelimenin yarısını ararsak bize none döndürür\n",
    "-aradıgımız kelimenin birebir uymadıgında, bas harfi farklı oldugunda gene none verir.\n",
    "-match cümlenin ilk kelimesini veirir , aradıgımız ilk kelime degilse none verir"
   ]
  },
  {
   "cell_type": "code",
   "execution_count": 21,
   "metadata": {},
   "outputs": [
    {
     "name": "stdout",
     "output_type": "stream",
     "text": [
      "<re.Match object; span=(0, 3), match='Yar'>\n"
     ]
    }
   ],
   "source": [
    "# match() metin icinde aradıgımızı ilkini eslestirir, buldugu ilk buldugukelimede. \n",
    "\n",
    "print(re.match(\"Yar\", text))\n"
   ]
  },
  {
   "cell_type": "code",
   "execution_count": 22,
   "metadata": {},
   "outputs": [
    {
     "name": "stdout",
     "output_type": "stream",
     "text": [
      "None\n"
     ]
    }
   ],
   "source": [
    "print(re.match(\"asma\", text)) # match() aradıgı metnin birebir aynısını arar bulunca verir ama bir kelimenin yarısını ararsak bize none döndürür"
   ]
  },
  {
   "cell_type": "code",
   "execution_count": 23,
   "metadata": {},
   "outputs": [
    {
     "name": "stdout",
     "output_type": "stream",
     "text": [
      "None\n"
     ]
    }
   ],
   "source": [
    "print(re.match(\"kelama\", text)) # aradıgımız kelimenin birebir uymadıgında, bas harfi farklı oldugunda gene none verir."
   ]
  },
  {
   "cell_type": "code",
   "execution_count": 24,
   "metadata": {},
   "outputs": [
    {
     "name": "stdout",
     "output_type": "stream",
     "text": [
      "None\n"
     ]
    }
   ],
   "source": [
    "print(re.match(\"Kelama\", text)) # match cümlenin ilk kelimesini veirir o nedenle burda none verdi"
   ]
  },
  {
   "cell_type": "code",
   "execution_count": 23,
   "metadata": {},
   "outputs": [
    {
     "ename": "TypeError",
     "evalue": "expected string or bytes-like object, got 'list'",
     "output_type": "error",
     "traceback": [
      "\u001b[0;31m---------------------------------------------------------------------------\u001b[0m",
      "\u001b[0;31mTypeError\u001b[0m                                 Traceback (most recent call last)",
      "\u001b[1;32m/Users/boravolkanalkac/Documents/Demet/DATA SCIENCE TECHPRO/PYTHON/PYTHON_AdvanceDers_VS/phytonDers22_21_10_regex.ipynb Cell 24\u001b[0m line \u001b[0;36m3\n\u001b[1;32m      <a href='vscode-notebook-cell:/Users/boravolkanalkac/Documents/Demet/DATA%20SCIENCE%20TECHPRO/PYTHON/PYTHON_AdvanceDers_VS/phytonDers22_21_10_regex.ipynb#X26sZmlsZQ%3D%3D?line=0'>1</a>\u001b[0m \u001b[39m# regex listelerle calısmaz, string ile calısır.\u001b[39;00m\n\u001b[1;32m      <a href='vscode-notebook-cell:/Users/boravolkanalkac/Documents/Demet/DATA%20SCIENCE%20TECHPRO/PYTHON/PYTHON_AdvanceDers_VS/phytonDers22_21_10_regex.ipynb#X26sZmlsZQ%3D%3D?line=1'>2</a>\u001b[0m liste \u001b[39m=\u001b[39m [\u001b[39m\"\u001b[39m\u001b[39mAyse\u001b[39m\u001b[39m\"\u001b[39m,\u001b[39m\"\u001b[39m\u001b[39mFatma\u001b[39m\u001b[39m\"\u001b[39m, \u001b[39m\"\u001b[39m\u001b[39mElif\u001b[39m\u001b[39m\"\u001b[39m]\n\u001b[0;32m----> <a href='vscode-notebook-cell:/Users/boravolkanalkac/Documents/Demet/DATA%20SCIENCE%20TECHPRO/PYTHON/PYTHON_AdvanceDers_VS/phytonDers22_21_10_regex.ipynb#X26sZmlsZQ%3D%3D?line=2'>3</a>\u001b[0m re\u001b[39m.\u001b[39msearch(\u001b[39m\"\u001b[39m\u001b[39mAyse\u001b[39m\u001b[39m\"\u001b[39m,liste)\n",
      "File \u001b[0;32m~/anaconda3/lib/python3.11/re/__init__.py:176\u001b[0m, in \u001b[0;36msearch\u001b[0;34m(pattern, string, flags)\u001b[0m\n\u001b[1;32m    173\u001b[0m \u001b[39mdef\u001b[39;00m \u001b[39msearch\u001b[39m(pattern, string, flags\u001b[39m=\u001b[39m\u001b[39m0\u001b[39m):\n\u001b[1;32m    174\u001b[0m \u001b[39m    \u001b[39m\u001b[39m\"\"\"Scan through string looking for a match to the pattern, returning\u001b[39;00m\n\u001b[1;32m    175\u001b[0m \u001b[39m    a Match object, or None if no match was found.\"\"\"\u001b[39;00m\n\u001b[0;32m--> 176\u001b[0m     \u001b[39mreturn\u001b[39;00m _compile(pattern, flags)\u001b[39m.\u001b[39msearch(string)\n",
      "\u001b[0;31mTypeError\u001b[0m: expected string or bytes-like object, got 'list'"
     ]
    }
   ],
   "source": [
    "# regex listelerle calısmaz, string ile calısır.\n",
    "liste = [\"Ayse\",\"Fatma\", \"Elif\"]\n",
    "re.search(\"Ayse\",liste)  # list icindeki veriryi string ile arayınca type error verdi, bunu önce stringe cevirmelisin diyor."
   ]
  },
  {
   "cell_type": "code",
   "execution_count": 17,
   "metadata": {},
   "outputs": [
    {
     "data": {
      "text/plain": [
       "True"
      ]
     },
     "execution_count": 17,
     "metadata": {},
     "output_type": "execute_result"
    }
   ],
   "source": [
    "liste = [\"Ayse\",\"Fatma\", \"Elif\"]\n",
    "\"Ayse\" in liste # liste icinde bir elemanın var olup olmadıgını anlamak icin bunu kullanabiliriz."
   ]
  },
  {
   "cell_type": "code",
   "execution_count": 27,
   "metadata": {},
   "outputs": [
    {
     "name": "stdout",
     "output_type": "stream",
     "text": [
      "Ayse\n"
     ]
    }
   ],
   "source": [
    "# elemanın liste icinde oldugunu biliyorsam  for ile yapabiliriz.\n",
    "for i in liste:\n",
    "    if re.search(\"Ayse\", i):\n",
    "        print(i)"
   ]
  },
  {
   "cell_type": "code",
   "execution_count": 29,
   "metadata": {},
   "outputs": [
    {
     "name": "stdout",
     "output_type": "stream",
     "text": [
      "Elif\n"
     ]
    }
   ],
   "source": [
    "for i in liste:\n",
    "    if re.match(\"Elif\", i):\n",
    "        print(i)"
   ]
  },
  {
   "cell_type": "code",
   "execution_count": 30,
   "metadata": {},
   "outputs": [
    {
     "name": "stdout",
     "output_type": "stream",
     "text": [
      "asma\n",
      "asma\n",
      "asma\n",
      "asma\n"
     ]
    }
   ],
   "source": [
    "for eslesme in re.findall(pattern, text): # findall bize bir liste icinde veriyordu\n",
    "    print(eslesme)"
   ]
  },
  {
   "cell_type": "code",
   "execution_count": 31,
   "metadata": {},
   "outputs": [
    {
     "name": "stdout",
     "output_type": "stream",
     "text": [
      "asma (26, 30)\n",
      "asma (70, 74)\n",
      "asma (110, 114)\n",
      "asma (154, 158)\n"
     ]
    }
   ],
   "source": [
    "for eslesme in re.finditer(pattern, text):  # finditer()bir liste olusturuyor ve hangi karakterler arasında oldugunu verir\n",
    "    print(eslesme.group(), eslesme.span()) # eslesme.group()  => aradıgımızı veriyor.. eslesme.span()) => nerede oldugunu veriyor."
   ]
  },
  {
   "cell_type": "code",
   "execution_count": 32,
   "metadata": {},
   "outputs": [
    {
     "data": {
      "text/plain": [
       "<callable_iterator at 0x1097fb7f0>"
      ]
     },
     "execution_count": 32,
     "metadata": {},
     "output_type": "execute_result"
    }
   ],
   "source": [
    "re.finditer(pattern, text) #iterator oldugu icin calıstı ama  bir list ile yazdırmalıyız"
   ]
  },
  {
   "cell_type": "code",
   "execution_count": 33,
   "metadata": {},
   "outputs": [
    {
     "data": {
      "text/plain": [
       "[<re.Match object; span=(26, 30), match='asma'>,\n",
       " <re.Match object; span=(70, 74), match='asma'>,\n",
       " <re.Match object; span=(110, 114), match='asma'>,\n",
       " <re.Match object; span=(154, 158), match='asma'>]"
      ]
     },
     "execution_count": 33,
     "metadata": {},
     "output_type": "execute_result"
    }
   ],
   "source": [
    "list(re.finditer(pattern, text)) # list ile gösterdik"
   ]
  },
  {
   "cell_type": "code",
   "execution_count": 26,
   "metadata": {},
   "outputs": [
    {
     "data": {
      "text/plain": [
       "['1', '2', '89', '34', '252']"
      ]
     },
     "execution_count": 26,
     "metadata": {},
     "output_type": "execute_result"
    }
   ],
   "source": [
    "# r\"\\d+\" => r\"\": patern'a baslarken bu sekilde gösterilir. Ters slash ve kacıs isareti olarak görmesin diye basına \"r\" konulur.\n",
    "# \\d => rakam aramak icin kullanılır. \"+\" isareti ise birden fazla yanyana rakam varsa ayırmadan versin diye kullanıyoruz. \n",
    "#  r\"\\d\" =>  böyle calıstırırsak => ['1', '2', '8', '9', '3', '4', '2', '5', '2'] ,seklinde cift basamaklı veya daha fazla basamaklı sayıları rakamlarına ayırarak verir\n",
    "# r\"\\d+\"  => böyle calıstırırsak => ['1', '2', '89', '34', '252']\n",
    "metin = \"Hello world 1 2 hi 89. How do you 34 fun 252\"\n",
    "pattern = r\"\\d+\"    # rakamları buluyor\n",
    "re.findall(pattern, metin)"
   ]
  },
  {
   "cell_type": "code",
   "execution_count": 28,
   "metadata": {},
   "outputs": [
    {
     "data": {
      "text/plain": [
       "\"Ali'nin kırmızı otomobili\""
      ]
     },
     "execution_count": 28,
     "metadata": {},
     "output_type": "execute_result"
    }
   ],
   "source": [
    "deneme = 'Ali\\'nin kırmızı otomobili' # \\ bu kacıs semboludur. stringi  tek tırnak seklinde olusturup icinde de tek tırnak kullanınca hata veriyordu bunu önlemek icin kullanıyorduk\n",
    "deneme"
   ]
  },
  {
   "cell_type": "code",
   "execution_count": 2,
   "metadata": {},
   "outputs": [
    {
     "data": {
      "text/plain": [
       "\"Ali\\\\'nin kırmızı otomobili\""
      ]
     },
     "execution_count": 2,
     "metadata": {},
     "output_type": "execute_result"
    }
   ],
   "source": [
    "deneme = r'Ali\\'nin kırmızı otomobili' # \\ bu kacıs semboludur, ama basına metnin \"r\" yazarsak bunun metin icinde bir karakter gibi algılanmasını saglıyor \n",
    "deneme                               # regex de kullanmamızın sebebide \\d gibi şsaretler ile şfade ettigimiz regex kurallarını kacıs sembolü olarak algılamasın diye."
   ]
  },
  {
   "cell_type": "code",
   "execution_count": 11,
   "metadata": {},
   "outputs": [
    {
     "data": {
      "text/plain": [
       "['0555-656235', '0555-656335', '0555-656245']"
      ]
     },
     "execution_count": 11,
     "metadata": {},
     "output_type": "execute_result"
    }
   ],
   "source": [
    "metin2 = \"telefon 65651 65 1595 numaralar 0555-656235 diğer 0555-656335 mehmet 0555-656245      \"\n",
    "pattern = r\"\\s(\\d\\d\\d\\d-\\d{6})\"  # \\s => bosluklardan arındıracak, \\d\\d\\d\\d => 4 tane rakam olacak, 4 rakam yeine \\d{4} seklinde de yazabiliriz, sonra - olacak arada, daha sonra \\d{6} =>6 tane daha rakam olacak\n",
    "re.findall(pattern, metin2)"
   ]
  },
  {
   "cell_type": "code",
   "execution_count": 5,
   "metadata": {},
   "outputs": [
    {
     "data": {
      "text/plain": [
       "['0555-656235', '0555-656335', '0555-656245']"
      ]
     },
     "execution_count": 5,
     "metadata": {},
     "output_type": "execute_result"
    }
   ],
   "source": [
    "metin2 = \"telefon 65651 65 1595 numaralar 0555-656235 diğer 0555-656335 mehmet 0555-656245      \"\n",
    "pattern = r\"\\d{4}-\\d{6}\"  # yukardakinin yerine böylede yazabiliriz. karakter sayısını bimedigimizde böyle yapabiliriz\n",
    "re.findall(pattern, metin2)"
   ]
  },
  {
   "cell_type": "code",
   "execution_count": 6,
   "metadata": {},
   "outputs": [
    {
     "data": {
      "text/plain": [
       "['0555-656235', '0555-656335', '0555-656245']"
      ]
     },
     "execution_count": 6,
     "metadata": {},
     "output_type": "execute_result"
    }
   ],
   "source": [
    "# rakamların arasında tire olan tel numaralarını almak istiyorum:örn: 0555-656235, o nedenle patternimi tanımlarken tire isaretinide kullandım\n",
    "metin2 = \"telefon 65651 65 1595 numaralar 0555-656235 diğer 0555-656335 mehmet 0555-656245      \"\n",
    "pattern = r\"\\d+-\\d+\"\n",
    "re.findall(pattern, metin2)"
   ]
  },
  {
   "cell_type": "code",
   "execution_count": null,
   "metadata": {},
   "outputs": [],
   "source": [
    "metin2 = \"telefon 65651 65 1595 numaralar 0555-656235 diğer 0555-656335 mehmet 0555-656245      \"\n",
    "pattern = r\"\\d{4}-\\d{6}\" # telefon numaralarını aramak icin \n",
    "re.findall(pattern, metin2)"
   ]
  },
  {
   "cell_type": "code",
   "execution_count": 3,
   "metadata": {},
   "outputs": [
    {
     "data": {
      "text/plain": [
       "['0555-656235', '0555-656335', '0555-656245']"
      ]
     },
     "execution_count": 3,
     "metadata": {},
     "output_type": "execute_result"
    }
   ],
   "source": [
    "metin3 = \"telefon -656516 65 1595 numaralar 0555-656235 diğer 0555-656335 mehmet 0555-656245      \" # burda ilk tel numarasının önüne tire koyup denedik.ör: telefon -656516 65 1595 \n",
    "pattern = r\"\\d{4}-\\d{6}\"\n",
    "re.findall(pattern, metin3)"
   ]
  },
  {
   "cell_type": "markdown",
   "metadata": {},
   "source": [
    "### Meta Karakterler\n",
    "[]  Belirli karakterleri kullan     \"[a-m]\"<br>\n",
    "\\   Özel karakter belirt ya da sondaki karakteri dikkate alma       \"\\d\" <br>\n",
    ".   Satırbaş hariç herhangi bir karakter        \"he..o\"<br>\n",
    "^   ... ile başlayan        \"^hello\" => hello ile baslayan demek<br>\n",
    "$   ... ile biten       \"$world\" dolar şsareti basta ise=< world ile bitsin demek<br>\n",
    "\"*   Sıfır ve üzeri sayıda eşleşme           \"aix*\"<br>\n",
    "\"+   Bir ve üzeri sayıda eşleşeme            \"aix+\"<br>\n",
    "{}  Kaç haneli sayı olduğunu                \"al{2}\" => al'i 2 kere ara <br>\n",
    "|   İkisinden biri              \"falls|stays\"<br>\n",
    "()  Eşleşme ya da gruplama"
   ]
  },
  {
   "cell_type": "code",
   "execution_count": 4,
   "metadata": {},
   "outputs": [
    {
     "name": "stdout",
     "output_type": "stream",
     "text": [
      "23BH56\n",
      "4Y7UZ\n",
      "34534\n"
     ]
    }
   ],
   "source": [
    "# Rakam ile başlayanları bulalım\n",
    "a = [\"23BH56\",\"TY76Z\",\"4Y7UZ\",\"TYUDZ\",\"34534\"]\n",
    "\n",
    "for i in a:\n",
    "    if re.match(\"[0-9]\", i):\n",
    "        print(i)"
   ]
  },
  {
   "cell_type": "code",
   "execution_count": 5,
   "metadata": {},
   "outputs": [
    {
     "name": "stdout",
     "output_type": "stream",
     "text": [
      "TY76Z is valid\n"
     ]
    }
   ],
   "source": [
    "# TY76Z yi buulalım\n",
    "for i in a:\n",
    "    if re.match(\"[A-Z][A-Z][0-9][0-9][A-Z]\", i): # hepsini yazmadık cünkü ilk 3 karekteri aradıgımızı ayırt etmede yeterli oldugu icin eklemedik diger karakterlerle ilgili bir arama\n",
    "        print(f\"{i} is valid\")"
   ]
  },
  {
   "cell_type": "code",
   "execution_count": 6,
   "metadata": {},
   "outputs": [
    {
     "name": "stdout",
     "output_type": "stream",
     "text": [
      "Aa123\n"
     ]
    }
   ],
   "source": [
    "# İlk karakter herhangi bir değer, ikinci rakam ve küçük harf\n",
    "a = [\"23BH56\",\"TY76Z\",\"4Y7UZ\",\"TYUDZ\",\"34534\",\"Aa123\"]\n",
    "for i in a:\n",
    "    if re.match(\".[a-z][0-9]\", i):\n",
    "        print(i)\n"
   ]
  },
  {
   "cell_type": "code",
   "execution_count": 7,
   "metadata": {},
   "outputs": [
    {
     "name": "stdout",
     "output_type": "stream",
     "text": [
      "23BH56\n",
      "34534\n",
      "Aa123\n"
     ]
    }
   ],
   "source": [
    "a = [\"23BH56\",\"TY76Z\",\"4Y7UZ\",\"TYUDZ\",\"34534\",\"Aa123\"]\n",
    "for i in a:\n",
    "    if re.match(\".[a-z0-9]\", i): # [a-z0-9] 2. karakter ya kücük harf veya rakam olsun diyince  ona göre getirdi yani 2. harfi rakam ve harf olanları getirdi\n",
    "        print(i)"
   ]
  },
  {
   "cell_type": "code",
   "execution_count": 2,
   "metadata": {},
   "outputs": [
    {
     "name": "stdout",
     "output_type": "stream",
     "text": [
      "['Python Kursu: Python Programalama ', 'ehberiniz | 40 saat']\n"
     ]
    }
   ],
   "source": [
    "import re\n",
    "\n",
    "str1 = \"Python Kursu: Python Programalama Rehberiniz | 40 saat\"\n",
    "\n",
    "result = re.split(\" \", str1)\n",
    "result = re.split(\"R\", str1)\n",
    "\n",
    "print(result)"
   ]
  },
  {
   "cell_type": "code",
   "execution_count": 9,
   "metadata": {},
   "outputs": [
    {
     "name": "stdout",
     "output_type": "stream",
     "text": [
      "Python-Kursu:-Python-Programalama-Rehberiniz-|-40-saat\n"
     ]
    }
   ],
   "source": [
    "str1 = \"Python Kursu: Python Programalama Rehberiniz | 40 saat\"\n",
    "\n",
    "result = re.sub(\" \", \"-\", str1)  # sub() yer degistirme demek. burda \"boslukları\" \"-\" isareti ile yer degistir dedik\n",
    "result = re.sub(\"\\s\", \"-\", str1)  # buda yukardakinin aynısı \\s boslukları veirdi, gene bosluklar ile \"-\" tireyi degistir demis olduk\n",
    "\n",
    "print(result)"
   ]
  },
  {
   "cell_type": "code",
   "execution_count": 15,
   "metadata": {},
   "outputs": [
    {
     "name": "stdout",
     "output_type": "stream",
     "text": [
      "['P', 'y', 't', 'h', 'o', 'n', ' ', 'K', 'u', 'r', 's', 'u', ':', ' ', 'P', 'y', 't', 'h', 'o', 'n', ' ', 'P', 'r', 'o', 'g', 'r', 'a', 'm', 'a', 'l', 'a', 'm', 'a', ' ', 'R', 'e', 'h', 'b', 'e', 'r', 'i', 'n', 'i', 'z', ' ', '|', ' ', ' ', 's', 'a', 'a', 't']\n"
     ]
    }
   ],
   "source": [
    "str1 = \"Python Kursu: Python Programalama Rehberiniz | 40 saat\"\n",
    "\n",
    "result = re.findall(\"[abc]\", str1)\n",
    "result = re.findall(\"[sat]\", str1)\n",
    "result = re.findall(\"[a-e]\", str1)\n",
    "result = re.findall(\"[a-z]\", str1)\n",
    "result = re.findall(\"[A-Z]\", str1)\n",
    "result = re.findall(\"[0-5]\", str1)\n",
    "result = re.findall(\"[0-395]\", str1)\n",
    "result = re.findall(\"[^abc]\", str1)\n",
    "result = re.findall(\"[^0-9]\", str1)\n",
    "\n",
    "print(result)"
   ]
  },
  {
   "cell_type": "code",
   "execution_count": 17,
   "metadata": {},
   "outputs": [
    {
     "name": "stdout",
     "output_type": "stream",
     "text": [
      "['Pyt', 'hon', ' Ku', 'rsu', ': P', 'yth', 'on ', 'Pro', 'gra', 'mal', 'ama', ' Re', 'hbe', 'rin', 'iz ', '| 4', '0 s', 'aat']\n"
     ]
    }
   ],
   "source": [
    "tr1 = \"Python Kursu: Python Programalama Rehberiniz | 40 saat\"\n",
    "\n",
    "result = re.findall(\"...\", str1) # verilen stringi 3'er 3'er ayır demek oluyor.  \n",
    "\n",
    "print(result)"
   ]
  },
  {
   "cell_type": "code",
   "execution_count": 18,
   "metadata": {},
   "outputs": [
    {
     "name": "stdout",
     "output_type": "stream",
     "text": [
      "['Pyt', 'hon', ' Ku', 'rsu', ': P', 'yth', 'on ', 'Pro', 'gra', 'mal', 'ama', ' Re', 'hbe', 'rin', 'iz ', '| 4', '0 s', 'aat']\n"
     ]
    }
   ],
   "source": [
    "str1 = \"Python Kursu: Python Programalama Rehberiniz | 40 saat\"\n",
    "\n",
    "result = re.findall(\".{3}\", str1)  # \"...\"  =  \".{3}\"\n",
    "\n",
    "print(result)"
   ]
  },
  {
   "cell_type": "code",
   "execution_count": 23,
   "metadata": {},
   "outputs": [
    {
     "name": "stdout",
     "output_type": "stream",
     "text": [
      "['Python', 'Python']\n"
     ]
    }
   ],
   "source": [
    "str1 = \"Python Kursu: Python Programalama Rehberiniz | 40 saat\"\n",
    "\n",
    "result = re.findall(\"ctrl {3}\", str1)\n",
    "result = re.findall(\"Py..on\", str1) # py ile basla , 2 tane herhangibir karakter olan ve on ile bitenleri ver \n",
    "\n",
    "print(result)\n"
   ]
  },
  {
   "cell_type": "code",
   "execution_count": 24,
   "metadata": {},
   "outputs": [
    {
     "name": "stdout",
     "output_type": "stream",
     "text": [
      "[]\n"
     ]
    }
   ],
   "source": [
    "str1 = \"Python Kursu: Python Programalama Rehberiniz | 40 saat\"\n",
    "\n",
    "result = re.findall(\"ctrl {3}\", str1)\n",
    "result = re.findall(\"Py..on\", str1)\n",
    "result = re.findall(\"^a\", str1) # kücük a ile baslayan bisey yok\n",
    "\n",
    "\n",
    "print(result)"
   ]
  },
  {
   "cell_type": "code",
   "execution_count": 25,
   "metadata": {},
   "outputs": [
    {
     "name": "stdout",
     "output_type": "stream",
     "text": [
      "['P']\n"
     ]
    }
   ],
   "source": [
    "str1 = \"Python Kursu: Python Programalama Rehberiniz | 40 saat\"\n",
    "\n",
    "result = re.findall(\"ctrl {3}\", str1)\n",
    "result = re.findall(\"Py..on\", str1)\n",
    "result = re.findall(\"^a\", str1)\n",
    "result = re.findall(\"^P\", str1) # p ile baslayanı ver\n",
    "\n",
    "\n",
    "print(result)"
   ]
  },
  {
   "cell_type": "code",
   "execution_count": 26,
   "metadata": {},
   "outputs": [
    {
     "name": "stdout",
     "output_type": "stream",
     "text": [
      "[]\n"
     ]
    }
   ],
   "source": [
    "str1 = \"Python Kursu: Python Programalama Rehberiniz | 40 saat\"\n",
    "\n",
    "result = re.findall(\"ctrl {3}\", str1)\n",
    "result = re.findall(\"Py..on\", str1)\n",
    "result = re.findall(\"^a\", str1)\n",
    "result = re.findall(\"^P\", str1)\n",
    "result = re.findall(\"a$\", str1) # a ile biten ver dedik, olmayınca bos list verdi\n",
    "\n",
    "\n",
    "print(result)"
   ]
  },
  {
   "cell_type": "code",
   "execution_count": 27,
   "metadata": {},
   "outputs": [
    {
     "name": "stdout",
     "output_type": "stream",
     "text": [
      "['t']\n"
     ]
    }
   ],
   "source": [
    "str1 = \"Python Kursu: Python Programalama Rehberiniz | 40 saat\"\n",
    "\n",
    "result = re.findall(\"ctrl {3}\", str1)\n",
    "result = re.findall(\"Py..on\", str1)\n",
    "result = re.findall(\"^a\", str1)\n",
    "result = re.findall(\"^P\", str1)\n",
    "result = re.findall(\"a$\", str1)\n",
    "result = re.findall(\"t$\", str1) # t ile biten ver dedik,\n",
    "\n",
    "\n",
    "print(result)"
   ]
  },
  {
   "cell_type": "code",
   "execution_count": 28,
   "metadata": {},
   "outputs": [
    {
     "name": "stdout",
     "output_type": "stream",
     "text": [
      "['saat']\n"
     ]
    }
   ],
   "source": [
    "str1 = \"Python Kursu: Python Programalama Rehberiniz | 40 saat\"\n",
    "\n",
    "result = re.findall(\"ctrl {3}\", str1)\n",
    "result = re.findall(\"Py..on\", str1)\n",
    "result = re.findall(\"^a\", str1)\n",
    "result = re.findall(\"^P\", str1)\n",
    "result = re.findall(\"a$\", str1)\n",
    "result = re.findall(\"t$\", str1)\n",
    "result = re.findall(\"saat$\", str1)\n",
    "\n",
    "print(result)"
   ]
  },
  {
   "cell_type": "code",
   "execution_count": 29,
   "metadata": {},
   "outputs": [
    {
     "name": "stdout",
     "output_type": "stream",
     "text": [
      "[]\n"
     ]
    }
   ],
   "source": [
    "str1 = \"Python Kursu: Python Programalama Rehberiniz | 40 saat\"\n",
    "\n",
    "result = re.findall(\"ctrl {3}\", str1)\n",
    "result = re.findall(\"Py..on\", str1)\n",
    "result = re.findall(\"^a\", str1)\n",
    "result = re.findall(\"^P\", str1)\n",
    "result = re.findall(\"a$\", str1)\n",
    "result = re.findall(\"t$\", str1)\n",
    "result = re.findall(\"saat$\", str1)\n",
    "result = re.findall(\"saatt$\", str1)\n",
    "\n",
    "\n",
    "print(result)"
   ]
  },
  {
   "cell_type": "code",
   "execution_count": 30,
   "metadata": {},
   "outputs": [
    {
     "name": "stdout",
     "output_type": "stream",
     "text": [
      "['saat']\n"
     ]
    }
   ],
   "source": [
    "str1 = \"Python Kursu: Python Programalama Rehberiniz | 40 saat\"\n",
    "\n",
    "result = re.findall(\"ctrl {3}\", str1)\n",
    "result = re.findall(\"Py..on\", str1)\n",
    "result = re.findall(\"^a\", str1)\n",
    "result = re.findall(\"^P\", str1)\n",
    "result = re.findall(\"a$\", str1)\n",
    "result = re.findall(\"t$\", str1)\n",
    "result = re.findall(\"saat$\", str1)\n",
    "result = re.findall(\"saatt$\", str1)\n",
    "result = re.findall(\"sa*t$\", str1) #\"sa*t$\" a ile t arasında aynı karakterden bir tane daha var mı yok mu diye arıyor , buna benzer varsa göster demek\n",
    "\n",
    "\n",
    "print(result)"
   ]
  },
  {
   "cell_type": "code",
   "execution_count": 31,
   "metadata": {},
   "outputs": [
    {
     "name": "stdout",
     "output_type": "stream",
     "text": [
      "['saat']\n"
     ]
    }
   ],
   "source": [
    "str1 = \"Python Kursu: Python Programalama Rehberiniz | 40 saat\"\n",
    "\n",
    "result = re.findall(\"ctrl {3}\", str1)\n",
    "result = re.findall(\"Py..on\", str1)\n",
    "result = re.findall(\"^a\", str1)\n",
    "result = re.findall(\"^P\", str1)\n",
    "result = re.findall(\"a$\", str1)\n",
    "result = re.findall(\"t$\", str1)\n",
    "result = re.findall(\"saat$\", str1)\n",
    "result = re.findall(\"saatt$\", str1)\n",
    "result = re.findall(\"sa*t$\", str1)\n",
    "result = re.findall(\"sa+t$\", str1) # a dan sonra bir karekter daha ara demek + isareti\n",
    "\n",
    "print(result)"
   ]
  },
  {
   "cell_type": "code",
   "execution_count": 32,
   "metadata": {},
   "outputs": [
    {
     "name": "stdout",
     "output_type": "stream",
     "text": [
      "['a', 'a', 'a', 'a', 'b', 'a', 'a']\n"
     ]
    }
   ],
   "source": [
    "str1 = \"Python Kursu: Python Programalama Rehberiniz | 40 saat\"\n",
    "\n",
    "result = re.findall(\"a|b\", str1)  # a veya b icerern \n",
    "\n",
    "print(result)"
   ]
  },
  {
   "cell_type": "code",
   "execution_count": 33,
   "metadata": {},
   "outputs": [
    {
     "name": "stdout",
     "output_type": "stream",
     "text": [
      "[]\n"
     ]
    }
   ],
   "source": [
    "str1 = \"Python Kursu: Python Programalama Rehberiniz | 40 saat\"\n",
    "\n",
    "result = re.findall(\"a|b\", str1)\n",
    "result = re.findall(\"(a|b|c)iz\", str1) # a , b, c iceren ve iz ile biteni ver dedik, bütün kosulu saglayan olmayınca bos liste verdi\n",
    "\n",
    "\n",
    "print(result)"
   ]
  },
  {
   "cell_type": "code",
   "execution_count": 34,
   "metadata": {},
   "outputs": [
    {
     "name": "stdout",
     "output_type": "stream",
     "text": [
      "['P', 'y', 't', 'h', 'n', ' ', 'K', 'r', 's', ':', ' ', 'P', 'y', 't', 'h', 'n', ' ', 'P', 'r', 'g', 'r', 'm', 'l', 'm', ' ', 'R', 'e', 'h', 'b', 'e', 'r', 'i', 'n', 'i', 'z', ' ', '|', ' ', '4', '0', ' ', 's', 't']\n"
     ]
    }
   ],
   "source": [
    "str1 = \"Python Kursu: Python Programalama Rehberiniz | 40 saat\"\n",
    "\n",
    "result = re.findall(\"a|b\", str1)\n",
    "result = re.findall(\"(a|b|c)iz\", str1)\n",
    "result = re.findall(\"[^auo]\", str1) # auo haric digerlerini getir demek\n",
    "\n",
    "print(result)"
   ]
  },
  {
   "cell_type": "code",
   "execution_count": 35,
   "metadata": {},
   "outputs": [
    {
     "name": "stdout",
     "output_type": "stream",
     "text": [
      "['25', '30']\n"
     ]
    }
   ],
   "source": [
    "text = \"Bugün hava 25 derece ve yarın 30 derece olacak.\"\n",
    "\n",
    "pattern = r\"\\d+\" # sayı olsun ve + ile string deki tüm sayıları al\n",
    "matches = re.findall(pattern, text)\n",
    "\n",
    "print(matches)"
   ]
  },
  {
   "cell_type": "code",
   "execution_count": 36,
   "metadata": {},
   "outputs": [
    {
     "name": "stdout",
     "output_type": "stream",
     "text": [
      "['10/11/2023', '22/11/2023']\n"
     ]
    }
   ],
   "source": [
    "text = \"Toplantı 10/11/2023 tarihinde yapılacak. Etkinlik ise 22/11/2023 tarihinde gerçekleşecek.\"\n",
    "# tarihleri almak istiyorum:\n",
    "\n",
    "pattern = r\"\\d{2}/\\d{2}/\\d{4}\"\n",
    "matches = re.findall(pattern, text)\n",
    "\n",
    "print(matches)"
   ]
  },
  {
   "cell_type": "code",
   "execution_count": 37,
   "metadata": {},
   "outputs": [
    {
     "name": "stdout",
     "output_type": "stream",
     "text": [
      "['123-45-6789']\n"
     ]
    }
   ],
   "source": [
    "text = \"Bir kişinin SSN numarası 123-45-6789'dur.\"\n",
    "# SSN numarsını bul\n",
    "\n",
    "pattern = r\"\\b\\d{3}-\\d{2}-\\d{4}\\b\" # \"\\b     \\b\" => ters slash b ifadeleri baslangıc ve bitisi gösterir, yani istedigimizi arasına yazıyoruz. Böyle bi yöntemde varmıs, böyle yapmasakta calısıyor sadece kullanımı bilmek icin gösterdi hoca\n",
    "\n",
    "matches = re.findall(pattern, text)\n",
    "\n",
    "print(matches)"
   ]
  },
  {
   "cell_type": "code",
   "execution_count": 3,
   "metadata": {},
   "outputs": [
    {
     "name": "stdout",
     "output_type": "stream",
     "text": [
      "['user@example.com']\n"
     ]
    }
   ],
   "source": [
    "text = \"İletişim için lütfen benim e-posta adresim olan user@example.com user@ada adresine yazın.\"\n",
    "# \"user@example.com\" bulun\n",
    "\n",
    "pattern = r\"\\b[A-Za-z0-9._%+-]+@[A-Za-z0-9.-]+\\.[A-Z|a-z]{2,7}\\b\"\n",
    "matches = re.findall(pattern, text, re.IGNORECASE) #re.IGNORECASE\n",
    "\n",
    "print(matches)"
   ]
  },
  {
   "cell_type": "code",
   "execution_count": 4,
   "metadata": {},
   "outputs": [
    {
     "name": "stdout",
     "output_type": "stream",
     "text": [
      "['user@example.com', 'user@ada']\n"
     ]
    }
   ],
   "source": [
    "text = \"İletişim için lütfen benim e-posta adresim olan user@example.com user@ada adresine yazın.\"\n",
    "pattern = r\"\\S+@\\S+\"   #\\S dısındaki karekterleri bulma. @'nın öncesini ve sonrasını getir\n",
    "matches = re.findall(pattern, text)\n",
    "print(matches)"
   ]
  },
  {
   "cell_type": "code",
   "execution_count": null,
   "metadata": {},
   "outputs": [],
   "source": []
  },
  {
   "cell_type": "code",
   "execution_count": null,
   "metadata": {},
   "outputs": [],
   "source": []
  },
  {
   "cell_type": "code",
   "execution_count": 4,
   "metadata": {},
   "outputs": [
    {
     "data": {
      "text/plain": [
       "['telefon ',\n",
       " '656516 ',\n",
       " '65 ',\n",
       " '1595 ',\n",
       " 'numaralar ',\n",
       " '656235 ',\n",
       " 'diğer ',\n",
       " '656335 ',\n",
       " 'mehmet ',\n",
       " '656245      ']"
      ]
     },
     "execution_count": 4,
     "metadata": {},
     "output_type": "execute_result"
    }
   ],
   "source": [
    "metin3 = \"telefon -656516 65 1595 numaralar 0555-656235 diğer 0555-656335 mehmet 0555-656245      \" # burda ilk tel numarasının önüne tire koyup denedik.ör: telefon -656516 65 1595 \n",
    "pattern = r\"\\w+\\s+\"\n",
    "re.findall(pattern, metin3)"
   ]
  }
 ],
 "metadata": {
  "kernelspec": {
   "display_name": "base",
   "language": "python",
   "name": "python3"
  },
  "language_info": {
   "codemirror_mode": {
    "name": "ipython",
    "version": 3
   },
   "file_extension": ".py",
   "mimetype": "text/x-python",
   "name": "python",
   "nbconvert_exporter": "python",
   "pygments_lexer": "ipython3",
   "version": "3.11.4"
  }
 },
 "nbformat": 4,
 "nbformat_minor": 2
}

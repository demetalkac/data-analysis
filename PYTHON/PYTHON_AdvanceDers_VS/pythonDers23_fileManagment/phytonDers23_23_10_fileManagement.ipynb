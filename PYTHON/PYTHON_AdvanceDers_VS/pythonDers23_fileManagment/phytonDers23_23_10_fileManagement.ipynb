{
 "cells": [
  {
   "cell_type": "markdown",
   "metadata": {},
   "source": [
    "# **File Management**\n",
    "## Dosya Açma ve Kapama"
   ]
  },
  {
   "cell_type": "markdown",
   "metadata": {},
   "source": [
    "-Dosyanın acılması, islenmesi, ve kapatılması\n",
    "-\"r\" okuma:Read modu. Dosya varsa içeriğini okur,dosya mevcut degilse hata verir. Varsayılan olarak dosya açarken belirtilmese bile bu modda dosya açılır.\n",
    "-\"a\" ekle .Eklemek üzere bir dosyayı acar, dosya mevcut degilse dosyayı olusturur\n",
    "-\"w\" yaz : Bir dosyayı yazmak icin acar, dosya mevcut degilse dosyayı olusturur\n",
    "        1. Write yazma olusturur.\n",
    "        2. Dosya içeriğini siler ve yeniden ekleme yapar.\n",
    "  \n",
    "-\"x\" olustur- Belirtilen dosyayı olusturur, dosya mevcutsa bir hata döndürür\n",
    "\n",
    "* \"t\" metin,varsayılandeger. Metin modu\n",
    "*\"b\" ikili. ikili mod(örn.görüntüler), büyük hacimli dosyaları acmak icin kullanılır"
   ]
  },
  {
   "cell_type": "markdown",
   "metadata": {},
   "source": [
    "### \"r\": Read modu. Dosya varsa içeriğini okur. Varsayılan olarak dosya açarken belirtilmese bile bu modda dosya açılır."
   ]
  },
  {
   "cell_type": "code",
   "execution_count": 1,
   "metadata": {},
   "outputs": [
    {
     "ename": "FileNotFoundError",
     "evalue": "[Errno 2] No such file or directory: 'metinDosyasi.txt'",
     "output_type": "error",
     "traceback": [
      "\u001b[1;31m---------------------------------------------------------------------------\u001b[0m",
      "\u001b[1;31mFileNotFoundError\u001b[0m                         Traceback (most recent call last)",
      "\u001b[1;32mc:\\Users\\Techpro\\Desktop\\AdvancePython\\session_23_23_10_2023_fileManagement.ipynb Cell 2\u001b[0m line \u001b[0;36m1\n\u001b[1;32m----> <a href='vscode-notebook-cell:/c%3A/Users/Techpro/Desktop/AdvancePython/session_23_23_10_2023_fileManagement.ipynb#W0sZmlsZQ%3D%3D?line=0'>1</a>\u001b[0m result \u001b[39m=\u001b[39m \u001b[39mopen\u001b[39;49m(\u001b[39m\"\u001b[39;49m\u001b[39mmetinDosyasi.txt\u001b[39;49m\u001b[39m\"\u001b[39;49m, \u001b[39m\"\u001b[39;49m\u001b[39mr\u001b[39;49m\u001b[39m\"\u001b[39;49m)\n",
      "File \u001b[1;32m~\\AppData\\Roaming\\Python\\Python311\\site-packages\\IPython\\core\\interactiveshell.py:284\u001b[0m, in \u001b[0;36m_modified_open\u001b[1;34m(file, *args, **kwargs)\u001b[0m\n\u001b[0;32m    277\u001b[0m \u001b[39mif\u001b[39;00m file \u001b[39min\u001b[39;00m {\u001b[39m0\u001b[39m, \u001b[39m1\u001b[39m, \u001b[39m2\u001b[39m}:\n\u001b[0;32m    278\u001b[0m     \u001b[39mraise\u001b[39;00m \u001b[39mValueError\u001b[39;00m(\n\u001b[0;32m    279\u001b[0m         \u001b[39mf\u001b[39m\u001b[39m\"\u001b[39m\u001b[39mIPython won\u001b[39m\u001b[39m'\u001b[39m\u001b[39mt let you open fd=\u001b[39m\u001b[39m{\u001b[39;00mfile\u001b[39m}\u001b[39;00m\u001b[39m by default \u001b[39m\u001b[39m\"\u001b[39m\n\u001b[0;32m    280\u001b[0m         \u001b[39m\"\u001b[39m\u001b[39mas it is likely to crash IPython. If you know what you are doing, \u001b[39m\u001b[39m\"\u001b[39m\n\u001b[0;32m    281\u001b[0m         \u001b[39m\"\u001b[39m\u001b[39myou can use builtins\u001b[39m\u001b[39m'\u001b[39m\u001b[39m open.\u001b[39m\u001b[39m\"\u001b[39m\n\u001b[0;32m    282\u001b[0m     )\n\u001b[1;32m--> 284\u001b[0m \u001b[39mreturn\u001b[39;00m io_open(file, \u001b[39m*\u001b[39;49margs, \u001b[39m*\u001b[39;49m\u001b[39m*\u001b[39;49mkwargs)\n",
      "\u001b[1;31mFileNotFoundError\u001b[0m: [Errno 2] No such file or directory: 'metinDosyasi.txt'"
     ]
    }
   ],
   "source": [
    "#        open dosya adı. txt   okuma modunda istiyorsak r\n",
    "result = open(\"metinDosyasi.txt\", \"r\") # metin dosyası.txt diye bir dosya yok daha acmadık,o nedenle hata verir. biz dosyayı r ile okumaya calıstık o nedenle hata verdi"
   ]
  },
  {
   "cell_type": "markdown",
   "metadata": {},
   "source": [
    "### \"w\": (Write) yazma modu. \n",
    "1. Dosyayı konumda oluşturur.\n",
    "2. Dosya içeriğini siler ve yeniden ekleme yapar.\n",
    "!!!!! bunu kullanmak biraz tehlikeli var olan bir dosyayı silip olusturr o nedenle dikkatli kullanmak gerek"
   ]
  },
  {
   "cell_type": "code",
   "execution_count": null,
   "metadata": {},
   "outputs": [],
   "source": [
    "# !!!!HACANIN BİLG WİNDOWS\n",
    "# result = open(\"metinDosyasi.txt\", \"w\")\n",
    "\n",
    "# print(result)\n",
    "\n",
    "# result.close()\n",
    "# yukardaki kodu windovs  da calıstırınca söyle bi sonuc verir: <_io.TextIOWrapper name='metinDosyasi.txt' mode='w' encoding='cp1254'>\n",
    "#windovslarda encoding(kodlama sistemi) belirtmek gerekiyor, dosyada olanları encoding ile yazıya dökiyor bilgisayar: su sekilde yazıyoruz => result = open(\"metinDosyasi.txt\", \"w\", encoding=\"utf-8\")\n",
    "#"
   ]
  },
  {
   "cell_type": "code",
   "execution_count": 6,
   "metadata": {},
   "outputs": [
    {
     "name": "stdout",
     "output_type": "stream",
     "text": [
      "<_io.TextIOWrapper name='metinDosyasi.txt' mode='w' encoding='utf-8'>\n"
     ]
    }
   ],
   "source": [
    "# !!!!HACANIN BİLG WİNDOWS\n",
    "# result = open(\"metinDosyasi.txt\", \"w\", encoding=\"utf-8\")\n",
    "\n",
    "# result.write(\"dişdfsşşööğüüğ\")\n",
    "\n",
    "# print(result)\n",
    "\n",
    "# result.close()"
   ]
  },
  {
   "cell_type": "code",
   "execution_count": 3,
   "metadata": {},
   "outputs": [
    {
     "name": "stdout",
     "output_type": "stream",
     "text": [
      "<_io.TextIOWrapper name='metinDosyası.txt' mode='w' encoding='UTF-8'>\n"
     ]
    }
   ],
   "source": [
    "# dosyayı belirttik ve icine deneme\" diye yazdık, calıstırınca dosya olustu fakat \"deneme\" diye yazdıgımız yazıyı dosya icinde göremedik, \n",
    "#  cünkü kapatma isleminden sonra dosya icine yazdıklarımızı eklenmis oldugunu görürüz.\n",
    "result = open(\"metinDosyası.txt\", \"w\")\n",
    "\n",
    "result.write(\"deneme\")  # sadece yazma yapıp test varmı diyip bakınca dosyada birsey göremeyiz. kapatma (close) da yapmalıyız.\n",
    "\n",
    "print(result)\n",
    "\n"
   ]
  },
  {
   "cell_type": "code",
   "execution_count": 8,
   "metadata": {},
   "outputs": [
    {
     "name": "stdout",
     "output_type": "stream",
     "text": [
      "<_io.TextIOWrapper name='metinDosyasi.txt' mode='w' encoding='UTF-8'>\n"
     ]
    }
   ],
   "source": [
    "# encoding='UTF-8'> => windoslarda UTF yerine baska birseyler yazıyor bunu degisiklik icin degistirmek gerekiyor\n",
    "result = open(\"metinDosyasi.txt\", \"w\")\n",
    "\n",
    "result.write(\"deneme\")\n",
    "result.write(\"djhklyksa\")\n",
    "print(result)\n",
    "\n",
    "result.close() #kapatma isleminden sonra dosya icine yazdıklarımızı eklenmis oldugunu görürüz."
   ]
  },
  {
   "cell_type": "code",
   "execution_count": null,
   "metadata": {},
   "outputs": [],
   "source": [
    "# windovs icin denemasaüstünde actıgımız bir dosyanın yolunu kopyalayıp yapıstırma\n",
    "file = open()"
   ]
  },
  {
   "cell_type": "code",
   "execution_count": 5,
   "metadata": {},
   "outputs": [],
   "source": [
    "file = open(\"/Users/boravolkanalkac/Desktop/dene/yeniMetinDosyası.txt\", \"w\" )\n",
    "file.write(\"Sana erisiebildim\")\n",
    "file.close()"
   ]
  },
  {
   "cell_type": "code",
   "execution_count": 8,
   "metadata": {},
   "outputs": [],
   "source": [
    "# !!!!HACANIN BİLG WİNDOWS\n",
    "# file = open(r\"C:\\Users\\Techpro\\Desktop\\dene\\yeniMetinDosyasi.txt\", \"w\", encoding=\"utf-8\") # yolunu belirtirken dosyanın windowsda \\ ile ayırır dosyaları bu nedenle \n",
    "                                # calıstırırken python onu kacıs simgesi gibi algıladıgı icin hata verir. BU HATAYI CÖZMEK İCİN İSE \"r\" harfini koyuluyor.\n",
    "                                # Yada ters sılas yapılabilir : file = open(\"C:\\\\Users\\\\Techpro\\\\Desktop\\\\dene\\\\yeniMetinDosyasi.txt\", \"w\", encoding=\"utf-8\")\n",
    "                                # veya cift slash \"\\\\\" yapılabilir.  file = open(\"C:\\\\Users\\\\Techpro\\\\Desktop\\\\dene\\\\yeniMetinDosyasi.txt\", \"w\", encoding=\"utf-8\")\n",
    "\n",
    "# file.write(\"Sana erişebildim\")\n",
    "\n",
    "# file.close()"
   ]
  },
  {
   "cell_type": "code",
   "execution_count": 6,
   "metadata": {},
   "outputs": [],
   "source": [
    "file = open(\"/Users/boravolkanalkac/Desktop/dene/yeniMetinDosyası.txt\", \"w\" )\n",
    "\n",
    "\n",
    "file.write(\"Sana ikinci kez erişebildim\")\n",
    "\n",
    "file.close()"
   ]
  },
  {
   "cell_type": "code",
   "execution_count": 13,
   "metadata": {},
   "outputs": [],
   "source": [
    "# !!!!HACANIN BİLG WİNDOWS\n",
    "# file = open(\"metinDosyasi.txt\", \"w\", encoding=\"utf-8\")\n",
    "\n",
    "# file.write(\"içerik değişti\")\n",
    "\n",
    "# file.close()"
   ]
  },
  {
   "cell_type": "code",
   "execution_count": 9,
   "metadata": {},
   "outputs": [],
   "source": [
    "file = open(\"metinDosyasi.txt\", \"w\")\n",
    "\n",
    "file.write(\"içerik değişti\")\n",
    "\n",
    "file.close()"
   ]
  },
  {
   "cell_type": "markdown",
   "metadata": {},
   "source": [
    "\"a\": (Append) ekleme. Dosya konumda yoksa oluşturur. Dosya içeriğini silmez"
   ]
  },
  {
   "cell_type": "code",
   "execution_count": 11,
   "metadata": {},
   "outputs": [],
   "source": [
    "file = open(\"metinDosyasi.txt\", \"a\") # kac kere calıstırırsam o kadar yazar\n",
    "\n",
    "file.write(\"\\nBu satırı dosyaya append et\")\n",
    "\n",
    "file.close()"
   ]
  },
  {
   "cell_type": "markdown",
   "metadata": {},
   "source": [
    "\"x\": (Create) oluşturma. Dosya zaten varsa hata verir."
   ]
  },
  {
   "cell_type": "code",
   "execution_count": 13,
   "metadata": {},
   "outputs": [
    {
     "ename": "FileExistsError",
     "evalue": "[Errno 17] File exists: 'metinDosyasi.txt'",
     "output_type": "error",
     "traceback": [
      "\u001b[0;31m---------------------------------------------------------------------------\u001b[0m",
      "\u001b[0;31mFileExistsError\u001b[0m                           Traceback (most recent call last)",
      "\u001b[1;32m/Users/boravolkanalkac/Documents/Demet/DATA SCIENCE TECHPRO/PYTHON/PYTHON_AdvanceDers_VS/session_23_23_10_2023_fileManagement.ipynb Cell 19\u001b[0m line \u001b[0;36m1\n\u001b[0;32m----> <a href='vscode-notebook-cell:/Users/boravolkanalkac/Documents/Demet/DATA%20SCIENCE%20TECHPRO/PYTHON/PYTHON_AdvanceDers_VS/session_23_23_10_2023_fileManagement.ipynb#X64sZmlsZQ%3D%3D?line=0'>1</a>\u001b[0m file \u001b[39m=\u001b[39m \u001b[39mopen\u001b[39m(\u001b[39m\"\u001b[39m\u001b[39mmetinDosyasi.txt\u001b[39m\u001b[39m\"\u001b[39m, \u001b[39m\"\u001b[39m\u001b[39mx\u001b[39m\u001b[39m\"\u001b[39m)\n\u001b[1;32m      <a href='vscode-notebook-cell:/Users/boravolkanalkac/Documents/Demet/DATA%20SCIENCE%20TECHPRO/PYTHON/PYTHON_AdvanceDers_VS/session_23_23_10_2023_fileManagement.ipynb#X64sZmlsZQ%3D%3D?line=2'>3</a>\u001b[0m file\u001b[39m.\u001b[39mwrite(\u001b[39m\"\u001b[39m\u001b[39m\\n\u001b[39;00m\u001b[39m x modunda ekleme\u001b[39m\u001b[39m\"\u001b[39m)\n\u001b[1;32m      <a href='vscode-notebook-cell:/Users/boravolkanalkac/Documents/Demet/DATA%20SCIENCE%20TECHPRO/PYTHON/PYTHON_AdvanceDers_VS/session_23_23_10_2023_fileManagement.ipynb#X64sZmlsZQ%3D%3D?line=4'>5</a>\u001b[0m file\u001b[39m.\u001b[39mclose()\n",
      "File \u001b[0;32m~/anaconda3/lib/python3.11/site-packages/IPython/core/interactiveshell.py:284\u001b[0m, in \u001b[0;36m_modified_open\u001b[0;34m(file, *args, **kwargs)\u001b[0m\n\u001b[1;32m    277\u001b[0m \u001b[39mif\u001b[39;00m file \u001b[39min\u001b[39;00m {\u001b[39m0\u001b[39m, \u001b[39m1\u001b[39m, \u001b[39m2\u001b[39m}:\n\u001b[1;32m    278\u001b[0m     \u001b[39mraise\u001b[39;00m \u001b[39mValueError\u001b[39;00m(\n\u001b[1;32m    279\u001b[0m         \u001b[39mf\u001b[39m\u001b[39m\"\u001b[39m\u001b[39mIPython won\u001b[39m\u001b[39m'\u001b[39m\u001b[39mt let you open fd=\u001b[39m\u001b[39m{\u001b[39;00mfile\u001b[39m}\u001b[39;00m\u001b[39m by default \u001b[39m\u001b[39m\"\u001b[39m\n\u001b[1;32m    280\u001b[0m         \u001b[39m\"\u001b[39m\u001b[39mas it is likely to crash IPython. If you know what you are doing, \u001b[39m\u001b[39m\"\u001b[39m\n\u001b[1;32m    281\u001b[0m         \u001b[39m\"\u001b[39m\u001b[39myou can use builtins\u001b[39m\u001b[39m'\u001b[39m\u001b[39m open.\u001b[39m\u001b[39m\"\u001b[39m\n\u001b[1;32m    282\u001b[0m     )\n\u001b[0;32m--> 284\u001b[0m \u001b[39mreturn\u001b[39;00m io_open(file, \u001b[39m*\u001b[39margs, \u001b[39m*\u001b[39m\u001b[39m*\u001b[39mkwargs)\n",
      "\u001b[0;31mFileExistsError\u001b[0m: [Errno 17] File exists: 'metinDosyasi.txt'"
     ]
    }
   ],
   "source": [
    "file = open(\"metinDosyasi.txt\", \"x\") # \"metinDosyasi.txt\" dosyası oldugu icin , dosya var zaten diye bana hata veriyor. \"w\" modu dosya olsada var olanı silip \n",
    "                                     #  yenisini olusturuyordu, \"x\" ise var ise dosya hata verir, farkı bu \"w\" ile.\n",
    "file.write(\"\\n x modunda ekleme\")\n",
    "\n",
    "file.close()"
   ]
  },
  {
   "cell_type": "code",
   "execution_count": 12,
   "metadata": {},
   "outputs": [],
   "source": [
    "file = open(\"metinDosyasi2.txt\", \"x\")\n",
    "\n",
    "file.write(\"\\n x modunda ekleme\")\n",
    "\n",
    "file.close()"
   ]
  },
  {
   "cell_type": "markdown",
   "metadata": {},
   "source": [
    "\"r\": (Read) okuma. varsayılan. dosya konumda yoksa hata verir."
   ]
  },
  {
   "cell_type": "code",
   "execution_count": 14,
   "metadata": {},
   "outputs": [
    {
     "name": "stdout",
     "output_type": "stream",
     "text": [
      "<_io.TextIOWrapper name='metinDosyasi.txt' mode='r' encoding='UTF-8'>\n"
     ]
    }
   ],
   "source": [
    "# sadece okuma yapacagı icin kodu actı, fakat icindekileri okumak icn ekstra islem yapmak gerekiyor.\n",
    "file = open(\"metinDosyasi.txt\")\n",
    "print(file)\n",
    "file.close()"
   ]
  },
  {
   "cell_type": "code",
   "execution_count": 22,
   "metadata": {},
   "outputs": [
    {
     "ename": "FileNotFoundError",
     "evalue": "[Errno 2] No such file or directory: 'metinDosyasi3.txt'",
     "output_type": "error",
     "traceback": [
      "\u001b[1;31m---------------------------------------------------------------------------\u001b[0m",
      "\u001b[1;31mFileNotFoundError\u001b[0m                         Traceback (most recent call last)",
      "\u001b[1;32mc:\\Users\\Techpro\\Desktop\\AdvancePython\\session_23_23_10_2023_fileManagement.ipynb Cell 15\u001b[0m line \u001b[0;36m1\n\u001b[1;32m----> <a href='vscode-notebook-cell:/c%3A/Users/Techpro/Desktop/AdvancePython/session_23_23_10_2023_fileManagement.ipynb#X20sZmlsZQ%3D%3D?line=0'>1</a>\u001b[0m file \u001b[39m=\u001b[39m \u001b[39mopen\u001b[39;49m(\u001b[39m\"\u001b[39;49m\u001b[39mmetinDosyasi3.txt\u001b[39;49m\u001b[39m\"\u001b[39;49m)\n\u001b[0;32m      <a href='vscode-notebook-cell:/c%3A/Users/Techpro/Desktop/AdvancePython/session_23_23_10_2023_fileManagement.ipynb#X20sZmlsZQ%3D%3D?line=1'>2</a>\u001b[0m \u001b[39mprint\u001b[39m(file)\n\u001b[0;32m      <a href='vscode-notebook-cell:/c%3A/Users/Techpro/Desktop/AdvancePython/session_23_23_10_2023_fileManagement.ipynb#X20sZmlsZQ%3D%3D?line=2'>3</a>\u001b[0m file\u001b[39m.\u001b[39mclose()\n",
      "File \u001b[1;32m~\\AppData\\Roaming\\Python\\Python311\\site-packages\\IPython\\core\\interactiveshell.py:284\u001b[0m, in \u001b[0;36m_modified_open\u001b[1;34m(file, *args, **kwargs)\u001b[0m\n\u001b[0;32m    277\u001b[0m \u001b[39mif\u001b[39;00m file \u001b[39min\u001b[39;00m {\u001b[39m0\u001b[39m, \u001b[39m1\u001b[39m, \u001b[39m2\u001b[39m}:\n\u001b[0;32m    278\u001b[0m     \u001b[39mraise\u001b[39;00m \u001b[39mValueError\u001b[39;00m(\n\u001b[0;32m    279\u001b[0m         \u001b[39mf\u001b[39m\u001b[39m\"\u001b[39m\u001b[39mIPython won\u001b[39m\u001b[39m'\u001b[39m\u001b[39mt let you open fd=\u001b[39m\u001b[39m{\u001b[39;00mfile\u001b[39m}\u001b[39;00m\u001b[39m by default \u001b[39m\u001b[39m\"\u001b[39m\n\u001b[0;32m    280\u001b[0m         \u001b[39m\"\u001b[39m\u001b[39mas it is likely to crash IPython. If you know what you are doing, \u001b[39m\u001b[39m\"\u001b[39m\n\u001b[0;32m    281\u001b[0m         \u001b[39m\"\u001b[39m\u001b[39myou can use builtins\u001b[39m\u001b[39m'\u001b[39m\u001b[39m open.\u001b[39m\u001b[39m\"\u001b[39m\n\u001b[0;32m    282\u001b[0m     )\n\u001b[1;32m--> 284\u001b[0m \u001b[39mreturn\u001b[39;00m io_open(file, \u001b[39m*\u001b[39;49margs, \u001b[39m*\u001b[39;49m\u001b[39m*\u001b[39;49mkwargs)\n",
      "\u001b[1;31mFileNotFoundError\u001b[0m: [Errno 2] No such file or directory: 'metinDosyasi3.txt'"
     ]
    }
   ],
   "source": [
    "file = open(\"metinDosyasi3.txt\") # \"metinDosyasi3.txt\" dosyası olmadıgı icin hata verdi\n",
    "print(file)\n",
    "file.close()"
   ]
  },
  {
   "cell_type": "code",
   "execution_count": 15,
   "metadata": {},
   "outputs": [
    {
     "name": "stdout",
     "output_type": "stream",
     "text": [
      "Dosya bulunamadi.\n",
      "Dosya kapandı\n"
     ]
    }
   ],
   "source": [
    "try:\n",
    "    file = open(\"metinDosyasi3.txt\", \"r\") # try'ı dosyanın olup olmadıgını kontrol edecek, hata yoksa dosya acılacak\n",
    "    print(file)\n",
    "except FileNotFoundError:  # hata olursa burası calısacak\n",
    "    print(\"Dosya bulunamadi.\")\n",
    "finally:                   # dosyayı kapatmamız gerektigi icin finally\" icine koyduk, herhalukarda finally kodu calısacagı icin kod calıssada calısmasada dosyayı kapatması icin.\n",
    "    print(\"Dosya kapandı\")\n",
    "    file.close()"
   ]
  },
  {
   "cell_type": "code",
   "execution_count": 17,
   "metadata": {},
   "outputs": [
    {
     "name": "stdout",
     "output_type": "stream",
     "text": [
      "<_io.TextIOWrapper name='metinDosyasi.txt' mode='r' encoding='UTF-8'>\n",
      "Dosya kapandı\n"
     ]
    }
   ],
   "source": [
    "try:\n",
    "    file = open(\"metinDosyasi.txt\", \"r\") # try'ı dosyanın olup olmadıgını kontrol edecek, hata yoksa dosya acılacak\n",
    "    print(file)\n",
    "except FileNotFoundError:  # hata olursa burası calısacak\n",
    "    print(\"Dosya bulunamadi.\")\n",
    "finally:                   # dosyayı kapatmamız gerektigi icin finally\" icine koyduk, herhalukarda finally kodu calısacagı icin kod calıssada calısmasada dosyayı kapatması icin.\n",
    "    print(\"Dosya kapandı\")\n",
    "    file.close()"
   ]
  },
  {
   "cell_type": "code",
   "execution_count": 18,
   "metadata": {},
   "outputs": [
    {
     "name": "stdout",
     "output_type": "stream",
     "text": [
      "içerik değişti\n",
      "\n",
      "Bu satırı dosyaya append et\n",
      "\n",
      "Bu satırı dosyaya append et\n"
     ]
    }
   ],
   "source": [
    "# dosyanın icini okumak istiyorum, icerigine ulasmak istiyorum, o nedenle for icine attık\n",
    "file = open(\"metinDosyasi.txt\", \"r\", encoding=\"utf-8\")\n",
    "\n",
    "for satir in file:\n",
    "    print(satir)\n",
    "\n",
    "file.close()"
   ]
  },
  {
   "cell_type": "code",
   "execution_count": 19,
   "metadata": {},
   "outputs": [
    {
     "name": "stdout",
     "output_type": "stream",
     "text": [
      "içerik1\n",
      "içerik değişti\n",
      "Bu satırı dosyaya append et\n",
      "Bu satırı dosyaya append et\n",
      "içerik2\n",
      "\n"
     ]
    }
   ],
   "source": [
    "# read, biz sınır koymazsak dosyaya gider bastan okur sona gelince baska okuyacak birsey olmadıgı icin 2. kez okumaz. \n",
    "# Bu nedenle \"content1 = file.read()\" calıstı okudu, ama \"content2 = file.read()\" okuyacak birsey bulamadı, basa döndürmedigimiz icin böyle kaldı.\n",
    "file = open(\"metinDosyasi.txt\", \"r\")\n",
    "\n",
    "content1 = file.read() # read() fonksiyonu satır satır okur dosyayı. Eger parantezine birsey yazarsak ona göre okuması gereken yere göre okur. Parantezi bos bırakırsak dosyanın hepsini okur\n",
    "print(\"içerik1\")\n",
    "print(content1)\n",
    "content2 = file.read()\n",
    "print(\"içerik2\")\n",
    "print(content2)\n",
    "\n",
    "file.close()"
   ]
  },
  {
   "cell_type": "code",
   "execution_count": 22,
   "metadata": {},
   "outputs": [
    {
     "name": "stdout",
     "output_type": "stream",
     "text": [
      "içerik değişti\n",
      "\n"
     ]
    }
   ],
   "source": [
    "file = open(\"metinDosyasi.txt\", \"r\", encoding=\"utf-8\")\n",
    "\n",
    "content = file.read(15) #read(15) => ilk 15 i okudu\n",
    "\n",
    "\n",
    "print(content)\n",
    "\n",
    "file.close()"
   ]
  },
  {
   "cell_type": "code",
   "execution_count": 23,
   "metadata": {},
   "outputs": [
    {
     "name": "stdout",
     "output_type": "stream",
     "text": [
      "Bu satırı dosyaya ap\n"
     ]
    }
   ],
   "source": [
    "file = open(\"metinDosyasi.txt\", \"r\", encoding=\"utf-8\")\n",
    "\n",
    "content = file.read(15) #read(15) => ilk 15 i okudu\n",
    "content = file.read(20) #read(20) => 15'den sonra 20 taneyi okur\n",
    "\n",
    "print(content)\n",
    "\n",
    "file.close()"
   ]
  },
  {
   "cell_type": "code",
   "execution_count": 28,
   "metadata": {},
   "outputs": [
    {
     "name": "stdout",
     "output_type": "stream",
     "text": [
      " satırı dosyaya append et\n"
     ]
    }
   ],
   "source": [
    "file = open(\"metinDosyasi.txt\", \"r\", encoding=\"utf-8\")\n",
    "\n",
    "content = file.read(15) #read(15) => ilk 15 i okudu => içerik değişti\n",
    "content = file.read(20) #read(20) => 15'den sonra 20 tane karakteri okur => Bu satırı dosyaya ap\n",
    "content = file.read(10) #read(10) => 15+20=35'den sonra 10 tane karakteri okur => pend et Bu\n",
    "content = file.read(50) #read(50) => 35+10=45'den sonra 50 tane karakteri okur => satırı dosyaya append et\n",
    "\n",
    "print(content)\n",
    "\n",
    "file.close()"
   ]
  },
  {
   "cell_type": "code",
   "execution_count": 32,
   "metadata": {},
   "outputs": [
    {
     "name": "stdout",
     "output_type": "stream",
     "text": [
      " satırı dosyaya append et\n",
      "Bu satırı dosyaya append\n"
     ]
    }
   ],
   "source": [
    "file = open(\"metinDosyasi.txt\", \"r\", encoding=\"utf-8\")\n",
    "\n",
    "content = file.read(15)\n",
    "content = file.read(20)\n",
    "content = file.read(10)\n",
    "content = file.read(50)\n",
    "\n",
    "\n",
    "print(content)\n",
    "\n",
    "file.close()"
   ]
  },
  {
   "cell_type": "markdown",
   "metadata": {},
   "source": [
    "#### readline() fonksiyonu"
   ]
  },
  {
   "cell_type": "markdown",
   "metadata": {},
   "source": [
    "readline() fonksiyonu, read() fonksiyonun bi alt fonksiyonudur.dosyayı satır satır okur, yani bir kere cagrınca sadece bir satırı okur, yani bastan sona metni okumaz."
   ]
  },
  {
   "cell_type": "code",
   "execution_count": 29,
   "metadata": {},
   "outputs": [
    {
     "name": "stdout",
     "output_type": "stream",
     "text": [
      "içerik değişti\n",
      "Bu satırı dosyaya append et\n",
      "Bu satırı dosyaya append et"
     ]
    }
   ],
   "source": [
    "file = open(\"metinDosyasi.txt\", \"r\")\n",
    "\n",
    "print(file.readline(), end=\"\") # içerik değişti\n",
    "print(file.readline(), end=\"\") # Bu satırı dosyaya append et\n",
    "print(file.readline(), end=\"\")  # Bu satırı dosyaya append et\n",
    "print(file.readline(), end=\"\") # her calıtıgında olan satırlardan birer birer getirdi, stırlar bitince calısıyor ama hata vermiyor, getirecek birseyi yok cünkü\n",
    "print(file.readline(), end=\"\")\n",
    "print(file.readline(), end=\"\")\n",
    "print(file.readline(), end=\"\")\n",
    "\n",
    "file.close()"
   ]
  },
  {
   "cell_type": "code",
   "execution_count": 33,
   "metadata": {},
   "outputs": [
    {
     "name": "stdout",
     "output_type": "stream",
     "text": [
      "Bu satırı dosyaya append et\n",
      "\n",
      "\n"
     ]
    }
   ],
   "source": [
    "file = open(\"metinDosyasi.txt\", \"r\", encoding=\"utf-8\")\n",
    "\n",
    "for i in file:\n",
    "    print(file.readline())\n",
    "\n",
    "file.close()"
   ]
  },
  {
   "cell_type": "markdown",
   "metadata": {},
   "source": [
    "#### readlines() fonsiyonu"
   ]
  },
  {
   "cell_type": "markdown",
   "metadata": {},
   "source": [
    "readlines() fonsiyonu okuduklarını listeye cevirir."
   ]
  },
  {
   "cell_type": "code",
   "execution_count": 12,
   "metadata": {},
   "outputs": [
    {
     "name": "stdout",
     "output_type": "stream",
     "text": [
      "['içerik değişti\\n', 'Bu satırı dosyaya append et\\n', 'Bu satırı dosyaya append et']\n"
     ]
    }
   ],
   "source": [
    "file = open(\"metinDosyasi.txt\", \"r\")\n",
    "\n",
    "liste = file.readlines() # readlines() list sekline cevidi, ve bunu biz bir degiskene koyduk.\n",
    "print(liste)\n",
    "\n",
    "file.close()"
   ]
  },
  {
   "cell_type": "code",
   "execution_count": 10,
   "metadata": {},
   "outputs": [
    {
     "name": "stdout",
     "output_type": "stream",
     "text": [
      "içerik değişti\n",
      "\n",
      "Bu satırı dosyaya append et\n",
      "\n",
      "Bu satırı dosyaya append et\n"
     ]
    }
   ],
   "source": [
    "file = open(\"metinDosyasi.txt\", \"r\")\n",
    "\n",
    "liste = file.readlines()\n",
    "# print(liste)\n",
    "\n",
    "for i in liste:\n",
    "    print(i)\n",
    "\n",
    "file.close()"
   ]
  },
  {
   "cell_type": "code",
   "execution_count": 13,
   "metadata": {},
   "outputs": [],
   "source": [
    "file = open(\"siir1.txt\", \"w\")\n",
    "file.write(\"\"\"\n",
    "Ağlasam sesimi duyar mısınız,\n",
    "Mısralarımda;\n",
    "Dokunabilir misiniz,\n",
    "Göz yaşlarıma, ellerinizle?\n",
    "\n",
    "Bilmezdim şarkıların bu kadar güzel,\n",
    "Kelimelerinse kifayetsiz olduğunu\n",
    "Bu derde düşmeden önce.\n",
    "\n",
    "Bir yer var, biliyorum;\n",
    "Her şeyi söylemek mümkün;\n",
    "Epeyce yaklaşmışım, duyuyorum;\n",
    "Anlatamıyorum.\n",
    "\"\"\")\n",
    "\n",
    "file.close()"
   ]
  },
  {
   "cell_type": "code",
   "execution_count": 14,
   "metadata": {},
   "outputs": [
    {
     "name": "stdout",
     "output_type": "stream",
     "text": [
      "\n",
      "Ağlasam sesimi duyar mısınız,\n",
      "Mısralarımda;\n",
      "Dokunabilir misiniz,\n",
      "Göz yaşlarıma, ellerinizle?\n",
      "\n",
      "Bilmezdim şarkıların bu kadar güzel,\n",
      "Kelimelerinse kifayetsiz olduğunu\n",
      "Bu derde düşmeden önce.\n",
      "\n",
      "Bir yer var, biliyorum;\n",
      "Her şeyi söylemek mümkün;\n",
      "Epeyce yaklaşmışım, duyuyorum;\n",
      "Anlatamıyorum.\n",
      "\n"
     ]
    }
   ],
   "source": [
    "file = open(\"siir1.txt\", \"r\", encoding=\"utf-8\")\n",
    "\n",
    "print(file.read())\n",
    "\n",
    "file.close()\n"
   ]
  },
  {
   "cell_type": "markdown",
   "metadata": {},
   "source": [
    "-seek() fonksiyonu parantezine yazdıgımız byte'a döndürür, aslında nereye dönmek istiyorsak parantezine yazdıgımız byte gider ve ordan baslar metni okumaya. -read() i kullandıgımızda parantezine yazdıgımız kadar ilerler, bir read daha kullansak bu sefer ilk read nereye kadar okudu ise 2.si onun kaldıgı yarden itibaren okur. Fakat ben bastan okumak istersem, veya belli bir yerden baslamak istersem seek() kulanmam gerekir."
   ]
  },
  {
   "cell_type": "code",
   "execution_count": 19,
   "metadata": {},
   "outputs": [
    {
     "name": "stdout",
     "output_type": "stream",
     "text": [
      "\n",
      "Ağlasam sesimi duyar mısınız,\n",
      "Mısralarımda;\n",
      "Dokunabilir misiniz,\n",
      "Göz yaşlarıma, ellerinizle?\n",
      "\n",
      "Bilmezdim şarkıların bu kadar güzel,\n",
      "Kelimelerinse kifayetsiz olduğunu\n",
      "Bu derde düşmeden önce.\n",
      "\n",
      "Bir yer v\n",
      "\n",
      "\n",
      "Dokunabilir misiniz,\n",
      "Göz yaşlarıma, ellerinizle?\n",
      "\n",
      "Bilmezdim şarkıların bu kadar güzel,\n",
      "Kelimelerinse kifayetsiz olduğunu\n",
      "Bu derde düşmeden önce.\n",
      "\n",
      "Bir yer var, biliyorum;\n",
      "Her şeyi söylemek mümkün;\n",
      "Epe\n"
     ]
    }
   ],
   "source": [
    "file = open(\"siir1.txt\", \"r\", encoding=\"utf-8\")\n",
    "\n",
    "content = file.read(200) # 200 karakter gitti => seek(50) ile tekrar 50. byte nerden baslıyorsa oraya döndü ve sonraki read(200) ile 50. byte'dan basladı ve sonraki 200 karakteri aldı\n",
    "print(content)\n",
    "file.seek(50) # seek() fonksiyonu parantezine yazdıgımız byte'a döndürür. \n",
    "print()\n",
    "content = file.read(200)\n",
    "print(content)\n",
    "\n",
    "file.close()"
   ]
  },
  {
   "cell_type": "markdown",
   "metadata": {},
   "source": [
    "#### with open contexti"
   ]
  },
  {
   "cell_type": "markdown",
   "metadata": {},
   "source": [
    "** file.close() kullanmadan dosya icinde yaptıgımızı görebiliriz. Bunu \"with open()\" ile yaparız. \"with open()\" bir fonksiyon parcası gibidir, dosyayı acar,fakat altında if cümleleri gibi kendine ait komutları kullanmamız gerekir. \n",
    "-devamlı cagırıp kullanacagımız icin bir ad verebiliriz: with open(\"siir1.txt\", \"r\", encoding=\"utf-8\") as file:\n",
    "** tell()) fonksiyonu nerde oldugumuzu verir."
   ]
  },
  {
   "cell_type": "code",
   "execution_count": 20,
   "metadata": {},
   "outputs": [
    {
     "name": "stdout",
     "output_type": "stream",
     "text": [
      "\n",
      "Ağlasam sesimi duyar mısınız,\n",
      "Mısralarımda;\n",
      "Dokunabilir misiniz,\n",
      "Göz yaşlarıma, ellerinizle?\n",
      "\n",
      "Bilmezdim şarkıların bu kadar güzel,\n",
      "Kelimelerinse kifayetsiz olduğunu\n",
      "Bu derde düşmeden önce.\n",
      "\n",
      "Bir yer var, biliyorum;\n",
      "Her şeyi söylemek mümkün;\n",
      "Epeyce ya\n",
      "271\n"
     ]
    }
   ],
   "source": [
    "# file.close() kullanmadan dosya icinde yaptıgımızı görebiliriz. \n",
    "with open(\"siir1.txt\", \"r\", encoding=\"utf-8\") as file:\n",
    "    content = file.read(250)\n",
    "    print(content)\n",
    "    print(file.tell()) # tell()) fonksiyonu nerde oldugumuzu verir. =>271"
   ]
  },
  {
   "cell_type": "code",
   "execution_count": 22,
   "metadata": {},
   "outputs": [],
   "source": [
    "with open(\"siir1.txt\", \"a\", encoding=\"utf-8\") as file: # a modu sona ekleme yapar\n",
    "    file.write(\"\\nBu son yazdıklarımı şiirin sonuna ekle\")\n",
    "    file.seek(0) # seek kullanark  basa al ekle dedik ama a modu gene sona ekledi, cünkü a modu hep sona ekler\n",
    "    file.write(\"Bu yazıyı da şiirin başına ekle\\n\")\n",
    "    "
   ]
  },
  {
   "cell_type": "code",
   "execution_count": 25,
   "metadata": {},
   "outputs": [],
   "source": [
    "with open(\"siir2.txt\", \"x\", encoding=\"utf-8\") as dosya:  # x modu ile olusturduk bu sefer\n",
    "    dosya.write(\"\"\"\n",
    "    Milyon Kere Ayten\n",
    " \n",
    "    Ben bir Aytendir tutturmuşum  oh ne iyi\n",
    "    Aytenli içkiler içip sarhoş oluyorum, ne güzel! \n",
    "    Hoşuma gitmiyorsa rengi denizlerin, \n",
    "    Biraz Ayten sürüyorum, güzelleşiyor. \n",
    "    Şarkılar söylüyorum, \n",
    "    Şiirler yazıyorum Ayten üstüne. \n",
    "    Saatim her zaman Aytene beş var \n",
    "    Ya da Ayteni beş geçiyor. \n",
    "    Ne yana baksam gördüğüm o, \n",
    "    Gözümü yumsam aklımdan Ayten geçiyor.\n",
    "\n",
    "    Bana sorarsanız mevsimlerden Aytendeyiz, \n",
    "    Günlerden Aytenertesidir. \n",
    "    Odur gün gün beni yaşatan. \n",
    "    Onun kokusu sarmıştır sokakları, \n",
    "    Onun gözleridir şafakta gördüğüm\n",
    "    Akşam kızıllığında onun dudakları.\n",
    "    \n",
    "    Başka kadını övmeyin yanımda, gücenirim. \n",
    "    Ayteni övecekseniz ne alâ, oturabilirsiniz.\n",
    "    Bir kadeh de sizinle içeriz, Aytenli\n",
    "    İki laf ederiz. \n",
    "    Onu siz de seversiniz benim gibi.\n",
    "\n",
    "    Ama yağma yok Ayteni size bırakmam. \n",
    "    Alın tek kat elbisemi size vereyim, \n",
    "    Cebimde bir on liram var \n",
    "    Onu da alın gerekirse. \n",
    "    Ben Ayteni düşünürüm, üşümem. \n",
    "    Üç kere adını tekrarlarım, karnım doyar. \n",
    "    Parasızlık da bir şey mi? \n",
    "    Ölüm bile kötü değil Aytensizlik kadar. \n",
    "\n",
    "    Ona uğramayan gemiler batsın, \n",
    "    Ondan geçmeyen trenler devrilsin, \n",
    "    Onu sevmeyen yürek taş kesilsin, \n",
    "    Kapansın onu görmeyen gözler, \n",
    "    Onu övmeyen diller kurusun. \n",
    "    İki kere iki dört, elde var Ayten. \n",
    "    Bundan böyle dünyada\n",
    "    Aşkın adı Ayten olsun.\n",
    "\n",
    "    Ümit Yaşar Oğuzcan\n",
    "    \"\"\")"
   ]
  },
  {
   "cell_type": "markdown",
   "metadata": {},
   "source": [
    "#### sayfa başında güncelleme"
   ]
  },
  {
   "cell_type": "code",
   "execution_count": 26,
   "metadata": {},
   "outputs": [
    {
     "name": "stdout",
     "output_type": "stream",
     "text": [
      "n bir Aytendir tutturmuşum  oh ne iyi\n",
      "    Aytenli içkiler içip sarhoş oluyorum, ne güzel! \n",
      "    Hoşuma gitmiyorsa rengi denizlerin, \n",
      "    Biraz Ayten sürüyorum, güzelleşiyor. \n",
      "    Şarkılar söylüyorum, \n",
      "    Şiirler yazıyorum Ayten üstüne. \n",
      "    Saatim her zaman Aytene beş var \n",
      "    Ya da Ayteni beş geçiyor. \n",
      "    Ne yana baksam gördüğüm o, \n",
      "    Gözümü yumsam aklımdan Ayten geçiyor.\n",
      "\n",
      "    Bana sorarsanız mevsimlerden Aytendeyiz, \n",
      "    Günlerden Aytenertesidir. \n",
      "    Odur gün gün beni yaşatan. \n",
      "    Onun kokusu sarmıştır sokakları, \n",
      "    Onun gözleridir şafakta gördüğüm\n",
      "    Akşam kızıllığında onun dudakları.\n",
      "    \n",
      "    Başka kadını övmeyin yanımda, gücenirim. \n",
      "    Ayteni övecekseniz ne alâ, oturabilirsiniz.\n",
      "    Bir kadeh de sizinle içeriz, Aytenli\n",
      "    İki laf ederiz. \n",
      "    Onu siz de seversiniz benim gibi.\n",
      "\n",
      "    Ama yağma yok Ayteni size bırakmam. \n",
      "    Alın tek kat elbisemi size vereyim, \n",
      "    Cebimde bir on liram var \n",
      "    Onu da alın gerekirse. \n",
      "    Ben Ayteni düşünürüm, üşümem. \n",
      "    Üç kere adını tekrarlarım, karnım doyar. \n",
      "    Parasızlık da bir şey mi? \n",
      "    Ölüm bile kötü değil Aytensizlik kadar. \n",
      "\n",
      "    Ona uğramayan gemiler batsın, \n",
      "    Ondan geçmeyen trenler devrilsin, \n",
      "    Onu sevmeyen yürek taş kesilsin, \n",
      "    Kapansın onu görmeyen gözler, \n",
      "    Onu övmeyen diller kurusun. \n",
      "    İki kere iki dört, elde var Ayten. \n",
      "    Bundan böyle dünyada\n",
      "    Aşkın adı Ayten olsun.\n",
      "\n",
      "    Ümit Yaşar Oğuzcan\n",
      "    \n"
     ]
    }
   ],
   "source": [
    "# \"r+\"=> hem oku hem yaz. \"+\" birden fazla islem yapmak icin kullanılır.\n",
    "with open(\"siir2.txt\", \"r+\", encoding=\"utf-8\") as dosya:\n",
    "    dosya.write(\"Bu metni şiirin başına ekle\\n\") # write ile eklemek istedigimiz yazıyı ekledi ama basındaki \" Milyon Kere Ayten\" yazısı da gitti. \n",
    "    print(dosya.read()) # Dosyayı okumak isteyince olan degisikligi getirmiyor, eskisini okumuyor cünkü dosyayı kapatmadık(dosya.close())"
   ]
  },
  {
   "cell_type": "code",
   "execution_count": 27,
   "metadata": {},
   "outputs": [],
   "source": [
    "with open(\"siir2.txt\", \"w\", encoding=\"utf-8\") as dosya:\n",
    "    dosya.write(\"\"\"\n",
    "    Milyon Kere Ayten\n",
    " \n",
    "    Ben bir Aytendir tutturmuşum  oh ne iyi\n",
    "    Aytenli içkiler içip sarhoş oluyorum, ne güzel! \n",
    "    Hoşuma gitmiyorsa rengi denizlerin, \n",
    "    Biraz Ayten sürüyorum, güzelleşiyor. \n",
    "    Şarkılar söylüyorum, \n",
    "    Şiirler yazıyorum Ayten üstüne. \n",
    "    Saatim her zaman Aytene beş var \n",
    "    Ya da Ayteni beş geçiyor. \n",
    "    Ne yana baksam gördüğüm o, \n",
    "    Gözümü yumsam aklımdan Ayten geçiyor.\n",
    "\n",
    "    Bana sorarsanız mevsimlerden Aytendeyiz, \n",
    "    Günlerden Aytenertesidir. \n",
    "    Odur gün gün beni yaşatan. \n",
    "    Onun kokusu sarmıştır sokakları, \n",
    "    Onun gözleridir şafakta gördüğüm\n",
    "    Akşam kızıllığında onun dudakları.\n",
    "    \n",
    "    Başka kadını övmeyin yanımda, gücenirim. \n",
    "    Ayteni övecekseniz ne alâ, oturabilirsiniz.\n",
    "    Bir kadeh de sizinle içeriz, Aytenli\n",
    "    İki laf ederiz. \n",
    "    Onu siz de seversiniz benim gibi.\n",
    "\n",
    "    Ama yağma yok Ayteni size bırakmam. \n",
    "    Alın tek kat elbisemi size vereyim, \n",
    "    Cebimde bir on liram var \n",
    "    Onu da alın gerekirse. \n",
    "    Ben Ayteni düşünürüm, üşümem. \n",
    "    Üç kere adını tekrarlarım, karnım doyar. \n",
    "    Parasızlık da bir şey mi? \n",
    "    Ölüm bile kötü değil Aytensizlik kadar. \n",
    "\n",
    "    Ona uğramayan gemiler batsın, \n",
    "    Ondan geçmeyen trenler devrilsin, \n",
    "    Onu sevmeyen yürek taş kesilsin, \n",
    "    Kapansın onu görmeyen gözler, \n",
    "    Onu övmeyen diller kurusun. \n",
    "    İki kere iki dört, elde var Ayten. \n",
    "    Bundan böyle dünyada\n",
    "    Aşkın adı Ayten olsun.\n",
    "\n",
    "    Ümit Yaşar Oğuzcan\n",
    "    \"\"\")"
   ]
  },
  {
   "cell_type": "code",
   "execution_count": 28,
   "metadata": {},
   "outputs": [
    {
     "name": "stdout",
     "output_type": "stream",
     "text": [
      "n bir Aytendir tutturmuşum  oh ne iyi\n",
      "    Aytenli içkiler içip sarhoş oluyorum, ne güzel! \n",
      "    Hoşuma gitmiyorsa rengi denizlerin, \n",
      "    Biraz Ayten sürüyorum, güzelleşiyor. \n",
      "    Şarkılar söylüyorum, \n",
      "    Şiirler yazıyorum Ayten üstüne. \n",
      "    Saatim her zaman Aytene beş var \n",
      "    Ya da Ayteni beş geçiyor. \n",
      "    Ne yana baksam gördüğüm o, \n",
      "    Gözümü yumsam aklımdan Ayten geçiyor.\n",
      "\n",
      "    Bana sorarsanız mevsimlerden Aytendeyiz, \n",
      "    Günlerden Aytenertesidir. \n",
      "    Odur gün gün beni yaşatan. \n",
      "    Onun kokusu sarmıştır sokakları, \n",
      "    Onun gözleridir şafakta gördüğüm\n",
      "    Akşam kızıllığında onun dudakları.\n",
      "    \n",
      "    Başka kadını övmeyin yanımda, gücenirim. \n",
      "    Ayteni övecekseniz ne alâ, oturabilirsiniz.\n",
      "    Bir kadeh de sizinle içeriz, Aytenli\n",
      "    İki laf ederiz. \n",
      "    Onu siz de seversiniz benim gibi.\n",
      "\n",
      "    Ama yağma yok Ayteni size bırakmam. \n",
      "    Alın tek kat elbisemi size vereyim, \n",
      "    Cebimde bir on liram var \n",
      "    Onu da alın gerekirse. \n",
      "    Ben Ayteni düşünürüm, üşümem. \n",
      "    Üç kere adını tekrarlarım, karnım doyar. \n",
      "    Parasızlık da bir şey mi? \n",
      "    Ölüm bile kötü değil Aytensizlik kadar. \n",
      "\n",
      "    Ona uğramayan gemiler batsın, \n",
      "    Ondan geçmeyen trenler devrilsin, \n",
      "    Onu sevmeyen yürek taş kesilsin, \n",
      "    Kapansın onu görmeyen gözler, \n",
      "    Onu övmeyen diller kurusun. \n",
      "    İki kere iki dört, elde var Ayten. \n",
      "    Bundan böyle dünyada\n",
      "    Aşkın adı Ayten olsun.\n",
      "\n",
      "    Ümit Yaşar Oğuzcan\n",
      "    \n"
     ]
    }
   ],
   "source": [
    "with open(\"siir2.txt\", \"r+\", encoding=\"utf-8\") as dosya:\n",
    "    # print(dosya.read()) # read önce yapınca sadece okur ama asıl olan metni okur, daha bi degisiklik olmadı cünkü , yazdırma daha sonraki satırda\n",
    "    dosya.write(\"Bu metni şiirin başına ekle\\n\")  \n",
    "    print(dosya.read()) # \"with open\" block'gunun icinde dosya kapanmadıgı icin degisikligi göremedi."
   ]
  },
  {
   "cell_type": "code",
   "execution_count": 31,
   "metadata": {},
   "outputs": [
    {
     "name": "stdout",
     "output_type": "stream",
     "text": [
      "Bu metni şiirin başına ekle\n",
      "n bir Aytendir tutturmuşum  oh ne iyi\n",
      "    Aytenli içkiler içip sarhoş oluyorum, ne güzel! \n",
      "    Hoşuma gitmiyorsa rengi denizlerin, \n",
      "    Biraz Ayten sürüyorum, güzelleşiyor. \n",
      "    Şarkılar söylüyorum, \n",
      "    Şiirler yazıyorum Ayten üstüne. \n",
      "    Saatim her zaman Aytene beş var \n",
      "    Ya da Ayteni beş geçiyor. \n",
      "    Ne yana baksam gördüğüm o, \n",
      "    Gözümü yumsam aklımdan Ayten geçiyor.\n",
      "\n",
      "    Bana sorarsanız mevsimlerden Aytendeyiz, \n",
      "    Günlerden Aytenertesidir. \n",
      "    Odur gün gün beni yaşatan. \n",
      "    Onun kokusu sarmıştır sokakları, \n",
      "    Onun gözleridir şafakta gördüğüm\n",
      "    Akşam kızıllığında onun dudakları.\n",
      "    \n",
      "    Başka kadını övmeyin yanımda, gücenirim. \n",
      "    Ayteni övecekseniz ne alâ, oturabilirsiniz.\n",
      "    Bir kadeh de sizinle içeriz, Aytenli\n",
      "    İki laf ederiz. \n",
      "    Onu siz de seversiniz benim gibi.\n",
      "\n",
      "    Ama yağma yok Ayteni size bırakmam. \n",
      "    Alın tek kat elbisemi size vereyim, \n",
      "    Cebimde bir on liram var \n",
      "    Onu da alın gerekirse. \n",
      "    Ben Ayteni düşünürüm, üşümem. \n",
      "    Üç kere adını tekrarlarım, karnım doyar. \n",
      "    Parasızlık da bir şey mi? \n",
      "    Ölüm bile kötü değil Aytensizlik kadar. \n",
      "\n",
      "    Ona uğramayan gemiler batsın, \n",
      "    Ondan geçmeyen trenler devrilsin, \n",
      "    Onu sevmeyen yürek taş kesilsin, \n",
      "    Kapansın onu görmeyen gözler, \n",
      "    Onu övmeyen diller kurusun. \n",
      "    İki kere iki dört, elde var Ayten. \n",
      "    Bundan böyle dünyada\n",
      "    Aşkın adı Ayten olsun.\n",
      "\n",
      "    Ümit Yaşar Oğuzcan\n",
      "    \n"
     ]
    }
   ],
   "source": [
    "with open(\"siir2.txt\", \"r+\", encoding=\"utf-8\") as dosya:\n",
    "    # print(dosya.read()) # read önce yapınca sadece okur ama asıl olan metni okur, daha bi degisiklik olmadı cünkü , yazdırma daha sonraki satırda\n",
    "    dosya.write(\"Bu metni şiirin başına ekle\\n\")\n",
    "# with open() block icindeki yaptıgımız degisikligi görmek icin (close yok cünkü) tekrar dosyayı \"with open\" olarak acmalıyız\n",
    "with open(\"siir2.txt\", \"r\", encoding=\"utf-8\") as dosya:   \n",
    "    print(dosya.read())"
   ]
  },
  {
   "cell_type": "code",
   "execution_count": 32,
   "metadata": {},
   "outputs": [
    {
     "name": "stdout",
     "output_type": "stream",
     "text": [
      "Ümit Yaşar Oğuzcan'a ait Güzel bir şiir\n",
      " tutturmuşum  oh ne iyi\n",
      "    Aytenli içkiler içip sarhoş oluyorum, ne güzel! \n",
      "    Hoşuma gitmiyorsa rengi denizlerin, \n",
      "    Biraz Ayten sürüyorum, güzelleşiyor. \n",
      "    Şarkılar söylüyorum, \n",
      "    Şiirler yazıyorum Ayten üstüne. \n",
      "    Saatim her zaman Aytene beş var \n",
      "    Ya da Ayteni beş geçiyor. \n",
      "    Ne yana baksam gördüğüm o, \n",
      "    Gözümü yumsam aklımdan Ayten geçiyor.\n",
      "\n",
      "    Bana sorarsanız mevsimlerden Aytendeyiz, \n",
      "    Günlerden Aytenertesidir. \n",
      "    Odur gün gün beni yaşatan. \n",
      "    Onun kokusu sarmıştır sokakları, \n",
      "    Onun gözleridir şafakta gördüğüm\n",
      "    Akşam kızıllığında onun dudakları.\n",
      "    \n",
      "    Başka kadını övmeyin yanımda, gücenirim. \n",
      "    Ayteni övecekseniz ne alâ, oturabilirsiniz.\n",
      "    Bir kadeh de sizinle içeriz, Aytenli\n",
      "    İki laf ederiz. \n",
      "    Onu siz de seversiniz benim gibi.\n",
      "\n",
      "    Ama yağma yok Ayteni size bırakmam. \n",
      "    Alın tek kat elbisemi size vereyim, \n",
      "    Cebimde bir on liram var \n",
      "    Onu da alın gerekirse. \n",
      "    Ben Ayteni düşünürüm, üşümem. \n",
      "    Üç kere adını tekrarlarım, karnım doyar. \n",
      "    Parasızlık da bir şey mi? \n",
      "    Ölüm bile kötü değil Aytensizlik kadar. \n",
      "\n",
      "    Ona uğramayan gemiler batsın, \n",
      "    Ondan geçmeyen trenler devrilsin, \n",
      "    Onu sevmeyen yürek taş kesilsin, \n",
      "    Kapansın onu görmeyen gözler, \n",
      "    Onu övmeyen diller kurusun. \n",
      "    İki kere iki dört, elde var Ayten. \n",
      "    Bundan böyle dünyada\n",
      "    Aşkın adı Ayten olsun.\n",
      "\n",
      "    Ümit Yaşar Oğuzcan\n",
      "    \n"
     ]
    }
   ],
   "source": [
    "with open(\"siir2.txt\", \"r+\", encoding=\"utf-8\") as dosya:\n",
    "    content = dosya.read() # bu kod metni bastan sona okur\n",
    "    dosya.seek(0)\n",
    "    content2 = \"Ümit Yaşar Oğuzcan'a ait Güzel bir şiir\\n\" \n",
    "    dosya.write(content2)  # burda metne ekleme yaptık eger \"dosya.seek(0)\" kullanmadan yapsak  imlec sonda kaldıgı icin eklemek istedigimiz metni sona ekler. \n",
    "                           # Fakat \"dosya.seek(0)\" kullanırsak seek finksiyonu ile balirttigimiz yere ekler. bastan varolan karekterleri silerek ekler.\n",
    "with open(\"siir2.txt\", \"r\", encoding=\"utf-8\") as dosya:\n",
    "    print(dosya.read())"
   ]
  },
  {
   "cell_type": "code",
   "execution_count": 34,
   "metadata": {},
   "outputs": [
    {
     "name": "stdout",
     "output_type": "stream",
     "text": [
      "Ümit Yaşar Oğuzcan'a ait Güzel bir şiir\n",
      " tutturmuşum  oh ne iyi\n",
      "    Aytenli içkiler içip sarhoş oluyorum, ne güzel! \n",
      "    Hoşuma gitmiyorsa rengi denizlerin, \n",
      "    Biraz Ayten sürüyorum, güzelleşiyor. \n",
      "    Şarkılar söylüyorum, \n",
      "    Şiirler yazıyorum Ayten üstüne. \n",
      "    Saatim her zaman Aytene beş var \n",
      "    Ya da Ayteni beş geçiyor. \n",
      "    Ne yana baksam gördüğüm o, \n",
      "    Gözümü yumsam aklımdan Ayten geçiyor.\n",
      "\n",
      "    Bana sorarsanız mevsimlerden Aytendeyiz, \n",
      "    Günlerden Aytenertesidir. \n",
      "    Odur gün gün beni yaşatan. \n",
      "    Onun kokusu sarmıştır sokakları, \n",
      "    Onun gözleridir şafakta gördüğüm\n",
      "    Akşam kızıllığında onun dudakları.\n",
      "    \n",
      "    Başka kadını övmeyin yanımda, gücenirim. \n",
      "    Ayteni övecekseniz ne alâ, oturabilirsiniz.\n",
      "    Bir kadeh de sizinle içeriz, Aytenli\n",
      "    İki laf ederiz. \n",
      "    Onu siz de seversiniz benim gibi.\n",
      "\n",
      "\n",
      "\n",
      " Değişiklik metin ortaya eklenecek\n",
      "\n",
      "\n",
      "\n",
      " Değişiklik metin ortaya eklenecek\n",
      "\n",
      "    Ama yağma yok Ayteni size bırakmam. \n",
      "    Alın tek kat elbisemi size vereyim, \n",
      "    Cebimde bir on liram var \n",
      "    Onu da alın gerekirse. \n",
      "    Ben Ayteni düşünürüm, üşümem. \n",
      "    Üç kere adını tekrarlarım, karnım doyar. \n",
      "    Parasızlık da bir şey mi? \n",
      "    Ölüm bile kötü değil Aytensizlik kadar. \n",
      "\n",
      "    Ona uğramayan gemiler batsın, \n",
      "    Ondan geçmeyen trenler devrilsin, \n",
      "    Onu sevmeyen yürek taş kesilsin, \n",
      "    Kapansın onu görmeyen gözler, \n",
      "    Onu övmeyen diller kurusun. \n",
      "    İki kere iki dört, elde var Ayten. \n",
      "    Bundan böyle dünyada\n",
      "    Aşkın adı Ayten olsun.\n",
      "\n",
      "    Ümit Yaşar Oğuzcan\n",
      "    \n",
      "1619\n"
     ]
    }
   ],
   "source": [
    "# Metnin ortasına birsey eklemek ve yazdırdıgım metin yerine gelen metni de silmesin istersek seek ile tam ortasını bulmak zor olacagı icin söyle yapıyoruz: \n",
    "# metni liste cevir=> insert et yazmak istedigimiz metni => daha sonra tekrar metne cevir\n",
    "with open(\"siir2.txt\", \"r+\", encoding=\"utf-8\") as dosya:\n",
    "    liste = dosya.readlines() # \"readlines()\" ile metni listeye cevirdik\n",
    "    # print(len(liste)) calıstıgında leni 46 satırlık bir eleman oldugunu verdi\n",
    "    # print(liste)\n",
    "    liste.insert(25, \"\\n\\n Değişiklik metin ortaya eklenecek\\n\\n\")\n",
    "    dosya.seek(0)  # ilk önce \"dosya.readlines()\" ile dosysyı okudu en sona geldi icin \" dosya.seek(0)\" ile imleci en basa aldık yeni listeyi yazdırmak icin for yaptık\n",
    "    for i in liste:\n",
    "        dosya.write(i)\n",
    "\n",
    "with open(\"siir2.txt\", \"r\", encoding=\"utf-8\") as dosya:\n",
    "    print(dosya.read())\n",
    "    print(dosya.tell())\n"
   ]
  }
 ],
 "metadata": {
  "kernelspec": {
   "display_name": "Python 3",
   "language": "python",
   "name": "python3"
  },
  "language_info": {
   "codemirror_mode": {
    "name": "ipython",
    "version": 3
   },
   "file_extension": ".py",
   "mimetype": "text/x-python",
   "name": "python",
   "nbconvert_exporter": "python",
   "pygments_lexer": "ipython3",
   "version": "3.11.4"
  }
 },
 "nbformat": 4,
 "nbformat_minor": 2
}

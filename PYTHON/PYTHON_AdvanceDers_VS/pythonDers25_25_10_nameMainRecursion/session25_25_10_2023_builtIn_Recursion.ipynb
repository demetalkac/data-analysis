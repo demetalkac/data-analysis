{
 "cells": [
  {
   "cell_type": "markdown",
   "metadata": {},
   "source": [
    "pip install \"project-name\" => proje ismini girerek install yapmıs oluyoruz en güncel sürümünü"
   ]
  },
  {
   "cell_type": "markdown",
   "metadata": {},
   "source": [
    "pip install \"project-name==2.4\"  => bu kod ise projeye ait istedigimiz herhangi bir sürüm varsa onu belirterek indirmis oluyoruz."
   ]
  },
  {
   "cell_type": "markdown",
   "metadata": {},
   "source": [
    "pip install \"project-name~=2.4\" =>indeirecegimiz sürümden emin degilsek ona yakın \"~\" anlamında bu komutu kullanıyoruz."
   ]
  },
  {
   "cell_type": "markdown",
   "metadata": {},
   "source": [
    "-pip install urllib3 => get ile herhangi bir dosya icinden bilgi cekmeye yarar. Bunu kuruyor\n",
    "-python -m pip install urllib3=> \n",
    "-GET ==> 200, 400, 500, 300\n",
    "- pip unistall urllib3 => hatalar olunca tekrar kaldırmak icin kullanıyoruz.\n",
    "- pip list => nelerin yüklü oldugunu görebiliyoruz.\n",
    "- pip show \"isim\" =>örn pip show uri-template dedigimde \"uri-template\" ile ilgili bilgileri verir. Yani bu kodu bilgisayarımızda olan kütüphaneler, paketler ile ilgili bilgi alabiliriz.\n",
    "\n"
   ]
  },
  {
   "cell_type": "markdown",
   "metadata": {},
   "source": [
    "-NOT: terminali acıp \"python\" yazıp sonra burdaki gibi kodları kullanabiliriz. shall e gecmis oluruz.örn:\n",
    ">>>import urllib3\n",
    ">>>http = urllib3.PoolManager()\n",
    ">>>r= http.request('GET', 'https://www.google.com')\n",
    ">>>print(r)\n",
    "200    ,gibi\n",
    ">>>\n"
   ]
  },
  {
   "cell_type": "code",
   "execution_count": 3,
   "metadata": {},
   "outputs": [
    {
     "ename": "TypeError",
     "evalue": "'module' object is not callable",
     "output_type": "error",
     "traceback": [
      "\u001b[0;31m---------------------------------------------------------------------------\u001b[0m",
      "\u001b[0;31mTypeError\u001b[0m                                 Traceback (most recent call last)",
      "\u001b[1;32m/Users/boravolkanalkac/Documents/Demet/DATA SCIENCE TECHPRO/PYTHON/PYTHON_AdvanceDers_VS/pythonDers25_25_10_nameMainRecursion/session25_25_10_2023_builtIn_Recursion.ipynb Cell 6\u001b[0m line \u001b[0;36m3\n\u001b[1;32m      <a href='vscode-notebook-cell:/Users/boravolkanalkac/Documents/Demet/DATA%20SCIENCE%20TECHPRO/PYTHON/PYTHON_AdvanceDers_VS/pythonDers25_25_10_nameMainRecursion/session25_25_10_2023_builtIn_Recursion.ipynb#W4sZmlsZQ%3D%3D?line=0'>1</a>\u001b[0m \u001b[39mimport\u001b[39;00m \u001b[39murllib3\u001b[39;00m\n\u001b[0;32m----> <a href='vscode-notebook-cell:/Users/boravolkanalkac/Documents/Demet/DATA%20SCIENCE%20TECHPRO/PYTHON/PYTHON_AdvanceDers_VS/pythonDers25_25_10_nameMainRecursion/session25_25_10_2023_builtIn_Recursion.ipynb#W4sZmlsZQ%3D%3D?line=2'>3</a>\u001b[0m req \u001b[39m=\u001b[39m urllib3\u001b[39m.\u001b[39mrequest(\u001b[39m\"\u001b[39m\u001b[39mGET\u001b[39m\u001b[39m\"\u001b[39m, \u001b[39m\"\u001b[39m\u001b[39mhttp://www.google.com\u001b[39m\u001b[39m\"\u001b[39m)\n\u001b[1;32m      <a href='vscode-notebook-cell:/Users/boravolkanalkac/Documents/Demet/DATA%20SCIENCE%20TECHPRO/PYTHON/PYTHON_AdvanceDers_VS/pythonDers25_25_10_nameMainRecursion/session25_25_10_2023_builtIn_Recursion.ipynb#W4sZmlsZQ%3D%3D?line=4'>5</a>\u001b[0m \u001b[39mprint\u001b[39m(req\u001b[39m.\u001b[39mstatus)\n",
      "\u001b[0;31mTypeError\u001b[0m: 'module' object is not callable"
     ]
    }
   ],
   "source": [
    "# get request yaparken asagıdaki kod şle hocada calısıyor.Fakat bende calısmadı. O nedenle bi sonraki kodu kullandım\n",
    "import urllib3\n",
    "\n",
    "req = urllib3.request(\"GET\", \"http://www.google.com\")\n",
    "\n",
    "print(req.status)"
   ]
  },
  {
   "cell_type": "code",
   "execution_count": 14,
   "metadata": {},
   "outputs": [],
   "source": [
    "import urllib3"
   ]
  },
  {
   "cell_type": "code",
   "execution_count": 13,
   "metadata": {},
   "outputs": [
    {
     "name": "stdout",
     "output_type": "stream",
     "text": [
      "200\n"
     ]
    }
   ],
   "source": [
    "import urllib3\n",
    "\n",
    "http = urllib3.PoolManager()\n",
    "reqst = http.request(\"GET\", \"http://www.google.com\")\n",
    "\n",
    "print(reqst.status)"
   ]
  },
  {
   "cell_type": "code",
   "execution_count": 12,
   "metadata": {},
   "outputs": [
    {
     "ename": "TypeError",
     "evalue": "'module' object is not callable",
     "output_type": "error",
     "traceback": [
      "\u001b[0;31m---------------------------------------------------------------------------\u001b[0m",
      "\u001b[0;31mTypeError\u001b[0m                                 Traceback (most recent call last)",
      "\u001b[1;32m/Users/boravolkanalkac/Documents/Demet/DATA SCIENCE TECHPRO/PYTHON/PYTHON_AdvanceDers_VS/pythonDers25_25_10_nameMainRecursion/session25_25_10_2023_builtIn_Recursion.ipynb Cell 7\u001b[0m line \u001b[0;36m3\n\u001b[1;32m      <a href='vscode-notebook-cell:/Users/boravolkanalkac/Documents/Demet/DATA%20SCIENCE%20TECHPRO/PYTHON/PYTHON_AdvanceDers_VS/pythonDers25_25_10_nameMainRecursion/session25_25_10_2023_builtIn_Recursion.ipynb#X55sZmlsZQ%3D%3D?line=0'>1</a>\u001b[0m \u001b[39mfrom\u001b[39;00m \u001b[39murllib3\u001b[39;00m \u001b[39mimport\u001b[39;00m request\n\u001b[0;32m----> <a href='vscode-notebook-cell:/Users/boravolkanalkac/Documents/Demet/DATA%20SCIENCE%20TECHPRO/PYTHON/PYTHON_AdvanceDers_VS/pythonDers25_25_10_nameMainRecursion/session25_25_10_2023_builtIn_Recursion.ipynb#X55sZmlsZQ%3D%3D?line=2'>3</a>\u001b[0m istek \u001b[39m=\u001b[39m request(\u001b[39m\"\u001b[39m\u001b[39mGET\u001b[39m\u001b[39m\"\u001b[39m, \u001b[39m\"\u001b[39m\u001b[39mhttp://www.google.com\u001b[39m\u001b[39m\"\u001b[39m)\n\u001b[1;32m      <a href='vscode-notebook-cell:/Users/boravolkanalkac/Documents/Demet/DATA%20SCIENCE%20TECHPRO/PYTHON/PYTHON_AdvanceDers_VS/pythonDers25_25_10_nameMainRecursion/session25_25_10_2023_builtIn_Recursion.ipynb#X55sZmlsZQ%3D%3D?line=4'>5</a>\u001b[0m \u001b[39mprint\u001b[39m(istek\u001b[39m.\u001b[39mstatus)\n",
      "\u001b[0;31mTypeError\u001b[0m: 'module' object is not callable"
     ]
    }
   ],
   "source": [
    "# bu kodda gene hocada calıstı ama bende calısmadı. asagıya calısır halini koydum\n",
    "from urllib3 import request\n",
    "\n",
    "istek = request(\"GET\", \"http://www.google.com\")\n",
    "\n",
    "print(istek.status)"
   ]
  },
  {
   "cell_type": "code",
   "execution_count": 10,
   "metadata": {},
   "outputs": [
    {
     "name": "stdout",
     "output_type": "stream",
     "text": [
      "200\n"
     ]
    }
   ],
   "source": [
    "from urllib3 import request\n",
    "\n",
    "http = urllib3.PoolManager()\n",
    "istek = http.request(\"GET\", \"http://www.google.com\")\n",
    "\n",
    "print(istek.status)"
   ]
  },
  {
   "cell_type": "markdown",
   "metadata": {},
   "source": [
    "\"if __*name*__ == '__*main*__'\" =>"
   ]
  },
  {
   "cell_type": "code",
   "execution_count": null,
   "metadata": {},
   "outputs": [],
   "source": [
    "# \"if name __main__ == '__main__'\"  => programa dillerinde java c# gibi dillerde kodu main icinde calıstırıyor, yoksa kod calısmaz. \n",
    "# Pythonda ise her calısma blockunda cod calısır, her kod \"main\" icinde calısır. Bu calıstırılmasını belli bir sarta baglı olarak calısmasını istedigimiz \n",
    "# kodları ,dogrudan cagrılmasını önlemek amaclı, teste tabi tutulmasını istiyorsak, yazdıgımız belli kodlar calıstırılmadan digerleri calıstırılmasın\n",
    "# diye istiyorsak kodlarımızı \"if __name__ == __main__ \" blocku icine yazarız."
   ]
  },
  {
   "cell_type": "markdown",
   "metadata": {},
   "source": [
    "-Terminalde python yazıp shalle girdikten sonra; __name__ diye yazınca bize kodlarımızı nerde yazdıgımızı verir. => '__main__'\n",
    "- terminalde yazmaya devam ediyoruz. fonksiyon yazdık, fakat bosluklara dikkat etmeliyiz yazarken shell boslukları kendi vermez. Yazdıgımız fonksiyon asagıda: def f1() fonksiyonu olusturduk:"
   ]
  },
  {
   "cell_type": "markdown",
   "metadata": {},
   "source": [
    "def f1():\n",
    "...     print(__name__) => fonksiyon yazdık terminalde\n",
    "... \n",
    ">>> f1() => yazdıgımız fonksiyonu cagırdık. __main__ de oldugumuzu verdi"
   ]
  },
  {
   "cell_type": "markdown",
   "metadata": {},
   "source": [
    ">>> def f1():\n",
    "...     print(__name__)\n",
    "...     def f2():\n",
    "...             print(__name__)\n",
    "...     f2()  => fonksiyon yazdık terminalde\n",
    "\n",
    ">>> f1() => yazdıgımız fonksiyonu cagırdık. 2 tane def yazdıgımız icin 2 tane __main__ aldık\n",
    "__main__\n",
    "__main__\n",
    ">>> "
   ]
  },
  {
   "cell_type": "markdown",
   "metadata": {},
   "source": [
    "- addition.py olusturduk ve icine bir add fonksiyonu olusturduk\n",
    "-terminalde :\n",
    "- cd pythonDers25_25_10_nameMainRecursion\n",
    "- python addition.py => additionüpy deki fonksiyon terminalde geldi, 1. sayıyı ve 2. sayıyı girince main icinde calıstıgını gösterdi:\n",
    "\n",
    "(base) boravolkanalkac@MacBook-Pro PYTHON_AdvanceDers_VS % cd pythonDers25_25_10_nameMainRecursion\n",
    "(base) boravolkanalkac@MacBook-Pro pythonDers25_25_10_nameMainRecursion % python addition.py\n",
    "Birinci sayıyı giriniz10                                  \n",
    "İkinci sayıyı giriniz20\n",
    "add() fonksiyonu ana alan içinde yürütülüyor __main__\n",
    "10 + 20 = 30\n",
    "Bu kod ana alanda yürütülüyor __main__\n",
    "(base) boravolkanalkac@MacBook-Pro pythonDers25_25_10_nameMainRecursion % "
   ]
  },
  {
   "cell_type": "markdown",
   "metadata": {},
   "source": [
    "-Yukardakini terminalde shell icinde yazdık:\n",
    "-python\n",
    "- import addition \n",
    "- 1. ve 2. sayıyı gir:\n",
    "\n",
    "(base) boravolkanalkac@MacBook-Pro pythonDers25_25_10_nameMainRecursion % python            \n",
    "Python 3.11.4 (main, Jul  5 2023, 09:00:44) [Clang 14.0.6 ] on darwin\n",
    "Type \"help\", \"copyright\", \"credits\" or \"license\" for more information.\n",
    ">>> import addition\n",
    "Birinci sayıyı giriniz2523\n",
    "İkinci sayıyı giriniz24\n",
    "add() fonksiyonu ana alan içinde yürütülüyor addition\n",
    "2523 + 24 = 2547\n",
    "Bu kod ana alanda yürütülüyor addition\n",
    ">>> "
   ]
  },
  {
   "cell_type": "markdown",
   "metadata": {},
   "source": [
    "- addition2.py olusturduk, icine \"if ___name__ == '__main__' \" ekledik => bunun sebebi baskasının bizim kodlara erismesinde ön kosul saaglıyor.\n",
    "- terminalde: önce quit() yaptık sell acıktı öncesinde , yapılan eklemeleri görmeyebilir, o nedenle cıkıs yaptık ve tekrar python yazarak shelle girip yeni olusturdugumuz addition.py yi import ettik.\n",
    "-quit()\n",
    "- python\n",
    "- import addition2\n",
    "- addition2.add(5, 3)  8 => shell gibi farklı  alanlarda, modüllerde  import edip kullanınca olusturdugumuz fonksiyonun kullandık ama imput ile olan kısmı calısmadı,bizden 1. ve 2. rakamı girin kısmı cıkmıyor cünkü name ile main eslesmedi\n",
    "- Fakat direk python addition2.py diyerek package den erisince name ile main eslestigi icin inputtakileride bana verdi.\n",
    "\n",
    "(base) boravolkanalkac@MacBook-Pro pythonDers25_25_10_nameMainRecursion % python addition2.py\n",
    "Birinci sayıyı giriniz34\n",
    "İkinci sayıyı giriniz56\n",
    "add() fonksiyonu ana alan içinde yürütülüyor __main__\n",
    "34 + 56 = 90\n",
    "Bu kod ana alanda yürütülüyor __main__\n",
    "(base) boravolkanalkac@MacBook-Pro pythonDers25_25_10_nameMainRecursion % python\n",
    "Python 3.11.4 (main, Jul  5 2023, 09:00:44) [Clang 14.0.6 ] on darwin\n",
    "Type \"help\", \"copyright\", \"credits\" or \"license\" for more information.\n",
    ">>> import addition2\n",
    ">>> addition2.add(5, 3)\n",
    "add() fonksiyonu ana alan içinde yürütülüyor addition2\n",
    "8\n"
   ]
  },
  {
   "cell_type": "markdown",
   "metadata": {},
   "source": [
    "- deneme.py yi olusturduk\n",
    "- bu kılass addition'a baglı yaptık\n",
    "- python deneme.py diye girince gene name ile main aynı olmadıgı icin kadlar özerinde manipule edebiliyorum, ama addition2.py de \"if name __main__ == '__main__'\" kullandıgımız icin kodlarımızı kullanır ama kodlarımızı manüple edemez."
   ]
  },
  {
   "cell_type": "markdown",
   "metadata": {},
   "source": [
    "# BuiltIn Modules"
   ]
  },
  {
   "cell_type": "code",
   "execution_count": null,
   "metadata": {},
   "outputs": [],
   "source": [
    "help('modules') # callısması cok uzun sürdügü icin durdurdum. terminalde shell de calıstırıyoruz help(\"modules\")  verdi ama uzun sürüyor."
   ]
  },
  {
   "cell_type": "markdown",
   "metadata": {},
   "source": [
    "IPython             _weakrefset         heapq               secrets\n",
    "__future__          _winapi             hmac                select\n",
    "_abc                abc                 html                selectors\n",
    "_ast                aifc                http                setuptools\n",
    "_asyncio            antigravity         idlelib             shelve\n",
    "_bisect             argparse            imaplib             shlex\n",
    "_blake2             array               imghdr              shutil\n",
    "_bootlocale         ast                 imp                 signal\n",
    "_bz2                asynchat            importlib           simplegeneric\n",
    "_codecs             asyncio             ind                 site\n",
    "_codecs_cn          asyncore            inspect             six\n",
    "_codecs_hk          atexit              io                  smtpd\n",
    "_codecs_iso2022     audioop             ipaddress           smtplib\n",
    "_codecs_jp          autoreload          ipython_genutils    sndhdr\n",
    "_codecs_kr          backcall            itertools           socket\n",
    "_codecs_tw          base64              jedi                socketserver\n",
    "_collections        bdb                 json                sqlite3\n",
    "_collections_abc    binascii            keyword             sre_compile\n",
    "_compat_pickle      binhex              lib2to3             sre_constants\n",
    "_compression        bisect              linecache           sre_parse\n",
    "_contextvars        builtins            locale              ssl\n",
    "_csv                bz2                 logging             stat\n",
    "_ctypes             cProfile            lzma                statistics\n",
    "_ctypes_test        calendar            macpath             storemagic\n",
    "_datetime           cgi                 mailbox             string\n",
    "_decimal            cgitb               mailcap             stringprep\n",
    "_distutils_findvs   chunk               marshal             struct\n",
    "_dummy_thread       cmath               math                subprocess\n",
    "_elementtree        cmd                 mimetypes           sunau\n",
    "_functools          code                mmap                symbol\n",
    "_hashlib            codecs              modulefinder        sympyprinting\n",
    "_heapq              codeop              msilib              symtable\n",
    "_imp                collections         msvcrt              sys\n",
    "_io                 colorama            multiprocessing     sysconfig\n",
    "_json               colorsys            netrc               tabnanny\n",
    "_locale             compileall          nntplib             tarfile\n",
    "_lsprof             concurrent          nt                  telnetlib\n",
    "_lzma               configparser        ntpath              tempfile\n",
    "_markupbase         contextlib          nturl2path          test\n",
    "_md5                contextvars         numbers             tests\n",
    "_msi                copy                opcode              textwrap\n",
    "_multibytecodec     copyreg             operator            this\n",
    "_multiprocessing    crypt               optparse            threading\n",
    "_opcode             csv                 os                  time\n",
    "_operator           ctypes              parser              timeit\n",
    "_osx_support        curses              parso               tkinter\n",
    "_overlapped         cythonmagic         pathlib             token\n",
    "_pickle             dataclasses         pdb                 tokenize\n",
    "_py_abc             datetime            pickle              trace\n",
    "_pydecimal          dbm                 pickleshare         traceback\n",
    "_pyio               decimal             pickletools         tracemalloc\n",
    "_queue              decorator           pip                 traitlets\n",
    "_random             difflib             pipes               tty\n",
    "_sha1               dis                 pkg_resources       turtle\n",
    "_sha256             distutils           pkgutil             turtledemo\n",
    "_sha3               doctest             platform            types\n",
    "_sha512             dummy_threading     plistlib            typing\n",
    "_signal             easy_install        poplib              unicodedata\n",
    "_sitebuiltins       email               posixpath           unittest\n",
    "_socket             encodings           pprint              urllib\n",
    "_sqlite3            ensurepip           profile             uu\n",
    "_sre                enum                prompt_toolkit      uuid\n",
    "_ssl                errno               pstats              venv\n",
    "_stat               faulthandler        pty                 warnings\n",
    "_string             filecmp             py_compile          wave\n",
    "_strptime           fileinput           pyclbr              wcwidth\n",
    "_struct             fnmatch             pydoc               weakref\n",
    "_symtable           formatter           pydoc_data          webbrowser\n",
    "_testbuffer         fractions           pyexpat             winreg\n",
    "_testcapi           ftplib              pygments            winsound\n",
    "_testconsole        functools           queue               wsgiref\n",
    "_testimportmultiple gc                  quopri              xdrlib\n",
    "_testmultiphase     genericpath         random              xml\n",
    "_thread             getopt              re                  xmlrpc\n",
    "_threading_local    getpass             reprlib             xxsubtype\n",
    "_tkinter            gettext             rlcompleter         zipapp\n",
    "_tracemalloc        glob                rmagic              zipfile\n",
    "_warnings           gzip                runpy               zipimport\n",
    "_weakref            hashlib             sched               zlib\n",
    "\n",
    "Enter any module name to get more help.  Or, type \"modules spam\" to search\n",
    "for modules whose name or summary contain the string \"spam\".\n",
    "\n"
   ]
  },
  {
   "cell_type": "markdown",
   "metadata": {},
   "source": [
    "## OS modulu"
   ]
  },
  {
   "cell_type": "markdown",
   "metadata": {},
   "source": [
    "OS Modülü : operatic sistem:python daki dizin olusturma ,kaldırma,icerigini alma, gecerli calısma dizinini almada,degistirme de kullanılır"
   ]
  },
  {
   "cell_type": "markdown",
   "metadata": {},
   "source": [
    "- getcwd()   => hangi dizinde çalışıyoruz onu gösterir.\n",
    "- mkdir()    => dizin olusturma: make directory kısaltımı.\n",
    "- chdir()    => bulundugun dizin yani dosya degistirme kodu\n",
    "- rmdir()    => silmek icin\n",
    "- listdir()  => klasörleri listelemek icin kullanılır."
   ]
  },
  {
   "cell_type": "code",
   "execution_count": 19,
   "metadata": {},
   "outputs": [
    {
     "name": "stdout",
     "output_type": "stream",
     "text": [
      "/Users/boravolkanalkac/Documents/Demet/DATA SCIENCE TECHPRO/PYTHON/PYTHON_AdvanceDers_VS/pythonDers25_25_10_nameMainRecursion\n"
     ]
    }
   ],
   "source": [
    "import os\n",
    "print(os.getcwd())"
   ]
  },
  {
   "cell_type": "markdown",
   "metadata": {},
   "source": [
    "dizin oluşturma : klasör(dosya) olusturma: bunu mkdir komutu ile olusturabiliriz "
   ]
  },
  {
   "cell_type": "code",
   "execution_count": 3,
   "metadata": {},
   "outputs": [],
   "source": [
    "import os\n",
    "\n",
    "os.mkdir(\"MyProject\")  # MyProject klasörünü  suan bulundugumuz klasör icinde actı"
   ]
  },
  {
   "cell_type": "code",
   "execution_count": 6,
   "metadata": {},
   "outputs": [],
   "source": [
    "\n",
    "# HOCANIN KODU\n",
    "import os\n",
    "\n",
    "os.mkdir(r\"c:\\Users\\Techpro\\Desktop\\AdvancePython\\MyKlasor\")"
   ]
  },
  {
   "cell_type": "code",
   "execution_count": 20,
   "metadata": {},
   "outputs": [],
   "source": [
    "# acmak istedigimiz klasörü path'ini verip , acmak istedigimiz klasörün isimin de ekleyip calıstrıyoruz ve istedigimizyerde bu kodla klasör acabiliyoruz.\n",
    "\n",
    "os.mkdir(\"/Users/boravolkanalkac/Documents/Demet/DATA SCIENCE TECHPRO/PYTHON/PYTHON_AdvanceDers_VS/MyKlasor\")\n",
    "\n",
    "# MyKlasor'nu PYTHON_AdvanceDers_VS klasoru icinde olustur dedim."
   ]
  },
  {
   "cell_type": "markdown",
   "metadata": {},
   "source": [
    "dizin değiştirme : chdir (change diroctory) kodu ile yapıyoruz. 2 TÜRLÜ GECİS YAPABİLİRİZ :\n",
    "-* os.chdir(\"..\") # .. 2 noktanın anlamı : bir üst klasöre gec demek. bununla PYTHON_AdvanceDers_VS klasörüne gectik\n",
    "-* os.chdir(\"/Users/boravolkanalkac/Documents/Demet/DATA SCIENCE TECHPRO/PYTHON/PYTHON_AdvanceDers_VS/MyKlasor\") #  gecmek istedigimiz klasörün yolunu verirsek de klasör degistirebiliriz"
   ]
  },
  {
   "cell_type": "code",
   "execution_count": 21,
   "metadata": {},
   "outputs": [
    {
     "name": "stdout",
     "output_type": "stream",
     "text": [
      "/Users/boravolkanalkac/Documents/Demet/DATA SCIENCE TECHPRO/PYTHON/PYTHON_AdvanceDers_VS\n"
     ]
    }
   ],
   "source": [
    "import os\n",
    "os.chdir(\"..\") # .. 2 noktanın anlamı : bir üst klasöre gec demek. bununla PYTHON_AdvanceDers_VS klasörüne gectik\n",
    "print(os.getcwd()) # nerde oldugumuzu görmek icin \n",
    "# os.chdir(r\"c:\\Users\\Techpro\\Desktop\\AdvancePython\\MyKlasor\") #  gecmek istedigimiz klasörün yolunu verirsek de klaör degistirebiliriz\n",
    "# print(os.getcwd())"
   ]
  },
  {
   "cell_type": "markdown",
   "metadata": {},
   "source": [
    "dizin silme :rmdir kodu ile yapıyoruz"
   ]
  },
  {
   "cell_type": "code",
   "execution_count": 22,
   "metadata": {},
   "outputs": [],
   "source": [
    "import os\n",
    "\n",
    "os.rmdir(\"/Users/boravolkanalkac/Documents/Demet/DATA SCIENCE TECHPRO/PYTHON/PYTHON_AdvanceDers_VS/MyKlasor\")  # MyKlasor nü sildik"
   ]
  },
  {
   "cell_type": "markdown",
   "metadata": {},
   "source": [
    "dizin içeriği listeleme : listdir() ile de listeliyoruz, BU BULUNDUGU KLASÖRÜ LİSTELER\n",
    "-  BASKA BİR KLASÖRÜ LİSTELEMEK İSTERSEK DOGRUDAN ONUN PATH'INI listdir() PARANTEZİNE YAZMALIYIZ.ÖRN:\n",
    "print(os.listdir(\"/Users/boravolkanalkac/Documents/Demet/DATA SCIENCE TECHPRO/PYTHON\"))"
   ]
  },
  {
   "cell_type": "code",
   "execution_count": 14,
   "metadata": {},
   "outputs": [
    {
     "name": "stdout",
     "output_type": "stream",
     "text": [
      "['session_21_20_10_2023.ipynb', 'session_22_21_10_2023_regex.ipynb', 'session_23_24102023_fileManagement', 'session_24_24102023_modulesPackages', 'session_25_25_10_2023_nameMainRecursion']\n"
     ]
    }
   ],
   "source": [
    "import os\n",
    "\n",
    "print(os.listdir()) # PYTHON_AdvanceDers_VS icindeki klasörleri listeledi\n",
    "\n",
    "# NOT: BASKA BİR KLASÖRÜ LİSTELEMEK İSTERSEK DOGRUDAN ONUN PATH'INI listdir() PARANTEZİNE YAZMALIYIZ."
   ]
  },
  {
   "cell_type": "markdown",
   "metadata": {},
   "source": [
    "## random modülü"
   ]
  },
  {
   "cell_type": "code",
   "execution_count": 22,
   "metadata": {},
   "outputs": [
    {
     "name": "stdout",
     "output_type": "stream",
     "text": [
      "0.0424161120809432\n"
     ]
    }
   ],
   "source": [
    "import random\n",
    "print(random.random()) # 0.0 ile 1.0 arasında bir değer"
   ]
  },
  {
   "cell_type": "code",
   "execution_count": 24,
   "metadata": {},
   "outputs": [
    {
     "name": "stdout",
     "output_type": "stream",
     "text": [
      "7\n",
      "9\n",
      "30\n"
     ]
    }
   ],
   "source": [
    "import random\n",
    "# random.randrange() parantezine belirttigimiz sekilde rast gele deger verir\n",
    "print(random.randrange(1, 10)) # 1 dahil 9 a kadar olan deger ver \n",
    "print(random.randrange(1, 10, 2)) # 1 dahil 9 a kadar  2'ser 2'ser deger ver\n",
    "print(random.randrange(0, 101, 10))# 0 dan basla 100 e kadar 10'ar 10'ar deger ver\n",
    "\n"
   ]
  },
  {
   "cell_type": "code",
   "execution_count": 26,
   "metadata": {},
   "outputs": [
    {
     "name": "stdout",
     "output_type": "stream",
     "text": [
      "c\n",
      "23\n",
      "45\n"
     ]
    }
   ],
   "source": [
    "print(random.choice('computer'))\n",
    "print(random.choice([12, 23, 45, 67, 65, 43]))\n",
    "print(random.choice((12, 23, 45, 67, 65, 43))) # random.choice() rasgele iterable olan elemanları olanların icinden rastgele eleman  (string, list veya tuble)  verir\n"
   ]
  },
  {
   "cell_type": "code",
   "execution_count": 88,
   "metadata": {},
   "outputs": [
    {
     "name": "stdout",
     "output_type": "stream",
     "text": [
      "[45, 67, 23, 65, 12, 43]\n"
     ]
    }
   ],
   "source": [
    "numbers = [12, 23, 45, 67, 65, 43]\n",
    "\n",
    "random.shuffle(numbers) # random.shuffle() karıstır, yerlerini degistir\n",
    "\n",
    "print(numbers)"
   ]
  },
  {
   "cell_type": "code",
   "execution_count": null,
   "metadata": {},
   "outputs": [],
   "source": []
  },
  {
   "cell_type": "markdown",
   "metadata": {},
   "source": []
  },
  {
   "cell_type": "markdown",
   "metadata": {},
   "source": [
    "## recursion"
   ]
  },
  {
   "cell_type": "markdown",
   "metadata": {},
   "source": [
    "Rekürsif fonksiyonlar, bir işlemi daha küçük parçalara bölmek ve her parçanın kendisine benzer bir işlemi gerçekleştirmesi fikrine dayanır. Bu, işlevlerin kendilerini çağırmasına izin verir. Kendini çağıran bir fonksiyon özyinelemeli bir fonksiyondur. Bu yöntem, belirli bir problem kendi içinde tanımlandığında kullanılır. Bu, yinelemeyi içermesine rağmen, böyle bir sorunu çözmek için yinelemeli bir yaklaşım kullanmak sıkıcı olabilir. Özyinelemeli yaklaşım, görünüşte karmaşık bir soruna çok kısa bir çözüm sağlar. Göz alıcı görünse de anlaşılması zor olabilir!\n",
    "1.\tTemel Durum (Base Case): Rekürsif bir fonksiyonun bir sona erme şartıdır. Fonksiyonun kendini çağırmadan önce durması gereken bir koşul. Temel durum, sonsuz bir döngüye girmemek için çok önemlidir.\n",
    "2.\tÖzyinelemeli Adım (Recursive Step): Bu adım, fonksiyonun kendisini daha küçük bir versiyonla çağırma adımıdır. Özyinelemeli adım, işlemi küçük parçalara böler.\n",
    "Özyinelemenin en popüler örneği faktöriyelin hesaplanmasıdır. Matematiksel olarak faktöriyel şu şekilde tanımlanır: n! = n * (n-1)!\n",
    "Faktöriyeli tanımlamak için faktöriyelin kendisini kullanırız. Dolayısıyla, bu özyinelemeli bir fonksiyon yazmak için uygun bir durumdur. Yukarıdaki tanımı 5'in faktöriyel değerini hesaplamak için genişletelim.\n"
   ]
  },
  {
   "cell_type": "code",
   "execution_count": 98,
   "metadata": {},
   "outputs": [
    {
     "name": "stdout",
     "output_type": "stream",
     "text": [
      "7 * 6 * 5 * 4 * 3 * 2 * 1\n"
     ]
    },
    {
     "data": {
      "text/plain": [
       "5040"
      ]
     },
     "execution_count": 98,
     "metadata": {},
     "output_type": "execute_result"
    }
   ],
   "source": [
    "def faktoriyel(n):\n",
    "    if n == 1:\n",
    "        print(n)\n",
    "        return 1\n",
    "    else:\n",
    "        print(n, \"*\", end=\" \")\n",
    "        return n * faktoriyel(n-1) # faktoriyel(n-1) bu sekilde kullanılıyor rekürsif fonksiyonları\n",
    "    \n",
    "faktoriyel(7)"
   ]
  },
  {
   "cell_type": "code",
   "execution_count": 27,
   "metadata": {},
   "outputs": [],
   "source": [
    "def fibonacci(n):\n",
    "    if n <= 0:\n",
    "        return 0\n",
    "    elif n == 1:\n",
    "        return 1\n",
    "    else:\n",
    "        # print(n, end=\" \")\n",
    "        return fibonacci(n-1) + fibonacci(n-2) #"
   ]
  },
  {
   "cell_type": "code",
   "execution_count": 30,
   "metadata": {},
   "outputs": [
    {
     "name": "stdout",
     "output_type": "stream",
     "text": [
      "13\n"
     ]
    }
   ],
   "source": [
    "result = fibonacci(7) # 7. fibonacci 13 e denk gelir.\n",
    "print(result)"
   ]
  },
  {
   "cell_type": "markdown",
   "metadata": {},
   "source": [
    "0 1 1 2 3 5 8 13"
   ]
  }
 ],
 "metadata": {
  "kernelspec": {
   "display_name": "Python 3",
   "language": "python",
   "name": "python3"
  },
  "language_info": {
   "codemirror_mode": {
    "name": "ipython",
    "version": 3
   },
   "file_extension": ".py",
   "mimetype": "text/x-python",
   "name": "python",
   "nbconvert_exporter": "python",
   "pygments_lexer": "ipython3",
   "version": "3.11.4"
  }
 },
 "nbformat": 4,
 "nbformat_minor": 2
}

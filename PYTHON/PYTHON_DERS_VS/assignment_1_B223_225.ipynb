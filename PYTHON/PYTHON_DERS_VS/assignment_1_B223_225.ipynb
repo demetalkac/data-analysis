{
 "cells": [
  {
   "cell_type": "markdown",
   "metadata": {},
   "source": [
    "1 - Kullanıcıdan input ile iki veri alın. Bu veriler tamsayı ise çarpımını yazdırın. "
   ]
  },
  {
   "cell_type": "code",
   "execution_count": 3,
   "metadata": {},
   "outputs": [
    {
     "name": "stdout",
     "output_type": "stream",
     "text": [
      "Grilen sayılar tamsayı degil\n"
     ]
    }
   ],
   "source": [
    "veri_1 = (input(\"Lütfen bir sayı giriniz\"))\n",
    "veri_2 = (input(\"Lütfen bir sayı giriniz\"))\n",
    "if veri_1.isdigit() and veri_2.isdigit():\n",
    "    nun_1  = int(veri_1) \n",
    "    num_2 = int(veri_2)\n",
    "    carpım = nun_1 * num_2\n",
    "    print(\"İki tamsayının carpımı:\" ,carpım)\n",
    "else:\n",
    "    print( \"Grilen sayılar tamsayı degil\")"
   ]
  },
  {
   "cell_type": "code",
   "execution_count": 4,
   "metadata": {},
   "outputs": [
    {
     "name": "stdout",
     "output_type": "stream",
     "text": [
      "Verilen sayılar tam sayı degil\n"
     ]
    }
   ],
   "source": [
    "number_1 = (input(\"Lütfen bir sayı giriniz\"))\n",
    "number_2 = (input(\"Lütfen bir sayı giriniz\"))\n",
    "if number_1.isdigit() and number_2.isdigit():\n",
    "    print(int(number_1) * int(number_2))\n",
    "else:\n",
    "    print(\"Verilen sayılar tam sayı degil\")\n",
    " "
   ]
  },
  {
   "cell_type": "code",
   "execution_count": null,
   "metadata": {},
   "outputs": [],
   "source": [
    "a, b= input"
   ]
  },
  {
   "cell_type": "markdown",
   "metadata": {},
   "source": [
    "2 - Kullanıcıdan bir sayı isteyin. Sayı tek ise 2 katını çift ise karesini yazdırın. "
   ]
  },
  {
   "cell_type": "code",
   "execution_count": 9,
   "metadata": {},
   "outputs": [
    {
     "name": "stdout",
     "output_type": "stream",
     "text": [
      "Sayının karesi : 64\n"
     ]
    }
   ],
   "source": [
    "number = int(input(\"Lütfen bir sayı girin\"))\n",
    "if number % 2 ==0:\n",
    "    print(\"Sayının karesi :\",number ** 2)\n",
    "elif number % 2 != 0:\n",
    "    print( \"Sayının iki katı: \",number * 2)"
   ]
  },
  {
   "cell_type": "code",
   "execution_count": null,
   "metadata": {},
   "outputs": [],
   "source": [
    "#hocanın cözdügü:\n",
    "a = int(input(\"Bir sayı giriniz\"))\n",
    "if a % 2 : print(a* 2)\n",
    "else: print(a ** 2)"
   ]
  },
  {
   "cell_type": "markdown",
   "metadata": {},
   "source": [
    "3 - Kullanıcıdan iki tam sayı isteyin. Sayılar eşitse veya sayıların farkı 5 in katı ise True döndüren algoritmayı yazın. "
   ]
  },
  {
   "cell_type": "code",
   "execution_count": 16,
   "metadata": {},
   "outputs": [
    {
     "name": "stdout",
     "output_type": "stream",
     "text": [
      "Girilen sayılar esit degil veya sayıların farkı 5'in katı degil\n"
     ]
    }
   ],
   "source": [
    "number_1 = int((input(\"Lütfen bir sayı giriniz\")))\n",
    "number_2 = int((input(\"Lütfen bir sayı giriniz\")))\n",
    "\n",
    "if number_1 == number_2 or (number_1 - number_2) % 5 == 0:\n",
    "    print(\"True\")\n",
    "else:\n",
    "    print(\"Girilen sayılar esit degil veya sayıların farkı 5'in katı degil\")"
   ]
  },
  {
   "cell_type": "markdown",
   "metadata": {},
   "source": [
    "4 - Kullanıcıya sınavdan aldığı notu sorunuz. Denk gelen Harf notunu yazdırın. 0-100 aralığı        dışında girilen notların geçersiz olduğuu belirtmeyi unutmayın. \n",
    "    80 - 100 aralığı \"A\",\n",
    "    65 - 79 aralığı \"B\",\n",
    "    55 - 64 aralığı \"C\",\n",
    "    35 - 54 aralığı \"D\",\n",
    "    0 - 34 aralığı \"F\""
   ]
  },
  {
   "cell_type": "code",
   "execution_count": 24,
   "metadata": {},
   "outputs": [
    {
     "name": "stdout",
     "output_type": "stream",
     "text": [
      "Gecersiz bir deger girdiniz.\n"
     ]
    }
   ],
   "source": [
    "notlar = float(input(\"Lütfen notunuzu giriniz. Not:0-100 aralığı dışında girilen notlar geçersizdir\"))\n",
    "\n",
    "if notlar >= 0 and notlar <= 34:\n",
    "    print(\"Sınavdan F aldınız\")\n",
    "elif notlar >= 35 and notlar <=54:\n",
    "    print(\"Sınavdan D aldınız\")\n",
    "elif notlar >= 55 and notlar <=64:\n",
    "    print(\"Sınavdan C aldınız\")\n",
    "elif notlar >= 65 and notlar <=79:\n",
    "    print(\"Sınavdan B aldınız\")\n",
    "elif notlar >= 80 and notlar <=100:\n",
    "    print(\"Sınavdan A aldınız\")\n",
    "else:\n",
    "    print(\"Gecersiz bir deger girdiniz.\")\n",
    "\n"
   ]
  },
  {
   "cell_type": "code",
   "execution_count": null,
   "metadata": {},
   "outputs": [],
   "source": []
  },
  {
   "cell_type": "markdown",
   "metadata": {},
   "source": [
    "5 - Vücut kitle endeksini hesaplayan kodu yazınız. Hesapladığınız değerin hangi kategoride olduğunu belirtin. Örn: vki = 24, normal. Kategori aralıklarını araştırma sonucu kendiniz elde edin. \n",
    "Zayıf  : VKİ 18.5'in altındaysa\n",
    "Normal : VKİ 18.5 ile 24.9 arasındaysa\n",
    "Kilolu : VKİ 25 ile 29.9 arasındaysa\n",
    "Obez   :VKİ 30 üzeri"
   ]
  },
  {
   "cell_type": "code",
   "execution_count": 26,
   "metadata": {},
   "outputs": [
    {
     "name": "stdout",
     "output_type": "stream",
     "text": [
      "Vücut Kitle İndeksi (VKİ): 25.102391333069097\n",
      "Kategori aralıgınız:  Kilolu\n"
     ]
    }
   ],
   "source": [
    "agirlik = float(input(\"Lütfen kilonuzu kg cinsinden giriniz\"))\n",
    "boy = float(input(\"Lütfen boyunuzu metre cinsinden giriniz\"))\n",
    "vki = agirlik / (boy * boy)\n",
    "print(\"Vücut Kitle İndeksi (VKİ):\", vki) \n",
    "\n",
    "if vki <= 18.5:\n",
    "    print(\"Kategori aralıgınız: Zayıf\")\n",
    "elif vki > 18.5 and vki <= 24.9:\n",
    "    print(\"Kategori aralıgınız:  Normal\")\n",
    "elif vki > 24.9 and vki <= 29.9:\n",
    "    print(\"Kategori aralıgınız:  Kilolu\")\n",
    "elif vki >29.9:\n",
    "    print(\"Kategori aralıgınız:  Obez\")"
   ]
  },
  {
   "cell_type": "code",
   "execution_count": 21,
   "metadata": {},
   "outputs": [
    {
     "name": "stdout",
     "output_type": "stream",
     "text": [
      "Vücut Kitle İndeksi (VKİ): 37.722908093278456\n"
     ]
    }
   ],
   "source": [
    "agirlik = float(input(\"Lütfen kilonuzu kg cinsinden giriniz. Örn: 65.6 \"))\n",
    "boy = float(input(\"Lütfen boyunuzu metre cinsinden giriniz. Örn: 1.67\"))\n",
    "vki = agirlik / (boy * boy)\n",
    "print(\"Vücut Kitle İndeksi (VKİ):\", vki) \n",
    "if vki < 18.5:\n",
    "    print(\"Kategori aralıgınız: Zayıf\")\n",
    "elif 18.5 >= vki < 25:\n",
    "    print(\"Kategori aralıgınız:  Normal\")\n",
    "elif 25 >= vki < 30:\n",
    "    print(\"Kategori aralıgınız:  Kilolu\")\n",
    "elif vki <= 30:\n",
    "    print(\"Kategori aralıgınız:  Obez\")"
   ]
  }
 ],
 "metadata": {
  "kernelspec": {
   "display_name": "Python 3",
   "language": "python",
   "name": "python3"
  },
  "language_info": {
   "codemirror_mode": {
    "name": "ipython",
    "version": 3
   },
   "file_extension": ".py",
   "mimetype": "text/x-python",
   "name": "python",
   "nbconvert_exporter": "python",
   "pygments_lexer": "ipython3",
   "version": "3.11.4"
  },
  "orig_nbformat": 4
 },
 "nbformat": 4,
 "nbformat_minor": 2
}

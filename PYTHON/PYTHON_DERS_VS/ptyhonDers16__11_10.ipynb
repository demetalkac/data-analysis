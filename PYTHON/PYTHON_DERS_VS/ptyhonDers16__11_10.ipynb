{
 "cells": [
  {
   "cell_type": "markdown",
   "metadata": {},
   "source": [
    "### Kullanıcının girdiği bir sayının Armstrong number olup olmadığını tespit eden bir algoritma oluşturun.\n",
    "Bir sayının tüm rakamlarin ayrı ayrı kuplerin toplami kendisine eşitse Armstrong sayı denir\n",
    "kendi rakamları üssünde toplandığında kendisini oluşturan sayıya eşit olan bir sayıdır. Bu tanımı daha iyi anlamak için bir örnek verelim:\n",
    "\n",
    "Örneğin, 153 bir Armstrong sayısıdır çünkü:\n",
    "\n",
    "1^3 + 5^3 + 3^3 = 1 + 125 + 27 = 153"
   ]
  },
  {
   "cell_type": "code",
   "execution_count": 4,
   "metadata": {},
   "outputs": [
    {
     "name": "stdout",
     "output_type": "stream",
     "text": [
      "Girdiginiz sayı: 379 Armstrong bir sayı değildir.\n"
     ]
    }
   ],
   "source": [
    "sayı = input(\"bir sayı girin armstrong olup olmadını ögrenin\")\n",
    "\n",
    "basamak_sayısı = len(sayı)\n",
    "\n",
    "toplam = 0\n",
    "\n",
    "for i in sayı:\n",
    "\n",
    "    toplam += int(i) ** basamak_sayısı\n",
    "if toplam == int(sayı):\n",
    "        print(f\"Girdiginiz sayı: {sayı} Armstrong bir sayıdır\")\n",
    "else:\n",
    "        print (f\"Girdiginiz sayı: {sayı} Armstrong bir sayı değildir.\")"
   ]
  },
  {
   "cell_type": "code",
   "execution_count": 10,
   "metadata": {},
   "outputs": [
    {
     "data": {
      "text/plain": [
       "False"
      ]
     },
     "execution_count": 10,
     "metadata": {},
     "output_type": "execute_result"
    }
   ],
   "source": [
    "sayı = input(\"bir sayı girin armstrong olup olmadını ögrenin\")\n",
    "\n",
    "sum([ int(i)  ** len(sayı)   for i in sayı] )== int(sayı)"
   ]
  },
  {
   "cell_type": "code",
   "execution_count": 11,
   "metadata": {},
   "outputs": [
    {
     "data": {
      "text/plain": [
       "['T', 'E', 'C', 'H', 'P', 'R', 'O']"
      ]
     },
     "execution_count": 11,
     "metadata": {},
     "output_type": "execute_result"
    }
   ],
   "source": [
    "[ i.upper() for i in \"techpro\"]# bütün karakterleri büyük hale getirin."
   ]
  },
  {
   "cell_type": "code",
   "execution_count": 12,
   "metadata": {},
   "outputs": [
    {
     "data": {
      "text/plain": [
       "['T', 'C', 'H', 'P', 'R']"
      ]
     },
     "execution_count": 12,
     "metadata": {},
     "output_type": "execute_result"
    }
   ],
   "source": [
    "[ i.upper() for i in \"techpro\" if i not in \"aeiıoöuü\"]#sadece sessiz harfleri büyük hale getirin."
   ]
  },
  {
   "cell_type": "code",
   "execution_count": 13,
   "metadata": {},
   "outputs": [
    {
     "data": {
      "text/plain": [
       "['T', 'e', 'C', 'H', 'P', 'R', 'o']"
      ]
     },
     "execution_count": 13,
     "metadata": {},
     "output_type": "execute_result"
    }
   ],
   "source": [
    "[ i.upper() if i not in \"aeiıoöuü\"else i for i in \"techpro\" ]# sessiz harfleri büyük hale getirin. sesli harfler oldugu gibi kalsın"
   ]
  },
  {
   "cell_type": "code",
   "execution_count": 15,
   "metadata": {},
   "outputs": [
    {
     "data": {
      "text/plain": [
       "'TeCHPRo'"
      ]
     },
     "execution_count": 15,
     "metadata": {},
     "output_type": "execute_result"
    }
   ],
   "source": [
    "# geri  liste icindeki verleri stringe cevir\n",
    "\"\".join([ i.upper() if i not in \"aeiıoöuü\"else i for i in \"techpro\" ])"
   ]
  },
  {
   "cell_type": "code",
   "execution_count": null,
   "metadata": {},
   "outputs": [],
   "source": [
    "# \"Techpro is the best\" >> bu string içerisindeki karakterlerin kaçar defa geçtiğini bulan kodu yazın."
   ]
  },
  {
   "cell_type": "code",
   "execution_count": 16,
   "metadata": {},
   "outputs": [
    {
     "name": "stdout",
     "output_type": "stream",
     "text": [
      "{'T': 1, 'e': 3, 'c': 1, 'h': 2, 'p': 1, 'r': 1, 'o': 1, ' ': 3, 'i': 1, 's': 2, 't': 2, 'b': 1}\n"
     ]
    }
   ],
   "source": [
    "result_dict = {}\n",
    "for i in \"Techpro is the best\":\n",
    "    if i in result_dict:\n",
    "        result_dict[i] += 1\n",
    "    else:\n",
    "        result_dict[i] = 1\n",
    "print(result_dict)"
   ]
  },
  {
   "cell_type": "code",
   "execution_count": 17,
   "metadata": {},
   "outputs": [
    {
     "data": {
      "text/plain": [
       "{(' ', 3),\n",
       " ('T', 1),\n",
       " ('b', 1),\n",
       " ('c', 1),\n",
       " ('e', 3),\n",
       " ('h', 2),\n",
       " ('i', 1),\n",
       " ('o', 1),\n",
       " ('p', 1),\n",
       " ('r', 1),\n",
       " ('s', 2),\n",
       " ('t', 2)}"
      ]
     },
     "execution_count": 17,
     "metadata": {},
     "output_type": "execute_result"
    }
   ],
   "source": [
    "# set ile çözüm\n",
    "sentence = \"Techpro is the best\"\n",
    "result_list = []\n",
    "for i in sentence:\n",
    "    result_list.append((i,sentence.count(i)))\n",
    "set(result_list)"
   ]
  },
  {
   "cell_type": "code",
   "execution_count": null,
   "metadata": {},
   "outputs": [],
   "source": []
  },
  {
   "cell_type": "code",
   "execution_count": null,
   "metadata": {},
   "outputs": [],
   "source": []
  },
  {
   "cell_type": "code",
   "execution_count": null,
   "metadata": {},
   "outputs": [],
   "source": []
  }
 ],
 "metadata": {
  "kernelspec": {
   "display_name": "Python 3",
   "language": "python",
   "name": "python3"
  },
  "language_info": {
   "codemirror_mode": {
    "name": "ipython",
    "version": 3
   },
   "file_extension": ".py",
   "mimetype": "text/x-python",
   "name": "python",
   "nbconvert_exporter": "python",
   "pygments_lexer": "ipython3",
   "version": "3.11.4"
  }
 },
 "nbformat": 4,
 "nbformat_minor": 2
}

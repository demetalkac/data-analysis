{
 "cells": [
  {
   "cell_type": "code",
   "execution_count": 1,
   "metadata": {},
   "outputs": [
    {
     "name": "stdout",
     "output_type": "stream",
     "text": [
      "tek sayılar listesi: [1, 15, 5, 89, 45, 71, 45, 95, 61]\n",
      "cift sayılar listesi: [2, 36, 62, 52, 30, 56, 48]\n"
     ]
    }
   ],
   "source": [
    "# listenin elemanlarını tek ve cift sayılara göre ayıran kodu yazın\n",
    "sayılar_listesi = [1,15,2,36,5,89,45,62,52,71,30,56,45,95,61,48]\n",
    "odds = []\n",
    "evens = []\n",
    "x = 0\n",
    "\n",
    "while x < len(sayılar_listesi):\n",
    "    \n",
    "    if sayılar_listesi[x] % 2 == 0:\n",
    "        evens.append(sayılar_listesi[x])\n",
    "    else:\n",
    "        odds.append(sayılar_listesi[x])\n",
    "\n",
    "    x += 1\n",
    "#print(\"odds :\" ,odds)\n",
    "#print(\"evens: \", evens)\n",
    "print(f\"tek sayılar listesi: {odds}\")\n",
    "print(f\"cift sayılar listesi: {evens}\")"
   ]
  },
  {
   "cell_type": "code",
   "execution_count": 2,
   "metadata": {},
   "outputs": [
    {
     "ename": "SyntaxError",
     "evalue": "f-string: empty expression not allowed (3233436557.py, line 15)",
     "output_type": "error",
     "traceback": [
      "\u001b[0;36m  Cell \u001b[0;32mIn[2], line 15\u001b[0;36m\u001b[0m\n\u001b[0;31m    print(f\"tek sayılar listesi: {} .format(odds)\")\u001b[0m\n\u001b[0m                                                  ^\u001b[0m\n\u001b[0;31mSyntaxError\u001b[0m\u001b[0;31m:\u001b[0m f-string: empty expression not allowed\n"
     ]
    }
   ],
   "source": [
    "sayılar_listesi = [1,15,2,36,5,89,45,62,52,71,30,56,45,95,61,48]\n",
    "odds = []\n",
    "evens = []\n",
    "x = 0\n",
    "\n",
    "while x < len(sayılar_listesi):\n",
    "    \n",
    "    if sayılar_listesi[x] % 2 == 0:\n",
    "        evens.append(sayılar_listesi[x])\n",
    "    else:\n",
    "        odds.append(sayılar_listesi[x])\n",
    "\n",
    "    x += 1\n",
    "\n",
    "print(f\"tek sayılar listesi: {} .format(odds)\")\n",
    "print(f\"cift sayılar listesi: {} .format(evens)\")"
   ]
  },
  {
   "cell_type": "code",
   "execution_count": null,
   "metadata": {},
   "outputs": [],
   "source": []
  },
  {
   "cell_type": "code",
   "execution_count": null,
   "metadata": {},
   "outputs": [
    {
     "name": "stdout",
     "output_type": "stream",
     "text": [
      "tek sayılar listesi: [1, 5, 15, 45, 45, 61, 71, 89, 95]\n",
      "çift sayılar listesi: [2, 30, 36, 48, 52, 56, 62]\n"
     ]
    }
   ],
   "source": [
    "odds = []\n",
    "\n",
    "evens = []\n",
    "\n",
    "x = 0\n",
    "\n",
    "while x < len(sayılar_listesi):\n",
    "\n",
    "    if sayılar_listesi[x] % 2 == 0:\n",
    "        evens.append(sayılar_listesi[x])\n",
    "    \n",
    "    else:\n",
    "        odds.append(sayılar_listesi[x])\n",
    "\n",
    "    x += 1 \n",
    "odds.sort()\n",
    "evens.sort()\n",
    "print(f\"tek sayılar listesi: {odds}\")\n",
    "print(f\"çift sayılar listesi: {evens}\")"
   ]
  },
  {
   "cell_type": "code",
   "execution_count": null,
   "metadata": {},
   "outputs": [
    {
     "name": "stdout",
     "output_type": "stream",
     "text": [
      "Girdiginiz sayı 66. Tahminini azaltın\n",
      "Girdiginiz sayı 34. Tahminini artırın\n",
      "Girdiginiz sayı 55. Dogru bildiginiz tebrikler\n"
     ]
    }
   ],
   "source": [
    "# Verdigimiz sayıyı kullanıcının bilmesini isteyen kodu yazınız.\n",
    "aklımdaki_sayı = 55\n",
    "\n",
    "while True:\n",
    "    tahmin = int(input(\"Aklımdaki sayıyı tahmin et\"))\n",
    "    if aklımdaki_sayı < tahmin:\n",
    "        print(f\"Girdiginiz sayı {tahmin}. Tahminini azaltın\")\n",
    "    elif aklımdaki_sayı > tahmin:\n",
    "        print(f\"Girdiginiz sayı {tahmin}. Tahminini artırın\")\n",
    "    else:\n",
    "        print(f\"Girdiginiz sayı {tahmin}. Dogru bildiginiz tebrikler\")\n",
    "        break"
   ]
  },
  {
   "cell_type": "code",
   "execution_count": null,
   "metadata": {},
   "outputs": [
    {
     "name": "stdout",
     "output_type": "stream",
     "text": [
      "Girdiginiz sayı 66. Tahminini azaltın\n",
      "Girdiginiz sayı 77. Tahminini azaltın\n",
      "Girdiginiz sayı 44. Tahminini artırın\n",
      "Girdiginiz sayı 55. 4 kerede bildiniz. Tebrikler\n"
     ]
    }
   ],
   "source": [
    "# Verdigimiz sayıyı kullanıcının bilmesini isteyen kodu yazınız. Sayac koyduk\n",
    "\n",
    "aklımdaki_sayı = 55\n",
    "sayac = 0\n",
    "\n",
    "while True:\n",
    "    sayac += 1\n",
    "    tahmin = int(input(\"Aklımdaki sayıyı tahmin et\"))\n",
    "    if aklımdaki_sayı < tahmin:\n",
    "        print(f\"Girdiginiz sayı {tahmin}. Tahminini azaltın\")\n",
    "    elif aklımdaki_sayı > tahmin:\n",
    "        print(f\"Girdiginiz sayı {tahmin}. Tahminini artırın\")\n",
    "    else:\n",
    "        print(f\"Girdiginiz sayı {tahmin}. {sayac} kerede bildiniz. Tebrikler\")\n",
    "        break"
   ]
  },
  {
   "cell_type": "code",
   "execution_count": null,
   "metadata": {},
   "outputs": [],
   "source": [
    "# Verdigimiz sayıyı kullanıcının bilmesini isteyen kodu yazınız. Tahmin hakkını kısıtla\n",
    "\n",
    "aklımdaki_sayı = 55\n",
    "sayac = 0\n",
    "\n",
    "while True:\n",
    "    sayac += 1\n",
    "    tahmin = int(input(\"Aklımdaki sayıyı tahmin et\"))\n",
    "    if aklımdaki_sayı < tahmin:\n",
    "        print(f\"Girdiginiz sayı {tahmin}. Tahminini azaltın\")\n",
    "    elif aklımdaki_sayı > tahmin:\n",
    "        print(f\"Girdiginiz sayı {tahmin}. Tahminini artırın\")\n",
    "    else:\n",
    "        print(f\"Girdiginiz sayı {tahmin}. {sayac} kerede bildiniz. Tebrikler\")\n",
    "        break\n",
    "    if sayac == 5:\n",
    "        print(f\"5 hakkın bitti. Aklımdaki sayı {aklımdaki_sayı} idi\")\n",
    "        break"
   ]
  },
  {
   "cell_type": "markdown",
   "metadata": {},
   "source": [
    "## randam modülü"
   ]
  },
  {
   "cell_type": "code",
   "execution_count": null,
   "metadata": {},
   "outputs": [],
   "source": [
    "# modüller cagırdıgımız zaman gelir. import etmek gerekir\n",
    "# import random as rd # as yapısı yeni vermeyi saglar.\n",
    "# notbook a bir kere import edersek baska baska yapmaya gerek yok"
   ]
  },
  {
   "cell_type": "code",
   "execution_count": null,
   "metadata": {},
   "outputs": [],
   "source": [
    "import random"
   ]
  },
  {
   "cell_type": "code",
   "execution_count": null,
   "metadata": {},
   "outputs": [
    {
     "data": {
      "text/plain": [
       "0.018252675903764115"
      ]
     },
     "execution_count": 17,
     "metadata": {},
     "output_type": "execute_result"
    }
   ],
   "source": [
    "random.random() # random( )methodu 0 ile 9 arası rakam üredir"
   ]
  },
  {
   "cell_type": "code",
   "execution_count": null,
   "metadata": {},
   "outputs": [
    {
     "data": {
      "text/plain": [
       "0.5486946056438222"
      ]
     },
     "execution_count": 19,
     "metadata": {},
     "output_type": "execute_result"
    }
   ],
   "source": [
    "random.seed(35) # seed() herkeste aynı sonucu almak icin kullanılır. parantezine yazdıgımız sayı baslangıc noktası gibi \n",
    "random.random()"
   ]
  },
  {
   "cell_type": "code",
   "execution_count": null,
   "metadata": {},
   "outputs": [],
   "source": [
    "random.randint(1,100) # parentezine 2 parametre yazdıgımızda , baslangıc ve bitis noktaları dahildir dahil bir rakam verir."
   ]
  },
  {
   "cell_type": "code",
   "execution_count": null,
   "metadata": {},
   "outputs": [
    {
     "name": "stdout",
     "output_type": "stream",
     "text": [
      "Girdiginiz sayı 50. Tahminini artırın\n",
      "Girdiginiz sayı 70. Tahminini artırın\n",
      "Girdiginiz sayı 80. Tahminini artırın\n",
      "Girdiginiz sayı 95. Tahminini artırın\n",
      "Girdiginiz sayı 99. Tahminini azaltın\n",
      "Girdiginiz sayı 98. Tahminini azaltın\n",
      "Girdiginiz sayı 97. Tahminini azaltın\n",
      "7 hakkın bitti. Aklımdaki sayı 96 idi\n"
     ]
    }
   ],
   "source": [
    "# Verdigimiz sayıyı kullanıcının bilmesini isteyen kodu yazınız. Tahmin hakkını kısıtla\n",
    "import random\n",
    "import time\n",
    "aklımdaki_sayı = random.randint(1,100)\n",
    "sayac = 0\n",
    "\n",
    "time.sleep(2)\n",
    "while True:\n",
    "    sayac += 1\n",
    "    tahmin = int(input(\"Aklımdaki sayıyı tahmin et\"))\n",
    "    if aklımdaki_sayı < tahmin:\n",
    "        print(f\"Girdiginiz sayı {tahmin}. Tahminini azaltın\")\n",
    "    elif aklımdaki_sayı > tahmin:\n",
    "    \n",
    "\n",
    "        print(f\"Girdiginiz sayı {tahmin}. Tahminini artırın\")\n",
    "    else:\n",
    "        print(f\"Girdiginiz sayı {tahmin}. {sayac} kerede bildiniz. Tebrikler\")\n",
    "        break\n",
    "\n",
    "    time.sleep(2)\n",
    "\n",
    "    if sayac == 7:\n",
    "        print(f\"7 hakkın bitti. Aklımdaki sayı {aklımdaki_sayı} idi\")\n",
    "        break\n",
    "    time.sleep(2)"
   ]
  },
  {
   "cell_type": "markdown",
   "metadata": {},
   "source": [
    "## min() , max()"
   ]
  },
  {
   "cell_type": "code",
   "execution_count": null,
   "metadata": {},
   "outputs": [],
   "source": [
    "list_2 = [1,3,5,7,44,88,6,99,55,-4,-2,59]"
   ]
  },
  {
   "cell_type": "code",
   "execution_count": null,
   "metadata": {},
   "outputs": [
    {
     "data": {
      "text/plain": [
       "-4"
      ]
     },
     "execution_count": 24,
     "metadata": {},
     "output_type": "execute_result"
    }
   ],
   "source": [
    "min(list_2)"
   ]
  },
  {
   "cell_type": "code",
   "execution_count": null,
   "metadata": {},
   "outputs": [
    {
     "data": {
      "text/plain": [
       "99"
      ]
     },
     "execution_count": 25,
     "metadata": {},
     "output_type": "execute_result"
    }
   ],
   "source": [
    "max(list_2)"
   ]
  },
  {
   "cell_type": "code",
   "execution_count": null,
   "metadata": {},
   "outputs": [
    {
     "data": {
      "text/plain": [
       "'sedat'"
      ]
     },
     "execution_count": 26,
     "metadata": {},
     "output_type": "execute_result"
    }
   ],
   "source": [
    "min({\"sedat\", \"techpro\"}) # stringleri ASCII degerine göre verir"
   ]
  },
  {
   "cell_type": "markdown",
   "metadata": {},
   "source": [
    "liste_1 = [4,5,6,9,85,1,23,65,47,32,91] listenin en kücük elemanını bulun.( min fonk ve sort methodunu kullamadn)"
   ]
  },
  {
   "cell_type": "code",
   "execution_count": 3,
   "metadata": {},
   "outputs": [
    {
     "ename": "KeyboardInterrupt",
     "evalue": "",
     "output_type": "error",
     "traceback": [
      "\u001b[0;31m---------------------------------------------------------------------------\u001b[0m",
      "\u001b[0;31mKeyboardInterrupt\u001b[0m                         Traceback (most recent call last)",
      "\u001b[1;32m/Users/boravolkanalkac/Documents/Demet/DATA SCIENCE TECHPRO/PYTHON/PHYHON_DERS_VS/pythonDers13_07_10_while.ipynb Cell 21\u001b[0m line \u001b[0;36m6\n\u001b[1;32m      <a href='vscode-notebook-cell:/Users/boravolkanalkac/Documents/Demet/DATA%20SCIENCE%20TECHPRO/PYTHON/PHYHON_DERS_VS/pythonDers13_07_10_while.ipynb#X30sZmlsZQ%3D%3D?line=2'>3</a>\u001b[0m x \u001b[39m=\u001b[39m \u001b[39m0\u001b[39m\n\u001b[1;32m      <a href='vscode-notebook-cell:/Users/boravolkanalkac/Documents/Demet/DATA%20SCIENCE%20TECHPRO/PYTHON/PHYHON_DERS_VS/pythonDers13_07_10_while.ipynb#X30sZmlsZQ%3D%3D?line=3'>4</a>\u001b[0m min_sayı \u001b[39m=\u001b[39m liste_1[\u001b[39m0\u001b[39m]\n\u001b[0;32m----> <a href='vscode-notebook-cell:/Users/boravolkanalkac/Documents/Demet/DATA%20SCIENCE%20TECHPRO/PYTHON/PHYHON_DERS_VS/pythonDers13_07_10_while.ipynb#X30sZmlsZQ%3D%3D?line=5'>6</a>\u001b[0m \u001b[39mwhile\u001b[39;00m x \u001b[39m<\u001b[39m \u001b[39mlen\u001b[39;49m(liste_1):\n\u001b[1;32m      <a href='vscode-notebook-cell:/Users/boravolkanalkac/Documents/Demet/DATA%20SCIENCE%20TECHPRO/PYTHON/PHYHON_DERS_VS/pythonDers13_07_10_while.ipynb#X30sZmlsZQ%3D%3D?line=6'>7</a>\u001b[0m     \u001b[39mif\u001b[39;00m min_sayı \u001b[39m>\u001b[39m liste_1[x]:\n\u001b[1;32m      <a href='vscode-notebook-cell:/Users/boravolkanalkac/Documents/Demet/DATA%20SCIENCE%20TECHPRO/PYTHON/PHYHON_DERS_VS/pythonDers13_07_10_while.ipynb#X30sZmlsZQ%3D%3D?line=7'>8</a>\u001b[0m         min_sayı \u001b[39m=\u001b[39m liste_1[x]\n",
      "\u001b[0;31mKeyboardInterrupt\u001b[0m: "
     ]
    }
   ],
   "source": [
    "liste_1 = [4,5,6,9,85,1,23,65,47,32,91] \n",
    "\n",
    "x = 0\n",
    "min_sayı = liste_1[0]\n",
    "\n",
    "while x < len(liste_1):\n",
    "    if min_sayı > liste_1[x]:\n",
    "        min_sayı = liste_1[x]\n",
    "\n",
    "        x += 1\n",
    "print(min_sayı)       "
   ]
  },
  {
   "cell_type": "code",
   "execution_count": null,
   "metadata": {},
   "outputs": [],
   "source": []
  },
  {
   "cell_type": "code",
   "execution_count": null,
   "metadata": {},
   "outputs": [],
   "source": []
  },
  {
   "cell_type": "code",
   "execution_count": null,
   "metadata": {},
   "outputs": [],
   "source": []
  }
 ],
 "metadata": {
  "kernelspec": {
   "display_name": "Python 3",
   "language": "python",
   "name": "python3"
  },
  "language_info": {
   "codemirror_mode": {
    "name": "ipython",
    "version": 3
   },
   "file_extension": ".py",
   "mimetype": "text/x-python",
   "name": "python",
   "nbconvert_exporter": "python",
   "pygments_lexer": "ipython3",
   "version": "3.11.4"
  }
 },
 "nbformat": 4,
 "nbformat_minor": 2
}

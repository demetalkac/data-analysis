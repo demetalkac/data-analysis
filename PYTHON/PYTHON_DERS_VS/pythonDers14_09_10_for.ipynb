{
 "cells": [
  {
   "cell_type": "markdown",
   "metadata": {},
   "source": [
    "# LOOPS"
   ]
  },
  {
   "cell_type": "markdown",
   "metadata": {},
   "source": [
    "## FOR"
   ]
  },
  {
   "cell_type": "markdown",
   "metadata": {},
   "source": [
    "-sonsuza gitmesi cok zor\n",
    "- for i in iterable: yazıp altta 4 bosluk seklinde sintexi\n",
    "-FOR İTERİBLE İLE CALISIR.\n",
    "-iterible olan elemanları tek tek atar döngüye\n",
    "-while, döngü bir kosula baglıdır."
   ]
  },
  {
   "cell_type": "code",
   "execution_count": null,
   "metadata": {},
   "outputs": [],
   "source": [
    "# for syntext\n",
    "for i in iterable:\n",
    "    body"
   ]
  },
  {
   "cell_type": "code",
   "execution_count": 1,
   "metadata": {},
   "outputs": [
    {
     "name": "stdout",
     "output_type": "stream",
     "text": [
      "t\n",
      "e\n",
      "c\n",
      "h\n",
      "p\n",
      "r\n",
      "o\n"
     ]
    }
   ],
   "source": [
    "for i in \"techpro\": # iterible olan elemanları tek tek atar döngüye\n",
    "    print(i)"
   ]
  },
  {
   "cell_type": "code",
   "execution_count": 2,
   "metadata": {},
   "outputs": [
    {
     "name": "stdout",
     "output_type": "stream",
     "text": [
      "1\n",
      "4\n",
      "9\n",
      "16\n",
      "25\n"
     ]
    }
   ],
   "source": [
    "# listin elemanlarının karesini alın: for ile\n",
    "for i in [1,2,3,4,5]:\n",
    "    print(i ** 2)"
   ]
  },
  {
   "cell_type": "code",
   "execution_count": null,
   "metadata": {},
   "outputs": [],
   "source": [
    "# listin elemanlarının karesini alın: while ile\n",
    "liste= [1,2,3,4,5]\n",
    "x = 0\n",
    "while x < len(liste):\n",
    "    print(liste[x]) ** 2\n",
    "\n",
    "    x += 1"
   ]
  },
  {
   "cell_type": "code",
   "execution_count": null,
   "metadata": {},
   "outputs": [],
   "source": [
    "# tuble ile yaptık , tuble da iterable oldugu icin sıkıntı yok, list'ler gibi\n",
    "for i in (1,2,3,4,5):\n",
    "    print(i ** 2)"
   ]
  },
  {
   "cell_type": "code",
   "execution_count": 3,
   "metadata": {},
   "outputs": [
    {
     "ename": "TypeError",
     "evalue": "'int' object is not iterable",
     "output_type": "error",
     "traceback": [
      "\u001b[0;31m---------------------------------------------------------------------------\u001b[0m",
      "\u001b[0;31mTypeError\u001b[0m                                 Traceback (most recent call last)",
      "\u001b[1;32m/Users/boravolkanalkac/Documents/Demet/DATA SCIENCE TECHPRO/PYTHON/PHYHON_DERS_VS/pythonDers14_09_10_for.ipynb Cell 9\u001b[0m line \u001b[0;36m1\n\u001b[0;32m----> <a href='vscode-notebook-cell:/Users/boravolkanalkac/Documents/Demet/DATA%20SCIENCE%20TECHPRO/PYTHON/PHYHON_DERS_VS/pythonDers14_09_10_for.ipynb#X10sZmlsZQ%3D%3D?line=0'>1</a>\u001b[0m \u001b[39mfor\u001b[39;00m i \u001b[39min\u001b[39;00m \u001b[39m1236\u001b[39m:\n\u001b[1;32m      <a href='vscode-notebook-cell:/Users/boravolkanalkac/Documents/Demet/DATA%20SCIENCE%20TECHPRO/PYTHON/PHYHON_DERS_VS/pythonDers14_09_10_for.ipynb#X10sZmlsZQ%3D%3D?line=1'>2</a>\u001b[0m     \u001b[39mprint\u001b[39m(i \u001b[39m*\u001b[39m\u001b[39m*\u001b[39m \u001b[39m2\u001b[39m)\n",
      "\u001b[0;31mTypeError\u001b[0m: 'int' object is not iterable"
     ]
    }
   ],
   "source": [
    "# int'ler iterable olmadıgı icin bu islemi yapamadı.\n",
    "for i in 1236:\n",
    "    print(i ** 2)"
   ]
  },
  {
   "cell_type": "code",
   "execution_count": 4,
   "metadata": {},
   "outputs": [
    {
     "name": "stdout",
     "output_type": "stream",
     "text": [
      "Ahmet\n",
      "Nazım\n",
      "Ali\n",
      "Ömer\n"
     ]
    }
   ],
   "source": [
    "# verilen list'deki elementlerin ilk harflerini büyük yapın: \"capitalize()\" veya \"title()\" la da yapabiliriz\n",
    "for i in [\"ahmet\", \"nazım\", \"ali\", \"ömer\"]:\n",
    "    print(i[0].upper() + i[1:])"
   ]
  },
  {
   "cell_type": "code",
   "execution_count": 5,
   "metadata": {},
   "outputs": [
    {
     "name": "stdout",
     "output_type": "stream",
     "text": [
      "Ahmet\n",
      "Nazım\n",
      "Ali\n",
      "Ömer\n"
     ]
    }
   ],
   "source": [
    "for i in [\"ahmet\", \"nazım\", \"ali\", \"ömer\"]: # capitalize() ile yaptık yukardaki soruyu\n",
    "    print(i.capitalize())"
   ]
  },
  {
   "cell_type": "code",
   "execution_count": 7,
   "metadata": {},
   "outputs": [
    {
     "name": "stdout",
     "output_type": "stream",
     "text": [
      "Ahmet Nazım Ali Ömer "
     ]
    }
   ],
   "source": [
    "for i in [\"ahmet\", \"nazım\", \"ali\", \"ömer\"]:\n",
    "    print(i.capitalize(), end=\" \")"
   ]
  },
  {
   "cell_type": "markdown",
   "metadata": {},
   "source": [
    "SORU: \"Techpro\" asagıdaki gibi yazın\n",
    "\"T-e-c-h-p-r-o\"\n"
   ]
  },
  {
   "cell_type": "code",
   "execution_count": 8,
   "metadata": {},
   "outputs": [
    {
     "name": "stdout",
     "output_type": "stream",
     "text": [
      "T-e-c-h-p-r-o-"
     ]
    }
   ],
   "source": [
    "for i in \"Techpro\":\n",
    "     print(i, end=\"-\") # burda sondaki - kaldı."
   ]
  },
  {
   "cell_type": "code",
   "execution_count": 9,
   "metadata": {},
   "outputs": [
    {
     "name": "stdout",
     "output_type": "stream",
     "text": [
      "t-e-c-h-p-r-o-"
     ]
    }
   ],
   "source": [
    "for i in \"techpro\":\n",
    "    i.split()    # sonundaki - var\n",
    "    print(i, end=\"-\")"
   ]
  },
  {
   "cell_type": "code",
   "execution_count": 13,
   "metadata": {},
   "outputs": [
    {
     "data": {
      "text/plain": [
       "'t-e-c-h-p-r-o'"
      ]
     },
     "execution_count": 13,
     "metadata": {},
     "output_type": "execute_result"
    }
   ],
   "source": [
    "empty_str = \"\"\n",
    "for i in \"techpro\":\n",
    "    empty_str += i + \"-\"\n",
    "empty_str.strip(\"-\")   # strip() basındaki ve sonundakini siler"
   ]
  },
  {
   "cell_type": "code",
   "execution_count": 14,
   "metadata": {},
   "outputs": [
    {
     "data": {
      "text/plain": [
       "'techpro'"
      ]
     },
     "execution_count": 14,
     "metadata": {},
     "output_type": "execute_result"
    }
   ],
   "source": [
    "\"\".join(\"techpro\") "
   ]
  },
  {
   "cell_type": "code",
   "execution_count": 15,
   "metadata": {},
   "outputs": [
    {
     "data": {
      "text/plain": [
       "'t-e-c-h-p-r-o'"
      ]
     },
     "execution_count": 15,
     "metadata": {},
     "output_type": "execute_result"
    }
   ],
   "source": [
    "\"-\".join(\"techpro\") # join() ile de yaptık yukardaki soruyu."
   ]
  },
  {
   "cell_type": "code",
   "execution_count": 12,
   "metadata": {},
   "outputs": [
    {
     "data": {
      "text/plain": [
       "{'name': 'Yusuf', 'surname': 'Ahmadov', 'age': 26}"
      ]
     },
     "execution_count": 12,
     "metadata": {},
     "output_type": "execute_result"
    }
   ],
   "source": [
    "dicct_1 = {\"name\": \"Yusuf\", \"surname\": \"Ahmadov\", \"age\": 26}\n",
    "dicct_1"
   ]
  },
  {
   "cell_type": "code",
   "execution_count": 18,
   "metadata": {},
   "outputs": [
    {
     "name": "stdout",
     "output_type": "stream",
     "text": [
      "name\n",
      "surname\n",
      "age\n"
     ]
    }
   ],
   "source": [
    "for i in dicct_1: # for döngüsü dictionary'lerin keyleri ile calısır ama value icin; for i in dicct_1.values(): seklinde alabiliriz.\n",
    "    print(i)"
   ]
  },
  {
   "cell_type": "code",
   "execution_count": 20,
   "metadata": {},
   "outputs": [
    {
     "data": {
      "text/plain": [
       "<function dict.values>"
      ]
     },
     "execution_count": 20,
     "metadata": {},
     "output_type": "execute_result"
    }
   ],
   "source": [
    "dicct_1.values()"
   ]
  },
  {
   "cell_type": "code",
   "execution_count": 13,
   "metadata": {},
   "outputs": [
    {
     "name": "stdout",
     "output_type": "stream",
     "text": [
      "Yusuf\n",
      "Ahmadov\n",
      "26\n"
     ]
    }
   ],
   "source": [
    "for i in dicct_1.values():\n",
    "    print(i)"
   ]
  },
  {
   "cell_type": "code",
   "execution_count": 14,
   "metadata": {},
   "outputs": [
    {
     "data": {
      "text/plain": [
       "dict_items([('name', 'Yusuf'), ('surname', 'Ahmadov'), ('age', 26)])"
      ]
     },
     "execution_count": 14,
     "metadata": {},
     "output_type": "execute_result"
    }
   ],
   "source": [
    "dicct_1.items()"
   ]
  },
  {
   "cell_type": "code",
   "execution_count": 24,
   "metadata": {},
   "outputs": [
    {
     "name": "stdout",
     "output_type": "stream",
     "text": [
      "('name', 'Yusuf')\n",
      "('surname', 'Ahmadov')\n",
      "('age', 26)\n"
     ]
    }
   ],
   "source": [
    "for i in dicct_1.items():\n",
    "    print(i)\n"
   ]
  },
  {
   "cell_type": "code",
   "execution_count": 25,
   "metadata": {},
   "outputs": [
    {
     "name": "stdout",
     "output_type": "stream",
     "text": [
      "key: name, value: Yusuf\n",
      "key: surname, value: Ahmadov\n",
      "key: age, value: 26\n"
     ]
    }
   ],
   "source": [
    "for i, j in dicct_1.items():  # 2 farklı degiskenle key ve value seklinde alabiliriz for döngüsünde.\n",
    "    print(f\"key: {i}, value: {j}\")"
   ]
  },
  {
   "cell_type": "code",
   "execution_count": 26,
   "metadata": {},
   "outputs": [
    {
     "name": "stdout",
     "output_type": "stream",
     "text": [
      "key: name      , value: Yusuf\n",
      "key: surname   , value: Ahmadov\n",
      "key: age       , value: 26\n"
     ]
    }
   ],
   "source": [
    "for i, j in dicct_1.items(): \n",
    "    print(f\"key: {i:<10}, value: {j}\") # i'yi 10 karekter ara ac ve degiskeni sola yasla anlamında"
   ]
  },
  {
   "cell_type": "code",
   "execution_count": 27,
   "metadata": {},
   "outputs": [
    {
     "name": "stdout",
     "output_type": "stream",
     "text": [
      "key:       name, value: Yusuf\n",
      "key:    surname, value: Ahmadov\n",
      "key:        age, value: 26\n"
     ]
    }
   ],
   "source": [
    "for i, j in dicct_1.items(): \n",
    "    print(f\"key: {i:>10}, value: {j}\") # {i:>10} : i'yi 10 karekter ara ac ve degiskeni saga yasla anlamında"
   ]
  },
  {
   "cell_type": "code",
   "execution_count": 29,
   "metadata": {},
   "outputs": [
    {
     "name": "stdout",
     "output_type": "stream",
     "text": [
      "key:    name   , value:   Yusuf   \n",
      "key:  surname  , value:  Ahmadov  \n",
      "key:    age    , value:     26    \n"
     ]
    }
   ],
   "source": [
    "for i, j in dicct_1.items(): \n",
    "    print(f\"key: {i:^10}, value: {j:^10}\") # {i:^10}  araya 10 bosluk acar ve ortalar"
   ]
  },
  {
   "cell_type": "code",
   "execution_count": 30,
   "metadata": {},
   "outputs": [
    {
     "name": "stdout",
     "output_type": "stream",
     "text": [
      "i:ali,j:data_scientist,k:26\n",
      "i:veli,j:python_developer,k:28\n"
     ]
    }
   ],
   "source": [
    "# liste var ve list icinde tuble'lar var\n",
    "for i, j ,k in [(\"ali\", \"data_scientist\",  26),(\"veli\", \"python_developer\", 28)]:\n",
    "    print(f\"i:{i},j:{j},k:{k}\")"
   ]
  },
  {
   "cell_type": "code",
   "execution_count": 31,
   "metadata": {},
   "outputs": [
    {
     "ename": "ValueError",
     "evalue": "not enough values to unpack (expected 3, got 2)",
     "output_type": "error",
     "traceback": [
      "\u001b[0;31m---------------------------------------------------------------------------\u001b[0m",
      "\u001b[0;31mValueError\u001b[0m                                Traceback (most recent call last)",
      "\u001b[1;32m/Users/boravolkanalkac/Documents/Demet/DATA SCIENCE TECHPRO/PYTHON/PHYHON_DERS_VS/pythonDers14_09_10_for.ipynb Cell 30\u001b[0m line \u001b[0;36m1\n\u001b[0;32m----> <a href='vscode-notebook-cell:/Users/boravolkanalkac/Documents/Demet/DATA%20SCIENCE%20TECHPRO/PYTHON/PHYHON_DERS_VS/pythonDers14_09_10_for.ipynb#X44sZmlsZQ%3D%3D?line=0'>1</a>\u001b[0m \u001b[39mfor\u001b[39;00m i, j ,k \u001b[39min\u001b[39;00m [(\u001b[39m\"\u001b[39m\u001b[39mali\u001b[39m\u001b[39m\"\u001b[39m, \u001b[39m\"\u001b[39m\u001b[39mdata_scientist\u001b[39m\u001b[39m\"\u001b[39m),(\u001b[39m\"\u001b[39m\u001b[39mveli\u001b[39m\u001b[39m\"\u001b[39m, \u001b[39m\"\u001b[39m\u001b[39mpython_developer\u001b[39m\u001b[39m\"\u001b[39m)]:\n\u001b[1;32m      <a href='vscode-notebook-cell:/Users/boravolkanalkac/Documents/Demet/DATA%20SCIENCE%20TECHPRO/PYTHON/PHYHON_DERS_VS/pythonDers14_09_10_for.ipynb#X44sZmlsZQ%3D%3D?line=1'>2</a>\u001b[0m     \u001b[39mprint\u001b[39m(\u001b[39mf\u001b[39m\u001b[39m\"\u001b[39m\u001b[39mi:\u001b[39m\u001b[39m{\u001b[39;00mi\u001b[39m}\u001b[39;00m\u001b[39m,j:\u001b[39m\u001b[39m{\u001b[39;00mj\u001b[39m}\u001b[39;00m\u001b[39m,k:\u001b[39m\u001b[39m{\u001b[39;00mk\u001b[39m}\u001b[39;00m\u001b[39m\"\u001b[39m)\n",
      "\u001b[0;31mValueError\u001b[0m: not enough values to unpack (expected 3, got 2)"
     ]
    }
   ],
   "source": [
    "for i, j ,k in [(\"ali\", \"data_scientist\"),(\"veli\", \"python_developer\")]: # 2 tane key var 3 tane(i,j,k) olunca uygun bir sekilde bölemedigi icin error verir\n",
    "    print(f\"i:{i},j:{j},k:{k}\")"
   ]
  },
  {
   "cell_type": "code",
   "execution_count": 32,
   "metadata": {},
   "outputs": [
    {
     "ename": "TypeError",
     "evalue": "'bool' object is not iterable",
     "output_type": "error",
     "traceback": [
      "\u001b[0;31m---------------------------------------------------------------------------\u001b[0m",
      "\u001b[0;31mTypeError\u001b[0m                                 Traceback (most recent call last)",
      "\u001b[1;32m/Users/boravolkanalkac/Documents/Demet/DATA SCIENCE TECHPRO/PYTHON/PHYHON_DERS_VS/pythonDers14_09_10_for.ipynb Cell 31\u001b[0m line \u001b[0;36m1\n\u001b[0;32m----> <a href='vscode-notebook-cell:/Users/boravolkanalkac/Documents/Demet/DATA%20SCIENCE%20TECHPRO/PYTHON/PHYHON_DERS_VS/pythonDers14_09_10_for.ipynb#X43sZmlsZQ%3D%3D?line=0'>1</a>\u001b[0m \u001b[39mfor\u001b[39;00m i \u001b[39min\u001b[39;00m \u001b[39mTrue\u001b[39;00m:\u001b[39m# True iterable degil\u001b[39;00m\n\u001b[1;32m      <a href='vscode-notebook-cell:/Users/boravolkanalkac/Documents/Demet/DATA%20SCIENCE%20TECHPRO/PYTHON/PHYHON_DERS_VS/pythonDers14_09_10_for.ipynb#X43sZmlsZQ%3D%3D?line=1'>2</a>\u001b[0m     \u001b[39mprint\u001b[39m(i)\n",
      "\u001b[0;31mTypeError\u001b[0m: 'bool' object is not iterable"
     ]
    }
   ],
   "source": [
    "for i in True:# True yani bool iterable degil\n",
    "    print(i)"
   ]
  },
  {
   "cell_type": "code",
   "execution_count": null,
   "metadata": {},
   "outputs": [],
   "source": [
    "# sonsuz döngü calıstırma!!\n",
    "# for döngüsü nasıl sonsuza gider? lite döngüyle  devamlı eleman eklersek sonsuz döngüye girer:  liste_2.append(i)\n",
    "liste_2 = [\"sonsuz döngü\"]  # tek elemanı olan liste eleman ekliyecegiz.\n",
    "for i in liste_2:\n",
    "    print(i)\n",
    "    liste_2.append(i)\n",
    "\n"
   ]
  },
  {
   "cell_type": "code",
   "execution_count": 16,
   "metadata": {},
   "outputs": [
    {
     "name": "stdout",
     "output_type": "stream",
     "text": [
      "Bu ceza degil eziyetBu ceza degil eziyetBu ceza degil eziyetBu ceza degil eziyetBu ceza degil eziyetBu ceza degil eziyetBu ceza degil eziyetBu ceza degil eziyetBu ceza degil eziyetBu ceza degil eziyetBu ceza degil eziyetBu ceza degil eziyetBu ceza degil eziyetBu ceza degil eziyetBu ceza degil eziyetBu ceza degil eziyetBu ceza degil eziyetBu ceza degil eziyetBu ceza degil eziyetBu ceza degil eziyetBu ceza degil eziyetBu ceza degil eziyetBu ceza degil eziyetBu ceza degil eziyetBu ceza degil eziyetBu ceza degil eziyetBu ceza degil eziyetBu ceza degil eziyetBu ceza degil eziyetBu ceza degil eziyetBu ceza degil eziyetBu ceza degil eziyetBu ceza degil eziyetBu ceza degil eziyetBu ceza degil eziyetBu ceza degil eziyetBu ceza degil eziyetBu ceza degil eziyetBu ceza degil eziyetBu ceza degil eziyetBu ceza degil eziyetBu ceza degil eziyetBu ceza degil eziyetBu ceza degil eziyetBu ceza degil eziyetBu ceza degil eziyetBu ceza degil eziyetBu ceza degil eziyetBu ceza degil eziyetBu ceza degil eziyet-"
     ]
    }
   ],
   "source": [
    "# 50 tane alt alta aynısını yazdırın\n",
    "for i in [\"Bu ceza degil eziyet\"]:\n",
    "    print(i * 50 )"
   ]
  },
  {
   "cell_type": "code",
   "execution_count": null,
   "metadata": {},
   "outputs": [],
   "source": [
    "for i in range(1,51):\n",
    "    print(f\"{i} - Hoca bize ceza verdi\")"
   ]
  },
  {
   "cell_type": "code",
   "execution_count": 34,
   "metadata": {},
   "outputs": [
    {
     "name": "stdout",
     "output_type": "stream",
     "text": [
      "False - Hoca bize ceza verdi\n",
      "False - Hoca bize ceza verdi\n",
      "False - Hoca bize ceza verdi\n",
      "False - Hoca bize ceza verdi\n",
      "False - Hoca bize ceza verdi\n",
      "False - Hoca bize ceza verdi\n",
      "False - Hoca bize ceza verdi\n",
      "False - Hoca bize ceza verdi\n",
      "False - Hoca bize ceza verdi\n",
      "False - Hoca bize ceza verdi\n",
      "True - Hoca bize ceza verdi\n",
      "True - Hoca bize ceza verdi\n",
      "True - Hoca bize ceza verdi\n",
      "True - Hoca bize ceza verdi\n",
      "True - Hoca bize ceza verdi\n",
      "True - Hoca bize ceza verdi\n",
      "True - Hoca bize ceza verdi\n",
      "True - Hoca bize ceza verdi\n",
      "True - Hoca bize ceza verdi\n",
      "True - Hoca bize ceza verdi\n",
      "True - Hoca bize ceza verdi\n",
      "True - Hoca bize ceza verdi\n",
      "True - Hoca bize ceza verdi\n",
      "True - Hoca bize ceza verdi\n",
      "True - Hoca bize ceza verdi\n",
      "True - Hoca bize ceza verdi\n",
      "True - Hoca bize ceza verdi\n",
      "True - Hoca bize ceza verdi\n",
      "True - Hoca bize ceza verdi\n",
      "True - Hoca bize ceza verdi\n",
      "True - Hoca bize ceza verdi\n",
      "True - Hoca bize ceza verdi\n",
      "True - Hoca bize ceza verdi\n",
      "True - Hoca bize ceza verdi\n",
      "True - Hoca bize ceza verdi\n",
      "True - Hoca bize ceza verdi\n",
      "True - Hoca bize ceza verdi\n",
      "True - Hoca bize ceza verdi\n",
      "True - Hoca bize ceza verdi\n",
      "True - Hoca bize ceza verdi\n",
      "True - Hoca bize ceza verdi\n",
      "True - Hoca bize ceza verdi\n",
      "True - Hoca bize ceza verdi\n",
      "True - Hoca bize ceza verdi\n",
      "True - Hoca bize ceza verdi\n",
      "True - Hoca bize ceza verdi\n",
      "True - Hoca bize ceza verdi\n",
      "True - Hoca bize ceza verdi\n",
      "True - Hoca bize ceza verdi\n",
      "True - Hoca bize ceza verdi\n"
     ]
    }
   ],
   "source": [
    "for i in range(1,51):\n",
    "    print(f\"{i>10} - Hoca bize ceza verdi\") # yazımı düzenledik"
   ]
  },
  {
   "cell_type": "markdown",
   "metadata": {},
   "source": [
    "Soru:Kullanıcıdan bir sayı alarak, carpım tablosu yazan kodu yazın:"
   ]
  },
  {
   "cell_type": "code",
   "execution_count": 17,
   "metadata": {},
   "outputs": [
    {
     "name": "stdout",
     "output_type": "stream",
     "text": [
      "7 x 1  = 7\n",
      "7 x 2  = 14\n",
      "7 x 3  = 21\n",
      "7 x 4  = 28\n",
      "7 x 5  = 35\n",
      "7 x 6  = 42\n",
      "7 x 7  = 49\n",
      "7 x 8  = 56\n",
      "7 x 9  = 63\n",
      "7 x 10 = 70\n"
     ]
    }
   ],
   "source": [
    "number = int(input(\"1 ile 9 arasında bir sayı girin(1 ve 9 dahil)\"))\n",
    "\n",
    "if 1 <= number <= 9:\n",
    "\n",
    "    for i in range(1,11):\n",
    "        print(f\"{number} x {i:<2} = {number * i}\")\n",
    "\n",
    "else:\n",
    "    print(\"1 ile 9 arasında bir sayı girmediniz.\")"
   ]
  },
  {
   "cell_type": "code",
   "execution_count": 18,
   "metadata": {},
   "outputs": [
    {
     "name": "stdout",
     "output_type": "stream",
     "text": [
      "3 x 1  = 3\n",
      "3 x 2  = 6\n",
      "3 x 3  = 9\n",
      "3 x 4  = 12\n",
      "3 x 5  = 15\n",
      "3 x 6  = 18\n",
      "3 x 7  = 21\n",
      "3 x 8  = 24\n",
      "3 x 9  = 27\n",
      "3 x 10 = 30\n"
     ]
    }
   ],
   "source": [
    "number = int(input(\"1 ile 9 arasında bir sayı girin(1 ve 9 dahil)\"))\n",
    "if (number >= 1 and number <= 9):\n",
    "    for i in range(1,11):\n",
    "        print(f\"{number} x {i:<2} = {number * i}\")\n",
    "else:\n",
    "        print(\"1 ile 9 arasında bir sayı girmediniz.Tekrar bir sayıgirin\")"
   ]
  },
  {
   "cell_type": "code",
   "execution_count": 2,
   "metadata": {},
   "outputs": [
    {
     "name": "stdout",
     "output_type": "stream",
     "text": [
      "8 x 1  = 8\n",
      "8 x 2  = 16\n",
      "8 x 3  = 24\n",
      "8 x 4  = 32\n",
      "8 x 5  = 40\n",
      "8 x 6  = 48\n",
      "8 x 7  = 56\n",
      "8 x 8  = 64\n",
      "8 x 9  = 72\n",
      "8 x 10 = 80\n"
     ]
    }
   ],
   "source": [
    "#sonsuz deneme hakkı olan kodlar.\n",
    "while True:\n",
    "\n",
    "    number = int(input(\"1 ile 9 arasında bir sayı girin(1 ve 9 dahil)\"))\n",
    "\n",
    "    if 1 <= number <= 9:\n",
    "\n",
    "        for i in range(1,11):\n",
    "            print(f\"{number} x {i:<2} = {number * i}\")\n",
    "        \n",
    "        break  # if blogu calıstı for döngüsü oldu ve isi bitince durdurdu break\n",
    "\n",
    "    else:\n",
    "        print(\"1 ile 9 arasında bir sayı girmediniz. Tekrar bir sayı girin\")"
   ]
  },
  {
   "cell_type": "code",
   "execution_count": null,
   "metadata": {},
   "outputs": [],
   "source": [
    "#3 deneme hakkı olan kodlar.\n",
    "deneme_sayısı = 0\n",
    "\n",
    "while deneme_sayısı < 3:\n",
    "    deneme_sayısı += 1\n",
    "    \n",
    "    number = int(input(\"1 ile 9 arasında bir sayı girin(1 ve 9 dahil)\"))\n",
    "\n",
    "    if 1 <= number <= 9:\n",
    "\n",
    "        for i in range(1,11):\n",
    "            print(f\"{number} x {i:<2} = {number * i}\")\n",
    "        \n",
    "        break\n",
    "\n",
    "    else:\n",
    "        print(\"1 ile 9 arasında bir sayı girmediniz. Tekrar bir sayı girin\")"
   ]
  },
  {
   "cell_type": "code",
   "execution_count": null,
   "metadata": {},
   "outputs": [],
   "source": []
  },
  {
   "cell_type": "code",
   "execution_count": null,
   "metadata": {},
   "outputs": [],
   "source": [
    "#çalıştırma. break for döngüsünü durdurur. while sonsuza devam eder. \n",
    "while True:\n",
    "\n",
    "    number = int(input(\"1 ile 9 arasında bir sayı girin(1 ve 9 dahil)\"))\n",
    "\n",
    "    if 1 <= number <= 9:\n",
    "\n",
    "        for i in range(1,11):\n",
    "            print(f\"{number} x {i:<2} = {number * i}\")\n",
    "        \n",
    "            break # burdaki break for döngüsünü durdurur ama while döngüsünü durduran birsey olmadıgı icin  while döngüsü sonzuza gider\n",
    "\n",
    "    else:\n",
    "        print(\"1 ile 9 arasında bir sayı girmediniz. Tekrar bir sayı girin\")"
   ]
  },
  {
   "cell_type": "markdown",
   "metadata": {},
   "source": [
    "SORU: 1 den 50(50 dahil) ye kadar olan sayıların toplamını bulan python kodunu yazınız."
   ]
  },
  {
   "cell_type": "code",
   "execution_count": 1,
   "metadata": {},
   "outputs": [
    {
     "data": {
      "text/plain": [
       "1275"
      ]
     },
     "execution_count": 1,
     "metadata": {},
     "output_type": "execute_result"
    }
   ],
   "source": [
    "sum(range(1,51)) # sum() fonksiyonu ile yaptık"
   ]
  },
  {
   "cell_type": "code",
   "execution_count": 2,
   "metadata": {},
   "outputs": [
    {
     "name": "stdout",
     "output_type": "stream",
     "text": [
      "1275\n"
     ]
    }
   ],
   "source": [
    "sum = 0\n",
    "for i in range(1,51):\n",
    "    sum += i\n",
    "print(sum)  "
   ]
  },
  {
   "cell_type": "code",
   "execution_count": null,
   "metadata": {},
   "outputs": [],
   "source": [
    "(n * (n + 1))/ 2 # matematik derslerindeki formülü yukardakinin"
   ]
  },
  {
   "cell_type": "code",
   "execution_count": 3,
   "metadata": {},
   "outputs": [
    {
     "data": {
      "text/plain": [
       "1275.0"
      ]
     },
     "execution_count": 3,
     "metadata": {},
     "output_type": "execute_result"
    }
   ],
   "source": [
    "(50 * (50 + 1)) / 2"
   ]
  },
  {
   "cell_type": "markdown",
   "metadata": {},
   "source": [
    "## sum()"
   ]
  },
  {
   "cell_type": "code",
   "execution_count": 3,
   "metadata": {},
   "outputs": [
    {
     "data": {
      "text/plain": [
       "15"
      ]
     },
     "execution_count": 3,
     "metadata": {},
     "output_type": "execute_result"
    }
   ],
   "source": [
    "# sum iterable olarak elementleri tek tek alıp ekler\n",
    "sum([1,2,3,4,5]) # list"
   ]
  },
  {
   "cell_type": "code",
   "execution_count": 4,
   "metadata": {},
   "outputs": [
    {
     "data": {
      "text/plain": [
       "115"
      ]
     },
     "execution_count": 4,
     "metadata": {},
     "output_type": "execute_result"
    }
   ],
   "source": [
    "sum([1,2,3,4,5],100) #sum() fonksiyonuna baslangı noktası ekleyebiliriz.ör: 100'un üstüne ekledi burda cünküü biz baslangıc degeri olarak 100 aldık.\n",
    "                     # diger elementleri üzerine ekleyerek devam etti."
   ]
  },
  {
   "cell_type": "code",
   "execution_count": 5,
   "metadata": {},
   "outputs": [
    {
     "data": {
      "text/plain": [
       "115"
      ]
     },
     "execution_count": 5,
     "metadata": {},
     "output_type": "execute_result"
    }
   ],
   "source": [
    "sum({1,2,3,4,5},100) # set de kullandık."
   ]
  },
  {
   "cell_type": "code",
   "execution_count": 6,
   "metadata": {},
   "outputs": [
    {
     "data": {
      "text/plain": [
       "625"
      ]
     },
     "execution_count": 6,
     "metadata": {},
     "output_type": "execute_result"
    }
   ],
   "source": [
    "sum(range(1, 51, 2)) #  1'den 50'ye kadar olan tek sayıların toplamını yazdıran kodu yazın:"
   ]
  },
  {
   "cell_type": "code",
   "execution_count": 5,
   "metadata": {},
   "outputs": [
    {
     "data": {
      "text/plain": [
       "650"
      ]
     },
     "execution_count": 5,
     "metadata": {},
     "output_type": "execute_result"
    }
   ],
   "source": [
    "# 1'den 50'ye kadar olan cift sayıların toplamını yazdıran kodu yazın:\n",
    "sum(range(2, 51, 2))"
   ]
  },
  {
   "cell_type": "code",
   "execution_count": 7,
   "metadata": {},
   "outputs": [
    {
     "name": "stdout",
     "output_type": "stream",
     "text": [
      "650\n"
     ]
    }
   ],
   "source": [
    "cift_sayılar = 0\n",
    "for i in range(1,51):\n",
    "    if (i % 2 == 0):  # eger if calısıyorsa ciftler icin calısacak\n",
    "        cift_sayılar += i\n",
    "print(cift_sayılar)"
   ]
  },
  {
   "cell_type": "code",
   "execution_count": 6,
   "metadata": {},
   "outputs": [
    {
     "name": "stdout",
     "output_type": "stream",
     "text": [
      "0\n",
      "2\n",
      "2\n",
      "6\n",
      "6\n",
      "12\n",
      "12\n",
      "20\n",
      "20\n",
      "30\n",
      "30\n",
      "42\n",
      "42\n",
      "56\n",
      "56\n",
      "72\n",
      "72\n",
      "90\n",
      "90\n",
      "110\n",
      "110\n",
      "132\n",
      "132\n",
      "156\n",
      "156\n",
      "182\n",
      "182\n",
      "210\n",
      "210\n",
      "240\n",
      "240\n",
      "272\n",
      "272\n",
      "306\n",
      "306\n",
      "342\n",
      "342\n",
      "380\n",
      "380\n",
      "420\n",
      "420\n",
      "462\n",
      "462\n",
      "506\n",
      "506\n",
      "552\n",
      "552\n",
      "600\n",
      "600\n",
      "650\n"
     ]
    }
   ],
   "source": [
    "çiftler_toplamı = 0\n",
    "\n",
    "for i in range(1,51):\n",
    "    if i % 2 == 0:            # print for döngüsünde oldugu icin aynısında 2'ser tane yazdırdı cünkü \n",
    "        çiftler_toplamı += i\n",
    "        \n",
    "    print(çiftler_toplamı)"
   ]
  },
  {
   "cell_type": "code",
   "execution_count": 7,
   "metadata": {},
   "outputs": [
    {
     "name": "stdout",
     "output_type": "stream",
     "text": [
      "2\n",
      "6\n",
      "12\n",
      "20\n",
      "30\n",
      "42\n",
      "56\n",
      "72\n",
      "90\n",
      "110\n",
      "132\n",
      "156\n",
      "182\n",
      "210\n",
      "240\n",
      "272\n",
      "306\n",
      "342\n",
      "380\n",
      "420\n",
      "462\n",
      "506\n",
      "552\n",
      "600\n",
      "650\n"
     ]
    }
   ],
   "source": [
    "çiftler_toplamı = 0      # if in icinde oldugu icin tüm islemleri tek tek yazdırdı\n",
    "for i in range(1,51):\n",
    "    if i % 2 == 0:\n",
    "        çiftler_toplamı += i\n",
    "        print(çiftler_toplamı)"
   ]
  },
  {
   "cell_type": "markdown",
   "metadata": {},
   "source": [
    "# break, continue"
   ]
  },
  {
   "cell_type": "code",
   "execution_count": 10,
   "metadata": {},
   "outputs": [
    {
     "data": {
      "text/plain": [
       "[1, 2, 3, 4, 5]"
      ]
     },
     "execution_count": 10,
     "metadata": {},
     "output_type": "execute_result"
    }
   ],
   "source": [
    "list_2 = [1,2,3,4,5]\n",
    "list_2 "
   ]
  },
  {
   "cell_type": "code",
   "execution_count": 11,
   "metadata": {},
   "outputs": [
    {
     "name": "stdout",
     "output_type": "stream",
     "text": [
      "1\n",
      "4\n"
     ]
    }
   ],
   "source": [
    "# verilen listteki elemanlar 3'ün katı olan bi sayıya ulasırsa durdursun kodu , ulasamazsa 2 ile carpsın\n",
    "for i in list_2:\n",
    "\n",
    "    if i % 3 == 0:  # sayı 3'ün katıysa dedik ve break koyduk\n",
    "        break\n",
    "        \n",
    "    else:\n",
    "        print(i ** 2)  # sayı 3'ün katı degilse karesini alsın"
   ]
  },
  {
   "cell_type": "code",
   "execution_count": 10,
   "metadata": {},
   "outputs": [
    {
     "name": "stdout",
     "output_type": "stream",
     "text": [
      "1\n",
      "4\n",
      "16\n",
      "25\n"
     ]
    }
   ],
   "source": [
    "# verilen listteki elemanlar 3'ün katı olan bi sayıya ulasırsa durdurmasın devam etsin\n",
    "for i in list_2:\n",
    "\n",
    "    if i % 3 == 0:\n",
    "       continue\n",
    "        \n",
    "    else:\n",
    "        print(i ** 2)"
   ]
  },
  {
   "cell_type": "markdown",
   "metadata": {},
   "source": [
    "Soru: 1 den 9 a kadar (9 dahil) sayıların toplamını bulun(5 ve 5 in katları haric)"
   ]
  },
  {
   "cell_type": "code",
   "execution_count": 11,
   "metadata": {},
   "outputs": [
    {
     "data": {
      "text/plain": [
       "45"
      ]
     },
     "execution_count": 11,
     "metadata": {},
     "output_type": "execute_result"
    }
   ],
   "source": [
    "toplam = 0     # 1 den 9 a kadar sayıların toplamı.\n",
    "for i in range(1,10):\n",
    "    toplam += i\n"
   ]
  },
  {
   "cell_type": "code",
   "execution_count": 12,
   "metadata": {},
   "outputs": [
    {
     "data": {
      "text/plain": [
       "40"
      ]
     },
     "execution_count": 12,
     "metadata": {},
     "output_type": "execute_result"
    }
   ],
   "source": [
    "toplam = 0\n",
    "for i in range(1,10):\n",
    "    if i % 5 == 0:\n",
    "        continue\n",
    "    \n",
    "    toplam += i\n",
    "toplam"
   ]
  },
  {
   "cell_type": "code",
   "execution_count": null,
   "metadata": {},
   "outputs": [],
   "source": [
    "t = 0     # yukardaki soruyu continue ile cözdük buda continue suz olarak cözümü.\n",
    "\n",
    "for i in range(1,10):\n",
    "\n",
    "    if i % 5 != 0:\n",
    "        t += i\n",
    "print(t)"
   ]
  },
  {
   "cell_type": "code",
   "execution_count": 16,
   "metadata": {},
   "outputs": [
    {
     "name": "stdout",
     "output_type": "stream",
     "text": [
      "650\n"
     ]
    }
   ],
   "source": [
    "# 1 den 50 ye kadar olan sayıların cift sayılarını toplamını yapın  \n",
    "toplam = 0\n",
    "\n",
    "for i in range(1,51):\n",
    "\n",
    "    if i % 2 == 1:\n",
    "        continue\n",
    "    toplam += i\n",
    "print(toplam)\n"
   ]
  },
  {
   "cell_type": "code",
   "execution_count": null,
   "metadata": {},
   "outputs": [],
   "source": [
    "# Soru: Verilen list'i tek ve cift sayılar olarak ayrı listesini olusturan kodu yazınız.\n",
    "sayılar_listesi = [1,15,2,36,5,89,45,62,52,71,30,56,45,95,61,48]"
   ]
  },
  {
   "cell_type": "code",
   "execution_count": 17,
   "metadata": {},
   "outputs": [
    {
     "name": "stdout",
     "output_type": "stream",
     "text": [
      "tek sayılar: [1, 15, 5, 89, 45, 71, 45, 95, 61]\n",
      "çift sayılar: 650\n"
     ]
    }
   ],
   "source": [
    "sayılar_listesi = [1,15,2,36,5,89,45,62,52,71,30,56,45,95,61,48]\n",
    "tek_sayı = []\n",
    "cift_sayı = []\n",
    "for i in sayılar_listesi:\n",
    "    if i % 2:    # i % 2 !== 0: ile   i % 2:  aynı yanı bunun \"i % 2:\"\" soucu  false verir, i nin degeri 1 olsa, 15'i 2 ye bölünce kalan  degeri 1 olur,\n",
    "                 #         bunun bool degeri de false olur .tek sayıları verir\n",
    "       tek_sayı.append(i)\n",
    "    else:\n",
    "        cift_sayı.append(i)\n",
    "        x += 1\n",
    "print(f\"tek sayılar: {tek_sayı}\")\n",
    "print(f\"çift sayılar: {cift_sayılar}\")\n"
   ]
  },
  {
   "cell_type": "markdown",
   "metadata": {},
   "source": [
    "ÖDEV :Bir markete gittiniz. Markette her ürünün bir kod numarası var.\n",
    "1 : Elma 2 : Portakal 3 : Çilek 4 : Yumurta 5 : Havuç 6 : Armut ... vs. şeklinde.\n",
    "Kullanıcıya almak istediği ürünü sorunuz ve kod numarası ile seçim yaptırınız. Çıkış için \"q\" opsiyonunu sununuz. Kullanıcının her ürün seçimi sonrası \" .... elma sepete eklendi\" gibi bir dönüt veriniz. Kullanıcı ürün almaya devam ettikçe ürünleri bir listede toplayınız, almaktan vazgeçtiği durumda teşekkür edip, aldığı toplam ürünleri çıktı veren bir kod yazınız.\n",
    "Çıktı:\n",
    "Teşekkür Ederiz...\n",
    "Sepetinizde Bulunan Ürünler: elma, armut, yumurta ... vs."
   ]
  },
  {
   "cell_type": "markdown",
   "metadata": {},
   "source": [
    "1 >>> Elma     \n",
    "2 >>> Portakal\n",
    "3 >>> Çilek\n",
    "4 >>> Yumurta\n",
    "5 >>> Havuç\n",
    "6 >>> Armut\n",
    "Yumurta sepete eklendi.\n",
    "Portakal sepete eklendi.\n",
    "Bizi tercih ettiğiniz için teşekkürler. Yine bekleriz.\n",
    "Almış olduğunuz ürünler: ['Yumurta', 'Portakal']"
   ]
  },
  {
   "cell_type": "code",
   "execution_count": 3,
   "metadata": {},
   "outputs": [
    {
     "name": "stdout",
     "output_type": "stream",
     "text": [
      "Yumurtse pese eklendi\n",
      "Çilek sepette ekldi\n",
      "Bizi tercih ettiğiniz için teşekkürler.\n",
      "Almış olduğunuz ürünler: q\n"
     ]
    }
   ],
   "source": [
    "\n",
    " \n",
    "while True:\n",
    "    kul = (input(\"\"\"Lütfen almak istediginiz ürünü kod numarası ile seciniz. Çıkış için \"q\" tusuna basınız\n",
    "Kod numaraları:1 >>> Elma     \n",
    "2 >>> Portakal\n",
    "3 >>> Çilek\n",
    "4 >>> Yumurta\n",
    "5 >>> Havuç\n",
    "6 >>> Armut\"\"\"))\n",
    "    \n",
    "    if kul == \"1\":\n",
    "        print(\"Elma sepete eklendi\")\n",
    "    elif kul == \"2\":\n",
    "        print(\"Portakal sepete eklendi\")\n",
    "    elif kul == \"3\":\n",
    "        print(\"Çilek sepette ekldi\")\n",
    "    elif kul == \"4\":\n",
    "        print(\"Yumurtse pese eklendi\")\n",
    "    elif kul == \"5\":\n",
    "        print(\"Havuc sepette ekldi\")\n",
    "    elif kul == \"6\":\n",
    "        print(\"Armut sepette eklenmiştir.\")\n",
    "    elif kul == \"q\":\n",
    "        print(\"Bizi tercih ettiğiniz için teşekkürler.\")\n",
    "        break\n",
    "    else:\n",
    "        print(\"Gecersiz veya yanlıs bir kod girdiniz\")\n",
    "print(\"Almış olduğunuz ürünler:\", kul)\n",
    "\n",
    "\n",
    "        \n"
   ]
  },
  {
   "cell_type": "markdown",
   "metadata": {},
   "source": [
    "-dict olusturduk"
   ]
  },
  {
   "cell_type": "code",
   "execution_count": 3,
   "metadata": {},
   "outputs": [
    {
     "name": "stdout",
     "output_type": "stream",
     "text": [
      "\n",
      "1 >>>> Elma\n",
      "2 >>>> Portakal\n",
      "3 >>>> Çilek\n",
      "4 >>>> Yumurta\n",
      "5 >>>> Havuç\n",
      "6 >>>> Armut\n",
      "\n"
     ]
    },
    {
     "name": "stdout",
     "output_type": "stream",
     "text": [
      "Sepete Yumurta eklendi.\n",
      "Sepete Armut eklendi.\n",
      "Bizi tercih ettiğiniz için teşekkürler.\n",
      "Almış olduğunuz ürünler ['Yumurta', 'Armut']\n"
     ]
    }
   ],
   "source": [
    "ürünler = {1 : \"Elma\", 2 : \"Portakal\" , 3 : \"Çilek\" , 4 : \"Yumurta\"  , 5 : \"Havuç\" ,6 : \"Armut\"}\n",
    "\n",
    "print(\"\"\"\n",
    "1 >>>> Elma\n",
    "2 >>>> Portakal\n",
    "3 >>>> Çilek\n",
    "4 >>>> Yumurta\n",
    "5 >>>> Havuç\n",
    "6 >>>> Armut\n",
    "\"\"\")\n",
    "\n",
    "sepet = []\n",
    "\n",
    "while True:\n",
    "\n",
    "    x = input(\"Almak istediginiz ürünün kodunu girin. Sepete daha fazla ürün eklemek istemediginizde 'q' tusuna basınız\").lower()  # lower2ı q icin koyduk\n",
    "\n",
    "    if x != \"q\":    # müsteri ürün girdigi sürece if calısacak\n",
    "        sepet.append(ürünler[int(x)])   # int e cevirdik cünkü dictinrynin keyleri intiger.\n",
    "        print(f\"Sepete {sepet[-1]} eklendi.\")  #   {ürünler[x]} yerine bunuda yazbiliriz {sepet[-1]} , append sona ekledigi icin  bu kodda son ekleneni alacak\n",
    "    elif x == \"q\":          \n",
    "        print(\"Bizi tercih ettiğiniz için teşekkürler.\")\n",
    "        print(f\"Almış olduğunuz ürünler {sepet}\")\n",
    "        break"
   ]
  }
 ],
 "metadata": {
  "kernelspec": {
   "display_name": "Python 3",
   "language": "python",
   "name": "python3"
  },
  "language_info": {
   "codemirror_mode": {
    "name": "ipython",
    "version": 3
   },
   "file_extension": ".py",
   "mimetype": "text/x-python",
   "name": "python",
   "nbconvert_exporter": "python",
   "pygments_lexer": "ipython3",
   "version": "3.11.4"
  }
 },
 "nbformat": 4,
 "nbformat_minor": 2
}

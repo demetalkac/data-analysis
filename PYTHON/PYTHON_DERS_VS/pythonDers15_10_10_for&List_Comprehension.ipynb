{
 "cells": [
  {
   "cell_type": "markdown",
   "metadata": {},
   "source": [
    "Bir markete gittiniz. Markette her ürünün bir kod numarası var.\n",
    "1 : Elma 2 : Portakal 3 : Çilek 4 : Yumurta 5 : Havuç 6 : Armut ... vs. şeklinde.\n",
    "Kullanıcıya almak istediği ürünü sorunuz ve kod numarası ile seçim yaptırınız. Çıkış için \"q\" opsiyonunu sununuz. Kullanıcının her ürün seçimi sonrası \" .... elma sepete eklendi\" gibi bir dönüt veriniz. Kullanıcı ürün almaya devam ettikçe ürünleri bir listede toplayınız, almaktan vazgeçtiği durumda teşekkür edip, aldığı toplam ürünleri çıktı veren bir kod yazınız.\n",
    "Çıktı:\n",
    "Teşekkür Ederiz...\n",
    "Sepetinizde Bulunan Ürünler: elma, armut, yumurta ... vs."
   ]
  },
  {
   "cell_type": "code",
   "execution_count": 10,
   "metadata": {},
   "outputs": [
    {
     "data": {
      "text/plain": [
       "'Portakal'"
      ]
     },
     "execution_count": 10,
     "metadata": {},
     "output_type": "execute_result"
    }
   ],
   "source": [
    "ürünler[2]"
   ]
  },
  {
   "cell_type": "code",
   "execution_count": 9,
   "metadata": {},
   "outputs": [
    {
     "name": "stdout",
     "output_type": "stream",
     "text": [
      "\n",
      "1 >>>> Elma\n",
      "2 >>>> Portakal\n",
      "3 >>>> Çilek\n",
      "4 >>>> Yumurta\n",
      "5 >>>> Havuç\n",
      "6 >>>> Armut\n",
      "\n",
      "Sepete Elma eklendi.\n",
      "Sepete Elma eklendi.\n",
      "Bzizi tercih ettiğiniz için teşekkürler. \n",
      "Almış olduğunuz ürünler ['Elma', 'Elma']\n"
     ]
    }
   ],
   "source": [
    "ürünler = {1 : \"Elma\", 2 : \"Portakal\", 3 : \"Çilek\", 4 : \"Yumurta\", 5 : \"Havuç\", 6 : \"Armut\"}\n",
    "\n",
    "print(\"\"\"\n",
    "1 >>>> Elma\n",
    "2 >>>> Portakal\n",
    "3 >>>> Çilek\n",
    "4 >>>> Yumurta\n",
    "5 >>>> Havuç\n",
    "6 >>>> Armut\n",
    "\"\"\")\n",
    "\n",
    "sepet = []\n",
    "\n",
    "while True:\n",
    "\n",
    "    x = input(\"Almak istediğiniz ürünün kodunu girin. Sepete daha fazla ürün eklemek istemediğinizde 'q' tuşuna basınız\").lower()\n",
    "\n",
    "    if x != \"q\":\n",
    "        sepet.append(ürünler[int(x)])\n",
    "        print(f\"Sepete {sepet[-1]} eklendi.\")\n",
    "    elif x == \"q\" or x == \"Q\":\n",
    "        print(\"Bzizi tercih ettiğiniz için teşekkürler.\")\n",
    "        print(f\"Almış olduğunuz ürünler {sepet}\")\n",
    "        break"
   ]
  },
  {
   "cell_type": "markdown",
   "metadata": {},
   "source": [
    "## zip()"
   ]
  },
  {
   "cell_type": "markdown",
   "metadata": {},
   "source": [
    "-zip() fonksiyonu 2 ayrı listî birlestirir.\n",
    "-String verileri \n",
    "-bu fonksiyon farklı eleman sayılarındaki stringleri, en kücük eleman sayısına göre birlestirme yapar. Önce 1.indexdekileri alır bir tuble koyar, sonra 2. indextekiler... ve en son bunu list icinde yazdırır list ile yazdırma yaptıysak(ör:list(zip(x,y,z)).\n",
    "-Birden fazla list'i birlestirirken zip'in parantezine yazdıgımız sıraya göre birlestirmeyi yapar.ör: \n",
    "list(zip(a,b))=> birlestirirken önce a daki birinci indexdekini alır sonra b deki birinci indexdekini alır.\n",
    "list(zip(b,a)) bu sekilde ise önce b dekini alır sonra a'dakini.\n",
    "-zip birlestirme sonucunda tuble verir. \n",
    "    list ile yazdırırsak list icinde tuble'lar seklinde verir => list(zip(a,b)) => [('apple', 1), ('orange', 2), ('lemon', 3)]\n",
    "    tuble ile yazdırırsak tuble icinde tuble ile verir => tuple(zip(b,a))  => ((1, 'apple'), (2, 'orange'), (3, 'lemon'))\n",
    "    set ile yaparsak  gene set icinde tuble olusturarak verir => set(zip(b,a)) => {(1, 'apple'), (2, 'orange'), (3, 'lemon')}\n",
    "  * fakat dicitionary ile yazdırırsak dict'e cevirir. => dict(zip(b,a)) =>   {1: 'apple', 2: 'orange', 3: 'lemon'}  \n",
    "  yani dict haricinde yazdırdıgımızda tuble verir zip fonksiyonu\n",
    "  -zip iterable'dır\n"
   ]
  },
  {
   "cell_type": "code",
   "execution_count": 11,
   "metadata": {},
   "outputs": [],
   "source": [
    "a = [\"apple\", \"orange\", \"lemon\"]\n",
    "b = [1,2,3]"
   ]
  },
  {
   "cell_type": "code",
   "execution_count": 12,
   "metadata": {},
   "outputs": [
    {
     "data": {
      "text/plain": [
       "<zip at 0x1f1869c9cc0>"
      ]
     },
     "execution_count": 12,
     "metadata": {},
     "output_type": "execute_result"
    }
   ],
   "source": [
    "zip(a,b) # böyle görüntülemiyoruz o nedenle listle bakabiliyoruz"
   ]
  },
  {
   "cell_type": "code",
   "execution_count": 13,
   "metadata": {},
   "outputs": [
    {
     "data": {
      "text/plain": [
       "[('apple', 1), ('orange', 2), ('lemon', 3)]"
      ]
     },
     "execution_count": 13,
     "metadata": {},
     "output_type": "execute_result"
    }
   ],
   "source": [
    "list(zip(a,b))"
   ]
  },
  {
   "cell_type": "code",
   "execution_count": 14,
   "metadata": {},
   "outputs": [],
   "source": [
    "x = \"Techpro\"  # 3 tane string veriyi zip'lersek => list(zip(x,y,z)) => yazdırdıgımızda tuble icinde verdi. Önce 1. indexdekileri aldı bir tuble yaptı. \n",
    "y = \"Nazım\"    # sonra 2. indextekileri aldı ayrı bir tuble yaptı... ve en son bunu list icinde yazdırdı\n",
    "z = \"Ece\"\n"
   ]
  },
  {
   "cell_type": "code",
   "execution_count": 15,
   "metadata": {},
   "outputs": [
    {
     "data": {
      "text/plain": [
       "[('T', 'N', 'E'), ('e', 'a', 'c'), ('c', 'z', 'e')]"
      ]
     },
     "execution_count": 15,
     "metadata": {},
     "output_type": "execute_result"
    }
   ],
   "source": [
    "list(zip(x,y,z))  # bu fonksiyon farklı eleman sayılarında oldugu zaman en kücük eleman sayısına(len'ine) göre birlestirme yapar"
   ]
  },
  {
   "cell_type": "code",
   "execution_count": 1,
   "metadata": {},
   "outputs": [],
   "source": [
    "a = [\"apple\", \"orange\", \"lemon\"]\n",
    "b = [1,2,3]"
   ]
  },
  {
   "cell_type": "code",
   "execution_count": 2,
   "metadata": {},
   "outputs": [
    {
     "data": {
      "text/plain": [
       "((1, 'apple'), (2, 'orange'), (3, 'lemon'))"
      ]
     },
     "execution_count": 2,
     "metadata": {},
     "output_type": "execute_result"
    }
   ],
   "source": [
    "tuple(zip(b,a))  # yukarda a,b seklinde aldık burda ise b,a seklinde aldık. Verdigimiz sıraya göre birlestirmeyi yapar."
   ]
  },
  {
   "cell_type": "code",
   "execution_count": 17,
   "metadata": {},
   "outputs": [
    {
     "data": {
      "text/plain": [
       "{1: 'apple', 2: 'orange', 3: 'lemon'}"
      ]
     },
     "execution_count": 17,
     "metadata": {},
     "output_type": "execute_result"
    }
   ],
   "source": [
    "dict(zip(b,a)) #  fakat dicitionary ile yazdırırsak dict'e cevirdi"
   ]
  },
  {
   "cell_type": "code",
   "execution_count": 18,
   "metadata": {},
   "outputs": [
    {
     "data": {
      "text/plain": [
       "{(1, 'apple'), (2, 'orange'), (3, 'lemon')}"
      ]
     },
     "execution_count": 18,
     "metadata": {},
     "output_type": "execute_result"
    }
   ],
   "source": [
    "set(zip(b,a)) # birlestirince tuble'a cevirdi"
   ]
  },
  {
   "cell_type": "code",
   "execution_count": 19,
   "metadata": {},
   "outputs": [],
   "source": [
    "name = [\"mehmet\", \"murat\", \"nazlı\"]\n",
    "age = [26,32,28]\n",
    "job = [\"data_scientist\", \"python_developer\", \"data_analyst\"]"
   ]
  },
  {
   "cell_type": "code",
   "execution_count": 20,
   "metadata": {},
   "outputs": [
    {
     "data": {
      "text/plain": [
       "[('mehmet', 26, 'data_scientist'),\n",
       " ('murat', 32, 'python_developer'),\n",
       " ('nazlı', 28, 'data_analyst')]"
      ]
     },
     "execution_count": 20,
     "metadata": {},
     "output_type": "execute_result"
    }
   ],
   "source": [
    "list(zip(name,age,job))"
   ]
  },
  {
   "cell_type": "code",
   "execution_count": 22,
   "metadata": {},
   "outputs": [
    {
     "name": "stdout",
     "output_type": "stream",
     "text": [
      "  mehmet  ,    26    ,data_scientist \n",
      "  murat   ,    32    ,python_developer\n",
      "  nazlı   ,    28    , data_analyst  \n"
     ]
    }
   ],
   "source": [
    "# zip'i for döngüsü ilede kullanılabilir.\n",
    "for i, j, k in zip(name,age,job):\n",
    "\n",
    "    print(f\"{i:^10},{j:^10},{k:^15}\")"
   ]
  },
  {
   "cell_type": "code",
   "execution_count": 24,
   "metadata": {},
   "outputs": [
    {
     "ename": "ValueError",
     "evalue": "too many values to unpack (expected 2)",
     "output_type": "error",
     "traceback": [
      "\u001b[1;31m---------------------------------------------------------------------------\u001b[0m",
      "\u001b[1;31mValueError\u001b[0m                                Traceback (most recent call last)",
      "\u001b[1;32mc:\\Users\\a\\Desktop\\B223-225\\session_15.ipynb Cell 17\u001b[0m line \u001b[0;36m1\n\u001b[1;32m----> <a href='vscode-notebook-cell:/c%3A/Users/a/Desktop/B223-225/session_15.ipynb#X26sZmlsZQ%3D%3D?line=0'>1</a>\u001b[0m \u001b[39mfor\u001b[39;00m i, j \u001b[39min\u001b[39;00m \u001b[39mzip\u001b[39m(name,age,job):\n\u001b[0;32m      <a href='vscode-notebook-cell:/c%3A/Users/a/Desktop/B223-225/session_15.ipynb#X26sZmlsZQ%3D%3D?line=2'>3</a>\u001b[0m     \u001b[39mprint\u001b[39m(\u001b[39mf\u001b[39m\u001b[39m\"\u001b[39m\u001b[39m{\u001b[39;00mi\u001b[39m:\u001b[39;00m\u001b[39m^10\u001b[39m\u001b[39m}\u001b[39;00m\u001b[39m,\u001b[39m\u001b[39m{\u001b[39;00mj\u001b[39m:\u001b[39;00m\u001b[39m^10\u001b[39m\u001b[39m}\u001b[39;00m\u001b[39m\"\u001b[39m)\n",
      "\u001b[1;31mValueError\u001b[0m: too many values to unpack (expected 2)"
     ]
    }
   ],
   "source": [
    "for i, j in zip(name,age,job):\n",
    "\n",
    "    print(f\"{i:^10},{j:^10}\")"
   ]
  },
  {
   "cell_type": "code",
   "execution_count": 23,
   "metadata": {},
   "outputs": [
    {
     "ename": "ValueError",
     "evalue": "dictionary update sequence element #0 has length 3; 2 is required",
     "output_type": "error",
     "traceback": [
      "\u001b[1;31m---------------------------------------------------------------------------\u001b[0m",
      "\u001b[1;31mValueError\u001b[0m                                Traceback (most recent call last)",
      "\u001b[1;32mc:\\Users\\a\\Desktop\\B223-225\\session_15.ipynb Cell 17\u001b[0m line \u001b[0;36m1\n\u001b[1;32m----> <a href='vscode-notebook-cell:/c%3A/Users/a/Desktop/B223-225/session_15.ipynb#X24sZmlsZQ%3D%3D?line=0'>1</a>\u001b[0m \u001b[39mdict\u001b[39;49m(\u001b[39mzip\u001b[39;49m(name,age,job))\n",
      "\u001b[1;31mValueError\u001b[0m: dictionary update sequence element #0 has length 3; 2 is required"
     ]
    }
   ],
   "source": [
    "dict(zip(name,age,job))"
   ]
  },
  {
   "cell_type": "code",
   "execution_count": 27,
   "metadata": {},
   "outputs": [
    {
     "data": {
      "text/plain": [
       "['techpro', 'is', 'the', 'best']"
      ]
     },
     "execution_count": 27,
     "metadata": {},
     "output_type": "execute_result"
    }
   ],
   "source": [
    "liste_1 = \"techpro is the best\".split()\n",
    "liste_1"
   ]
  },
  {
   "cell_type": "code",
   "execution_count": 28,
   "metadata": {},
   "outputs": [],
   "source": [
    "sayı_listesi = [1,2,3,4]"
   ]
  },
  {
   "cell_type": "code",
   "execution_count": 29,
   "metadata": {},
   "outputs": [
    {
     "data": {
      "text/plain": [
       "[(1, 'techpro'), (2, 'is'), (3, 'the'), (4, 'best')]"
      ]
     },
     "execution_count": 29,
     "metadata": {},
     "output_type": "execute_result"
    }
   ],
   "source": [
    "list(zip(sayı_listesi,liste_1))"
   ]
  },
  {
   "cell_type": "markdown",
   "metadata": {},
   "source": [
    "## enumerate()"
   ]
  },
  {
   "cell_type": "markdown",
   "metadata": {},
   "source": [
    "-enumerate() bu fonksiyon numeretik gibi calısır, numaralandırma yapar.\n",
    "-enumerate() de gene tek yazdıramıyoruz, list veya baska bi fonksiyonla yazdırabiliriz. örn: list(enumerate(liste_1))\n",
    "-enumerate() te bir deger vermezsek defaultu sıfır \"0\"dır. sıfırdan baslatır: örn: list(enumerate(liste_1)) => [(0, 'techpro'), (1, 'is'), (2, 'the'), (3, 'best')]\n"
   ]
  },
  {
   "cell_type": "code",
   "execution_count": 30,
   "metadata": {},
   "outputs": [
    {
     "data": {
      "text/plain": [
       "['techpro', 'is', 'the', 'best']"
      ]
     },
     "execution_count": 30,
     "metadata": {},
     "output_type": "execute_result"
    }
   ],
   "source": [
    "liste_1"
   ]
  },
  {
   "cell_type": "code",
   "execution_count": 31,
   "metadata": {},
   "outputs": [
    {
     "data": {
      "text/plain": [
       "<enumerate at 0x1f186a87d00>"
      ]
     },
     "execution_count": 31,
     "metadata": {},
     "output_type": "execute_result"
    }
   ],
   "source": [
    "enumerate(liste_1)"
   ]
  },
  {
   "cell_type": "code",
   "execution_count": 32,
   "metadata": {},
   "outputs": [
    {
     "data": {
      "text/plain": [
       "[(0, 'techpro'), (1, 'is'), (2, 'the'), (3, 'best')]"
      ]
     },
     "execution_count": 32,
     "metadata": {},
     "output_type": "execute_result"
    }
   ],
   "source": [
    "list(enumerate(liste_1)) #enumerate fonksiyonuna baslangıc vermezsek default olarak 0'dan baslatır"
   ]
  },
  {
   "cell_type": "code",
   "execution_count": 33,
   "metadata": {},
   "outputs": [
    {
     "data": {
      "text/plain": [
       "[(1, 'techpro'), (2, 'is'), (3, 'the'), (4, 'best')]"
      ]
     },
     "execution_count": 33,
     "metadata": {},
     "output_type": "execute_result"
    }
   ],
   "source": [
    "list(enumerate(liste_1, 1))"
   ]
  },
  {
   "cell_type": "code",
   "execution_count": 36,
   "metadata": {},
   "outputs": [
    {
     "name": "stdout",
     "output_type": "stream",
     "text": [
      "Help on class enumerate in module builtins:\n",
      "\n",
      "class enumerate(object)\n",
      " |  enumerate(iterable, start=0)\n",
      " |  \n",
      " |  Return an enumerate object.\n",
      " |  \n",
      " |    iterable\n",
      " |      an object supporting iteration\n",
      " |  \n",
      " |  The enumerate object yields pairs containing a count (from start, which\n",
      " |  defaults to zero) and a value yielded by the iterable argument.\n",
      " |  \n",
      " |  enumerate is useful for obtaining an indexed list:\n",
      " |      (0, seq[0]), (1, seq[1]), (2, seq[2]), ...\n",
      " |  \n",
      " |  Methods defined here:\n",
      " |  \n",
      " |  __getattribute__(self, name, /)\n",
      " |      Return getattr(self, name).\n",
      " |  \n",
      " |  __iter__(self, /)\n",
      " |      Implement iter(self).\n",
      " |  \n",
      " |  __next__(self, /)\n",
      " |      Implement next(self).\n",
      " |  \n",
      " |  __reduce__(...)\n",
      " |      Return state information for pickling.\n",
      " |  \n",
      " |  ----------------------------------------------------------------------\n",
      " |  Class methods defined here:\n",
      " |  \n",
      " |  __class_getitem__(...) from builtins.type\n",
      " |      See PEP 585\n",
      " |  \n",
      " |  ----------------------------------------------------------------------\n",
      " |  Static methods defined here:\n",
      " |  \n",
      " |  __new__(*args, **kwargs) from builtins.type\n",
      " |      Create and return a new object.  See help(type) for accurate signature.\n",
      "\n"
     ]
    }
   ],
   "source": [
    "help(enumerate)"
   ]
  },
  {
   "cell_type": "code",
   "execution_count": 37,
   "metadata": {},
   "outputs": [
    {
     "data": {
      "text/plain": [
       "[(100, 'techpro'), (101, 'is'), (102, 'the'), (103, 'best')]"
      ]
     },
     "execution_count": 37,
     "metadata": {},
     "output_type": "execute_result"
    }
   ],
   "source": [
    "list(enumerate(liste_1, 100))"
   ]
  },
  {
   "cell_type": "markdown",
   "metadata": {},
   "source": [
    "### soru1: en küçük ve en büyük sayılar arasındaki kayıp sayıları bulun. \n",
    "num = [48, 10, 11, 21, 36, 5, 6, 52, 28, 29,\n",
    "       53, 54, 45, 19, 20, 47, 55, 39, 41, 7,\n",
    "       9, 17, 26, 27, 42, 22, 37, 51, 46, 18,\n",
    "       44, 30, 34, 13, 15, 35, 33, 16, 50, 24]\n",
    "\n"
   ]
  },
  {
   "cell_type": "code",
   "execution_count": 3,
   "metadata": {},
   "outputs": [],
   "source": [
    "num = [48, 10, 11, 21, 36, 5, 6, 52, 28, 29,\n",
    "       53, 54, 45, 19, 20, 47, 55, 39, 41, 7,\n",
    "       9, 17, 26, 27, 42, 22, 37, 51, 46, 18,\n",
    "       44, 30, 34, 13, 15, 35, 33, 16, 50, 24]"
   ]
  },
  {
   "cell_type": "code",
   "execution_count": 4,
   "metadata": {},
   "outputs": [
    {
     "name": "stdout",
     "output_type": "stream",
     "text": [
      "[8, 12, 14, 23, 25, 31, 32, 38, 40, 43, 49]\n"
     ]
    }
   ],
   "source": [
    "a = min(num) \n",
    "b = max(num)\n",
    "eksik = []\n",
    "for i in range(a,b):\n",
    "    if i not in num:\n",
    "        eksik.append(i)\n",
    "print(eksik)"
   ]
  },
  {
   "cell_type": "code",
   "execution_count": 40,
   "metadata": {},
   "outputs": [
    {
     "name": "stdout",
     "output_type": "stream",
     "text": [
      "[8, 12, 14, 23, 25, 31, 32, 38, 40, 43, 49]\n"
     ]
    }
   ],
   "source": [
    "#yöntem1\n",
    "\n",
    "kayıp_sayılar = []\n",
    "\n",
    "for i in range(min(num), max(num)):\n",
    "\n",
    "    if i not in num:\n",
    "        kayıp_sayılar.append(i)\n",
    "\n",
    "print(kayıp_sayılar)"
   ]
  },
  {
   "cell_type": "code",
   "execution_count": null,
   "metadata": {},
   "outputs": [],
   "source": [
    "# yöntem2\n",
    "\n",
    "kayıp_sayılar = []\n",
    "\n",
    "for i in range(min(num), max(num)):\n",
    "\n",
    "    if i in num:\n",
    "        continue\n",
    "\n",
    "    kayıp_sayılar.append(i)\n",
    "\n",
    "print(kayıp_sayılar)"
   ]
  },
  {
   "cell_type": "code",
   "execution_count": 42,
   "metadata": {},
   "outputs": [
    {
     "data": {
      "text/plain": [
       "{8, 12, 14, 23, 25, 31, 32, 38, 40, 43, 49}"
      ]
     },
     "execution_count": 42,
     "metadata": {},
     "output_type": "execute_result"
    }
   ],
   "source": [
    "#yöntem3\n",
    "\n",
    "full_set = set(range(min(num), max(num))) # max ve min sayıları arasındaki leri aldık ve set'e cevirdik\n",
    "\n",
    "num_set = set(num)  # bize vrilen list'i set e cevirdik\n",
    "\n",
    "full_set - num_set #aradaki farkı yani bize verilen listte olan ama aradaki eksikleri olanı tamamladıgımız (fuul_set)'un farkını aldık\n"
   ]
  },
  {
   "cell_type": "code",
   "execution_count": 43,
   "metadata": {},
   "outputs": [
    {
     "data": {
      "text/plain": [
       "{8, 12, 14, 23, 25, 31, 32, 38, 40, 43, 49}"
      ]
     },
     "execution_count": 43,
     "metadata": {},
     "output_type": "execute_result"
    }
   ],
   "source": [
    "set(range(min(num), max(num))) - set(num)"
   ]
  },
  {
   "cell_type": "markdown",
   "metadata": {},
   "source": [
    "# List Comprehension"
   ]
  },
  {
   "cell_type": "markdown",
   "metadata": {},
   "source": [
    "-for ile uzun uzadıya yaptıgımızı \"list comprehension\" ile yapıyoruz. Ama herseyi yapamayız.\n",
    "- cok daha hızlı"
   ]
  },
  {
   "cell_type": "code",
   "execution_count": 44,
   "metadata": {},
   "outputs": [
    {
     "name": "stdout",
     "output_type": "stream",
     "text": [
      "[1, 4, 9, 16, 25]\n"
     ]
    }
   ],
   "source": [
    "# 1'den 5'e kadar olan list'in elemanlarının karesini alın. Burda normal for kullanarak yaptıgımızı asagıda \"list comprehension\" kullanarak yaptık.\n",
    "liste_2 = [1,2,3,4,5]\n",
    "empty_list = []\n",
    "for i in liste_2:\n",
    "    empty_list.append(i ** 2)\n",
    "\n",
    "print(empty_list)"
   ]
  },
  {
   "cell_type": "code",
   "execution_count": 45,
   "metadata": {},
   "outputs": [
    {
     "data": {
      "text/plain": [
       "[1, 4, 9, 16, 25]"
      ]
     },
     "execution_count": 45,
     "metadata": {},
     "output_type": "execute_result"
    }
   ],
   "source": [
    "[i ** 2  for i in liste_2] # for i in liste_2 yazıp basına gecip islemi basına yazdık ve hepsini list icine alıyoruz. append'in yaptıgını direk list comprehension yapar"
   ]
  },
  {
   "cell_type": "code",
   "execution_count": 46,
   "metadata": {},
   "outputs": [
    {
     "data": {
      "text/plain": [
       "['renault!', 'fiat*', 'ford?']"
      ]
     },
     "execution_count": 46,
     "metadata": {},
     "output_type": "execute_result"
    }
   ],
   "source": [
    "# verilen list'deki elemanlar icindeki \"!, * , ? \"ü kaldır.\n",
    "liste_3 = [\"renault!\", \"fiat*\", \"ford?!\"]\n",
    "liste_3"
   ]
  },
  {
   "cell_type": "code",
   "execution_count": 49,
   "metadata": {},
   "outputs": [
    {
     "data": {
      "text/plain": [
       "['renault', 'fiat', 'ford']"
      ]
     },
     "execution_count": 49,
     "metadata": {},
     "output_type": "execute_result"
    }
   ],
   "source": [
    "düzenlenmiş_liste = []\n",
    "for i in liste_3:\n",
    "    düzenlenmiş_liste.append(i.replace(\"!\",\"\").replace(\"*\",\"\").replace(\"?\",\"\"))\n",
    "\n",
    "düzenlenmiş_liste"
   ]
  },
  {
   "cell_type": "code",
   "execution_count": 50,
   "metadata": {},
   "outputs": [
    {
     "data": {
      "text/plain": [
       "['renault', 'fiat', 'ford']"
      ]
     },
     "execution_count": 50,
     "metadata": {},
     "output_type": "execute_result"
    }
   ],
   "source": [
    "[i.replace(\"!\",\"\").replace(\"*\",\"\").replace(\"?\",\"\") for i in liste_3]"
   ]
  },
  {
   "cell_type": "code",
   "execution_count": 55,
   "metadata": {},
   "outputs": [
    {
     "name": "stdout",
     "output_type": "stream",
     "text": [
      "[2, 36, 62, 52, 30, 56, 48]\n"
     ]
    }
   ],
   "source": [
    "# çift olanları döndüren kodu yazın.\n",
    "sayılar_listesi = [1,15,2,36,5,89,45,62,52,71,30,56,45,95,61,48]\n",
    "\n",
    "evens = []\n",
    "\n",
    "for i in sayılar_listesi:\n",
    "\n",
    "    if i % 2 == 0:\n",
    "        evens.append(i)\n",
    "\n",
    "print(evens)\n"
   ]
  },
  {
   "cell_type": "code",
   "execution_count": 56,
   "metadata": {},
   "outputs": [
    {
     "data": {
      "text/plain": [
       "[2, 36, 62, 52, 30, 56, 48]"
      ]
     },
     "execution_count": 56,
     "metadata": {},
     "output_type": "execute_result"
    }
   ],
   "source": [
    "# if ifadesini sadece kullanacaksak yani else(elif ile kullanımı yok pek) yoksa for 'dan sonra yazıyoruz. body varsa onu for'un bas kısmına yazıyoruz.\n",
    "[ i  for i in sayılar_listesi if i % 2 == 0]"
   ]
  },
  {
   "cell_type": "code",
   "execution_count": 57,
   "metadata": {},
   "outputs": [
    {
     "data": {
      "text/plain": [
       "[4, 1296, 3844, 2704, 900, 3136, 2304]"
      ]
     },
     "execution_count": 57,
     "metadata": {},
     "output_type": "execute_result"
    }
   ],
   "source": [
    "[ i ** 2  for i in sayılar_listesi if i % 2 == 0] #if'in  body varsa onu for'un bas kısmına yazıyoruz."
   ]
  },
  {
   "cell_type": "code",
   "execution_count": 58,
   "metadata": {},
   "outputs": [
    {
     "name": "stdout",
     "output_type": "stream",
     "text": [
      "[1, 225, 2, 36, 25, 7921, 2025, 62, 52, 5041, 30, 56, 2025, 9025, 3721, 48]\n"
     ]
    }
   ],
   "source": [
    "# list comprehension'un if-else ile kullanımı : if-else seklinde kullanacak isek yazacagımızın hepsini for'un basına yazıyoruz.\n",
    "# çift olanlar yerinde olduğu gibi kalsın, tek olanların karesini yazdırın\n",
    "sayılar_listesi = [1,15,2,36,5,89,45,62,52,71,30,56,45,95,61,48]\n",
    "\n",
    "result = []\n",
    "\n",
    "for i in sayılar_listesi:\n",
    "\n",
    "    if i % 2 == 0:\n",
    "        result.append(i)\n",
    "    else:\n",
    "        result.append(i ** 2)\n",
    "\n",
    "print(result)"
   ]
  },
  {
   "cell_type": "code",
   "execution_count": 59,
   "metadata": {},
   "outputs": [
    {
     "data": {
      "text/plain": [
       "[1, 225, 2, 36, 25, 7921, 2025, 62, 52, 5041, 30, 56, 2025, 9025, 3721, 48]"
      ]
     },
     "execution_count": 59,
     "metadata": {},
     "output_type": "execute_result"
    }
   ],
   "source": [
    "[ i  if i % 2 == 0 else  i ** 2  for i in sayılar_listesi ]"
   ]
  },
  {
   "cell_type": "code",
   "execution_count": null,
   "metadata": {},
   "outputs": [],
   "source": []
  },
  {
   "cell_type": "code",
   "execution_count": null,
   "metadata": {},
   "outputs": [],
   "source": []
  },
  {
   "cell_type": "code",
   "execution_count": null,
   "metadata": {},
   "outputs": [],
   "source": []
  },
  {
   "cell_type": "code",
   "execution_count": null,
   "metadata": {},
   "outputs": [],
   "source": []
  },
  {
   "cell_type": "code",
   "execution_count": null,
   "metadata": {},
   "outputs": [],
   "source": []
  },
  {
   "cell_type": "code",
   "execution_count": null,
   "metadata": {},
   "outputs": [],
   "source": []
  },
  {
   "cell_type": "code",
   "execution_count": null,
   "metadata": {},
   "outputs": [],
   "source": []
  },
  {
   "cell_type": "code",
   "execution_count": null,
   "metadata": {},
   "outputs": [],
   "source": []
  },
  {
   "cell_type": "code",
   "execution_count": null,
   "metadata": {},
   "outputs": [],
   "source": []
  }
 ],
 "metadata": {
  "kernelspec": {
   "display_name": "base",
   "language": "python",
   "name": "python3"
  },
  "language_info": {
   "codemirror_mode": {
    "name": "ipython",
    "version": 3
   },
   "file_extension": ".py",
   "mimetype": "text/x-python",
   "name": "python",
   "nbconvert_exporter": "python",
   "pygments_lexer": "ipython3",
   "version": "3.11.4"
  }
 },
 "nbformat": 4,
 "nbformat_minor": 2
}

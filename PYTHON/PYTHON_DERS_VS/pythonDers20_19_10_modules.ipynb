{
 "cells": [
  {
   "cell_type": "markdown",
   "metadata": {},
   "source": [
    "# Modules"
   ]
  },
  {
   "cell_type": "markdown",
   "metadata": {},
   "source": [
    "-Modulleri olusturmamizin sebebi= kendimiz tekrar tekrar kullanmak istedigimiz seyleri bir module koyup  ordan kullaniyoruz tekrardan olusturmak yerine\n",
    "-Yaptigimiz modulun calisabilmesi icin ayni dosya icine koymaliyiz.\n",
    "- Tum modulesleri import edip kullanabiliriz \n",
    "-Kendi olusturdugumuz modulesleri import edip kullanabiliriz isim vererek kullanıyoruz. => örn: import random as yeni_isim\n",
    "-İsim vermek zorunlu degil => örn:  import random  olarakta kullanabiliriz/\n",
    "-import ettigimiz modul calısmassa install etmemiz gerekir."
   ]
  },
  {
   "cell_type": "code",
   "execution_count": 1,
   "metadata": {},
   "outputs": [],
   "source": [
    "\n",
    "import random as yeni_isim  # random modulu pythonda olan bir modulu"
   ]
  },
  {
   "cell_type": "code",
   "execution_count": 5,
   "metadata": {},
   "outputs": [
    {
     "data": {
      "text/plain": [
       "6"
      ]
     },
     "execution_count": 5,
     "metadata": {},
     "output_type": "execute_result"
    }
   ],
   "source": [
    "yeni_isim.randint(5,8)"
   ]
  },
  {
   "cell_type": "code",
   "execution_count": 6,
   "metadata": {},
   "outputs": [],
   "source": [
    "import random"
   ]
  },
  {
   "cell_type": "code",
   "execution_count": 7,
   "metadata": {},
   "outputs": [
    {
     "data": {
      "text/plain": [
       "6"
      ]
     },
     "execution_count": 7,
     "metadata": {},
     "output_type": "execute_result"
    }
   ],
   "source": [
    "random.randint(6,8)"
   ]
  },
  {
   "cell_type": "code",
   "execution_count": 8,
   "metadata": {},
   "outputs": [
    {
     "data": {
      "text/plain": [
       "0.407382318355051"
      ]
     },
     "execution_count": 8,
     "metadata": {},
     "output_type": "execute_result"
    }
   ],
   "source": [
    "random.random() # 0 ile 1 arasi uretiyor"
   ]
  },
  {
   "cell_type": "code",
   "execution_count": 9,
   "metadata": {},
   "outputs": [
    {
     "data": {
      "text/plain": [
       "[3, 4, 5]"
      ]
     },
     "execution_count": 9,
     "metadata": {},
     "output_type": "execute_result"
    }
   ],
   "source": [
    "random.sample([1,2,3,4,5,6,7,8,], k=3) # sample() parantezine verdigimiz listin, \"k=3\" diyince icinden 3 tanesini verir. yani verilen list icinden 3 tane ,5 tane örnek ver diyerek kullanabiliriz."
   ]
  },
  {
   "cell_type": "code",
   "execution_count": 2,
   "metadata": {},
   "outputs": [],
   "source": [
    "# math modulu\n",
    "import math"
   ]
  },
  {
   "cell_type": "code",
   "execution_count": 5,
   "metadata": {},
   "outputs": [
    {
     "ename": "ValueError",
     "evalue": "factorial() not defined for negative values",
     "output_type": "error",
     "traceback": [
      "\u001b[0;31m---------------------------------------------------------------------------\u001b[0m",
      "\u001b[0;31mValueError\u001b[0m                                Traceback (most recent call last)",
      "\u001b[1;32m/Users/boravolkanalkac/Documents/Demet/DATA SCIENCE TECHPRO/PYTHON/PYTHON_DERS_VS/pythonDers20_19_10_modules.ipynb Cell 10\u001b[0m line \u001b[0;36m1\n\u001b[0;32m----> <a href='vscode-notebook-cell:/Users/boravolkanalkac/Documents/Demet/DATA%20SCIENCE%20TECHPRO/PYTHON/PYTHON_DERS_VS/pythonDers20_19_10_modules.ipynb#X12sZmlsZQ%3D%3D?line=0'>1</a>\u001b[0m math\u001b[39m.\u001b[39mfactorial(\u001b[39m-\u001b[39m\u001b[39m6\u001b[39m)\n",
      "\u001b[0;31mValueError\u001b[0m: factorial() not defined for negative values"
     ]
    }
   ],
   "source": [
    "math.factorial(-6) # factorial() eksi sayilar ile calismaz, factorial() not defined for negative values"
   ]
  },
  {
   "cell_type": "code",
   "execution_count": 12,
   "metadata": {},
   "outputs": [
    {
     "data": {
      "text/plain": [
       "3.141592653589793"
      ]
     },
     "execution_count": 12,
     "metadata": {},
     "output_type": "execute_result"
    }
   ],
   "source": [
    "math.pi # pi degiskendir o nedenle fonksiyon gibi parantez alarak kullanamayız."
   ]
  },
  {
   "cell_type": "code",
   "execution_count": 6,
   "metadata": {},
   "outputs": [
    {
     "ename": "TypeError",
     "evalue": "'float' object is not callable",
     "output_type": "error",
     "traceback": [
      "\u001b[0;31m---------------------------------------------------------------------------\u001b[0m",
      "\u001b[0;31mTypeError\u001b[0m                                 Traceback (most recent call last)",
      "\u001b[1;32m/Users/boravolkanalkac/Documents/Demet/DATA SCIENCE TECHPRO/PYTHON/PYTHON_DERS_VS/pythonDers20_19_10_modules.ipynb Cell 12\u001b[0m line \u001b[0;36m1\n\u001b[0;32m----> <a href='vscode-notebook-cell:/Users/boravolkanalkac/Documents/Demet/DATA%20SCIENCE%20TECHPRO/PYTHON/PYTHON_DERS_VS/pythonDers20_19_10_modules.ipynb#X14sZmlsZQ%3D%3D?line=0'>1</a>\u001b[0m math\u001b[39m.\u001b[39mpi()\n",
      "\u001b[0;31mTypeError\u001b[0m: 'float' object is not callable"
     ]
    }
   ],
   "source": [
    "math.pi() "
   ]
  },
  {
   "cell_type": "code",
   "execution_count": 7,
   "metadata": {},
   "outputs": [
    {
     "data": {
      "text/plain": [
       "81.0"
      ]
     },
     "execution_count": 7,
     "metadata": {},
     "output_type": "execute_result"
    }
   ],
   "source": [
    "math.pow(3,4) # #pow() sayının kuvvetini alıyor, icine 2 sayı giriyoruz ,(x.y) gibi x'i y'nin kuvvetine döndürür. =>pow(3,4) 3'ün 4cü kuvveti 3**4 =>3*3=9*3=27*3=81 "
   ]
  },
  {
   "cell_type": "code",
   "execution_count": 8,
   "metadata": {},
   "outputs": [
    {
     "name": "stdout",
     "output_type": "stream",
     "text": [
      "Help on built-in function pow in module math:\n",
      "\n",
      "pow(x, y, /)\n",
      "    Return x**y (x to the power of y).\n",
      "\n"
     ]
    }
   ],
   "source": [
    "help(math.pow)"
   ]
  },
  {
   "cell_type": "code",
   "execution_count": 18,
   "metadata": {},
   "outputs": [
    {
     "data": {
      "text/plain": [
       "81.0"
      ]
     },
     "execution_count": 18,
     "metadata": {},
     "output_type": "execute_result"
    }
   ],
   "source": [
    "math.pow(3, 4.0)"
   ]
  },
  {
   "cell_type": "code",
   "execution_count": 21,
   "metadata": {},
   "outputs": [
    {
     "data": {
      "text/plain": [
       "3.9999999999999996"
      ]
     },
     "execution_count": 21,
     "metadata": {},
     "output_type": "execute_result"
    }
   ],
   "source": [
    "math.pow(64, 1/3)"
   ]
  },
  {
   "cell_type": "code",
   "execution_count": 13,
   "metadata": {},
   "outputs": [
    {
     "data": {
      "text/plain": [
       "81.0"
      ]
     },
     "execution_count": 13,
     "metadata": {},
     "output_type": "execute_result"
    }
   ],
   "source": [
    "math.pow(3, 4.0) # 81.0 cıkar ama sonuc int cıksın istersek int e kast ederiz"
   ]
  },
  {
   "cell_type": "code",
   "execution_count": 14,
   "metadata": {},
   "outputs": [
    {
     "data": {
      "text/plain": [
       "81"
      ]
     },
     "execution_count": 14,
     "metadata": {},
     "output_type": "execute_result"
    }
   ],
   "source": [
    "int(math.pow(3, 4.0)) # 81"
   ]
  },
  {
   "cell_type": "code",
   "execution_count": 20,
   "metadata": {},
   "outputs": [
    {
     "data": {
      "text/plain": [
       "8.0"
      ]
     },
     "execution_count": 20,
     "metadata": {},
     "output_type": "execute_result"
    }
   ],
   "source": [
    "math.sqrt(64) # sqrt() karakökünü alır."
   ]
  },
  {
   "cell_type": "code",
   "execution_count": 19,
   "metadata": {},
   "outputs": [
    {
     "data": {
      "text/plain": [
       "8.0"
      ]
     },
     "execution_count": 19,
     "metadata": {},
     "output_type": "execute_result"
    }
   ],
   "source": [
    "64 ** 0.5 #biz karakök bulmayı böyle yapıyorduk ama math modulunda sqrt() bu görevi yapıyor"
   ]
  },
  {
   "cell_type": "code",
   "execution_count": 10,
   "metadata": {},
   "outputs": [
    {
     "data": {
      "text/plain": [
       "4.0"
      ]
     },
     "execution_count": 10,
     "metadata": {},
     "output_type": "execute_result"
    }
   ],
   "source": [
    "math.sqrt(16)"
   ]
  },
  {
   "cell_type": "code",
   "execution_count": 9,
   "metadata": {},
   "outputs": [
    {
     "ename": "TypeError",
     "evalue": "math.sqrt() takes exactly one argument (2 given)",
     "output_type": "error",
     "traceback": [
      "\u001b[0;31m---------------------------------------------------------------------------\u001b[0m",
      "\u001b[0;31mTypeError\u001b[0m                                 Traceback (most recent call last)",
      "\u001b[1;32m/Users/boravolkanalkac/Documents/Demet/DATA SCIENCE TECHPRO/PYTHON/PYTHON_DERS_VS/pythonDers20_19_10_modules.ipynb Cell 19\u001b[0m line \u001b[0;36m1\n\u001b[0;32m----> <a href='vscode-notebook-cell:/Users/boravolkanalkac/Documents/Demet/DATA%20SCIENCE%20TECHPRO/PYTHON/PYTHON_DERS_VS/pythonDers20_19_10_modules.ipynb#X24sZmlsZQ%3D%3D?line=0'>1</a>\u001b[0m math\u001b[39m.\u001b[39msqrt(\u001b[39m64\u001b[39m,\u001b[39m2\u001b[39m)\n",
      "\u001b[0;31mTypeError\u001b[0m: math.sqrt() takes exactly one argument (2 given)"
     ]
    }
   ],
   "source": [
    "math.sqrt(64,2) # 2 elemanla calısmaz parantezine tek eleman vermeliyiz."
   ]
  },
  {
   "cell_type": "code",
   "execution_count": 12,
   "metadata": {},
   "outputs": [
    {
     "data": {
      "text/plain": [
       "81"
      ]
     },
     "execution_count": 12,
     "metadata": {},
     "output_type": "execute_result"
    }
   ],
   "source": []
  },
  {
   "cell_type": "code",
   "execution_count": 22,
   "metadata": {},
   "outputs": [
    {
     "ename": "SyntaxError",
     "evalue": "invalid syntax (3170548817.py, line 1)",
     "output_type": "error",
     "traceback": [
      "\u001b[0;36m  Cell \u001b[0;32mIn[22], line 1\u001b[0;36m\u001b[0m\n\u001b[0;31m    import.pyautogui\u001b[0m\n\u001b[0m          ^\u001b[0m\n\u001b[0;31mSyntaxError\u001b[0m\u001b[0;31m:\u001b[0m invalid syntax\n"
     ]
    }
   ],
   "source": [
    "import.pyautogui # import.pyautogui import ederken yanlıslıkla arasına nokta koymusum:)"
   ]
  },
  {
   "cell_type": "code",
   "execution_count": 3,
   "metadata": {},
   "outputs": [
    {
     "name": "stdout",
     "output_type": "stream",
     "text": [
      "Requirement already satisfied: pyautogui in /Users/boravolkanalkac/anaconda3/lib/python3.11/site-packages (0.9.54)\n",
      "Requirement already satisfied: pymsgbox in /Users/boravolkanalkac/anaconda3/lib/python3.11/site-packages (from pyautogui) (1.0.9)\n",
      "Requirement already satisfied: pytweening>=1.0.4 in /Users/boravolkanalkac/anaconda3/lib/python3.11/site-packages (from pyautogui) (1.0.7)\n",
      "Requirement already satisfied: pyscreeze>=0.1.21 in /Users/boravolkanalkac/anaconda3/lib/python3.11/site-packages (from pyautogui) (0.1.29)\n",
      "Requirement already satisfied: pygetwindow>=0.0.5 in /Users/boravolkanalkac/anaconda3/lib/python3.11/site-packages (from pyautogui) (0.0.9)\n",
      "Requirement already satisfied: mouseinfo in /Users/boravolkanalkac/anaconda3/lib/python3.11/site-packages (from pyautogui) (0.1.3)\n",
      "Requirement already satisfied: pyobjc-core in /Users/boravolkanalkac/anaconda3/lib/python3.11/site-packages (from pyautogui) (10.0)\n",
      "Requirement already satisfied: pyobjc-framework-quartz in /Users/boravolkanalkac/anaconda3/lib/python3.11/site-packages (from pyautogui) (10.0)\n",
      "Requirement already satisfied: pyrect in /Users/boravolkanalkac/anaconda3/lib/python3.11/site-packages (from pygetwindow>=0.0.5->pyautogui) (0.2.0)\n",
      "Requirement already satisfied: pyscreenshot in /Users/boravolkanalkac/anaconda3/lib/python3.11/site-packages (from pyscreeze>=0.1.21->pyautogui) (3.1)\n",
      "Requirement already satisfied: Pillow>=9.3.0 in /Users/boravolkanalkac/anaconda3/lib/python3.11/site-packages (from pyscreeze>=0.1.21->pyautogui) (9.4.0)\n",
      "Requirement already satisfied: pyperclip in /Users/boravolkanalkac/anaconda3/lib/python3.11/site-packages (from mouseinfo->pyautogui) (1.8.2)\n",
      "Requirement already satisfied: rubicon-objc in /Users/boravolkanalkac/anaconda3/lib/python3.11/site-packages (from mouseinfo->pyautogui) (0.4.7)\n",
      "Requirement already satisfied: pyobjc-framework-Cocoa>=10.0 in /Users/boravolkanalkac/anaconda3/lib/python3.11/site-packages (from pyobjc-framework-quartz->pyautogui) (10.0)\n",
      "Requirement already satisfied: EasyProcess in /Users/boravolkanalkac/anaconda3/lib/python3.11/site-packages (from pyscreenshot->pyscreeze>=0.1.21->pyautogui) (1.1)\n",
      "Requirement already satisfied: entrypoint2 in /Users/boravolkanalkac/anaconda3/lib/python3.11/site-packages (from pyscreenshot->pyscreeze>=0.1.21->pyautogui) (1.1)\n",
      "Requirement already satisfied: mss in /Users/boravolkanalkac/anaconda3/lib/python3.11/site-packages (from pyscreenshot->pyscreeze>=0.1.21->pyautogui) (9.0.1)\n",
      "Note: you may need to restart the kernel to use updated packages.\n"
     ]
    }
   ],
   "source": [
    "\n",
    "pip install pyautogui"
   ]
  },
  {
   "cell_type": "markdown",
   "metadata": {},
   "source": [
    "Bir modulu import ederken: import pyautogui \n",
    "                           !pip install pyautogui         veya\n",
    "                            conda install pyautogui       veya \n",
    "                            %pip install pyautogui       seklinde yapabiliriz. Biri ise yararmıs.."
   ]
  },
  {
   "cell_type": "code",
   "execution_count": 26,
   "metadata": {},
   "outputs": [
    {
     "name": "stdout",
     "output_type": "stream",
     "text": [
      "Collecting pyautogui\n",
      "  Using cached PyAutoGUI-0.9.54-py3-none-any.whl\n",
      "Collecting pymsgbox (from pyautogui)\n",
      "  Using cached PyMsgBox-1.0.9-py3-none-any.whl\n",
      "Collecting pytweening>=1.0.4 (from pyautogui)\n",
      "  Using cached pytweening-1.0.7-py3-none-any.whl\n",
      "Collecting pyscreeze>=0.1.21 (from pyautogui)\n",
      "  Using cached PyScreeze-0.1.29-py3-none-any.whl\n",
      "Collecting pygetwindow>=0.0.5 (from pyautogui)\n",
      "  Using cached PyGetWindow-0.0.9-py3-none-any.whl\n",
      "Collecting mouseinfo (from pyautogui)\n",
      "  Using cached MouseInfo-0.1.3-py3-none-any.whl\n",
      "Requirement already satisfied: pyobjc-core in /Users/boravolkanalkac/anaconda3/lib/python3.11/site-packages (from pyautogui) (9.0)\n",
      "Collecting pyobjc-framework-quartz (from pyautogui)\n",
      "  Obtaining dependency information for pyobjc-framework-quartz from https://files.pythonhosted.org/packages/93/80/5732642c93e95ff076e31073507de07e9f7fa7fc68228a10d6421d507555/pyobjc_framework_Quartz-10.0-cp311-cp311-macosx_10_9_universal2.whl.metadata\n",
      "  Using cached pyobjc_framework_Quartz-10.0-cp311-cp311-macosx_10_9_universal2.whl.metadata (3.3 kB)\n",
      "Collecting pyrect (from pygetwindow>=0.0.5->pyautogui)\n",
      "  Using cached PyRect-0.2.0-py2.py3-none-any.whl\n",
      "Collecting pyscreenshot (from pyscreeze>=0.1.21->pyautogui)\n",
      "  Using cached pyscreenshot-3.1-py3-none-any.whl (28 kB)\n",
      "Requirement already satisfied: Pillow>=9.3.0 in /Users/boravolkanalkac/anaconda3/lib/python3.11/site-packages (from pyscreeze>=0.1.21->pyautogui) (9.4.0)\n",
      "Collecting pyperclip (from mouseinfo->pyautogui)\n",
      "  Using cached pyperclip-1.8.2-py3-none-any.whl\n",
      "Collecting rubicon-objc (from mouseinfo->pyautogui)\n",
      "  Obtaining dependency information for rubicon-objc from https://files.pythonhosted.org/packages/d0/17/ba5525607d35ad5c256525657780531dd766a27352275c22710a76786460/rubicon_objc-0.4.7-py3-none-any.whl.metadata\n",
      "  Using cached rubicon_objc-0.4.7-py3-none-any.whl.metadata (5.4 kB)\n",
      "Collecting pyobjc-core (from pyautogui)\n",
      "  Obtaining dependency information for pyobjc-core from https://files.pythonhosted.org/packages/c1/42/6666c64d7f2413bd80c477a438d22cb2ac6a66c17387e110c848b7dba95d/pyobjc_core-10.0-cp311-cp311-macosx_10_9_universal2.whl.metadata\n",
      "  Using cached pyobjc_core-10.0-cp311-cp311-macosx_10_9_universal2.whl.metadata (2.5 kB)\n",
      "Collecting pyobjc-framework-Cocoa>=10.0 (from pyobjc-framework-quartz->pyautogui)\n",
      "  Obtaining dependency information for pyobjc-framework-Cocoa>=10.0 from https://files.pythonhosted.org/packages/b7/2d/90bb1b0c75451cc27f51e5a9d26c803923ace7260ed1ef784ed3d7ef7266/pyobjc_framework_Cocoa-10.0-cp311-cp311-macosx_10_9_universal2.whl.metadata\n",
      "  Using cached pyobjc_framework_Cocoa-10.0-cp311-cp311-macosx_10_9_universal2.whl.metadata (2.2 kB)\n",
      "Collecting EasyProcess (from pyscreenshot->pyscreeze>=0.1.21->pyautogui)\n",
      "  Using cached EasyProcess-1.1-py3-none-any.whl (8.7 kB)\n",
      "Collecting entrypoint2 (from pyscreenshot->pyscreeze>=0.1.21->pyautogui)\n",
      "  Using cached entrypoint2-1.1-py2.py3-none-any.whl (9.9 kB)\n",
      "Collecting mss (from pyscreenshot->pyscreeze>=0.1.21->pyautogui)\n",
      "  Using cached mss-9.0.1-py3-none-any.whl (22 kB)\n",
      "Using cached pyobjc_framework_Quartz-10.0-cp311-cp311-macosx_10_9_universal2.whl (230 kB)\n",
      "Using cached pyobjc_core-10.0-cp311-cp311-macosx_10_9_universal2.whl (738 kB)\n",
      "Using cached pyobjc_framework_Cocoa-10.0-cp311-cp311-macosx_10_9_universal2.whl (391 kB)\n",
      "Using cached rubicon_objc-0.4.7-py3-none-any.whl (61 kB)\n",
      "Installing collected packages: pytweening, pyrect, pyperclip, pymsgbox, entrypoint2, EasyProcess, rubicon-objc, pyobjc-core, pygetwindow, mss, pyscreenshot, pyobjc-framework-Cocoa, mouseinfo, pyscreeze, pyobjc-framework-quartz, pyautogui\n",
      "  Attempting uninstall: pyobjc-core\n",
      "    Found existing installation: pyobjc-core 9.0\n",
      "    Uninstalling pyobjc-core-9.0:\n",
      "      Successfully uninstalled pyobjc-core-9.0\n",
      "  Attempting uninstall: pyobjc-framework-Cocoa\n",
      "    Found existing installation: pyobjc-framework-Cocoa 9.0\n",
      "    Uninstalling pyobjc-framework-Cocoa-9.0:\n",
      "      Successfully uninstalled pyobjc-framework-Cocoa-9.0\n",
      "Successfully installed EasyProcess-1.1 entrypoint2-1.1 mouseinfo-0.1.3 mss-9.0.1 pyautogui-0.9.54 pygetwindow-0.0.9 pymsgbox-1.0.9 pyobjc-core-10.0 pyobjc-framework-Cocoa-10.0 pyobjc-framework-quartz-10.0 pyperclip-1.8.2 pyrect-0.2.0 pyscreenshot-3.1 pyscreeze-0.1.29 pytweening-1.0.7 rubicon-objc-0.4.7\n"
     ]
    }
   ],
   "source": [
    "!pip install pyautogui"
   ]
  },
  {
   "cell_type": "code",
   "execution_count": 6,
   "metadata": {},
   "outputs": [
    {
     "ename": "ValueError",
     "evalue": "The python kernel does not appear to be a conda environment.  Please use ``%pip install`` instead.",
     "output_type": "error",
     "traceback": [
      "\u001b[0;31m---------------------------------------------------------------------------\u001b[0m",
      "\u001b[0;31mValueError\u001b[0m                                Traceback (most recent call last)",
      "\u001b[1;32m/Users/boravolkanalkac/Documents/Demet/DATA SCIENCE TECHPRO/PYTHON/PHYHON_DERS_VS/pythonDers20_19_10_modules.ipynb Cell 24\u001b[0m line \u001b[0;36m1\n\u001b[0;32m----> <a href='vscode-notebook-cell:/Users/boravolkanalkac/Documents/Demet/DATA%20SCIENCE%20TECHPRO/PYTHON/PHYHON_DERS_VS/pythonDers20_19_10_modules.ipynb#X35sZmlsZQ%3D%3D?line=0'>1</a>\u001b[0m get_ipython()\u001b[39m.\u001b[39;49mrun_line_magic(\u001b[39m'\u001b[39;49m\u001b[39mconda\u001b[39;49m\u001b[39m'\u001b[39;49m, \u001b[39m'\u001b[39;49m\u001b[39minstall pyautogui\u001b[39;49m\u001b[39m'\u001b[39;49m)\n",
      "File \u001b[0;32m~/Library/Python/3.11/lib/python/site-packages/IPython/core/interactiveshell.py:2417\u001b[0m, in \u001b[0;36mInteractiveShell.run_line_magic\u001b[0;34m(self, magic_name, line, _stack_depth)\u001b[0m\n\u001b[1;32m   2415\u001b[0m     kwargs[\u001b[39m'\u001b[39m\u001b[39mlocal_ns\u001b[39m\u001b[39m'\u001b[39m] \u001b[39m=\u001b[39m \u001b[39mself\u001b[39m\u001b[39m.\u001b[39mget_local_scope(stack_depth)\n\u001b[1;32m   2416\u001b[0m \u001b[39mwith\u001b[39;00m \u001b[39mself\u001b[39m\u001b[39m.\u001b[39mbuiltin_trap:\n\u001b[0;32m-> 2417\u001b[0m     result \u001b[39m=\u001b[39m fn(\u001b[39m*\u001b[39;49margs, \u001b[39m*\u001b[39;49m\u001b[39m*\u001b[39;49mkwargs)\n\u001b[1;32m   2419\u001b[0m \u001b[39m# The code below prevents the output from being displayed\u001b[39;00m\n\u001b[1;32m   2420\u001b[0m \u001b[39m# when using magics with decodator @output_can_be_silenced\u001b[39;00m\n\u001b[1;32m   2421\u001b[0m \u001b[39m# when the last Python token in the expression is a ';'.\u001b[39;00m\n\u001b[1;32m   2422\u001b[0m \u001b[39mif\u001b[39;00m \u001b[39mgetattr\u001b[39m(fn, magic\u001b[39m.\u001b[39mMAGIC_OUTPUT_CAN_BE_SILENCED, \u001b[39mFalse\u001b[39;00m):\n",
      "File \u001b[0;32m~/Library/Python/3.11/lib/python/site-packages/IPython/core/magics/packaging.py:87\u001b[0m, in \u001b[0;36mPackagingMagics.conda\u001b[0;34m(self, line)\u001b[0m\n\u001b[1;32m     81\u001b[0m \u001b[39m\u001b[39m\u001b[39m\"\"\"Run the conda package manager within the current kernel.\u001b[39;00m\n\u001b[1;32m     82\u001b[0m \n\u001b[1;32m     83\u001b[0m \u001b[39mUsage:\u001b[39;00m\n\u001b[1;32m     84\u001b[0m \u001b[39m  %conda install [pkgs]\u001b[39;00m\n\u001b[1;32m     85\u001b[0m \u001b[39m\"\"\"\u001b[39;00m\n\u001b[1;32m     86\u001b[0m \u001b[39mif\u001b[39;00m \u001b[39mnot\u001b[39;00m _is_conda_environment():\n\u001b[0;32m---> 87\u001b[0m     \u001b[39mraise\u001b[39;00m \u001b[39mValueError\u001b[39;00m(\u001b[39m\"\u001b[39m\u001b[39mThe python kernel does not appear to be a conda environment.  \u001b[39m\u001b[39m\"\u001b[39m\n\u001b[1;32m     88\u001b[0m                      \u001b[39m\"\u001b[39m\u001b[39mPlease use ``\u001b[39m\u001b[39m%\u001b[39m\u001b[39mpip install`` instead.\u001b[39m\u001b[39m\"\u001b[39m)\n\u001b[1;32m     90\u001b[0m conda \u001b[39m=\u001b[39m _get_conda_executable()\n\u001b[1;32m     91\u001b[0m args \u001b[39m=\u001b[39m shlex\u001b[39m.\u001b[39msplit(line)\n",
      "\u001b[0;31mValueError\u001b[0m: The python kernel does not appear to be a conda environment.  Please use ``%pip install`` instead."
     ]
    }
   ],
   "source": [
    "conda install pyautogui"
   ]
  },
  {
   "cell_type": "code",
   "execution_count": 8,
   "metadata": {},
   "outputs": [
    {
     "name": "stdout",
     "output_type": "stream",
     "text": [
      "Defaulting to user installation because normal site-packages is not writeable\n",
      "Requirement already satisfied: pyautogui in /Users/boravolkanalkac/Library/Python/3.11/lib/python/site-packages (0.9.54)\n",
      "Requirement already satisfied: pymsgbox in /Users/boravolkanalkac/Library/Python/3.11/lib/python/site-packages (from pyautogui) (1.0.9)\n",
      "Requirement already satisfied: pytweening>=1.0.4 in /Users/boravolkanalkac/Library/Python/3.11/lib/python/site-packages (from pyautogui) (1.0.7)\n",
      "Requirement already satisfied: pyscreeze>=0.1.21 in /Users/boravolkanalkac/Library/Python/3.11/lib/python/site-packages (from pyautogui) (0.1.29)\n",
      "Requirement already satisfied: pygetwindow>=0.0.5 in /Users/boravolkanalkac/Library/Python/3.11/lib/python/site-packages (from pyautogui) (0.0.9)\n",
      "Requirement already satisfied: mouseinfo in /Users/boravolkanalkac/Library/Python/3.11/lib/python/site-packages (from pyautogui) (0.1.3)\n",
      "Requirement already satisfied: pyobjc-core in /Users/boravolkanalkac/Library/Python/3.11/lib/python/site-packages (from pyautogui) (10.0)\n",
      "Requirement already satisfied: pyobjc-framework-quartz in /Users/boravolkanalkac/Library/Python/3.11/lib/python/site-packages (from pyautogui) (10.0)\n",
      "Requirement already satisfied: pyrect in /Users/boravolkanalkac/Library/Python/3.11/lib/python/site-packages (from pygetwindow>=0.0.5->pyautogui) (0.2.0)\n",
      "Requirement already satisfied: pyscreenshot in /Users/boravolkanalkac/Library/Python/3.11/lib/python/site-packages (from pyscreeze>=0.1.21->pyautogui) (3.1)\n",
      "Requirement already satisfied: Pillow>=9.3.0 in /Users/boravolkanalkac/Library/Python/3.11/lib/python/site-packages (from pyscreeze>=0.1.21->pyautogui) (10.1.0)\n",
      "Requirement already satisfied: pyperclip in /Users/boravolkanalkac/Library/Python/3.11/lib/python/site-packages (from mouseinfo->pyautogui) (1.8.2)\n",
      "Requirement already satisfied: rubicon-objc in /Users/boravolkanalkac/Library/Python/3.11/lib/python/site-packages (from mouseinfo->pyautogui) (0.4.7)\n",
      "Requirement already satisfied: pyobjc-framework-Cocoa>=10.0 in /Users/boravolkanalkac/Library/Python/3.11/lib/python/site-packages (from pyobjc-framework-quartz->pyautogui) (10.0)\n",
      "Requirement already satisfied: EasyProcess in /Users/boravolkanalkac/Library/Python/3.11/lib/python/site-packages (from pyscreenshot->pyscreeze>=0.1.21->pyautogui) (1.1)\n",
      "Requirement already satisfied: entrypoint2 in /Users/boravolkanalkac/Library/Python/3.11/lib/python/site-packages (from pyscreenshot->pyscreeze>=0.1.21->pyautogui) (1.1)\n",
      "Requirement already satisfied: mss in /Users/boravolkanalkac/Library/Python/3.11/lib/python/site-packages (from pyscreenshot->pyscreeze>=0.1.21->pyautogui) (9.0.1)\n",
      "\n",
      "\u001b[1m[\u001b[0m\u001b[34;49mnotice\u001b[0m\u001b[1;39;49m]\u001b[0m\u001b[39;49m A new release of pip is available: \u001b[0m\u001b[31;49m23.2.1\u001b[0m\u001b[39;49m -> \u001b[0m\u001b[32;49m23.3\u001b[0m\n",
      "\u001b[1m[\u001b[0m\u001b[34;49mnotice\u001b[0m\u001b[1;39;49m]\u001b[0m\u001b[39;49m To update, run: \u001b[0m\u001b[32;49mpip3 install --upgrade pip\u001b[0m\n",
      "Note: you may need to restart the kernel to use updated packages.\n"
     ]
    }
   ],
   "source": [
    "%pip install pyautogui"
   ]
  },
  {
   "cell_type": "code",
   "execution_count": 9,
   "metadata": {},
   "outputs": [],
   "source": [
    "import pyautogui as py # pyautogui kütüphanesi klavye ve mause hareketi yapmak icin kullanılır"
   ]
  },
  {
   "cell_type": "code",
   "execution_count": 6,
   "metadata": {},
   "outputs": [],
   "source": [
    "py.write(\"ne is yapar acaba bu write mothodu\") # write() fonksiyonu ,bir yere tıklarsak , yazdıgımız seyi tıkladugımız yere verir"
   ]
  },
  {
   "cell_type": "code",
   "execution_count": 7,
   "metadata": {},
   "outputs": [
    {
     "data": {
      "text/plain": [
       "Point(x=1927, y=524)"
      ]
     },
     "execution_count": 7,
     "metadata": {},
     "output_type": "execute_result"
    }
   ],
   "source": [
    "py.position() # position() fonksiyonu yazdıktan sonra ,ekranda mouse'u biryere götürüp sift+enter yapınca o yerin koordinatını,yerini veriyor."
   ]
  },
  {
   "cell_type": "code",
   "execution_count": 11,
   "metadata": {},
   "outputs": [
    {
     "data": {
      "text/plain": [
       "Point(x=2997, y=562)"
      ]
     },
     "execution_count": 11,
     "metadata": {},
     "output_type": "execute_result"
    }
   ],
   "source": [
    "py.position()"
   ]
  },
  {
   "cell_type": "code",
   "execution_count": 13,
   "metadata": {},
   "outputs": [],
   "source": [
    "py.moveTo(x=1846, y=303)"
   ]
  },
  {
   "cell_type": "code",
   "execution_count": 14,
   "metadata": {},
   "outputs": [],
   "source": [
    "py.moveTo(x=1846, y=303) # moveTo() parantezine yazdıgımız koordinata gider\n",
    "py.leftClick()           # leftClick() ise moveTo ile belirledigimiz kordinata moveTo mouse'u götürür, leftClict ise oraya tıklama yaptırır. \n",
    "                     # Tabi bunu yapmak icin önce kodları yaz sonra sift+enter yapıyoruz."
   ]
  },
  {
   "cell_type": "markdown",
   "metadata": {},
   "source": []
  },
  {
   "cell_type": "markdown",
   "metadata": {},
   "source": [
    "MODUL OLUSTURMA: Bilgisayarında calısma dosyanda bir dosya olustur: my_module\n",
    "-icine 2 dosya olusturuyoruz:1. dosyayı olustur ve uzantısını dahil sil ve su ismi ver: __init__.py (2 alt tire init 2 alt tire . py)\n",
    "-İkinci dosyayı olustur: my_math.py\n",
    "VEYA DOSYALARI VS CODE'DAN ACABİLİRRİZ: Bilgisayarında calısma dosyanda bir dosya olustur: my_module\n",
    "-my_module icine \"package\" adında bir dosya daha olustur\n",
    "- VS code'a gel new folder ile bilgisayarda actıgımız my_module a tıkla.icinde olusturdugumuz \"package\" ın altında new file ac ve ismini:__init__.py \n",
    "-İkinci new file acıyorum package icinde \"my_math.py\" ismi ver.\n",
    "-my_math.py benim modulum olacak, yani icine tekrar tekrar kullanmak istedigim methodları olusturacagım\n",
    "-__init__.py ise modulumu iliskilendirmek icin olusturdugum bir bos dosya."
   ]
  },
  {
   "cell_type": "code",
   "execution_count": null,
   "metadata": {},
   "outputs": [],
   "source": []
  },
  {
   "cell_type": "code",
   "execution_count": 1,
   "metadata": {},
   "outputs": [
    {
     "ename": "ModuleNotFoundError",
     "evalue": "No module named 'my_math'",
     "output_type": "error",
     "traceback": [
      "\u001b[0;31m---------------------------------------------------------------------------\u001b[0m",
      "\u001b[0;31mModuleNotFoundError\u001b[0m                       Traceback (most recent call last)",
      "\u001b[1;32m/Users/boravolkanalkac/Documents/Demet/DATA SCIENCE TECHPRO/PYTHON/PYTHON_DERS_VS/pythonDers20_19_10_modules.ipynb Cell 39\u001b[0m line \u001b[0;36m1\n\u001b[0;32m----> <a href='vscode-notebook-cell:/Users/boravolkanalkac/Documents/Demet/DATA%20SCIENCE%20TECHPRO/PYTHON/PYTHON_DERS_VS/pythonDers20_19_10_modules.ipynb#X53sZmlsZQ%3D%3D?line=0'>1</a>\u001b[0m \u001b[39mimport\u001b[39;00m \u001b[39mmy_math\u001b[39;00m\n",
      "\u001b[0;31mModuleNotFoundError\u001b[0m: No module named 'my_math'"
     ]
    }
   ],
   "source": [
    "# olusturdugumuz modulu burda import edip kullanmaya calıstık ama olmadı. Kullanabilmek icin aynı package de olmalı yada tam yolunu tanımlamalıyız.\n",
    "# heryerden olusturdugumuz modulu kullanmak istiyorsak\n",
    "import my_math"
   ]
  },
  {
   "cell_type": "code",
   "execution_count": 2,
   "metadata": {},
   "outputs": [
    {
     "ename": "ModuleNotFoundError",
     "evalue": "No module named 'package'",
     "output_type": "error",
     "traceback": [
      "\u001b[0;31m---------------------------------------------------------------------------\u001b[0m",
      "\u001b[0;31mModuleNotFoundError\u001b[0m                       Traceback (most recent call last)",
      "\u001b[1;32m/Users/boravolkanalkac/Documents/Demet/DATA SCIENCE TECHPRO/PYTHON/PYTHON_DERS_VS/pythonDers20_19_10_modules.ipynb Cell 40\u001b[0m line \u001b[0;36m1\n\u001b[0;32m----> <a href='vscode-notebook-cell:/Users/boravolkanalkac/Documents/Demet/DATA%20SCIENCE%20TECHPRO/PYTHON/PYTHON_DERS_VS/pythonDers20_19_10_modules.ipynb#X54sZmlsZQ%3D%3D?line=0'>1</a>\u001b[0m \u001b[39mfrom\u001b[39;00m \u001b[39mpackage\u001b[39;00m \u001b[39mimport\u001b[39;00m my_math\n",
      "\u001b[0;31mModuleNotFoundError\u001b[0m: No module named 'package'"
     ]
    }
   ],
   "source": [
    "from package import my_math"
   ]
  },
  {
   "cell_type": "code",
   "execution_count": 3,
   "metadata": {},
   "outputs": [
    {
     "data": {
      "text/plain": [
       "'/Users/boravolkanalkac/Documents/Demet/DATA SCIENCE TECHPRO/PYTHON/PYTHON_DERS_VS'"
      ]
     },
     "execution_count": 3,
     "metadata": {},
     "output_type": "execute_result"
    }
   ],
   "source": [
    "pwd"
   ]
  },
  {
   "cell_type": "markdown",
   "metadata": {},
   "source": [
    "**package dosyasını pythonun içine attığım için artık istediğim klasörlerden peckagelerde de kullanabilirim kendi oluşturduğum modulu."
   ]
  },
  {
   "cell_type": "code",
   "execution_count": 1,
   "metadata": {},
   "outputs": [
    {
     "ename": "ModuleNotFoundError",
     "evalue": "No module named 'package'",
     "output_type": "error",
     "traceback": [
      "\u001b[0;31m---------------------------------------------------------------------------\u001b[0m",
      "\u001b[0;31mModuleNotFoundError\u001b[0m                       Traceback (most recent call last)",
      "\u001b[1;32m/Users/boravolkanalkac/Documents/Demet/DATA SCIENCE TECHPRO/PYTHON/PYTHON_DERS_VS/pythonDers20_19_10_modules.ipynb Cell 43\u001b[0m line \u001b[0;36m1\n\u001b[0;32m----> <a href='vscode-notebook-cell:/Users/boravolkanalkac/Documents/Demet/DATA%20SCIENCE%20TECHPRO/PYTHON/PYTHON_DERS_VS/pythonDers20_19_10_modules.ipynb#X55sZmlsZQ%3D%3D?line=0'>1</a>\u001b[0m \u001b[39mfrom\u001b[39;00m \u001b[39mpackage\u001b[39;00m \u001b[39mimport\u001b[39;00m my_math\n",
      "\u001b[0;31mModuleNotFoundError\u001b[0m: No module named 'package'"
     ]
    }
   ],
   "source": [
    "from package import my_math ## benim modul calısmadı!!!!!!!!"
   ]
  }
 ],
 "metadata": {
  "kernelspec": {
   "display_name": "Python 3",
   "language": "python",
   "name": "python3"
  },
  "language_info": {
   "codemirror_mode": {
    "name": "ipython",
    "version": 3
   },
   "file_extension": ".py",
   "mimetype": "text/x-python",
   "name": "python",
   "nbconvert_exporter": "python",
   "pygments_lexer": "ipython3",
   "version": "3.11.4"
  }
 },
 "nbformat": 4,
 "nbformat_minor": 2
}

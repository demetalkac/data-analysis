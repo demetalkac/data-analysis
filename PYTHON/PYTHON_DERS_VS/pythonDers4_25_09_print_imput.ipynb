{
 "cells": [
  {
   "cell_type": "markdown",
   "metadata": {},
   "source": [
    "# print() function"
   ]
  },
  {
   "cell_type": "code",
   "execution_count": 1,
   "metadata": {},
   "outputs": [
    {
     "name": "stdout",
     "output_type": "stream",
     "text": [
      "Techpro education\n"
     ]
    }
   ],
   "source": [
    "print(\"Techpro education\")"
   ]
  },
  {
   "cell_type": "code",
   "execution_count": 2,
   "metadata": {},
   "outputs": [
    {
     "name": "stdout",
     "output_type": "stream",
     "text": [
      "Ali Ömer Yusuf\n"
     ]
    }
   ],
   "source": [
    "print(\"Ali\", \"Ömer\", \"Yusuf\")"
   ]
  },
  {
   "cell_type": "code",
   "execution_count": null,
   "metadata": {},
   "outputs": [],
   "source": [
    "print(\"Ali\", \"Ömer\", \"Yusuf\",sep= \"*\") # sep= \"\" =>seperator'den geliyor,bu ayırıcı demek. bununla virgül ,le ayrılan verileri bosluklara istedigimiz karekteri koyabiliyoruz.defaultu space karekteridir.\n",
    "                                       # sep= \"*\") ==> bu örnekte sep parametresi bosluklar yerine yıldız koyduk"
   ]
  },
  {
   "cell_type": "code",
   "execution_count": 3,
   "metadata": {},
   "outputs": [
    {
     "name": "stdout",
     "output_type": "stream",
     "text": [
      "Ali?Ömer?Yusuf\n"
     ]
    }
   ],
   "source": [
    "print(\"Ali\", \"Ömer\", \"Yusuf\",sep= \"?\") # virgülle ayrılmıs degerler arasına sep parametresi ile bu sefer ? isareti koyduk"
   ]
  },
  {
   "cell_type": "code",
   "execution_count": 4,
   "metadata": {},
   "outputs": [
    {
     "name": "stdout",
     "output_type": "stream",
     "text": [
      "AliÖmerYusuf\n"
     ]
    }
   ],
   "source": [
    "print(\"Ali\", \"Ömer\", \"Yusuf\",sep= \"\") # hiclik koyduk"
   ]
  },
  {
   "cell_type": "code",
   "execution_count": 5,
   "metadata": {},
   "outputs": [
    {
     "name": "stdout",
     "output_type": "stream",
     "text": [
      "Ali,Ömer,Yusuf\n"
     ]
    }
   ],
   "source": [
    "print(\"Ali\", \"Ömer\", \"Yusuf\",sep= \",\") "
   ]
  },
  {
   "cell_type": "code",
   "execution_count": 6,
   "metadata": {},
   "outputs": [
    {
     "name": "stdout",
     "output_type": "stream",
     "text": [
      "Help on built-in function print in module builtins:\n",
      "\n",
      "print(*args, sep=' ', end='\\n', file=None, flush=False)\n",
      "    Prints the values to a stream, or to sys.stdout by default.\n",
      "    \n",
      "    sep\n",
      "      string inserted between values, default a space.\n",
      "    end\n",
      "      string appended after the last value, default a newline.\n",
      "    file\n",
      "      a file-like object (stream); defaults to the current sys.stdout.\n",
      "    flush\n",
      "      whether to forcibly flush the stream.\n",
      "\n"
     ]
    }
   ],
   "source": [
    "help(print) # help() fonksionu parantexzine yazılan ile ilgili bilgi verir"
   ]
  },
  {
   "cell_type": "code",
   "execution_count": 7,
   "metadata": {},
   "outputs": [
    {
     "name": "stdout",
     "output_type": "stream",
     "text": [
      "Help on class type in module builtins:\n",
      "\n",
      "class type(object)\n",
      " |  type(object) -> the object's type\n",
      " |  type(name, bases, dict, **kwds) -> a new type\n",
      " |  \n",
      " |  Methods defined here:\n",
      " |  \n",
      " |  __call__(self, /, *args, **kwargs)\n",
      " |      Call self as a function.\n",
      " |  \n",
      " |  __delattr__(self, name, /)\n",
      " |      Implement delattr(self, name).\n",
      " |  \n",
      " |  __dir__(self, /)\n",
      " |      Specialized __dir__ implementation for types.\n",
      " |  \n",
      " |  __getattribute__(self, name, /)\n",
      " |      Return getattr(self, name).\n",
      " |  \n",
      " |  __init__(self, /, *args, **kwargs)\n",
      " |      Initialize self.  See help(type(self)) for accurate signature.\n",
      " |  \n",
      " |  __instancecheck__(self, instance, /)\n",
      " |      Check if an object is an instance.\n",
      " |  \n",
      " |  __or__(self, value, /)\n",
      " |      Return self|value.\n",
      " |  \n",
      " |  __repr__(self, /)\n",
      " |      Return repr(self).\n",
      " |  \n",
      " |  __ror__(self, value, /)\n",
      " |      Return value|self.\n",
      " |  \n",
      " |  __setattr__(self, name, value, /)\n",
      " |      Implement setattr(self, name, value).\n",
      " |  \n",
      " |  __sizeof__(self, /)\n",
      " |      Return memory consumption of the type object.\n",
      " |  \n",
      " |  __subclasscheck__(self, subclass, /)\n",
      " |      Check if a class is a subclass.\n",
      " |  \n",
      " |  __subclasses__(self, /)\n",
      " |      Return a list of immediate subclasses.\n",
      " |  \n",
      " |  mro(self, /)\n",
      " |      Return a type's method resolution order.\n",
      " |  \n",
      " |  ----------------------------------------------------------------------\n",
      " |  Class methods defined here:\n",
      " |  \n",
      " |  __prepare__(...)\n",
      " |      __prepare__() -> dict\n",
      " |      used to create the namespace for the class statement\n",
      " |  \n",
      " |  ----------------------------------------------------------------------\n",
      " |  Static methods defined here:\n",
      " |  \n",
      " |  __new__(*args, **kwargs)\n",
      " |      Create and return a new object.  See help(type) for accurate signature.\n",
      " |  \n",
      " |  ----------------------------------------------------------------------\n",
      " |  Data descriptors defined here:\n",
      " |  \n",
      " |  __abstractmethods__\n",
      " |  \n",
      " |  __annotations__\n",
      " |  \n",
      " |  __dict__\n",
      " |  \n",
      " |  __text_signature__\n",
      " |  \n",
      " |  ----------------------------------------------------------------------\n",
      " |  Data and other attributes defined here:\n",
      " |  \n",
      " |  __base__ = <class 'object'>\n",
      " |      The base class of the class hierarchy.\n",
      " |      \n",
      " |      When called, it accepts no arguments and returns a new featureless\n",
      " |      instance that has no instance attributes and cannot be given any.\n",
      " |  \n",
      " |  \n",
      " |  __bases__ = (<class 'object'>,)\n",
      " |  \n",
      " |  __basicsize__ = 904\n",
      " |  \n",
      " |  __dictoffset__ = 264\n",
      " |  \n",
      " |  __flags__ = 2148031744\n",
      " |  \n",
      " |  __itemsize__ = 40\n",
      " |  \n",
      " |  __mro__ = (<class 'type'>, <class 'object'>)\n",
      " |  \n",
      " |  __weakrefoffset__ = 368\n",
      "\n"
     ]
    }
   ],
   "source": [
    "help(type)"
   ]
  },
  {
   "cell_type": "code",
   "execution_count": 8,
   "metadata": {},
   "outputs": [
    {
     "name": "stdout",
     "output_type": "stream",
     "text": [
      "Ayse\n",
      "Suha\n"
     ]
    }
   ],
   "source": [
    "print(\"Ayse\")\n",
    "print(\"Suha\")"
   ]
  },
  {
   "cell_type": "code",
   "execution_count": 9,
   "metadata": {},
   "outputs": [
    {
     "name": "stdout",
     "output_type": "stream",
     "text": [
      "Ayse*Suha\n"
     ]
    }
   ],
   "source": [
    "print(\"Ayse\", end=\"*\")  # end= \"\" => Bu parametre stringlerde son value'yu ekleme yapar.parametresinin defaultı alt satıra gecirmedir.\n",
    "print(\"Suha\")"
   ]
  },
  {
   "cell_type": "code",
   "execution_count": 10,
   "metadata": {},
   "outputs": [
    {
     "name": "stdout",
     "output_type": "stream",
     "text": [
      "ali\n",
      "yusuf\n",
      "hava\n"
     ]
    }
   ],
   "source": [
    "print(\"ali\")\n",
    "print(\"yusuf\")\n",
    "print(\"hava\")"
   ]
  },
  {
   "cell_type": "code",
   "execution_count": 12,
   "metadata": {},
   "outputs": [
    {
     "name": "stdout",
     "output_type": "stream",
     "text": [
      "ali!yusuf*hava\n"
     ]
    }
   ],
   "source": [
    "print(\"ali\",end= \"!\")\n",
    "print(\"yusuf\",end = \"*\")\n",
    "print(\"hava\")"
   ]
  },
  {
   "cell_type": "code",
   "execution_count": 14,
   "metadata": {},
   "outputs": [
    {
     "name": "stdout",
     "output_type": "stream",
     "text": [
      "Ali\n",
      "Ömer\n",
      "Yusuf\n"
     ]
    }
   ],
   "source": [
    "print(\"Ali\", \"Ömer\", \"Yusuf\",sep= \"\\n\") "
   ]
  },
  {
   "cell_type": "code",
   "execution_count": 1,
   "metadata": {},
   "outputs": [],
   "source": [
    "Ali = \"Ali\""
   ]
  },
  {
   "cell_type": "code",
   "execution_count": 2,
   "metadata": {},
   "outputs": [
    {
     "ename": "NameError",
     "evalue": "name 'ömer' is not defined",
     "output_type": "error",
     "traceback": [
      "\u001b[0;31m---------------------------------------------------------------------------\u001b[0m",
      "\u001b[0;31mNameError\u001b[0m                                 Traceback (most recent call last)",
      "\u001b[1;32m/Users/boravolkanalkac/Documents/Demet/DATA SCIENCE TECHPRO/PYTHON/PHYHON_DERS_VS/pythonDers_4_25_09_2023.ipynb Cell 16\u001b[0m line \u001b[0;36m1\n\u001b[0;32m----> <a href='vscode-notebook-cell:/Users/boravolkanalkac/Documents/Demet/DATA%20SCIENCE%20TECHPRO/PYTHON/PHYHON_DERS_VS/pythonDers_4_25_09_2023.ipynb#X21sZmlsZQ%3D%3D?line=0'>1</a>\u001b[0m \u001b[39mprint\u001b[39m(Ali,ömer,yusuf, sep\u001b[39m=\u001b[39m \u001b[39m\"\u001b[39m\u001b[39m\\n\u001b[39;00m\u001b[39m\"\u001b[39m)\n",
      "\u001b[0;31mNameError\u001b[0m: name 'ömer' is not defined"
     ]
    }
   ],
   "source": [
    "print(Ali,ömer,yusuf, sep= \"\\n\")"
   ]
  },
  {
   "cell_type": "code",
   "execution_count": 3,
   "metadata": {},
   "outputs": [
    {
     "name": "stdout",
     "output_type": "stream",
     "text": [
      "hello world__35**40**75\n",
      "son satır\n"
     ]
    }
   ],
   "source": [
    "print(\"hello world\", end= \"__\")\n",
    "print(\"35\", 40, \"75\",sep= \"**\")\n",
    "print(\"son satır\")"
   ]
  },
  {
   "cell_type": "markdown",
   "metadata": {},
   "source": [
    "# input()"
   ]
  },
  {
   "cell_type": "code",
   "execution_count": 2,
   "metadata": {},
   "outputs": [
    {
     "data": {
      "text/plain": [
       "'edfg'"
      ]
     },
     "execution_count": 2,
     "metadata": {},
     "output_type": "execute_result"
    }
   ],
   "source": [
    "input() # kullanıcıdan veri almak icin kullanılır. input() methodu nun sonucu herzaman string'tir."
   ]
  },
  {
   "cell_type": "code",
   "execution_count": 3,
   "metadata": {},
   "outputs": [
    {
     "data": {
      "text/plain": [
       "'41'"
      ]
     },
     "execution_count": 3,
     "metadata": {},
     "output_type": "execute_result"
    }
   ],
   "source": [
    "input(\"Lütfen yasınızı girin\")"
   ]
  },
  {
   "cell_type": "code",
   "execution_count": 6,
   "metadata": {},
   "outputs": [],
   "source": [
    "age = input(\"Lütfen yasınızı girin\")  # input ile aldıgımız veriyi bir konteynera atama yapabiliriz."
   ]
  },
  {
   "cell_type": "code",
   "execution_count": 5,
   "metadata": {},
   "outputs": [
    {
     "data": {
      "text/plain": [
       "str"
      ]
     },
     "execution_count": 5,
     "metadata": {},
     "output_type": "execute_result"
    }
   ],
   "source": [
    "type(age)"
   ]
  },
  {
   "cell_type": "code",
   "execution_count": 7,
   "metadata": {},
   "outputs": [],
   "source": [
    "age = int(age) # inputtan string olarak aldıgımız veriyi int'a cevirebiliriz(cast yapabiliriz)"
   ]
  },
  {
   "cell_type": "code",
   "execution_count": 8,
   "metadata": {},
   "outputs": [
    {
     "data": {
      "text/plain": [
       "int"
      ]
     },
     "execution_count": 8,
     "metadata": {},
     "output_type": "execute_result"
    }
   ],
   "source": [
    "type(age)"
   ]
  },
  {
   "cell_type": "code",
   "execution_count": 9,
   "metadata": {},
   "outputs": [],
   "source": [
    "name = input(\"Lütfen isminizi giriniz\")"
   ]
  },
  {
   "cell_type": "code",
   "execution_count": 10,
   "metadata": {},
   "outputs": [
    {
     "data": {
      "text/plain": [
       "'demet'"
      ]
     },
     "execution_count": 10,
     "metadata": {},
     "output_type": "execute_result"
    }
   ],
   "source": [
    "name"
   ]
  },
  {
   "cell_type": "code",
   "execution_count": 14,
   "metadata": {},
   "outputs": [
    {
     "name": "stdout",
     "output_type": "stream",
     "text": [
      "41\n",
      "<class 'int'>\n"
     ]
    }
   ],
   "source": [
    "age_1 = input(\"Lütfen yasınızı giriniz\")\n",
    "age_1 = int(age_1)\n",
    "print(age_1)\n",
    "print(type(age_1))"
   ]
  },
  {
   "cell_type": "code",
   "execution_count": 13,
   "metadata": {},
   "outputs": [
    {
     "data": {
      "text/plain": [
       "int"
      ]
     },
     "execution_count": 13,
     "metadata": {},
     "output_type": "execute_result"
    }
   ],
   "source": [
    "type(age_1)"
   ]
  },
  {
   "cell_type": "markdown",
   "metadata": {},
   "source": [
    " Kullanıcıdan kilo ve boy bilgisini alan ve girilen bilgilere göre vücut kitle indeksini(vki) hesaplayan kodu yazın"
   ]
  },
  {
   "cell_type": "code",
   "execution_count": 19,
   "metadata": {},
   "outputs": [
    {
     "name": "stdout",
     "output_type": "stream",
     "text": [
      "Vücüt kitle endeksiniz:  22.582709172343712\n"
     ]
    }
   ],
   "source": [
    "kilo = float(input(\"Lütfen kilonuzu kg cinsinden giriniz. Örn: 65.6 \"))\n",
    "boy = float(input(\"Lütfen boyunuzu metre cinsinden giriniz. Örn: 1.67\"))\n",
    "vki = kilo / (boy**2)\n",
    "print(\"Vücüt kitle endeksiniz: \", vki)"
   ]
  },
  {
   "cell_type": "markdown",
   "metadata": {},
   "source": [
    "18.5'in altında: Zayıf\n",
    "18.5 ile 24.9 arası: Normal kilolu\n",
    "25 ile 29.9 arası: Fazla kilolu\n",
    "30 ile 34.9 arası: Şişman (Obezite Sınıfı I)\n",
    "35 ile 39.9 arası: Şişman (Obezite Sınıfı II)\n",
    "40 ve üzeri: Şişman (Obezite Sınıfı III)"
   ]
  },
  {
   "cell_type": "markdown",
   "metadata": {},
   "source": [
    "# Escape Sequences"
   ]
  },
  {
   "cell_type": "code",
   "execution_count": 20,
   "metadata": {},
   "outputs": [
    {
     "ename": "SyntaxError",
     "evalue": "unterminated string literal (detected at line 1) (652603872.py, line 1)",
     "output_type": "error",
     "traceback": [
      "\u001b[0;36m  Cell \u001b[0;32mIn[20], line 1\u001b[0;36m\u001b[0m\n\u001b[0;31m    print('I'm a python teacher')#escape sequences özel karakterler demek\u001b[0m\n\u001b[0m                               ^\u001b[0m\n\u001b[0;31mSyntaxError\u001b[0m\u001b[0;31m:\u001b[0m unterminated string literal (detected at line 1)\n"
     ]
    }
   ],
   "source": [
    "print('I'm a python teacher') #escape sequences özel karakterler demek"
   ]
  },
  {
   "cell_type": "code",
   "execution_count": 21,
   "metadata": {},
   "outputs": [
    {
     "name": "stdout",
     "output_type": "stream",
     "text": [
      "I'm a python teacher\n"
     ]
    }
   ],
   "source": [
    "print(\"I'm a python teacher\")"
   ]
  },
  {
   "cell_type": "code",
   "execution_count": null,
   "metadata": {},
   "outputs": [],
   "source": [
    "print('I\\'m a python teacher') #  \\  =>normalde hata alacakken \"ters slash \\\"\" ile hatayı engellemis olduk,kacıs manerası gibi\n",
    "                            # normalde bu kod yukarıda calıstırınca hata vermisti. tek tırnak kullanınca string icinde ,tek tırnagı stringin kapatma kısmı diye algıladıgı icin hata verdi"
   ]
  },
  {
   "cell_type": "code",
   "execution_count": 22,
   "metadata": {},
   "outputs": [
    {
     "name": "stdout",
     "output_type": "stream",
     "text": [
      "Bu ders cok uzadı sanki. Bi ana önce bitse\n"
     ]
    }
   ],
   "source": [
    "print(\"Bu ders cok uzadı sanki. Bi ana önce bitse\") "
   ]
  },
  {
   "cell_type": "code",
   "execution_count": 23,
   "metadata": {},
   "outputs": [
    {
     "name": "stdout",
     "output_type": "stream",
     "text": [
      "Bu ders cok uzadı sanki. \n",
      "Bi ana önce bitse\n"
     ]
    }
   ],
   "source": [
    "print(\"Bu ders cok uzadı sanki. \\nBi ana önce bitse\") #  \\n  =>yazımız uzun oldugunda bi kısmını sonraki satırda göstermek istedigimizde kullanırız"
   ]
  },
  {
   "cell_type": "code",
   "execution_count": 24,
   "metadata": {},
   "outputs": [
    {
     "name": "stdout",
     "output_type": "stream",
     "text": [
      "Ali Sami Sedat\n"
     ]
    }
   ],
   "source": [
    "print(\"Ali\", \"Sami\", \"Sedat\")"
   ]
  },
  {
   "cell_type": "code",
   "execution_count": 25,
   "metadata": {},
   "outputs": [
    {
     "name": "stdout",
     "output_type": "stream",
     "text": [
      "Ali\n",
      "Sami\n",
      "Sedat\n"
     ]
    }
   ],
   "source": [
    "print(\"Ali\", \"Sami\", \"Sedat\", sep=\"\\n\") #  sep=\"\\n\" => alt satıra gecirir her veriyi"
   ]
  },
  {
   "cell_type": "code",
   "execution_count": 26,
   "metadata": {},
   "outputs": [
    {
     "name": "stdout",
     "output_type": "stream",
     "text": [
      "Ali\tSami\tSedat\n"
     ]
    }
   ],
   "source": [
    "print(\"Ali\", \"Sami\", \"Sedat\", sep=\"\\t\")  # sep=\"\\t => bir tab bosluk bırakır, tab tusuna basmıs gibi."
   ]
  },
  {
   "cell_type": "code",
   "execution_count": 27,
   "metadata": {},
   "outputs": [
    {
     "name": "stdout",
     "output_type": "stream",
     "text": [
      "Bu ders cok uzadı sanki. \tBi ana önce bitse\n"
     ]
    }
   ],
   "source": [
    "print(\"Bu ders cok uzadı sanki. \\tBi ana önce bitse\")"
   ]
  },
  {
   "cell_type": "code",
   "execution_count": 28,
   "metadata": {},
   "outputs": [
    {
     "name": "stdout",
     "output_type": "stream",
     "text": [
      "Bu ders cok uzadı sanki. Bi ana önce bitse\n"
     ]
    }
   ],
   "source": [
    "print(\"Bu ders cok uzadı sanki. !\\bBi ana önce bitse\") # \\b => yazıldıgı yerde bir karekter geri gider, yani bir önceki karekteri siler,\"back \"yapar"
   ]
  },
  {
   "cell_type": "code",
   "execution_count": 29,
   "metadata": {},
   "outputs": [
    {
     "name": "stdout",
     "output_type": "stream",
     "text": [
      "AlSamSedat\n"
     ]
    }
   ],
   "source": [
    "print(\"Ali\", \"Sami\", \"Sedat\", sep=\"\\b\") # sep veri aralarında calıstıgı icin \\b kullandıgımızda Sedat en son veri oldugu icin ona dokunmadı, fakat diger verilerin son karakterlerini sildi."
   ]
  },
  {
   "cell_type": "code",
   "execution_count": 30,
   "metadata": {},
   "outputs": [],
   "source": [
    "name1 = \"Ali K\"\n",
    "name2 = \"Sedat A\"\n",
    "name3 = \"Sami B\""
   ]
  },
  {
   "cell_type": "code",
   "execution_count": 31,
   "metadata": {},
   "outputs": [
    {
     "name": "stdout",
     "output_type": "stream",
     "text": [
      "Ali Sedat Sami "
     ]
    }
   ],
   "source": [
    "for i in [name1, name2, name3]:\n",
    "    print(i,end=\"\\b\")"
   ]
  },
  {
   "cell_type": "code",
   "execution_count": 33,
   "metadata": {},
   "outputs": [
    {
     "name": "stdout",
     "output_type": "stream",
     "text": [
      "Bizde geri\n",
      "vites olaz\n"
     ]
    }
   ],
   "source": [
    "print(\"Bizde geri\\nvites olaz\")"
   ]
  },
  {
   "cell_type": "code",
   "execution_count": 32,
   "metadata": {},
   "outputs": [
    {
     "name": "stdout",
     "output_type": "stream",
     "text": [
      "Bizde geri\\nvites olaz\n"
     ]
    }
   ],
   "source": [
    "print(r\"Bizde geri\\nvites olaz\") # r => koyunca sitring icine koyulan diger isaretlerin aktif olmasını önler. bu örnekte \\n i calısmasını engelledigi gibi."
   ]
  },
  {
   "cell_type": "code",
   "execution_count": 34,
   "metadata": {},
   "outputs": [],
   "source": [
    "## Soru: Kullanıcıdan Celcius bilgisini alın ve fahrenheit a çevirin."
   ]
  },
  {
   "cell_type": "code",
   "execution_count": null,
   "metadata": {},
   "outputs": [],
   "source": []
  }
 ],
 "metadata": {
  "kernelspec": {
   "display_name": "Python 3",
   "language": "python",
   "name": "python3"
  },
  "language_info": {
   "codemirror_mode": {
    "name": "ipython",
    "version": 3
   },
   "file_extension": ".py",
   "mimetype": "text/x-python",
   "name": "python",
   "nbconvert_exporter": "python",
   "pygments_lexer": "ipython3",
   "version": "3.11.4"
  },
  "orig_nbformat": 4
 },
 "nbformat": 4,
 "nbformat_minor": 2
}

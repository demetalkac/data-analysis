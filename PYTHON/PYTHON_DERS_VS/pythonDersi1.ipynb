{
 "cells": [
  {
   "cell_type": "code",
   "execution_count": 2,
   "metadata": {},
   "outputs": [
    {
     "name": "stdout",
     "output_type": "stream",
     "text": [
      "Hello World\n"
     ]
    }
   ],
   "source": [
    "print(\"Hello World\")"
   ]
  },
  {
   "cell_type": "markdown",
   "metadata": {},
   "source": [
    "Markdown satırı kod satırı degildir.Not yazabiliriz bu satırlara."
   ]
  },
  {
   "cell_type": "code",
   "execution_count": null,
   "metadata": {},
   "outputs": [],
   "source": [
    "Print(\"Hello World\")# Python case sensetive dir.Büyük-kücük harfe duyarlıdır."
   ]
  },
  {
   "cell_type": "code",
   "execution_count": 3,
   "metadata": {},
   "outputs": [
    {
     "data": {
      "text/plain": [
       "'Hello world'"
      ]
     },
     "execution_count": 3,
     "metadata": {},
     "output_type": "execute_result"
    }
   ],
   "source": [
    "\"Hello world\" # jupiter den dolayı \"print\"kullanmadan da yazdırabiliriz."
   ]
  },
  {
   "cell_type": "code",
   "execution_count": 4,
   "metadata": {},
   "outputs": [
    {
     "name": "stdout",
     "output_type": "stream",
     "text": [
      "Hello World\n",
      "Merhaba Dünya\n"
     ]
    }
   ],
   "source": [
    "print(\"Hello World\")    # \"print\" ile yazınca alt alta ne kadar yazarsak yazalım hepsini altta yazdırır\n",
    "print(\"Merhaba Dünya\")"
   ]
  },
  {
   "cell_type": "code",
   "execution_count": 5,
   "metadata": {},
   "outputs": [
    {
     "data": {
      "text/plain": [
       "'Merhaba Dünya'"
      ]
     },
     "execution_count": 5,
     "metadata": {},
     "output_type": "execute_result"
    }
   ],
   "source": [
    "\"Hello World\"   # \"print\" ile yazmadıgımız icin sadece en son yazdıgımız satırı alttaki cıktıda görebiliriz.\n",
    "\"Merhaba Dünya\""
   ]
  },
  {
   "cell_type": "code",
   "execution_count": 6,
   "metadata": {},
   "outputs": [
    {
     "ename": "SyntaxError",
     "evalue": "invalid syntax. Perhaps you forgot a comma? (2730213579.py, line 1)",
     "output_type": "error",
     "traceback": [
      "\u001b[0;36m  Cell \u001b[0;32mIn[6], line 1\u001b[0;36m\u001b[0m\n\u001b[0;31m    print(Hello World)\u001b[0m\n\u001b[0m          ^\u001b[0m\n\u001b[0;31mSyntaxError\u001b[0m\u001b[0;31m:\u001b[0m invalid syntax. Perhaps you forgot a comma?\n"
     ]
    }
   ],
   "source": [
    "print(Hello World) # print icine cift tırnak kullanmadan birsey yazarsak onu string bi ifade gibi atama yapmamız gerekir yoksa hata veriri"
   ]
  },
  {
   "cell_type": "code",
   "execution_count": 7,
   "metadata": {},
   "outputs": [
    {
     "name": "stdout",
     "output_type": "stream",
     "text": [
      "tek tırnak veya cift tırnak farketmez.\n"
     ]
    }
   ],
   "source": [
    "print('tek tırnak veya cift tırnak farketmez.') # tek tırnak ile baslayınca tek tırnak ile bitmeli,yani tek tırnagı bazen kodun \n",
    "#cinde yazı yazarken kesme isareti olarak kullandıgımızda  python onu printin tek tırnagı gibi algılayacagı icin error verir.Bunun icin tek tırnak icine yazacak isek dikkat etmeliyiz."
   ]
  },
  {
   "cell_type": "code",
   "execution_count": 8,
   "metadata": {},
   "outputs": [
    {
     "name": "stdout",
     "output_type": "stream",
     "text": [
      "Üc cift tırnakla string ifade olusturulabilir\n"
     ]
    }
   ],
   "source": [
    "print(\"\"\"Üc cift tırnakla string ifade olusturulabilir\"\"\")"
   ]
  },
  {
   "cell_type": "code",
   "execution_count": 9,
   "metadata": {},
   "outputs": [
    {
     "name": "stdout",
     "output_type": "stream",
     "text": [
      "Üc cift tırnakla string ifade olusturulabilir\n"
     ]
    }
   ],
   "source": [
    "print('''Üc tek tırnakla string ifade olusturulabilir''')"
   ]
  },
  {
   "cell_type": "code",
   "execution_count": 11,
   "metadata": {},
   "outputs": [
    {
     "name": "stdout",
     "output_type": "stream",
     "text": [
      "Bugun pythonun ilk dersi.Derse baslarken tuttu bir tek-cift tırnak mevzusu. Insallh cok uzun surmez. Yoksa ders böyle gecmez. Ne yazsam artık ....\n"
     ]
    }
   ],
   "source": [
    "print(\"Bugun pythonun ilk dersi.Derse baslarken tuttu bir tek-cift tırnak mevzusu. Insallh cok uzun surmez. \n",
    "      Yoksa ders böyle gecmez. Ne yazsam artık ....\")  # code uzun oldugu icin alt satıra gecirmek istesem ve run yapsam hata verir "
   ]
  },
  {
   "cell_type": "code",
   "execution_count": 13,
   "metadata": {},
   "outputs": [
    {
     "name": "stdout",
     "output_type": "stream",
     "text": [
      "Bugun pythonun ilk dersi.Derse baslarken tuttu bir tek-cift tırnak mevzusu. Insallh cok uzun surmez. \n",
      "      Yoksa ders böyle gecmez. Ne yazsam artık ....\n"
     ]
    }
   ],
   "source": [
    "print(\"\"\"Bugun pythonun ilk dersi.Derse baslarken tuttu bir tek-cift tırnak mevzusu. Insallh cok uzun surmez. \n",
    "      Yoksa ders böyle gecmez. Ne yazsam artık ....\"\"\") # code uzun oldugu icin alt satıra gecirmek istesem hata almamak icin 3 cift tırnak(\"\"\"...\"\"\") icine kodları yazsam hata vermez."
   ]
  },
  {
   "cell_type": "code",
   "execution_count": 14,
   "metadata": {},
   "outputs": [
    {
     "name": "stdout",
     "output_type": "stream",
     "text": [
      "'techpro'\n"
     ]
    }
   ],
   "source": [
    "print(\"'techpro'\")"
   ]
  },
  {
   "cell_type": "code",
   "execution_count": 15,
   "metadata": {},
   "outputs": [
    {
     "name": "stdout",
     "output_type": "stream",
     "text": [
      "\"'\n"
     ]
    }
   ],
   "source": [
    "print(\"\"\"\"'\"\"\")"
   ]
  },
  {
   "cell_type": "code",
   "execution_count": 16,
   "metadata": {},
   "outputs": [
    {
     "ename": "SyntaxError",
     "evalue": "unterminated string literal (detected at line 1) (3465750001.py, line 1)",
     "output_type": "error",
     "traceback": [
      "\u001b[0;36m  Cell \u001b[0;32mIn[16], line 1\u001b[0;36m\u001b[0m\n\u001b[0;31m    print(\"\"\"\"\"\"\")\u001b[0m\n\u001b[0m                ^\u001b[0m\n\u001b[0;31mSyntaxError\u001b[0m\u001b[0;31m:\u001b[0m unterminated string literal (detected at line 1)\n"
     ]
    }
   ],
   "source": [
    "print(\"\"\"\"\"\"\")"
   ]
  },
  {
   "cell_type": "code",
   "execution_count": null,
   "metadata": {},
   "outputs": [],
   "source": []
  }
 ],
 "metadata": {
  "kernelspec": {
   "display_name": "Python 3",
   "language": "python",
   "name": "python3"
  },
  "language_info": {
   "codemirror_mode": {
    "name": "ipython",
    "version": 3
   },
   "file_extension": ".py",
   "mimetype": "text/x-python",
   "name": "python",
   "nbconvert_exporter": "python",
   "pygments_lexer": "ipython3",
   "version": "3.11.4"
  },
  "orig_nbformat": 4
 },
 "nbformat": 4,
 "nbformat_minor": 2
}

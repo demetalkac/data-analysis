{
 "cells": [
  {
   "cell_type": "markdown",
   "metadata": {},
   "source": [
    "1. metin = \"Python, JavaScript ve ReactJS öğreniyorum.\"\n",
    "\n",
    "Yukarıdaki metinde \"Python\" kelimesinin geçip geçmediğini kontrol etmek için bir Python programı yazın."
   ]
  },
  {
   "cell_type": "code",
   "execution_count": null,
   "metadata": {},
   "outputs": [],
   "source": [
    "#soru1\n",
    "\n",
    "import re\n",
    "\n",
    "metin = \"Python, JavaScript ve ReactJS öğreniyorum.\"\n",
    "\n",
    "if re.search(r\"Python\", metin):\n",
    "    print(\"Python kelimesi bulundu.\")\n",
    "else:\n",
    "    print(\"Python kelimesi bulunamadı.\")\n"
   ]
  },
  {
   "cell_type": "markdown",
   "metadata": {},
   "source": [
    "2. metin = \"Bugün 12, yarın 34 ve sonra 56 olacak.\"\n",
    "Yukarıdaki metinde bulunan sayıları ayırmak ve liste olarak döndürmek için bir Python programı yazın."
   ]
  },
  {
   "cell_type": "code",
   "execution_count": null,
   "metadata": {},
   "outputs": [],
   "source": [
    "# soru 2\n",
    "import re\n",
    "\n",
    "metin = \"Bugün 12, yarın 34 ve sonra 56 olacak.\"\n",
    "\n",
    "sayilar = re.findall(r\"\\d+\", metin)\n",
    "\n",
    "print(\"Bulunan sayilar: \", sayilar)"
   ]
  },
  {
   "cell_type": "markdown",
   "metadata": {},
   "source": [
    "3.  Kullanıcının girdiği e-posta adresinin geçerli bir adres olup olmadığını kontrol eden bir Python programı yazın."
   ]
  },
  {
   "cell_type": "code",
   "execution_count": null,
   "metadata": {},
   "outputs": [],
   "source": [
    "# soru 3\n",
    "\n",
    "import re\n",
    "\n",
    "email = input(\"Mail adresinizi giriniz...: \")\n",
    "\n",
    "if re.match(r\"^[a-zA-Z0-9._%+-]+@[a-zA-Z0-9]+\\.[a-zA-Z]{2,4}$\", email): #ada@ada.com.com\n",
    "    print(\"Geçerli bir mail adresi.\")\n",
    "else:\n",
    "    print(\"Geçersiz bir mail adresi.\")"
   ]
  },
  {
   "cell_type": "markdown",
   "metadata": {},
   "source": [
    "# soru 4: Tarih Ayıklama\n",
    "metin = \"Bugünün tarihi 23.10.2023 ve yarının tarihi 24.10.2023\"\n",
    "Yukarıdaki metinde bulunan tarihleri ayıklayan bir python programı yazınız"
   ]
  },
  {
   "cell_type": "code",
   "execution_count": null,
   "metadata": {},
   "outputs": [],
   "source": [
    "# soru 4\n",
    "\n",
    "import re\n",
    "\n",
    "metin = \"Bugünün tarihi 23.10.2023 ve yarının tarihi 24.10.2023.\"\n",
    "\n",
    "tarihler = re.findall(r\"\\d{2}\\.\\d{2}\\.\\d{4}\", metin)\n",
    "\n",
    "for tarih in tarihler:\n",
    "    print(f\"Tarih: {tarih}\")"
   ]
  },
  {
   "cell_type": "markdown",
   "metadata": {},
   "source": [
    "5.  Bir metinde bulunan telefon numaralarını ayıklamak ve liste olarak döndürmek için bir Python programı yazın. Telefon numaraları \"xxx-xxx-xxxx\" (örneğin, 555-555-5555) formatında olabilir."
   ]
  },
  {
   "cell_type": "code",
   "execution_count": null,
   "metadata": {},
   "outputs": [],
   "source": [
    "# soru 5\n",
    "\n",
    "import re\n",
    "\n",
    "metin = \"Benim telofon numaram 555-555-5555, onun numarası ise 123-456-7890.\"\n",
    "\n",
    "telefonlar = re.findall(r\"\\d{3}-\\d{3}-\\d{4}\", metin)\n",
    "\n",
    "print(\"Bulunan telefon numaraları: \", telefonlar)"
   ]
  },
  {
   "cell_type": "markdown",
   "metadata": {},
   "source": [
    "# soru 6\n",
    "Bir metinde bulunan URL'leri ayıklamak ve liste olarak döndürmek icin bir python programı yazın"
   ]
  },
  {
   "cell_type": "code",
   "execution_count": null,
   "metadata": {},
   "outputs": [],
   "source": [
    "# soru 6\n",
    "\n",
    "import re\n",
    "\n",
    "metin = \"Google'ı ziyaret edin: https://www.google.com ve Github'ı ziyaret edin: https://github.com\"\n",
    "\n",
    "url_listesi = re.findall(r\"http[s]?://(?:[a-zA-Z]|[0-9]|[$-_@.&+]|[!*\\\\(\\\\),]|(?:%[0-9a-fA-F][0-9a-fA-F]))+\", metin)\n",
    "\n",
    "print(\"Bulunan URL'ler: \", url_listesi)"
   ]
  },
  {
   "cell_type": "code",
   "execution_count": null,
   "metadata": {},
   "outputs": [],
   "source": [
    "# soru 6\n",
    "\n",
    "import re\n",
    "\n",
    "metin = \"Google'ı ziyaret edin: https://www.google.com ve Github'ı ziyaret edin: https://github.com\"\n",
    "\n",
    "url = re.findall(r\"https?://\\S+\", metin)\n",
    "\n",
    "print(\"Bulunan URL'ler: \", url)"
   ]
  },
  {
   "cell_type": "markdown",
   "metadata": {},
   "source": [
    "SORU 7: Bir metinde bulunan isimler ayıklamak ve liste olarak döndürmek icin bir python programı yazın.İsimler sadece büyük harfle baslayan kelimeler olarak kabul edilsin."
   ]
  },
  {
   "cell_type": "code",
   "execution_count": null,
   "metadata": {},
   "outputs": [],
   "source": [
    "#soru 7\n",
    "\n",
    "\n",
    "import re\n",
    "\n",
    "metin = \"Çağan, Ayşe, Fatma ve Ahmet ile tanışın.\"\n",
    "\n",
    "isimler = re.findall(r\"\\b[A-ZÇĞIÖŞÜ][a-zçğıöşü]*\\b\", metin) # türkce karakterleri de ekledik arama icin\n",
    "\n",
    "print(\"Bulunan isimler: \", isimler)"
   ]
  },
  {
   "cell_type": "markdown",
   "metadata": {},
   "source": [
    "Soru 8: KULLANICIDAN BİR SİFRE GİRMESİNİ İSTEYEN BİR PROGRAM YAZIN VE BU SİFRENİN BELİRLİ GÖCLÜK KRİTERLERİNİ KARSILAYIP KARSILAMADIGINI KONTROL EDİN.SIFRE EN AZ 1 BÜYÜK HARF, 1 KÜCÜK HARF, 1 RAKAM VE EM AZ 8 KARAKTER İCERMELİDİR."
   ]
  },
  {
   "cell_type": "code",
   "execution_count": null,
   "metadata": {},
   "outputs": [],
   "source": [
    "# soru 8\n",
    "\n",
    "import re\n",
    "\n",
    "sifre = input(\"Şifrenizi giriniz: \")\n",
    "\n",
    "if re.match(r\"^(?=.*[a-z])(?=.*[A-Z])(?=.*\\d).{8,}\", sifre):\n",
    "    print(\"Girilen şifre doğru formatta.\")\n",
    "else:\n",
    "    print(\"Girilen şifre yanlış formatta.\")"
   ]
  },
  {
   "cell_type": "markdown",
   "metadata": {},
   "source": [
    "soru 9: Bir metinde bulunan Türkçe karakterleri ayıklamak ve Türkçe karakterlerin yerine İngilizce karakterleri koymak için bir Python programı yazın. Örneğin, \"ç\" -> \"c\", \"ş\" -> \"s\", vb."
   ]
  },
  {
   "cell_type": "code",
   "execution_count": null,
   "metadata": {},
   "outputs": [],
   "source": [
    "#soru 9\n",
    "\n",
    "import re\n",
    "\n",
    "metin = \"Türkçe karakterleri içeren metin: Çalışma örnekleri için şuraya bakın.\"\n",
    "\n",
    "metin = re.sub(r\"[Çç]\", 'c', metin)\n",
    "metin = re.sub(r\"[Ğğ]\", 'g', metin)\n",
    "metin = re.sub(r\"[İı]\", 'i', metin)\n",
    "metin = re.sub(r\"[Öö]\", 'o', metin)\n",
    "metin = re.sub(r\"[Şş]\", 's', metin)\n",
    "metin = re.sub(r\"[Üü]\", 'u', metin)\n",
    "\n",
    "\n",
    "print(\"Dönüştürlmüş metin: \", metin)"
   ]
  },
  {
   "cell_type": "markdown",
   "metadata": {},
   "source": [
    "10. Bir metinde bulunan web sitelerinin alan adlarını ayıklamak ve liste olarak döndürmek için bir Python programı yazın. Örneğin, \"https://www.google.com\" adresinden \"google.com\" kısmını ayıklayın."
   ]
  },
  {
   "cell_type": "code",
   "execution_count": null,
   "metadata": {},
   "outputs": [],
   "source": [
    "# soru 10\n",
    "\n",
    "import re\n",
    "\n",
    "metin = \"Google'ı ziyaret edin: https://www.google.com ve Github'ı ziyaret edin: https://github.com\"\n",
    "\n",
    "alan_adlari = re.findall(r\"https?://\\S+\", metin)\n",
    "# alan_adlari = [alan[0] for alan in alan_adlari]\n",
    "\n",
    "print(\"Bulunan alan adları: \", alan_adlari)"
   ]
  },
  {
   "cell_type": "code",
   "execution_count": null,
   "metadata": {},
   "outputs": [],
   "source": []
  }
 ],
 "metadata": {
  "kernelspec": {
   "display_name": "Python 3",
   "language": "python",
   "name": "python3"
  },
  "language_info": {
   "name": "python",
   "version": "3.11.4"
  }
 },
 "nbformat": 4,
 "nbformat_minor": 2
}

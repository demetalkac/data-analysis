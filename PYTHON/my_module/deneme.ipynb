{
 "cells": [
  {
   "cell_type": "markdown",
   "metadata": {},
   "source": [
    "-module olusturmak icin .py uzantısıyla olusturulur\n",
    "-bilgisayarda bir dosya olusturduk icine package dosyası olusturduk ve icine _init_.py dosyası actık, birde my_math.py dosyası olusturduk\n",
    "-my_math.py dosyasının icinde def'lerimizi ve degiskenlerimizi tanımlıyoruz, olusturuyoruz.Olusturdugumuz bu def(fonksiyonlar)lerimizin calısıp calısmadıgını kontrol etmek icin deneme.ipynb 'i olusturduk.\n",
    "- package dosyası ile aynı hizada deneme.ipynb olusturup \n",
    "- my_math.py  icine gelip \"package\" i import ettik ve olusturdugumuz def(fonksiyonları) kullandık\n",
    "- modulleri import ederek calıstırırız. Fakat aynı package de degilse görmesi icin yolunu vermek icin \"from package \" kullandık. Eger aynı package de olsaydı sadece import yeterliydi.\n",
    "   aynı packagede olursa: import my_math \n",
    "   farklı package de olursa: from package import my_math\n",
    "\n",
    " NOT: olusturdugumuz modul icinde bi degisikli,k yaptıktan sonra calısyıgımız dosya ya geldigimizde , restart yapıp tekrar modulu import etmeliyiz, cünkü hafızasında eskisi kalır.  \n",
    "\n",
    "** \"pwd\" icinde bulundugum dosyanın yolunu verir bize. pwd yazıp calıstırmamız gerek sadece"
   ]
  },
  {
   "cell_type": "code",
   "execution_count": 1,
   "metadata": {},
   "outputs": [
    {
     "ename": "ModuleNotFoundError",
     "evalue": "No module named 'my_math'",
     "output_type": "error",
     "traceback": [
      "\u001b[0;31m---------------------------------------------------------------------------\u001b[0m",
      "\u001b[0;31mModuleNotFoundError\u001b[0m                       Traceback (most recent call last)",
      "\u001b[1;32m/Users/boravolkanalkac/Documents/Demet/DATA SCIENCE TECHPRO/PYTHON/my_module/deneme.ipynb Cell 2\u001b[0m line \u001b[0;36m1\n\u001b[0;32m----> <a href='vscode-notebook-cell:/Users/boravolkanalkac/Documents/Demet/DATA%20SCIENCE%20TECHPRO/PYTHON/my_module/deneme.ipynb#X20sZmlsZQ%3D%3D?line=0'>1</a>\u001b[0m \u001b[39mimport\u001b[39;00m \u001b[39mmy_math\u001b[39;00m\n",
      "\u001b[0;31mModuleNotFoundError\u001b[0m: No module named 'my_math'"
     ]
    }
   ],
   "source": [
    "import my_math "
   ]
  },
  {
   "cell_type": "code",
   "execution_count": 1,
   "metadata": {},
   "outputs": [],
   "source": [
    "from package import my_math # modulleri import ederek calıstırırız. Fakat aynı package de degilse görmesi icin yolunu vermek icin \"from package \" kullandık. Eger aynı package de olsaydı sadece import yeterliydi."
   ]
  },
  {
   "cell_type": "code",
   "execution_count": 3,
   "metadata": {},
   "outputs": [
    {
     "data": {
      "text/plain": [
       "120"
      ]
     },
     "execution_count": 3,
     "metadata": {},
     "output_type": "execute_result"
    }
   ],
   "source": [
    "my_math.factoriel(5) # kendi yazdıgım moduldeki def'i kullandık"
   ]
  },
  {
   "cell_type": "code",
   "execution_count": 7,
   "metadata": {},
   "outputs": [
    {
     "data": {
      "text/plain": [
       "'/Users/boravolkanalkac/Documents/Demet/DATA SCIENCE TECHPRO/PYTHON/my_module'"
      ]
     },
     "execution_count": 7,
     "metadata": {},
     "output_type": "execute_result"
    }
   ],
   "source": [
    "pwd # \"pwd\" icinde bulundugum dosyanın yolunu verir bize"
   ]
  },
  {
   "cell_type": "code",
   "execution_count": 3,
   "metadata": {},
   "outputs": [
    {
     "data": {
      "text/plain": [
       "120"
      ]
     },
     "execution_count": 3,
     "metadata": {},
     "output_type": "execute_result"
    }
   ],
   "source": [
    "my_math.factoriel(5)"
   ]
  },
  {
   "cell_type": "code",
   "execution_count": 4,
   "metadata": {},
   "outputs": [
    {
     "data": {
      "text/plain": [
       "1"
      ]
     },
     "execution_count": 4,
     "metadata": {},
     "output_type": "execute_result"
    }
   ],
   "source": [
    "my_math.factoriel(-3) # normalde fakteriyel - sayılar ile calısmamalı demekki eksik olusturmusuz düzeltmeliyiz."
   ]
  },
  {
   "cell_type": "code",
   "execution_count": 6,
   "metadata": {},
   "outputs": [
    {
     "data": {
      "text/plain": [
       "81.0"
      ]
     },
     "execution_count": 6,
     "metadata": {},
     "output_type": "execute_result"
    }
   ],
   "source": [
    "my_math.my_pow(3,4)"
   ]
  },
  {
   "cell_type": "code",
   "execution_count": null,
   "metadata": {},
   "outputs": [],
   "source": []
  },
  {
   "cell_type": "code",
   "execution_count": 7,
   "metadata": {},
   "outputs": [
    {
     "data": {
      "text/plain": [
       "'Bu fonksiyon girilen sayının faktöriyel degerini döndürür'"
      ]
     },
     "execution_count": 7,
     "metadata": {},
     "output_type": "execute_result"
    }
   ],
   "source": [
    "my_math.factoriel.__doc__ # __doc__ fonksiyon ile ilgili fonksiyonun icinde olan acıklamayı verir."
   ]
  },
  {
   "cell_type": "code",
   "execution_count": 8,
   "metadata": {},
   "outputs": [
    {
     "name": "stdout",
     "output_type": "stream",
     "text": [
      "Help on function factoriel in module package.my_math:\n",
      "\n",
      "factoriel(x)\n",
      "    Bu fonksiyon girilen sayının faktöriyel degerini döndürür\n",
      "\n"
     ]
    }
   ],
   "source": [
    "help(my_math.factoriel)"
   ]
  },
  {
   "cell_type": "code",
   "execution_count": 2,
   "metadata": {},
   "outputs": [
    {
     "data": {
      "text/plain": [
       "20.0"
      ]
     },
     "execution_count": 2,
     "metadata": {},
     "output_type": "execute_result"
    }
   ],
   "source": [
    "my_math.mean(10,15,20,25,30) #my_module icinde olusturdugumuz  mean() fonksiyonu ortalama alır"
   ]
  },
  {
   "cell_type": "code",
   "execution_count": 5,
   "metadata": {},
   "outputs": [
    {
     "data": {
      "text/plain": [
       "23.0"
      ]
     },
     "execution_count": 5,
     "metadata": {},
     "output_type": "execute_result"
    }
   ],
   "source": [
    "my_math.mean(16,30)"
   ]
  },
  {
   "cell_type": "code",
   "execution_count": null,
   "metadata": {},
   "outputs": [],
   "source": []
  },
  {
   "cell_type": "code",
   "execution_count": 6,
   "metadata": {},
   "outputs": [],
   "source": [
    "from package import my_functions"
   ]
  },
  {
   "cell_type": "code",
   "execution_count": 7,
   "metadata": {},
   "outputs": [
    {
     "data": {
      "text/plain": [
       "17"
      ]
     },
     "execution_count": 7,
     "metadata": {},
     "output_type": "execute_result"
    }
   ],
   "source": [
    "my_functions.my_len(\"techpro education\")"
   ]
  },
  {
   "cell_type": "code",
   "execution_count": 1,
   "metadata": {},
   "outputs": [],
   "source": [
    "from package import my_seperator"
   ]
  },
  {
   "cell_type": "code",
   "execution_count": 14,
   "metadata": {},
   "outputs": [],
   "source": [
    "my_seperator.seperator()"
   ]
  },
  {
   "cell_type": "code",
   "execution_count": 2,
   "metadata": {},
   "outputs": [
    {
     "name": "stdout",
     "output_type": "stream",
     "text": [
      "Tek sayilar listesi: [1, 3, 5, 7, 9]\n",
      " Çift Sayilar listesi: [2, 4, 6, 8]\n"
     ]
    },
    {
     "data": {
      "text/plain": [
       "'Tek sayilar listesi: [1, 3, 5, 7, 9] Çift Sayilar listesi: [2, 4, 6, 8]'"
      ]
     },
     "execution_count": 2,
     "metadata": {},
     "output_type": "execute_result"
    }
   ],
   "source": [
    "my_seperator.seperator(1,2,3,4,5,6,7,8,9)"
   ]
  }
 ],
 "metadata": {
  "kernelspec": {
   "display_name": "Python 3",
   "language": "python",
   "name": "python3"
  },
  "language_info": {
   "codemirror_mode": {
    "name": "ipython",
    "version": 3
   },
   "file_extension": ".py",
   "mimetype": "text/x-python",
   "name": "python",
   "nbconvert_exporter": "python",
   "pygments_lexer": "ipython3",
   "version": "3.11.4"
  }
 },
 "nbformat": 4,
 "nbformat_minor": 2
}
